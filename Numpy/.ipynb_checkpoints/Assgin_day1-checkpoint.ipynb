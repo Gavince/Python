{
 "cells": [
  {
   "cell_type": "code",
   "execution_count": 105,
   "metadata": {},
   "outputs": [
    {
     "name": "stdout",
     "output_type": "stream",
     "text": [
      "<built-in method flatten of numpy.ndarray object at 0x7f9c83af5df0>\n",
      "(2, 4)\n",
      "int64\n",
      "int64\n",
      "1\n",
      "(4,)\n",
      "<built-in method item of numpy.ndarray object at 0x7f9c83aedb70>\n",
      "[ 3 56  8 11]\n",
      "<built-in method sort of numpy.ndarray object at 0x7f9c83aedb70>\n"
     ]
    }
   ],
   "source": [
    "import numpy as np\n",
    "a = np.array([1,2,3,5], dtype = np.int64)\n",
    "b = np.array([2,54,5,6])\n",
    "c = np.array([[1212,454,454,454],\n",
    "             [454,454,87,78]])\n",
    "d = c.flatten\n",
    "print(d)\n",
    "print(c.shape)#大小\n",
    "print(a.dtype)\n",
    "print(b.dtype)#类型\n",
    "print(a.ndim)#维度\n",
    "print(a.shape)\n",
    "print(a.item)\n",
    "print(a+b)\n",
    "print(a.sort)"
   ]
  },
  {
   "cell_type": "code",
   "execution_count": 51,
   "metadata": {},
   "outputs": [
    {
     "name": "stdout",
     "output_type": "stream",
     "text": [
      "--------------------------------------------------\n",
      "[[0 0 0 0 0 0 0 0 0 0 0 0 0 0 0 0 0 0 0 0 0 0 0 0 0 0 0 0 0 0 0 0 0 0 0 0 0\n",
      "  0 0 0 0 0 0 0 0 0 0 0 0 0 0 0 0 0 0 0 0 0 0 0 0 0 0 0 0 0 0 0 0 0 0 0 0 0\n",
      "  0 0 0 0 0 0 0 0 0 0 0 0 0 0 0 0 0 0 0 0 0 0 0 0 0 0 0 0 0 0 0 0 0 0 0 0 0\n",
      "  0 0 0 0 0 0 0 0 0 0 0 0 0 0 0 0 0 0 0 0 0 0 0 0 0 0 0 0 0 0 0 0 0 0 0 0 0\n",
      "  0 0 0 0 0 0 0 0 0 0 0 0 0 0 0 0 0 0 0 0 0 0 0 0 0 0 0 0 0 0 0 0 0 0 0 0 0\n",
      "  0 0 0 0 0 0 0 0 0 0 0 0 0 0 0 0 0 0 0 0 0 0 0 0 0 0 0 0 0 0 0 0 0 0 0 0 0]]\n",
      "--------------------------------------------------\n",
      "[ 1  3  5  7  9 11 13 15 17 19 21 23 25 27 29 31 33 35 37 39 41 43 45 47 49\n",
      " 51 53]\n",
      "--------------------------------------------------\n",
      "[[ 1.  0.  0.  0.  0.]\n",
      " [ 0.  1.  0.  0.  0.]\n",
      " [ 0.  0.  1.  0.  0.]\n",
      " [ 0.  0.  0.  1.  0.]\n",
      " [ 0.  0.  0.  0.  1.]]\n",
      "--------------------------------------------------\n",
      "c [[ 1  3  5  7  9 11 13 15 17]\n",
      " [19 21 23 25 27 29 31 33 35]\n",
      " [37 39 41 43 45 47 49 51 53]]\n",
      "--------------------------------------------------\n",
      "(3, 9)\n",
      "--------------------------------------------------\n",
      "27\n",
      "--------------------------------------------------\n",
      "[   1.            5.71428571   10.42857143   15.14285714   19.85714286\n",
      "   24.57142857   29.28571429   34.           38.71428571   43.42857143\n",
      "   48.14285714   52.85714286   57.57142857   62.28571429   67.\n",
      "   71.71428571   76.42857143   81.14285714   85.85714286   90.57142857\n",
      "   95.28571429  100.        ]\n",
      "--------------------------------------------------\n"
     ]
    }
   ],
   "source": [
    "import numpy as np\n",
    "print(\"-\"*50)\n",
    "a = np.zeros((1,222),dtype=np.int8)\n",
    "print(a)\n",
    "print(\"-\"*50)\n",
    "b = np.arange(1,55,2)#起始 结束 步长\n",
    "print(b)\n",
    "print(\"-\"*50)\n",
    "d = np.eye(5)#里面必须为整数\n",
    "print(d)\n",
    "print(\"-\"*50)\n",
    "c = b.reshape((3,9))\n",
    "print(\"c\", c)\n",
    "print(\"-\"*50)\n",
    "print(c.shape)\n",
    "print(\"-\"*50)\n",
    "print(b.size)\n",
    "print(\"-\"*50)\n",
    "e = np.linspace(1, 100, 22, dtype=float)\n",
    "print(e)\n",
    "print(\"-\"*50)"
   ]
  },
  {
   "cell_type": "code",
   "execution_count": 60,
   "metadata": {},
   "outputs": [
    {
     "name": "stdout",
     "output_type": "stream",
     "text": [
      "a shape: (50,)\n",
      "b: [[  1.   3.   5.   7.   9.  11.  13.  15.  17.  19.  21.  23.  25.  27.\n",
      "   29.  31.  33.  35.  37.  39.  41.  43.  45.  47.  49.]\n",
      " [ 51.  53.  55.  57.  59.  61.  63.  65.  67.  69.  71.  73.  75.  77.\n",
      "   79.  81.  83.  85.  87.  89.  91.  93.  95.  97.  99.]]\n",
      "a [  1.   3.   5.   7.   9.  11.  13.  15.  17.  19.  21.  23.  25.  27.  29.\n",
      "  31.  33.  35.  37.  39.  41.  43.  45.  47.  49.  51.  53.  55.  57.  59.\n",
      "  61.  63.  65.  67.  69.  71.  73.  75.  77.  79.  81.  83.  85.  87.  89.\n",
      "  91.  93.  95.  97.  99.]\n",
      "c: None\n",
      "a [[  1.   3.]\n",
      " [  5.   7.]\n",
      " [  9.  11.]\n",
      " [ 13.  15.]\n",
      " [ 17.  19.]\n",
      " [ 21.  23.]\n",
      " [ 25.  27.]\n",
      " [ 29.  31.]\n",
      " [ 33.  35.]\n",
      " [ 37.  39.]\n",
      " [ 41.  43.]\n",
      " [ 45.  47.]\n",
      " [ 49.  51.]\n",
      " [ 53.  55.]\n",
      " [ 57.  59.]\n",
      " [ 61.  63.]\n",
      " [ 65.  67.]\n",
      " [ 69.  71.]\n",
      " [ 73.  75.]\n",
      " [ 77.  79.]\n",
      " [ 81.  83.]\n",
      " [ 85.  87.]\n",
      " [ 89.  91.]\n",
      " [ 93.  95.]\n",
      " [ 97.  99.]]\n",
      "降维度： [  1.   3.   5.   7.   9.  11.  13.  15.  17.  19.  21.  23.  25.  27.  29.\n",
      "  31.  33.  35.  37.  39.  41.  43.  45.  47.  49.  51.  53.  55.  57.  59.\n",
      "  61.  63.  65.  67.  69.  71.  73.  75.  77.  79.  81.  83.  85.  87.  89.\n",
      "  91.  93.  95.  97.  99.]\n"
     ]
    },
    {
     "ename": "ValueError",
     "evalue": "bad axis1 argument to swapaxes",
     "output_type": "error",
     "traceback": [
      "\u001b[0;31m---------------------------------------------------------------------------\u001b[0m",
      "\u001b[0;31mValueError\u001b[0m                                Traceback (most recent call last)",
      "\u001b[0;32m<ipython-input-60-01cc53ea20a5>\u001b[0m in \u001b[0;36m<module>\u001b[0;34m()\u001b[0m\n\u001b[1;32m     15\u001b[0m \u001b[0mprint\u001b[0m\u001b[0;34m(\u001b[0m\u001b[0;34m\"降维度：\"\u001b[0m\u001b[0;34m,\u001b[0m \u001b[0md\u001b[0m\u001b[0;34m)\u001b[0m\u001b[0;34m\u001b[0m\u001b[0m\n\u001b[1;32m     16\u001b[0m \u001b[0;34m\u001b[0m\u001b[0m\n\u001b[0;32m---> 17\u001b[0;31m \u001b[0mf\u001b[0m \u001b[0;34m=\u001b[0m \u001b[0ma\u001b[0m\u001b[0;34m.\u001b[0m\u001b[0mswapaxes\u001b[0m\u001b[0;34m(\u001b[0m\u001b[0;36m2\u001b[0m\u001b[0;34m,\u001b[0m \u001b[0;36m25\u001b[0m\u001b[0;34m)\u001b[0m\u001b[0;34m\u001b[0m\u001b[0m\n\u001b[0m\u001b[1;32m     18\u001b[0m \u001b[0mprint\u001b[0m\u001b[0;34m(\u001b[0m\u001b[0mf\u001b[0m\u001b[0;34m)\u001b[0m\u001b[0;34m\u001b[0m\u001b[0m\n",
      "\u001b[0;31mValueError\u001b[0m: bad axis1 argument to swapaxes"
     ]
    }
   ],
   "source": [
    "import numpy as np\n",
    "\n",
    "a = np.arange(1, 100, 2, dtype=float)\n",
    "print(\"a shape:\",a.shape)\n",
    "\n",
    "b = a.reshape((2, 25))#不改变原数组的大小\n",
    "print(\"b:\", b)\n",
    "print(\"a\", a)\n",
    "\n",
    "c = a.resize((25,2))#返回值为空 表示可能此处不会有有方绘制\n",
    "print(\"c:\", c)\n",
    "print(\"a\", a)#resize会改变的原数组的形状，使得修改变得非常的的棘手\n",
    "\n",
    "d = a.flatten()\n",
    "print(\"降维度：\", d)\n",
    "\n"
   ]
  },
  {
   "cell_type": "code",
   "execution_count": 70,
   "metadata": {},
   "outputs": [
    {
     "name": "stdout",
     "output_type": "stream",
     "text": [
      "************************************************************\n",
      "a: [[1 1 1 1 1]\n",
      " [1 1 1 1 1]\n",
      " [1 1 1 1 1]\n",
      " [1 1 1 1 1]\n",
      " [1 1 1 1 1]]\n",
      "Type: int32\n",
      "************************************************************\n",
      "[[ 1.  1.  1.  1.  1.]\n",
      " [ 1.  1.  1.  1.  1.]\n",
      " [ 1.  1.  1.  1.  1.]\n",
      " [ 1.  1.  1.  1.  1.]\n",
      " [ 1.  1.  1.  1.  1.]]\n",
      "Type: float32\n",
      "************************************************************\n",
      "c: [[1.0, 1.0, 1.0, 1.0, 1.0], [1.0, 1.0, 1.0, 1.0, 1.0], [1.0, 1.0, 1.0, 1.0, 1.0], [1.0, 1.0, 1.0, 1.0, 1.0], [1.0, 1.0, 1.0, 1.0, 1.0]]\n",
      "c[0]: [1.0, 1.0, 1.0, 1.0, 1.0]\n"
     ]
    }
   ],
   "source": [
    "import numpy as np\n",
    "\n",
    "print(\"*\"*60)\n",
    "a = np.ones((5, 5), dtype=np.int32)\n",
    "print(\"a:\",a)\n",
    "print(\"Type:\", a.dtype)\n",
    "\n",
    "print(\"*\"*60)\n",
    "b = a.astype(np.float32)#装换数据的格式类型\n",
    "print(b)\n",
    "print(\"Type:\", b.dtype)\n",
    "\n",
    "print(\"*\"*60)\n",
    "c = b.tolist()\n",
    "print(\"c:\", c)\n",
    "print(\"c[0]:\", c[0])\n"
   ]
  },
  {
   "cell_type": "code",
   "execution_count": 75,
   "metadata": {},
   "outputs": [
    {
     "name": "stdout",
     "output_type": "stream",
     "text": [
      "[ 1  4  7 10 13 16 19 22]\n",
      "a[2]: 7\n",
      "定长: [4]\n"
     ]
    }
   ],
   "source": [
    "#一维数组的切片\n",
    "import numpy as np\n",
    "\n",
    "a = np.arange(1, 25, 3)\n",
    "print(a)\n",
    "print(\"a[2]:\", a[2])\n",
    "print(\"定长:\", a[1 : 3 : 2])"
   ]
  },
  {
   "cell_type": "code",
   "execution_count": 110,
   "metadata": {},
   "outputs": [
    {
     "name": "stdout",
     "output_type": "stream",
     "text": [
      "**********************************************************************\n",
      "[[[ 0  1]\n",
      "  [ 2  3]\n",
      "  [ 4  5]\n",
      "  [ 6  7]]\n",
      "\n",
      " [[ 8  9]\n",
      "  [10 11]\n",
      "  [12 13]\n",
      "  [14 15]]\n",
      "\n",
      " [[16 17]\n",
      "  [18 19]\n",
      "  [20 21]\n",
      "  [22 23]]\n",
      "\n",
      " [[24 25]\n",
      "  [26 27]\n",
      "  [28 29]\n",
      "  [30 31]]]\n",
      "**********************************************************************\n",
      "a: 12\n",
      "[ 3 11 19 27]\n",
      "[ 2 10 18 26]\n",
      "**********************************************************************\n",
      "[[[ 0  1]\n",
      "  [ 2  3]\n",
      "  [ 4  5]]\n",
      "\n",
      " [[ 8  9]\n",
      "  [10 11]\n",
      "  [12 13]]\n",
      "\n",
      " [[16 17]\n",
      "  [18 19]\n",
      "  [20 21]]\n",
      "\n",
      " [[24 25]\n",
      "  [26 27]\n",
      "  [28 29]]]\n"
     ]
    }
   ],
   "source": [
    "#多维数组的切片\n",
    "import numpy as np \n",
    "\n",
    "a = np.arange(32).reshape((4, 4, 2))\n",
    "print(\"*\"*70)\n",
    "print(a)\n",
    "#开始索引\n",
    "print(\"*\"*70)\n",
    "print(\"a:\",a[1, 2, 0])\n",
    "print(a[:, 1,1])\n",
    "print(a[:,1,0])\n",
    "print(\"*\"*70)\n",
    "print(a[:, 0:3, :])\n"
   ]
  },
  {
   "cell_type": "code",
   "execution_count": 103,
   "metadata": {},
   "outputs": [
    {
     "name": "stdout",
     "output_type": "stream",
     "text": [
      "**********************************************************************\n",
      "a: [[  1.   2.   3.   4.   5.   6.   7.   8.]\n",
      " [  9.  10.  11.  12.  13.  14.  15.  16.]\n",
      " [ 17.  18.  19.  20.  21.  22.  23.  24.]]\n",
      "a.itemsize: 4\n",
      "a.type: float32\n",
      "\n",
      "\n",
      "**********************************************************************\n",
      "12.5\n",
      "a mean: [[ 0.08        0.16        0.23999999  0.31999999  0.40000001  0.47999999\n",
      "   0.56        0.63999999]\n",
      " [ 0.72000003  0.80000001  0.88        0.95999998  1.03999996  1.12\n",
      "   1.20000005  1.27999997]\n",
      " [ 1.36000001  1.44000006  1.51999998  1.60000002  1.67999995  1.75999999\n",
      "   1.84000003  1.91999996]]\n",
      "log2(a): [[-3.64385629 -2.64385629 -2.05889368 -1.64385617 -1.32192802 -1.05889368\n",
      "  -0.83650124 -0.64385623]\n",
      " [-0.47393113 -0.32192808 -0.18442458 -0.05889372  0.05658348  0.16349874\n",
      "   0.26303446  0.35614377]\n",
      " [ 0.44360667  0.52606887  0.60407132  0.67807192  0.74846119  0.81557542\n",
      "   0.87970579  0.94110626]]\n"
     ]
    }
   ],
   "source": [
    "#计算\n",
    "import numpy as np\n",
    "\n",
    "a = np.arange(1, 25, 1).reshape((3,8))\n",
    "a = a.astype(np.float32)\n",
    "\n",
    "print(\"*\"*70)\n",
    "print(\"a:\",a)\n",
    "print(\"a.itemsize:\", a.itemsize)\n",
    "print(\"a.type:\", a.dtype)\n",
    "print(\"\\n\")\n",
    "print(\"*\"*70)\n",
    "print(a.mean())\n",
    "a = a/a.mean()\n",
    "print(\"a mean:\", a)\n",
    "print(\"log2(a):\", np.log2(a))"
   ]
  },
  {
   "cell_type": "code",
   "execution_count": 111,
   "metadata": {},
   "outputs": [
    {
     "name": "stdout",
     "output_type": "stream",
     "text": [
      "object\n",
      "b: [[66 66 66]\n",
      " [66 66 66]\n",
      " [66 66 66]\n",
      " [66 66 66]\n",
      " [66 66 66]]\n"
     ]
    }
   ],
   "source": [
    "#补充\n",
    "\n",
    "import numpy as np\n",
    "\n",
    "a = np.array([ [11,12,55,66]\n",
    "            ,[4,5,6] ])\n",
    "print(a.dtype)#非同秩元素的不能够实现 并且元素为对象类\n",
    "\n",
    "b = np.full((5,3), 66)\n",
    "print(\"b:\",b)"
   ]
  },
  {
   "cell_type": "code",
   "execution_count": 121,
   "metadata": {},
   "outputs": [
    {
     "name": "stdout",
     "output_type": "stream",
     "text": [
      "a: [[ 0  1  2  3  4  5  6  7]\n",
      " [ 8  9 10 11 12 13 14 15]\n",
      " [16 17 18 19 20 21 22 23]]\n"
     ]
    }
   ],
   "source": [
    "#保存数组\n",
    "import numpy as np\n",
    "\n",
    "a = np.arange(24).reshape((3, 8))\n",
    "print(\"a:\", a)\n",
    "\n",
    "#1.保存\n",
    "np.savetxt(\"a.csc\", a, fmt='%d', delimiter=\",\")# deliniter 分隔符"
   ]
  },
  {
   "cell_type": "code",
   "execution_count": null,
   "metadata": {},
   "outputs": [],
   "source": []
  },
  {
   "cell_type": "code",
   "execution_count": null,
   "metadata": {},
   "outputs": [],
   "source": []
  },
  {
   "cell_type": "code",
   "execution_count": null,
   "metadata": {},
   "outputs": [],
   "source": []
  },
  {
   "cell_type": "code",
   "execution_count": null,
   "metadata": {},
   "outputs": [],
   "source": []
  },
  {
   "cell_type": "code",
   "execution_count": null,
   "metadata": {},
   "outputs": [],
   "source": []
  },
  {
   "cell_type": "code",
   "execution_count": null,
   "metadata": {},
   "outputs": [],
   "source": []
  },
  {
   "cell_type": "code",
   "execution_count": null,
   "metadata": {},
   "outputs": [],
   "source": []
  },
  {
   "cell_type": "code",
   "execution_count": null,
   "metadata": {},
   "outputs": [],
   "source": []
  }
 ],
 "metadata": {
  "kernelspec": {
   "display_name": "Python 3",
   "language": "python",
   "name": "python3"
  },
  "language_info": {
   "codemirror_mode": {
    "name": "ipython",
    "version": 3
   },
   "file_extension": ".py",
   "mimetype": "text/x-python",
   "name": "python",
   "nbconvert_exporter": "python",
   "pygments_lexer": "ipython3",
   "version": "3.6.5"
  }
 },
 "nbformat": 4,
 "nbformat_minor": 2
}
