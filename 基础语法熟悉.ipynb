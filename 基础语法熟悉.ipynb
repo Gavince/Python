{
 "cells": [
  {
   "cell_type": "code",
   "execution_count": null,
   "metadata": {
    "collapsed": true
   },
   "outputs": [],
   "source": [
    "## python  20190124"
   ]
  },
  {
   "cell_type": "code",
   "execution_count": 13,
   "metadata": {},
   "outputs": [
    {
     "name": "stdout",
     "output_type": "stream",
     "text": [
      "please enter a number1:55\n",
      "please enter a number2:55\n",
      "<class 'int'> 55\n",
      "<class 'str'> 55\n",
      "a = 000055,b = 55,c = 4545.00\n"
     ]
    }
   ],
   "source": [
    "#输出结果　尤其注意数据格式（可以使用强制类型装换eg:int() float() double() ）\n",
    "\n",
    "a = int(input(\"please enter a number1:\"))#输出结果为整型\n",
    "b = input(\"please enter a number2:\")#默认输出的结果为字符类型\n",
    "c = 4545\n",
    "\n",
    "print(type(a),a)\n",
    "print(type(b),b)\n",
    "print(\"a = %06d,b = %s,c = %.2f\"%(a,b,c)) #输出格式(“格式化字符串”%(变量１，变量２......))"
   ]
  },
  {
   "cell_type": "code",
   "execution_count": 14,
   "metadata": {},
   "outputs": [
    {
     "name": "stdout",
     "output_type": "stream",
     "text": [
      "['False', 'None', 'True', 'and', 'as', 'assert', 'break', 'class', 'continue', 'def', 'del', 'elif', 'else', 'except', 'finally', 'for', 'from', 'global', 'if', 'import', 'in', 'is', 'lambda', 'nonlocal', 'not', 'or', 'pass', 'raise', 'return', 'try', 'while', 'with', 'yield']\n"
     ]
    }
   ],
   "source": [
    "import keyword\n",
    "print(keyword.kwlist)"
   ]
  },
  {
   "cell_type": "markdown",
   "metadata": {},
   "source": [
    "### 循环嵌套"
   ]
  },
  {
   "cell_type": "code",
   "execution_count": 18,
   "metadata": {},
   "outputs": [
    {
     "name": "stdout",
     "output_type": "stream",
     "text": [
      "DD\n"
     ]
    }
   ],
   "source": [
    "#else的使用\n",
    "if 1>4:\n",
    "    print(\"AA\")\n",
    "elif 5>44:\n",
    "    print(\"BB\")\n",
    "elif 5>45:\n",
    "    print(\"CC\")\n",
    "else:\n",
    "    print(\"DD\")"
   ]
  },
  {
   "cell_type": "code",
   "execution_count": null,
   "metadata": {
    "collapsed": true
   },
   "outputs": [],
   "source": [
    "import random# 生成随机数字\n",
    "while(1):\n",
    "     print(random.randint(0,10))# 0　~　10　之间的随机数的整数\n",
    "    "
   ]
  },
  {
   "cell_type": "markdown",
   "metadata": {},
   "source": [
    "### 猜拳小游戏"
   ]
  },
  {
   "cell_type": "code",
   "execution_count": 1,
   "metadata": {},
   "outputs": [
    {
     "name": "stdout",
     "output_type": "stream",
     "text": [
      "please enter a number:(consumer)45\n",
      "Computer win!\n",
      "Are you continuing?(yes/no)54\n",
      "Consumer win!\n",
      "Are you continuing?(yes/no)yes\n",
      "\n",
      "Consumer win!\n",
      "Are you continuing?(yes/no)45\n",
      "Computer win!\n",
      "Are you continuing?(yes/no)no\n",
      "ByeBye!\n"
     ]
    }
   ],
   "source": [
    "import random \n",
    "\n",
    "x = int(input(\"please enter a number:(consumer)\"))\n",
    "while(1):\n",
    "    a = random.randint(0,100)\n",
    "    if x > a:\n",
    "        print(\"Computer win!\")\n",
    "    else:\n",
    "        print(\"Consumer win!\")\n",
    "    \n",
    "    a = input(\"Are you continuing?(yes/no)\")\n",
    "    \n",
    "    if (a == 'yes') or (a == 'YES'):\n",
    "        print()\n",
    "    elif (a == 'no') or (a == 'NO'):\n",
    "        print(\"ByeBye!\")\n",
    "        break"
   ]
  },
  {
   "cell_type": "markdown",
   "metadata": {
    "collapsed": true
   },
   "source": [
    "### 输出操作"
   ]
  },
  {
   "cell_type": "code",
   "execution_count": 8,
   "metadata": {},
   "outputs": [
    {
     "name": "stdout",
     "output_type": "stream",
     "text": [
      "*---*\n"
     ]
    }
   ],
   "source": [
    "print(\"*\",end = \"---\")#输出结果不换行\n",
    "print(\"*\")"
   ]
  },
  {
   "cell_type": "markdown",
   "metadata": {},
   "source": [
    "### 函数的一般格式"
   ]
  },
  {
   "cell_type": "code",
   "execution_count": 20,
   "metadata": {},
   "outputs": [
    {
     "name": "stdout",
     "output_type": "stream",
     "text": [
      "Row 1:*\n",
      "Row 2:**\n",
      "Row 3:***\n",
      "Row 4:****\n",
      "Row 5:*****\n",
      "Row 6:******\n",
      "Row 7:*******\n",
      "Row 8:********\n",
      "Row 9:*********\n"
     ]
    }
   ],
   "source": [
    "#封装一个函数 定义一个函数　格式：def 函数名称(形参１,........)\n",
    "\n",
    "def fun():\n",
    "    \"\"\"　函数说明　\"\"\"\n",
    "    \n",
    "    a = '*'\n",
    "    for i in range(1,10):\n",
    "        print(\"Row %d:%s\"%(i,a*i))\n",
    "\n",
    "#主函数的使用\n",
    "fun()"
   ]
  },
  {
   "cell_type": "code",
   "execution_count": 1,
   "metadata": {},
   "outputs": [
    {
     "name": "stdout",
     "output_type": "stream",
     "text": [
      "Sum is ：1\n",
      "\n"
     ]
    }
   ],
   "source": [
    "#函数的进阶的\n",
    "def Sum_num(a, b):\n",
    "    \"\"\"求和\"\"\"\n",
    "    \n",
    "    sum = a + b\n",
    "    return sum\n",
    "sum = Sum_num(1,0)\n",
    "print(\"Sum is ：%d\\n\"%sum)"
   ]
  },
  {
   "cell_type": "code",
   "execution_count": 4,
   "metadata": {},
   "outputs": [
    {
     "name": "stdout",
     "output_type": "stream",
     "text": [
      "Hello \n",
      "nihao\n",
      " World!\n"
     ]
    }
   ],
   "source": [
    "#函数的嵌套使用\n",
    "def test1():\n",
    "    print(\"nihao\")\n",
    "    \n",
    "def test2():\n",
    "    print(\"Hello \")\n",
    "    test1()\n",
    "    print(\" World!\")\n",
    "test2()"
   ]
  },
  {
   "cell_type": "code",
   "execution_count": 8,
   "metadata": {},
   "outputs": [
    {
     "name": "stdout",
     "output_type": "stream",
     "text": [
      "****************************************************************************************************\n"
     ]
    }
   ],
   "source": [
    "def print_line(char):\n",
    "    \n",
    "    print(char*50)\n",
    "\n",
    "print_line(\"**\")\n",
    "\n",
    "\n"
   ]
  },
  {
   "cell_type": "code",
   "execution_count": null,
   "metadata": {},
   "outputs": [
    {
     "name": "stdout",
     "output_type": "stream",
     "text": [
      "please enter a char:11\n",
      "please enter times:22\n"
     ]
    }
   ],
   "source": [
    "#函数的调用\n",
    "def print_lines(char, num):\n",
    "    \"\"\"print lines\"\"\"\n",
    "    \n",
    "    i = 0\n",
    "    while num<50:\n",
    "        \n",
    "       # print(char*num)\n",
    "        i +=1\n",
    "        \n",
    "char = input(\"please enter a char:\")\n",
    "num = int(input(\"please enter times:\"))\n",
    "print_lines(char, num)"
   ]
  },
  {
   "cell_type": "markdown",
   "metadata": {},
   "source": [
    "## 元组和列表"
   ]
  },
  {
   "cell_type": "code",
   "execution_count": 10,
   "metadata": {},
   "outputs": [
    {
     "name": "stdout",
     "output_type": "stream",
     "text": [
      "0\n",
      "你好\n",
      "小姐姐\n",
      "北京\n",
      "欢迎你\n",
      "啦啦啦\n"
     ]
    }
   ],
   "source": [
    "#列表是有序的对象集合\n",
    "\n",
    "list_name = [\"你好\",\"北京\",\"欢迎你\"]\n",
    "print(list_name.index(\"你好\"))\n",
    "\n",
    "list_name.append(\"啦啦啦\")\n",
    "list_name.insert(1,\"小姐姐\")\n",
    "\n",
    "for i in range (0,5):\n",
    "    print(list_name[i])"
   ]
  },
  {
   "cell_type": "code",
   "execution_count": 5,
   "metadata": {},
   "outputs": [
    {
     "name": "stdout",
     "output_type": "stream",
     "text": [
      "niiii\n",
      "zjam\n",
      "1\n"
     ]
    }
   ],
   "source": [
    "list_name = [\"niiii\",\"zjam\",1]\n",
    "list_arr = [1, \"zhangwnayu\", 1.34]\n",
    "for i in range (0,3):\n",
    "    print(list_name[i])"
   ]
  },
  {
   "cell_type": "code",
   "execution_count": 41,
   "metadata": {},
   "outputs": [
    {
     "name": "stdout",
     "output_type": "stream",
     "text": [
      "张\n",
      "万\n",
      "玉\n",
      "大\n",
      "王\n",
      "八\n",
      "蛋\n",
      "张万玉的年龄是18,身高是1.75cm\n",
      "7\n",
      "('张万玉', 18, 1.75)\n",
      "('张', '万', '玉', '大', '王', '八', '蛋')\n",
      "(14,)\n"
     ]
    },
    {
     "data": {
      "text/plain": [
       "tuple"
      ]
     },
     "execution_count": 41,
     "metadata": {},
     "output_type": "execute_result"
    }
   ],
   "source": [
    "#1.元组内的元素不能修改里面的元素 \n",
    "#2.元组定义可以使用逗号分割\n",
    "\n",
    "a = (\"张\",\"万\",\"玉\",\"大\",\"王\",\"八\",\"蛋\")\n",
    "#for i in range(0,7):\n",
    "   # print(a[i])\n",
    "\n",
    "b = (14,)#注意：加一个小逗号表示一个元组　\n",
    "#另外一种元组的遍历使用\n",
    "for a_element in a:\n",
    "    print(a_element)\n",
    "\n",
    "Stu_info = (\"张万玉\", 18, 1.75)\n",
    "print(\"%s的年龄是%d,身高是%.2fcm\"%Stu_info)\n",
    "print(len(a))\n",
    "print(Stu_info)\n",
    "print(a)\n",
    "print(b)\n",
    "type(b)"
   ]
  },
  {
   "cell_type": "code",
   "execution_count": 43,
   "metadata": {},
   "outputs": [
    {
     "name": "stdout",
     "output_type": "stream",
     "text": [
      "('张万玉', 18, 1.75)\n"
     ]
    }
   ],
   "source": [
    "#tuple AND list\n",
    "Stu_info = (\"张万玉\", 18, 1.75)\n",
    "a = tuple(Stu_info)\n",
    "print(a)"
   ]
  },
  {
   "cell_type": "markdown",
   "metadata": {
    "collapsed": true
   },
   "source": [
    "## 字典的使用"
   ]
  },
  {
   "cell_type": "code",
   "execution_count": 1,
   "metadata": {},
   "outputs": [
    {
     "name": "stdout",
     "output_type": "stream",
     "text": [
      "{'name': 'zhangwanyu', 'age': 19, 'gender': 'sex', 'height': 1.75}\n",
      "zhangwanyu\n",
      "{'name': 'xiaoming', 'age': 19, 'gender': 'sex', 'height': 1.75, 'favorite': 'frible'}\n",
      "{'name': 'xiaoming', 'age': 19, 'gender': 'sex', 'height': 1.75}\n",
      "{}\n",
      "键值对是:4个\n",
      "{'Id': 45465465, 'name': 'xiaoxuesheng'}\n",
      "{'name': 'xiaoxuesheng', 'age': 19, 'gender': 'sex', 'height': 1.75, 'Id': 45465465}\n",
      "\n",
      "name: xiaoxuesheng\n",
      "\n",
      "age: 19\n",
      "\n",
      "gender: sex\n",
      "\n",
      "height: 1.75\n",
      "\n",
      "Id: 45465465\n"
     ]
    }
   ],
   "source": [
    "# 字典是一个无序的数据的集合 ()\n",
    "# 键值对　.key()键  .value()值\n",
    "gavin = {\"name\":\"zhangwanyu\", # 表示一个键值对　使用:分割键值对\n",
    "         \"age\":19,\n",
    "         \"gender\":\"sex\",\n",
    "         \"height\":1.75}\n",
    "print(gavin)\n",
    "\n",
    "#1.取值\n",
    "print(gavin[\"name\"])\n",
    "\n",
    "#2.增加/修改\n",
    "gavin[\"favorite\"] = \"frible\" # 没有key 则表示重新创建一个键值对\n",
    "gavin[\"name\"] = \"xiaoming\" # 存在key则覆盖原有的key\n",
    "\n",
    "print(gavin)\n",
    "gavin.pop(\"favorite\")#类似与栈的退出\n",
    "print(gavin)\n",
    "\n",
    "#3.删除\n",
    "temp_dic = {\"Id\":45465465,\n",
    "           \"name\":\"xiaoxuesheng\"}\n",
    "\n",
    "temp_dic.clear() #清空字典内部的元素\n",
    "print(temp_dic)\n",
    "\n",
    "#4.统计键值对\n",
    "print(\"键值对是:%d个\"%len(gavin))\n",
    "\n",
    "#5.合并字典\n",
    "temp_dic = {\"Id\":45465465, # 存在就修改(即覆盖原有的键值对)　不存在就加入\n",
    "           \"name\":\"xiaoxuesheng\"}\n",
    "\n",
    "#temp_dic.clear()\n",
    "print(temp_dic)\n",
    "gavin.update(temp_dic)\n",
    "print(gavin)\n",
    "#6.遍历整个键值对\n",
    "for k in gavin:\n",
    "    print(\"\\n%s: %s\"%(k, gavin[k]))\n"
   ]
  },
  {
   "cell_type": "code",
   "execution_count": 82,
   "metadata": {},
   "outputs": [
    {
     "name": "stdout",
     "output_type": "stream",
     "text": [
      "{'name': 'zhang', 'age': 18, 'sex': 'male'}\n",
      "{'name': 'wan', 'age': 19, 'sex': 'female'}\n"
     ]
    }
   ],
   "source": [
    "#　列表　和　字典的交叉使用(列表中使用字典的使用，)\n",
    "card_list = [{\"name\":\"zhang\",\n",
    "             \"age\":18,\n",
    "             \"sex\":\"male\"},\n",
    "             {\"name\":\"wan\",\n",
    "            \"age\":19,\n",
    "            \"sex\":\"female\"}]\n",
    "\n",
    "for info in card_list:\n",
    "    \n",
    "    print(info)\n",
    "\n",
    "\n",
    "\n",
    "\n"
   ]
  },
  {
   "cell_type": "markdown",
   "metadata": {},
   "source": [
    "## 字符串"
   ]
  },
  {
   "cell_type": "code",
   "execution_count": 2,
   "metadata": {},
   "outputs": [
    {
     "name": "stdout",
     "output_type": "stream",
     "text": [
      "He'llo' world!\n",
      "g\n",
      "14\n",
      "2\n",
      "3\n"
     ]
    }
   ],
   "source": [
    "String = \"He'llo' world!\" #双引号中存在单引号\n",
    "str = '\"gavin\" hello!' #单引号中存在双引号　\n",
    "print(String)\n",
    "print(str[1]) #可以使用索引的方式　找出制定的方法\n",
    "\n",
    "# for char in str: \n",
    "#   print(char)\n",
    "    \n",
    "#len 函数的使用\n",
    "print(len(String))\n",
    "print(String.count(\"o\"))#统计字符串的某种字符的使用\n",
    "print(String.index(\"ll\"))"
   ]
  },
  {
   "cell_type": "code",
   "execution_count": 2,
   "metadata": {},
   "outputs": [
    {
     "name": "stdout",
     "output_type": "stream",
     "text": [
      "²\n",
      "False\n",
      "False\n",
      "False\n",
      "True\n",
      "False\n",
      "15\n",
      "30\n",
      "Hello world! I anm an super mann!\n",
      "Hello world! I am a super man!\n",
      "Hello world! I anm an super mann!\n",
      "|　　　　　　　　　　　　　　　　黄鹤楼_百度汉语　　　　　　　　　　　　　　　　|\n",
      "|　　　　　　　　　　　　　　　　　作者：崔颢　　　　　　　　　　　　　　　　　　|\n",
      "|　　　　　　　　　　　　昔人已乘黄鹤去，此地空余黄鹤楼。　　　　　　　　　　　　|\n",
      "|　　　　　　　　　　　　黄鹤一去不复返，白云千载空悠悠。　　　　　　　　　　　　|\n",
      "|　　　　　　　　　　　　晴川历历汉阳树，芳草萋萋鹦鹉洲。　　　　　　　　　　　　|\n",
      "|　　　　　　　　　　　　日暮乡关何处是？烟波江上使人愁。　　　　　　　　　　　　|\n",
      "6\n"
     ]
    }
   ],
   "source": [
    "#判断字符串是否只包含数字\n",
    "String = \"Hello world! I am a super man!\"\n",
    "String2 = \"\\u00b2\"\n",
    "\n",
    "print(String2)\n",
    "print(String.isdecimal())#单纯的数值\n",
    "print(String.isdigit())#uniode 编码\n",
    "print(String.isnumeric())#各种类型的数字\n",
    "\n",
    "#１.判断是否以指定的字符串开始\n",
    "print(String1.startswith(\"Hello\"))\n",
    "\n",
    "#2．判断是否以指定的字符串结束\n",
    "print(String1.endswith(\"man\"))\n",
    "\n",
    "#3.查找字符串\n",
    "print(String1.find(\"am\"))\n",
    "print(len(String1))\n",
    "\n",
    "#4.替换字符串\n",
    "Repl = String1.replace(\"a\",\"an\")\n",
    "print(Repl)#1 旧　２　新\n",
    "print(String1)\n",
    "print(Repl)\n",
    "\n",
    "#注意不会修改字符串的内容\n",
    "#输出字符传递格式化标准输出\n",
    "poem =  [\n",
    "\"黄鹤楼_百度汉语\",\n",
    "\"作者：崔颢\",\n",
    "\"昔人已乘黄鹤去，此地空余黄鹤楼。\",\n",
    "\"黄鹤一去不复返，白云千载空悠悠。\",\n",
    "\"晴川历历汉阳树，芳草萋萋鹦鹉洲。\",\n",
    "\"日暮乡关何处是？烟波江上使人愁。\"]\n",
    "\n",
    "for dic in poem:\n",
    "    print(\"|%s|\"%dic.center(40,\"　\"))\n",
    "print(len(poem))"
   ]
  },
  {
   "cell_type": "code",
   "execution_count": 47,
   "metadata": {},
   "outputs": [
    {
     "name": "stdout",
     "output_type": "stream",
     "text": [
      "['昔人已乘黄鹤去，此地空余黄鹤楼。', '黄鹤一去不复返，白云千载空悠悠。', '日暮乡关何处是？烟波江上使人愁。']\n",
      "昔人已乘黄鹤去，此地空余黄鹤楼。 黄鹤一\n"
     ]
    }
   ],
   "source": [
    "#strip 消除空白字符串\n",
    "poem_str = \"昔人已乘黄鹤去，此地空余黄鹤楼。\\t\\n黄鹤一去不复返，白云千载空悠悠。\\t\\n日暮乡关何处是？烟波江上使人愁。\"\n",
    "\n",
    "poem_list = poem_str.split()\n",
    "#拆分字符串\n",
    "print(poem_list)\n",
    "#合并字符串\n",
    "result = \" \".join(poem_list)\n",
    "print(result[:20])\n"
   ]
  },
  {
   "cell_type": "code",
   "execution_count": null,
   "metadata": {
    "collapsed": true
   },
   "outputs": [],
   "source": [
    "# 切片\n",
    "[::]#1 start 2 end  3 spaceline"
   ]
  },
  {
   "cell_type": "markdown",
   "metadata": {
    "collapsed": true
   },
   "source": [
    "## for循环的完整用法"
   ]
  },
  {
   "cell_type": "code",
   "execution_count": 10,
   "metadata": {},
   "outputs": [
    {
     "name": "stdout",
     "output_type": "stream",
     "text": [
      "i == 1\n",
      "i == 2\n",
      "i == 3\n",
      "i == 5\n",
      "i == 4\n",
      "i == 6\n",
      "i == 7\n",
      "i == 8\n",
      "i == 9\n",
      "hello world!\n",
      "Byebye!!!\n",
      "Student information: {'name': 'zhang', 'age': 25, 'sex': 'male'}\n",
      "Find it!\n",
      "　信息输出完成！\n"
     ]
    }
   ],
   "source": [
    "#for 循环的使用  (此处是完整的for循环)\n",
    "for i in [1,2,3,5,4,6,7,8,9]:\n",
    "    print(\"i == %d\"%i)\n",
    "else:\n",
    "    print(\"hello world!\")\n",
    "\n",
    "print(\"Byebye!!!\")\n",
    "\n",
    "#字典与列表的混合使用\n",
    "student = [{\"name\":\"zhang\",\n",
    "           \"age\":25,\n",
    "           \"sex\":\"male\"},\n",
    "          {\"name\":\"wei\",\n",
    "           \"age\":22,\n",
    "           \"sex\":\"female\"},\n",
    "           {\"name\":\"yu\",\n",
    "           \"age\":23,\n",
    "           \"sex\":\"female\"}]\n",
    "\n",
    "for Info in student:\n",
    "    print(\"Student information: %s\"%Info)\n",
    "    if Info[\"name\"] ==  \"zhang\":\n",
    "        print(\"Find it!\")\n",
    "        break#找到所找的数据即退出\n",
    "    \"\"\"else: #　单次执行后　没能找而输出值\n",
    "        print(\"　\")\"\"\"\n",
    "else:#如果遍历完成后　未能找到数据　则可以统一的提示\n",
    "    print(\"Sorry, cannot find it!\")#全部\n",
    "print(\"　信息输出完成！\")"
   ]
  },
  {
   "cell_type": "markdown",
   "metadata": {},
   "source": [
    "## 变量进阶"
   ]
  },
  {
   "cell_type": "code",
   "execution_count": 1,
   "metadata": {},
   "outputs": [
    {
     "name": "stdout",
     "output_type": "stream",
     "text": [
      "函数内部值10传递的是94084512004928\n",
      "Id is 140627249863232\n",
      "Address is: 140627249863232\n"
     ]
    }
   ],
   "source": [
    "def test(num):　#调用函数时其实是参数的引用　而不是数据本身\n",
    "\n",
    "    print(\"函数内部值%d传递的是%d\"%(num, id(num)))\n",
    "    result  = \"Hello\"\n",
    "    \n",
    "    print(\"Id is %d\"%id(result))\n",
    "    return result #函数返回值时其实是参数的引用　而不是数据本身\n",
    "\n",
    "a = 10\n",
    "\n",
    "r = test(a)\n",
    "\n",
    "print(\"Address is: %d\"%id(r))"
   ]
  },
  {
   "cell_type": "markdown",
   "metadata": {
    "collapsed": true
   },
   "source": [
    "## 局部变量和全局变量\n"
   ]
  },
  {
   "cell_type": "code",
   "execution_count": 10,
   "metadata": {},
   "outputs": [
    {
     "name": "stdout",
     "output_type": "stream",
     "text": [
      "Id1 is 94084512004928\n",
      "10\n",
      "455\n",
      "Id3 is 140627250243408\n",
      "Id2 is 140627250244304\n",
      "4545\n"
     ]
    }
   ],
   "source": [
    "#局部\n",
    "def demo1():\n",
    "    \n",
    "    \"\"\"\n",
    "    \n",
    "    形参形成与调用　终于函数的消亡\n",
    "    局部变量的使用只限制与局部\n",
    "    \n",
    "    \"\"\"\n",
    "    \n",
    "    num = 10\n",
    "    print(\"Id1 is %d\"%id(num))\n",
    "    print(num)\n",
    "def demo2():\n",
    "    \n",
    "    \"\"\"函数的使用\"\"\"\n",
    "    num = 455\n",
    "    print(num)\n",
    "    print(\"Id3 is %d\"%id(num))\n",
    "    \n",
    "#全局和局部相同变量名的数据地址不同\n",
    "demo1()\n",
    "demo2()\n",
    "num = 4545\n",
    "print(\"Id2 is %d\"%id(num))\n",
    "print(num)"
   ]
  },
  {
   "cell_type": "code",
   "execution_count": 17,
   "metadata": {},
   "outputs": [
    {
     "name": "stdout",
     "output_type": "stream",
     "text": [
      "10\n",
      "Id1 is 94084512004928\n",
      "10\n",
      "Id2 is 94084512004928\n",
      "11\n",
      "Id3 is 94084512004960\n"
     ]
    }
   ],
   "source": [
    "#全局变量\n",
    "num = 10 #表示再次出现变量名时　具有相同id值　表明是同一地址　\n",
    "\n",
    "def fun1():\n",
    "    \"\"\"\n",
    "    \"\"\"\n",
    "    print(num)\n",
    "    print(\"Id1 is %d\"%id(num))\n",
    "    \n",
    "def fun2():\n",
    "    \"\"\"\n",
    "    \"\"\"\n",
    "    print(num)\n",
    "    print(\"Id2 is %d\"%id(num))\n",
    "\n",
    "fun1()\n",
    "fun2()\n",
    "print(num)\n",
    "print(\"Id3 is %d\"%id(num))\n",
    "\n"
   ]
  },
  {
   "cell_type": "code",
   "execution_count": null,
   "metadata": {
    "collapsed": true
   },
   "outputs": [],
   "source": []
  },
  {
   "cell_type": "code",
   "execution_count": null,
   "metadata": {
    "collapsed": true
   },
   "outputs": [],
   "source": []
  },
  {
   "cell_type": "code",
   "execution_count": null,
   "metadata": {
    "collapsed": true
   },
   "outputs": [],
   "source": []
  },
  {
   "cell_type": "code",
   "execution_count": null,
   "metadata": {
    "collapsed": true
   },
   "outputs": [],
   "source": []
  },
  {
   "cell_type": "code",
   "execution_count": null,
   "metadata": {
    "collapsed": true
   },
   "outputs": [],
   "source": []
  }
 ],
 "metadata": {
  "kernelspec": {
   "display_name": "Python 3",
   "language": "python",
   "name": "python3"
  },
  "language_info": {
   "codemirror_mode": {
    "name": "ipython",
    "version": 3
   },
   "file_extension": ".py",
   "mimetype": "text/x-python",
   "name": "python",
   "nbconvert_exporter": "python",
   "pygments_lexer": "ipython3",
   "version": "3.6.5"
  }
 },
 "nbformat": 4,
 "nbformat_minor": 2
}
