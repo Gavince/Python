{
 "cells": [
  {
   "cell_type": "markdown",
   "metadata": {},
   "source": [
    "# pandas 进阶修炼 ｜早起Python\n",
    "<br>\n",
    "\n",
    "**本习题由公众号【早起Python & 可视化图鉴】 原创，转载及其他形式合作请与我们联系（微信号`sshs321`)，未经授权严禁搬运及二次创作，侵权必究！**\n",
    "\n",
    "\n",
    "\n",
    "本习题基于 `pandas` 版本 `1.1.3`，所有内容应当在 `Jupyter Notebook` 中执行以获得最佳效果。\n",
    "\n",
    "不同版本之间写法可能会有少许不同，如若碰到此情况，你应该学会如何自行检索解决。"
   ]
  },
  {
   "cell_type": "markdown",
   "metadata": {},
   "source": [
    "# 1 - 数据加载与存储 "
   ]
  },
  {
   "cell_type": "markdown",
   "metadata": {},
   "source": [
    "是的，常常被忽略的「<font color=#E36C07>**数据加载与存储**</font>」也大有门道且值得作为本套习题的开门之章。\n",
    "\n",
    "在一次数据分析的过程中，你可能只会读取或存储一两次数据集。\n",
    "\n",
    "**但若能灵活掌握各项设置，在读取阶段就将数据筛选、匹配、格式指定等操作完成，有时会为我们节省大量时间。**\n",
    "\n",
    "在本节习题中，我将 pandas 数据分析中常见的数据读取与存储操作进行整理。\n",
    "\n",
    "<font color=#E36C07>**既可以用于巩固、学习各种操作，也可以作为速查手册使用**</font>。"
   ]
  },
  {
   "cell_type": "markdown",
   "metadata": {},
   "source": [
    "## 初始化\n",
    "\n",
    "<br>\n",
    "\n",
    "该 `Notebook` 版本为**习题+答案版**\n",
    "\n",
    "\n",
    "<font color=#E36C07>**请执行下方单元格以初始化读取本节习题的答案**</font>\n",
    "\n",
    "执行完毕后，你可以使用  <font color=#E36C07> **ans(1)** </font>  来查看第 1 题的参考解答，其余习题类似。\n",
    "\n",
    "注意：所有答案并非固定（唯一），我提供的答案仅供参考（并非推荐答案或者最优解）\n",
    "\n",
    "如果发现任何错误或者你有更好的解答，可以微信搜索公众号「早起Python」提交以获得奖励！\n"
   ]
  },
  {
   "cell_type": "code",
   "execution_count": 1,
   "metadata": {},
   "outputs": [
    {
     "name": "stdout",
     "output_type": "stream",
     "text": [
      "***************正在初始化***************\n",
      "*************读取到配置文件*************\n",
      "***************初始化成功***************\n"
     ]
    }
   ],
   "source": [
    "import sys\n",
    "import pandas as pd\n",
    "sys.path.append('../document/')\n",
    "from inits import initialize,ans\n",
    "\n",
    "res = initialize(\"../document/answer-1.txt\")"
   ]
  },
  {
   "cell_type": "markdown",
   "metadata": {},
   "source": [
    "## 1-1 数据读取"
   ]
  },
  {
   "cell_type": "markdown",
   "metadata": {},
   "source": [
    "### 1 读取 Excel 文件\n",
    "\n",
    "<br>\n",
    "\n",
    "- 读取当前目录下 `某招聘网站数据.csv` 文件\n",
    "\n",
    "- 读取当前目录下 `TOP250.xlsx` 文件\n",
    "\n",
    "**注意**：使用 `pandas` 读取 `CSV` 与 读取 `xlsx` 格式的 `Excel` 文件方法大致相同\n",
    "\n",
    "因此接下来与 `Excel` 相关的操作均以 `CSV` 格式进行出题。"
   ]
  },
  {
   "cell_type": "code",
   "execution_count": 3,
   "metadata": {},
   "outputs": [],
   "source": [
    "data = pd.read_csv(\"某招聘网站数据.csv\")\n",
    "data = pd.read_excel(\"TOP250.xlsx\")"
   ]
  },
  {
   "cell_type": "markdown",
   "metadata": {},
   "source": [
    "### 2 读取 Excel 文件｜指定位置\n",
    "\n",
    "在大多数情况下，我们会将 `notebook` 和数据源文件放在同一个目录（文件夹下），这样直接使用`pd.read_xxx(\"文件名\")`即可成功读取。\n",
    " \n",
    "但有时需要读取的文件和 `notebook` 不在同一个目录下，这时可以使用绝对路径或者相对本 `notebook` 的路径。\n",
    "\n",
    "现在请读取本套习题中第二章节下的数据，即 `2 - 个性化显示设置/data.csv`"
   ]
  },
  {
   "cell_type": "code",
   "execution_count": 19,
   "metadata": {},
   "outputs": [],
   "source": [
    "# df = pd.read_csv(\"../2 - 个性化显示设置/data.csv \")\n",
    "# # df.head(5)"
   ]
  },
  {
   "cell_type": "markdown",
   "metadata": {},
   "source": [
    "###  3 读取 Excel 文件｜指定行（顺序）\n",
    "<br>\n",
    "\n",
    "读取当前目录下 `某招聘网站数据.csv` 文件的 <font color = '#5F5FFC'>前20行</font>"
   ]
  },
  {
   "cell_type": "code",
   "execution_count": 21,
   "metadata": {},
   "outputs": [
    {
     "data": {
      "text/html": [
       "<div><div id=9169393d-5fca-4962-a2f6-a2e969f2207d style=\"display:none; background-color:#9D6CFF; color:white; width:200px; height:30px; padding-left:5px; border-radius:4px; flex-direction:row; justify-content:space-around; align-items:center;\" onmouseover=\"this.style.backgroundColor='#BA9BF8'\" onmouseout=\"this.style.backgroundColor='#9D6CFF'\" onclick=\"window.commands?.execute('create-mitosheet-from-dataframe-output');\">See Full Dataframe in Mito</div> <script> if (window.commands.hasCommand('create-mitosheet-from-dataframe-output')) document.getElementById('9169393d-5fca-4962-a2f6-a2e969f2207d').style.display = 'flex' </script> <table border=\"1\" class=\"dataframe\">\n",
       "  <thead>\n",
       "    <tr style=\"text-align: right;\">\n",
       "      <th></th>\n",
       "      <th>positionId</th>\n",
       "      <th>positionName</th>\n",
       "      <th>companyId</th>\n",
       "      <th>companySize</th>\n",
       "      <th>industryField</th>\n",
       "      <th>financeStage</th>\n",
       "      <th>companyLabelList</th>\n",
       "      <th>firstType</th>\n",
       "      <th>secondType</th>\n",
       "      <th>thirdType</th>\n",
       "      <th>...</th>\n",
       "      <th>plus</th>\n",
       "      <th>pcShow</th>\n",
       "      <th>appShow</th>\n",
       "      <th>deliver</th>\n",
       "      <th>gradeDescription</th>\n",
       "      <th>promotionScoreExplain</th>\n",
       "      <th>isHotHire</th>\n",
       "      <th>count</th>\n",
       "      <th>aggregatePositionIds</th>\n",
       "      <th>famousCompany</th>\n",
       "    </tr>\n",
       "  </thead>\n",
       "  <tbody>\n",
       "    <tr>\n",
       "      <th>0</th>\n",
       "      <td>6802721</td>\n",
       "      <td>数据分析</td>\n",
       "      <td>475770</td>\n",
       "      <td>50-150人</td>\n",
       "      <td>移动互联网,电商</td>\n",
       "      <td>A轮</td>\n",
       "      <td>['绩效奖金', '带薪年假', '定期体检', '弹性工作']</td>\n",
       "      <td>产品|需求|项目类</td>\n",
       "      <td>数据分析</td>\n",
       "      <td>数据分析</td>\n",
       "      <td>...</td>\n",
       "      <td>NaN</td>\n",
       "      <td>0</td>\n",
       "      <td>0</td>\n",
       "      <td>0</td>\n",
       "      <td>NaN</td>\n",
       "      <td>NaN</td>\n",
       "      <td>0</td>\n",
       "      <td>0</td>\n",
       "      <td>[]</td>\n",
       "      <td>False</td>\n",
       "    </tr>\n",
       "    <tr>\n",
       "      <th>1</th>\n",
       "      <td>5204912</td>\n",
       "      <td>数据建模</td>\n",
       "      <td>50735</td>\n",
       "      <td>150-500人</td>\n",
       "      <td>电商</td>\n",
       "      <td>B轮</td>\n",
       "      <td>['年终奖金', '做五休二', '六险一金', '子女福利']</td>\n",
       "      <td>开发|测试|运维类</td>\n",
       "      <td>数据开发</td>\n",
       "      <td>建模</td>\n",
       "      <td>...</td>\n",
       "      <td>NaN</td>\n",
       "      <td>0</td>\n",
       "      <td>0</td>\n",
       "      <td>0</td>\n",
       "      <td>NaN</td>\n",
       "      <td>NaN</td>\n",
       "      <td>0</td>\n",
       "      <td>0</td>\n",
       "      <td>[]</td>\n",
       "      <td>False</td>\n",
       "    </tr>\n",
       "    <tr>\n",
       "      <th>2</th>\n",
       "      <td>6877668</td>\n",
       "      <td>数据分析</td>\n",
       "      <td>100125</td>\n",
       "      <td>2000人以上</td>\n",
       "      <td>移动互联网,企业服务</td>\n",
       "      <td>上市公司</td>\n",
       "      <td>['节日礼物', '年底双薪', '股票期权', '带薪年假']</td>\n",
       "      <td>产品|需求|项目类</td>\n",
       "      <td>数据分析</td>\n",
       "      <td>数据分析</td>\n",
       "      <td>...</td>\n",
       "      <td>NaN</td>\n",
       "      <td>0</td>\n",
       "      <td>0</td>\n",
       "      <td>0</td>\n",
       "      <td>NaN</td>\n",
       "      <td>NaN</td>\n",
       "      <td>0</td>\n",
       "      <td>0</td>\n",
       "      <td>[]</td>\n",
       "      <td>False</td>\n",
       "    </tr>\n",
       "    <tr>\n",
       "      <th>3</th>\n",
       "      <td>6496141</td>\n",
       "      <td>数据分析</td>\n",
       "      <td>26564</td>\n",
       "      <td>500-2000人</td>\n",
       "      <td>电商</td>\n",
       "      <td>D轮及以上</td>\n",
       "      <td>['生日趴', '每月腐败基金', '每月补贴', '年度旅游']</td>\n",
       "      <td>开发|测试|运维类</td>\n",
       "      <td>数据开发</td>\n",
       "      <td>数据分析</td>\n",
       "      <td>...</td>\n",
       "      <td>NaN</td>\n",
       "      <td>0</td>\n",
       "      <td>0</td>\n",
       "      <td>0</td>\n",
       "      <td>NaN</td>\n",
       "      <td>NaN</td>\n",
       "      <td>0</td>\n",
       "      <td>0</td>\n",
       "      <td>[]</td>\n",
       "      <td>True</td>\n",
       "    </tr>\n",
       "    <tr>\n",
       "      <th>4</th>\n",
       "      <td>6467417</td>\n",
       "      <td>数据分析</td>\n",
       "      <td>29211</td>\n",
       "      <td>2000人以上</td>\n",
       "      <td>物流丨运输</td>\n",
       "      <td>上市公司</td>\n",
       "      <td>['技能培训', '免费班车', '专项奖金', '岗位晋升']</td>\n",
       "      <td>产品|需求|项目类</td>\n",
       "      <td>数据分析</td>\n",
       "      <td>数据分析</td>\n",
       "      <td>...</td>\n",
       "      <td>NaN</td>\n",
       "      <td>0</td>\n",
       "      <td>0</td>\n",
       "      <td>0</td>\n",
       "      <td>NaN</td>\n",
       "      <td>NaN</td>\n",
       "      <td>0</td>\n",
       "      <td>0</td>\n",
       "      <td>[]</td>\n",
       "      <td>True</td>\n",
       "    </tr>\n",
       "  </tbody>\n",
       "</table></div>"
      ],
      "text/plain": [
       "   positionId positionName  companyId companySize industryField financeStage  \\\n",
       "0     6802721         数据分析     475770     50-150人      移动互联网,电商           A轮   \n",
       "1     5204912         数据建模      50735    150-500人            电商           B轮   \n",
       "2     6877668         数据分析     100125     2000人以上    移动互联网,企业服务         上市公司   \n",
       "3     6496141         数据分析      26564   500-2000人            电商        D轮及以上   \n",
       "4     6467417         数据分析      29211     2000人以上         物流丨运输         上市公司   \n",
       "\n",
       "                    companyLabelList  firstType secondType thirdType  ...  \\\n",
       "0   ['绩效奖金', '带薪年假', '定期体检', '弹性工作']  产品|需求|项目类       数据分析      数据分析  ...   \n",
       "1   ['年终奖金', '做五休二', '六险一金', '子女福利']  开发|测试|运维类       数据开发        建模  ...   \n",
       "2   ['节日礼物', '年底双薪', '股票期权', '带薪年假']  产品|需求|项目类       数据分析      数据分析  ...   \n",
       "3  ['生日趴', '每月腐败基金', '每月补贴', '年度旅游']  开发|测试|运维类       数据开发      数据分析  ...   \n",
       "4   ['技能培训', '免费班车', '专项奖金', '岗位晋升']  产品|需求|项目类       数据分析      数据分析  ...   \n",
       "\n",
       "  plus pcShow appShow deliver gradeDescription promotionScoreExplain  \\\n",
       "0  NaN      0       0       0              NaN                   NaN   \n",
       "1  NaN      0       0       0              NaN                   NaN   \n",
       "2  NaN      0       0       0              NaN                   NaN   \n",
       "3  NaN      0       0       0              NaN                   NaN   \n",
       "4  NaN      0       0       0              NaN                   NaN   \n",
       "\n",
       "  isHotHire  count aggregatePositionIds famousCompany  \n",
       "0         0      0                   []         False  \n",
       "1         0      0                   []         False  \n",
       "2         0      0                   []         False  \n",
       "3         0      0                   []          True  \n",
       "4         0      0                   []          True  \n",
       "\n",
       "[5 rows x 52 columns]"
      ]
     },
     "execution_count": 21,
     "metadata": {},
     "output_type": "execute_result"
    }
   ],
   "source": [
    "df = pd.read_csv(\"./某招聘网站数据.csv\")\n",
    "df.head()"
   ]
  },
  {
   "cell_type": "markdown",
   "metadata": {},
   "source": [
    "###  4 读取 Excel 文件｜指定行（跳过）\n",
    "<br>\n",
    "\n",
    "读取当前目录下 `某招聘网站数据.csv` 文件并<font color = '#5F5FFC'>跳过前20行</font>"
   ]
  },
  {
   "cell_type": "code",
   "execution_count": 38,
   "metadata": {},
   "outputs": [
    {
     "data": {
      "text/html": [
       "<div><div id=e50de75a-410f-47b5-8c9a-eb647616049a style=\"display:none; background-color:#9D6CFF; color:white; width:200px; height:30px; padding-left:5px; border-radius:4px; flex-direction:row; justify-content:space-around; align-items:center;\" onmouseover=\"this.style.backgroundColor='#BA9BF8'\" onmouseout=\"this.style.backgroundColor='#9D6CFF'\" onclick=\"window.commands?.execute('create-mitosheet-from-dataframe-output');\">See Full Dataframe in Mito</div> <script> if (window.commands.hasCommand('create-mitosheet-from-dataframe-output')) document.getElementById('e50de75a-410f-47b5-8c9a-eb647616049a').style.display = 'flex' </script> <table border=\"1\" class=\"dataframe\">\n",
       "  <thead>\n",
       "    <tr style=\"text-align: right;\">\n",
       "      <th></th>\n",
       "      <th>positionId</th>\n",
       "      <th>positionName</th>\n",
       "      <th>companyId</th>\n",
       "      <th>companySize</th>\n",
       "      <th>industryField</th>\n",
       "      <th>financeStage</th>\n",
       "      <th>companyLabelList</th>\n",
       "      <th>firstType</th>\n",
       "      <th>secondType</th>\n",
       "      <th>thirdType</th>\n",
       "      <th>...</th>\n",
       "      <th>plus</th>\n",
       "      <th>pcShow</th>\n",
       "      <th>appShow</th>\n",
       "      <th>deliver</th>\n",
       "      <th>gradeDescription</th>\n",
       "      <th>promotionScoreExplain</th>\n",
       "      <th>isHotHire</th>\n",
       "      <th>count</th>\n",
       "      <th>aggregatePositionIds</th>\n",
       "      <th>famousCompany</th>\n",
       "    </tr>\n",
       "  </thead>\n",
       "  <tbody>\n",
       "    <tr>\n",
       "      <th>0</th>\n",
       "      <td>6829277</td>\n",
       "      <td>资深数据分析师</td>\n",
       "      <td>593</td>\n",
       "      <td>2000人以上</td>\n",
       "      <td>移动互联网,游戏</td>\n",
       "      <td>不需要融资</td>\n",
       "      <td>['五险一金', '交通补助', '绩效奖金', '节日礼物']</td>\n",
       "      <td>产品|需求|项目类</td>\n",
       "      <td>高端产品职位</td>\n",
       "      <td>数据分析专家</td>\n",
       "      <td>...</td>\n",
       "      <td>NaN</td>\n",
       "      <td>0</td>\n",
       "      <td>0</td>\n",
       "      <td>0</td>\n",
       "      <td>NaN</td>\n",
       "      <td>NaN</td>\n",
       "      <td>0</td>\n",
       "      <td>0</td>\n",
       "      <td>[]</td>\n",
       "      <td>True</td>\n",
       "    </tr>\n",
       "    <tr>\n",
       "      <th>1</th>\n",
       "      <td>6267370</td>\n",
       "      <td>数据分析专家</td>\n",
       "      <td>31544</td>\n",
       "      <td>150-500人</td>\n",
       "      <td>数据服务</td>\n",
       "      <td>不需要融资</td>\n",
       "      <td>['专业红娘牵线', '节日礼物', '技能培训', '岗位晋升']</td>\n",
       "      <td>开发|测试|运维类</td>\n",
       "      <td>数据开发</td>\n",
       "      <td>数据分析</td>\n",
       "      <td>...</td>\n",
       "      <td>NaN</td>\n",
       "      <td>0</td>\n",
       "      <td>0</td>\n",
       "      <td>0</td>\n",
       "      <td>NaN</td>\n",
       "      <td>NaN</td>\n",
       "      <td>0</td>\n",
       "      <td>0</td>\n",
       "      <td>[]</td>\n",
       "      <td>False</td>\n",
       "    </tr>\n",
       "    <tr>\n",
       "      <th>2</th>\n",
       "      <td>5927901</td>\n",
       "      <td>数据分析经理</td>\n",
       "      <td>62</td>\n",
       "      <td>2000人以上</td>\n",
       "      <td>文娱丨内容</td>\n",
       "      <td>C轮</td>\n",
       "      <td>['扁平管理', '弹性工作', '大厨定制三餐', '就近租房补贴']</td>\n",
       "      <td>产品|需求|项目类</td>\n",
       "      <td>产品经理</td>\n",
       "      <td>其他产品经理</td>\n",
       "      <td>...</td>\n",
       "      <td>NaN</td>\n",
       "      <td>0</td>\n",
       "      <td>0</td>\n",
       "      <td>0</td>\n",
       "      <td>NaN</td>\n",
       "      <td>NaN</td>\n",
       "      <td>0</td>\n",
       "      <td>0</td>\n",
       "      <td>[]</td>\n",
       "      <td>True</td>\n",
       "    </tr>\n",
       "    <tr>\n",
       "      <th>3</th>\n",
       "      <td>6862245</td>\n",
       "      <td>数据分析专家</td>\n",
       "      <td>473950</td>\n",
       "      <td>50-150人</td>\n",
       "      <td>移动互联网</td>\n",
       "      <td>未融资</td>\n",
       "      <td>[]</td>\n",
       "      <td>产品|需求|项目类</td>\n",
       "      <td>数据分析</td>\n",
       "      <td>数据分析</td>\n",
       "      <td>...</td>\n",
       "      <td>NaN</td>\n",
       "      <td>0</td>\n",
       "      <td>0</td>\n",
       "      <td>0</td>\n",
       "      <td>NaN</td>\n",
       "      <td>NaN</td>\n",
       "      <td>0</td>\n",
       "      <td>0</td>\n",
       "      <td>[]</td>\n",
       "      <td>False</td>\n",
       "    </tr>\n",
       "    <tr>\n",
       "      <th>4</th>\n",
       "      <td>5604926</td>\n",
       "      <td>数据分析师</td>\n",
       "      <td>143884</td>\n",
       "      <td>50-150人</td>\n",
       "      <td>移动互联网,金融</td>\n",
       "      <td>A轮</td>\n",
       "      <td>['股票期权', '带薪年假', '绩效奖金', '年底双薪']</td>\n",
       "      <td>开发|测试|运维类</td>\n",
       "      <td>数据开发</td>\n",
       "      <td>数据分析</td>\n",
       "      <td>...</td>\n",
       "      <td>NaN</td>\n",
       "      <td>0</td>\n",
       "      <td>0</td>\n",
       "      <td>0</td>\n",
       "      <td>NaN</td>\n",
       "      <td>NaN</td>\n",
       "      <td>0</td>\n",
       "      <td>0</td>\n",
       "      <td>[]</td>\n",
       "      <td>False</td>\n",
       "    </tr>\n",
       "  </tbody>\n",
       "</table></div>"
      ],
      "text/plain": [
       "   positionId positionName  companyId companySize industryField financeStage  \\\n",
       "0     6829277      资深数据分析师        593     2000人以上      移动互联网,游戏        不需要融资   \n",
       "1     6267370       数据分析专家      31544    150-500人          数据服务        不需要融资   \n",
       "2     5927901       数据分析经理         62     2000人以上         文娱丨内容           C轮   \n",
       "3     6862245       数据分析专家     473950     50-150人         移动互联网          未融资   \n",
       "4     5604926        数据分析师     143884     50-150人      移动互联网,金融           A轮   \n",
       "\n",
       "                       companyLabelList  firstType secondType thirdType  ...  \\\n",
       "0      ['五险一金', '交通补助', '绩效奖金', '节日礼物']  产品|需求|项目类     高端产品职位    数据分析专家  ...   \n",
       "1    ['专业红娘牵线', '节日礼物', '技能培训', '岗位晋升']  开发|测试|运维类       数据开发      数据分析  ...   \n",
       "2  ['扁平管理', '弹性工作', '大厨定制三餐', '就近租房补贴']  产品|需求|项目类       产品经理    其他产品经理  ...   \n",
       "3                                    []  产品|需求|项目类       数据分析      数据分析  ...   \n",
       "4      ['股票期权', '带薪年假', '绩效奖金', '年底双薪']  开发|测试|运维类       数据开发      数据分析  ...   \n",
       "\n",
       "  plus pcShow appShow deliver gradeDescription promotionScoreExplain  \\\n",
       "0  NaN      0       0       0              NaN                   NaN   \n",
       "1  NaN      0       0       0              NaN                   NaN   \n",
       "2  NaN      0       0       0              NaN                   NaN   \n",
       "3  NaN      0       0       0              NaN                   NaN   \n",
       "4  NaN      0       0       0              NaN                   NaN   \n",
       "\n",
       "  isHotHire  count aggregatePositionIds famousCompany  \n",
       "0         0      0                   []          True  \n",
       "1         0      0                   []         False  \n",
       "2         0      0                   []          True  \n",
       "3         0      0                   []         False  \n",
       "4         0      0                   []         False  \n",
       "\n",
       "[5 rows x 52 columns]"
      ]
     },
     "execution_count": 38,
     "metadata": {},
     "output_type": "execute_result"
    }
   ],
   "source": [
    "pd.read_csv(\"某招聘网站数据.csv\",skiprows=[i for i in range(1, 21)]).head()"
   ]
  },
  {
   "cell_type": "markdown",
   "metadata": {},
   "source": [
    "###  5 读取 Excel 文件｜指定行（条件）\n",
    "<br>\n",
    "\n",
    "读取当前目录下 `某招聘网站数据.csv` 文件中全部<font color = '#5F5FFC'>偶数行</font>\n",
    "\n",
    "思考：如果是读取全部奇数行，或者更多满足指定条件的行呢？"
   ]
  },
  {
   "cell_type": "code",
   "execution_count": 41,
   "metadata": {},
   "outputs": [
    {
     "name": "stdout",
     "output_type": "stream",
     "text": [
      "data = pd.read_csv('某招聘网站数据.csv', skiprows=lambda x: (x != 0) and not x % 2)\n",
      "\n",
      "# data = pd.read_csv('某招聘网站数据.csv', skiprows=lambda x: x % 2) 奇数行\n"
     ]
    }
   ],
   "source": [
    "ans(5)"
   ]
  },
  {
   "cell_type": "code",
   "execution_count": 43,
   "metadata": {},
   "outputs": [
    {
     "data": {
      "text/html": [
       "<div><div id=7b8ead21-b5ce-49c5-bc8f-532bd48091f3 style=\"display:none; background-color:#9D6CFF; color:white; width:200px; height:30px; padding-left:5px; border-radius:4px; flex-direction:row; justify-content:space-around; align-items:center;\" onmouseover=\"this.style.backgroundColor='#BA9BF8'\" onmouseout=\"this.style.backgroundColor='#9D6CFF'\" onclick=\"window.commands?.execute('create-mitosheet-from-dataframe-output');\">See Full Dataframe in Mito</div> <script> if (window.commands.hasCommand('create-mitosheet-from-dataframe-output')) document.getElementById('7b8ead21-b5ce-49c5-bc8f-532bd48091f3').style.display = 'flex' </script> <table border=\"1\" class=\"dataframe\">\n",
       "  <thead>\n",
       "    <tr style=\"text-align: right;\">\n",
       "      <th></th>\n",
       "      <th>positionId</th>\n",
       "      <th>positionName</th>\n",
       "      <th>companyId</th>\n",
       "      <th>companySize</th>\n",
       "      <th>industryField</th>\n",
       "      <th>financeStage</th>\n",
       "      <th>companyLabelList</th>\n",
       "      <th>firstType</th>\n",
       "      <th>secondType</th>\n",
       "      <th>thirdType</th>\n",
       "      <th>...</th>\n",
       "      <th>plus</th>\n",
       "      <th>pcShow</th>\n",
       "      <th>appShow</th>\n",
       "      <th>deliver</th>\n",
       "      <th>gradeDescription</th>\n",
       "      <th>promotionScoreExplain</th>\n",
       "      <th>isHotHire</th>\n",
       "      <th>count</th>\n",
       "      <th>aggregatePositionIds</th>\n",
       "      <th>famousCompany</th>\n",
       "    </tr>\n",
       "  </thead>\n",
       "  <tbody>\n",
       "    <tr>\n",
       "      <th>0</th>\n",
       "      <td>6802721</td>\n",
       "      <td>数据分析</td>\n",
       "      <td>475770</td>\n",
       "      <td>50-150人</td>\n",
       "      <td>移动互联网,电商</td>\n",
       "      <td>A轮</td>\n",
       "      <td>['绩效奖金', '带薪年假', '定期体检', '弹性工作']</td>\n",
       "      <td>产品|需求|项目类</td>\n",
       "      <td>数据分析</td>\n",
       "      <td>数据分析</td>\n",
       "      <td>...</td>\n",
       "      <td>NaN</td>\n",
       "      <td>0</td>\n",
       "      <td>0</td>\n",
       "      <td>0</td>\n",
       "      <td>NaN</td>\n",
       "      <td>NaN</td>\n",
       "      <td>0</td>\n",
       "      <td>0</td>\n",
       "      <td>[]</td>\n",
       "      <td>False</td>\n",
       "    </tr>\n",
       "    <tr>\n",
       "      <th>1</th>\n",
       "      <td>6877668</td>\n",
       "      <td>数据分析</td>\n",
       "      <td>100125</td>\n",
       "      <td>2000人以上</td>\n",
       "      <td>移动互联网,企业服务</td>\n",
       "      <td>上市公司</td>\n",
       "      <td>['节日礼物', '年底双薪', '股票期权', '带薪年假']</td>\n",
       "      <td>产品|需求|项目类</td>\n",
       "      <td>数据分析</td>\n",
       "      <td>数据分析</td>\n",
       "      <td>...</td>\n",
       "      <td>NaN</td>\n",
       "      <td>0</td>\n",
       "      <td>0</td>\n",
       "      <td>0</td>\n",
       "      <td>NaN</td>\n",
       "      <td>NaN</td>\n",
       "      <td>0</td>\n",
       "      <td>0</td>\n",
       "      <td>[]</td>\n",
       "      <td>False</td>\n",
       "    </tr>\n",
       "    <tr>\n",
       "      <th>2</th>\n",
       "      <td>6467417</td>\n",
       "      <td>数据分析</td>\n",
       "      <td>29211</td>\n",
       "      <td>2000人以上</td>\n",
       "      <td>物流丨运输</td>\n",
       "      <td>上市公司</td>\n",
       "      <td>['技能培训', '免费班车', '专项奖金', '岗位晋升']</td>\n",
       "      <td>产品|需求|项目类</td>\n",
       "      <td>数据分析</td>\n",
       "      <td>数据分析</td>\n",
       "      <td>...</td>\n",
       "      <td>NaN</td>\n",
       "      <td>0</td>\n",
       "      <td>0</td>\n",
       "      <td>0</td>\n",
       "      <td>NaN</td>\n",
       "      <td>NaN</td>\n",
       "      <td>0</td>\n",
       "      <td>0</td>\n",
       "      <td>[]</td>\n",
       "      <td>True</td>\n",
       "    </tr>\n",
       "    <tr>\n",
       "      <th>3</th>\n",
       "      <td>6841659</td>\n",
       "      <td>数据分析</td>\n",
       "      <td>348784</td>\n",
       "      <td>50-150人</td>\n",
       "      <td>移动互联网,电商</td>\n",
       "      <td>A轮</td>\n",
       "      <td>['大牛团队', '扁平管理', '年底双薪', '股票期权']</td>\n",
       "      <td>产品|需求|项目类</td>\n",
       "      <td>数据分析</td>\n",
       "      <td>数据分析</td>\n",
       "      <td>...</td>\n",
       "      <td>NaN</td>\n",
       "      <td>0</td>\n",
       "      <td>0</td>\n",
       "      <td>0</td>\n",
       "      <td>NaN</td>\n",
       "      <td>NaN</td>\n",
       "      <td>0</td>\n",
       "      <td>0</td>\n",
       "      <td>[]</td>\n",
       "      <td>False</td>\n",
       "    </tr>\n",
       "    <tr>\n",
       "      <th>4</th>\n",
       "      <td>6458372</td>\n",
       "      <td>数据分析专家</td>\n",
       "      <td>34132</td>\n",
       "      <td>150-500人</td>\n",
       "      <td>数据服务,广告营销</td>\n",
       "      <td>A轮</td>\n",
       "      <td>['开放式办公', '扁平管理', '带薪假期', '弹性工作时间']</td>\n",
       "      <td>产品|需求|项目类</td>\n",
       "      <td>数据分析</td>\n",
       "      <td>其他数据分析</td>\n",
       "      <td>...</td>\n",
       "      <td>NaN</td>\n",
       "      <td>0</td>\n",
       "      <td>0</td>\n",
       "      <td>0</td>\n",
       "      <td>NaN</td>\n",
       "      <td>NaN</td>\n",
       "      <td>0</td>\n",
       "      <td>0</td>\n",
       "      <td>[]</td>\n",
       "      <td>False</td>\n",
       "    </tr>\n",
       "    <tr>\n",
       "      <th>...</th>\n",
       "      <td>...</td>\n",
       "      <td>...</td>\n",
       "      <td>...</td>\n",
       "      <td>...</td>\n",
       "      <td>...</td>\n",
       "      <td>...</td>\n",
       "      <td>...</td>\n",
       "      <td>...</td>\n",
       "      <td>...</td>\n",
       "      <td>...</td>\n",
       "      <td>...</td>\n",
       "      <td>...</td>\n",
       "      <td>...</td>\n",
       "      <td>...</td>\n",
       "      <td>...</td>\n",
       "      <td>...</td>\n",
       "      <td>...</td>\n",
       "      <td>...</td>\n",
       "      <td>...</td>\n",
       "      <td>...</td>\n",
       "      <td>...</td>\n",
       "    </tr>\n",
       "    <tr>\n",
       "      <th>48</th>\n",
       "      <td>6767669</td>\n",
       "      <td>数据分析专员</td>\n",
       "      <td>92417</td>\n",
       "      <td>2000人以上</td>\n",
       "      <td>移动互联网,广告营销</td>\n",
       "      <td>上市公司</td>\n",
       "      <td>['节日礼物', '股票期权', '带薪年假', '岗位晋升']</td>\n",
       "      <td>产品|需求|项目类</td>\n",
       "      <td>数据分析</td>\n",
       "      <td>数据分析</td>\n",
       "      <td>...</td>\n",
       "      <td>NaN</td>\n",
       "      <td>0</td>\n",
       "      <td>0</td>\n",
       "      <td>0</td>\n",
       "      <td>NaN</td>\n",
       "      <td>NaN</td>\n",
       "      <td>0</td>\n",
       "      <td>0</td>\n",
       "      <td>[]</td>\n",
       "      <td>False</td>\n",
       "    </tr>\n",
       "    <tr>\n",
       "      <th>49</th>\n",
       "      <td>6655562</td>\n",
       "      <td>数据分析建模工程师</td>\n",
       "      <td>117422215</td>\n",
       "      <td>50-150人</td>\n",
       "      <td>数据服务,信息安全</td>\n",
       "      <td>A轮</td>\n",
       "      <td>['午餐补助', '带薪年假', '16到18薪', '法定节假日']</td>\n",
       "      <td>开发|测试|运维类</td>\n",
       "      <td>人工智能</td>\n",
       "      <td>机器学习</td>\n",
       "      <td>...</td>\n",
       "      <td>NaN</td>\n",
       "      <td>0</td>\n",
       "      <td>0</td>\n",
       "      <td>0</td>\n",
       "      <td>NaN</td>\n",
       "      <td>NaN</td>\n",
       "      <td>0</td>\n",
       "      <td>0</td>\n",
       "      <td>[]</td>\n",
       "      <td>False</td>\n",
       "    </tr>\n",
       "    <tr>\n",
       "      <th>50</th>\n",
       "      <td>6884346</td>\n",
       "      <td>数据分析师</td>\n",
       "      <td>21236</td>\n",
       "      <td>500-2000人</td>\n",
       "      <td>移动互联网,医疗丨健康</td>\n",
       "      <td>C轮</td>\n",
       "      <td>['技能培训', '年底双薪', '节日礼物', '绩效奖金']</td>\n",
       "      <td>产品|需求|项目类</td>\n",
       "      <td>数据分析</td>\n",
       "      <td>数据分析</td>\n",
       "      <td>...</td>\n",
       "      <td>NaN</td>\n",
       "      <td>0</td>\n",
       "      <td>0</td>\n",
       "      <td>0</td>\n",
       "      <td>NaN</td>\n",
       "      <td>NaN</td>\n",
       "      <td>0</td>\n",
       "      <td>0</td>\n",
       "      <td>[]</td>\n",
       "      <td>False</td>\n",
       "    </tr>\n",
       "    <tr>\n",
       "      <th>51</th>\n",
       "      <td>6803432</td>\n",
       "      <td>奔驰·耀出行-BI数据分析专家</td>\n",
       "      <td>751158</td>\n",
       "      <td>150-500人</td>\n",
       "      <td>移动互联网</td>\n",
       "      <td>不需要融资</td>\n",
       "      <td>[]</td>\n",
       "      <td>开发|测试|运维类</td>\n",
       "      <td>数据开发</td>\n",
       "      <td>数据分析</td>\n",
       "      <td>...</td>\n",
       "      <td>NaN</td>\n",
       "      <td>0</td>\n",
       "      <td>0</td>\n",
       "      <td>0</td>\n",
       "      <td>NaN</td>\n",
       "      <td>NaN</td>\n",
       "      <td>0</td>\n",
       "      <td>0</td>\n",
       "      <td>[]</td>\n",
       "      <td>False</td>\n",
       "    </tr>\n",
       "    <tr>\n",
       "      <th>52</th>\n",
       "      <td>6728058</td>\n",
       "      <td>数据分析专家-LQ(J181203029)</td>\n",
       "      <td>2474</td>\n",
       "      <td>2000人以上</td>\n",
       "      <td>汽车丨出行</td>\n",
       "      <td>不需要融资</td>\n",
       "      <td>['弹性工作', '节日礼物', '岗位晋升', '技能培训']</td>\n",
       "      <td>产品|需求|项目类</td>\n",
       "      <td>数据分析</td>\n",
       "      <td>其他数据分析</td>\n",
       "      <td>...</td>\n",
       "      <td>NaN</td>\n",
       "      <td>0</td>\n",
       "      <td>0</td>\n",
       "      <td>0</td>\n",
       "      <td>NaN</td>\n",
       "      <td>NaN</td>\n",
       "      <td>0</td>\n",
       "      <td>0</td>\n",
       "      <td>[]</td>\n",
       "      <td>True</td>\n",
       "    </tr>\n",
       "  </tbody>\n",
       "</table></div>"
      ],
      "text/plain": [
       "    positionId             positionName  companyId companySize industryField  \\\n",
       "0      6802721                     数据分析     475770     50-150人      移动互联网,电商   \n",
       "1      6877668                     数据分析     100125     2000人以上    移动互联网,企业服务   \n",
       "2      6467417                     数据分析      29211     2000人以上         物流丨运输   \n",
       "3      6841659                     数据分析     348784     50-150人      移动互联网,电商   \n",
       "4      6458372                   数据分析专家      34132    150-500人     数据服务,广告营销   \n",
       "5      6804629                    数据分析师      34132    150-500人     数据服务,广告营销   \n",
       "6      6763962                  数据分析工程师      13163   500-2000人         移动互联网   \n",
       "7      6657285                    数据分析师       7461     2000人以上          企业服务   \n",
       "8      6486988              资深数据分析师（杭州）       7461     2000人以上          企业服务   \n",
       "9      5559894          数据建模专家-杭州-01546       6502   500-2000人     信息安全,数据服务   \n",
       "10     6829277                  资深数据分析师        593     2000人以上      移动互联网,游戏   \n",
       "11     5927901                   数据分析经理         62     2000人以上         文娱丨内容   \n",
       "12     5604926                    数据分析师     143884     50-150人      移动互联网,金融   \n",
       "13     6850849                   数据分析专家     255742    150-500人         金融,电商   \n",
       "14     6657704                    数据分析师     165220    150-500人            社交   \n",
       "15     6234992                    数据分析师        542   500-2000人          消费生活   \n",
       "16     6804489                  资深数据分析师      34132    150-500人     数据服务,广告营销   \n",
       "17     6228290                  商业数据分析师     509360     50-150人    移动互联网,企业服务   \n",
       "18     6886661                  浙江数据分析师     321001    150-500人       金融,数据服务   \n",
       "19     6601086                    数据分析师      21187    150-500人    企业服务,移动互联网   \n",
       "20     6791055                  高级数据分析师     432882    150-500人         移动互联网   \n",
       "21     6344146                  资深数据分析师     522865    150-500人            游戏   \n",
       "22     6653757                  银行数据分析岗      23403     2000人以上          企业服务   \n",
       "23     6228290                  商业数据分析师     509360     50-150人    移动互联网,企业服务   \n",
       "24     6067812                   数据分析专员      98316     2000人以上       电商,消费生活   \n",
       "25     6680900         数据分析师 (MJ000250)     114335    150-500人          数据服务   \n",
       "26     6486069             解决方案顾问/数据分析师     166666    150-500人     企业服务,数据服务   \n",
       "27     6046775                   数据分析专家     133429     50-150人    移动互联网,消费生活   \n",
       "28     6037742       资深数据分析师 (MJ000088)     127233    150-500人          电子商务   \n",
       "29     5921220                  财务数据分析师     137388    150-500人      移动互联网,电商   \n",
       "30     5978750        数据分析师（保险）13-01-19      18655     2000人以上         汽车丨出行   \n",
       "31     6191993          数据分析专家03-10-217      18655     2000人以上         汽车丨出行   \n",
       "32     6789831                  数据分析实习生     306282    150-500人    移动互联网,数据服务   \n",
       "33     6848382      资深数据分析师（商品方向）G01053     179243   500-2000人      电商,移动互联网   \n",
       "34     6829736         数据分析负责人 or 数据分析师     205347     2000人以上         金融,电商   \n",
       "35     6728610                 高级数据分析专员      98316     2000人以上       电商,消费生活   \n",
       "36     6794326                  BI数据分析师     374014   500-2000人      移动互联网,金融   \n",
       "37     6837340             数据分析-2020届春招     205347     2000人以上         金融,电商   \n",
       "38     6896403             智能数据分析引擎研发专家     285786     2000人以上            电商   \n",
       "39     5683671       数据分析实习生 (MJ000087)     114335    150-500人          数据服务   \n",
       "40     6310387                 业务与数据分析师      93448    150-500人     人工智能,数据服务   \n",
       "41     6820395  产品经理/数据分析（核心业务）-2020届春招     205347     2000人以上         金融,电商   \n",
       "42     6747553                  资深数据分析师     581460     2000人以上      电商,汽车丨出行   \n",
       "43     6496980               数据分析师-Lark         62     2000人以上         文娱丨内容   \n",
       "44     6597345                  资深数据分析师      57350   500-2000人         移动互联网   \n",
       "45     6456921                   数据分析专家     738016     50-150人       电商,数据服务   \n",
       "46     6813626                 资深数据分析专员     165939    150-500人          数据服务   \n",
       "47     6818950                  资深数据分析师     165939    150-500人          数据服务   \n",
       "48     6767669                   数据分析专员      92417     2000人以上    移动互联网,广告营销   \n",
       "49     6655562                数据分析建模工程师  117422215     50-150人     数据服务,信息安全   \n",
       "50     6884346                    数据分析师      21236   500-2000人   移动互联网,医疗丨健康   \n",
       "51     6803432          奔驰·耀出行-BI数据分析专家     751158    150-500人         移动互联网   \n",
       "52     6728058    数据分析专家-LQ(J181203029)       2474     2000人以上         汽车丨出行   \n",
       "\n",
       "   financeStage                      companyLabelList  firstType secondType  \\\n",
       "0            A轮      ['绩效奖金', '带薪年假', '定期体检', '弹性工作']  产品|需求|项目类       数据分析   \n",
       "1          上市公司      ['节日礼物', '年底双薪', '股票期权', '带薪年假']  产品|需求|项目类       数据分析   \n",
       "2          上市公司      ['技能培训', '免费班车', '专项奖金', '岗位晋升']  产品|需求|项目类       数据分析   \n",
       "3            A轮      ['大牛团队', '扁平管理', '年底双薪', '股票期权']  产品|需求|项目类       数据分析   \n",
       "4            A轮   ['开放式办公', '扁平管理', '带薪假期', '弹性工作时间']  产品|需求|项目类       数据分析   \n",
       "5            A轮   ['开放式办公', '扁平管理', '带薪假期', '弹性工作时间']  产品|需求|项目类       数据分析   \n",
       "6          上市公司      ['绩效奖金', '股票期权', '年底双薪', '专项奖金']  开发|测试|运维类       数据开发   \n",
       "7          上市公司    ['工程师氛围', '弹性工作', '扁平管理', '上班不打卡']  产品|需求|项目类       数据分析   \n",
       "8          上市公司    ['工程师氛围', '弹性工作', '扁平管理', '上班不打卡']  开发|测试|运维类       数据开发   \n",
       "9         D轮及以上      ['技能培训', '股票期权', '绩效奖金', '岗位晋升']  开发|测试|运维类       数据开发   \n",
       "10        不需要融资      ['五险一金', '交通补助', '绩效奖金', '节日礼物']  产品|需求|项目类     高端产品职位   \n",
       "11           C轮  ['扁平管理', '弹性工作', '大厨定制三餐', '就近租房补贴']  产品|需求|项目类       产品经理   \n",
       "12           A轮      ['股票期权', '带薪年假', '绩效奖金', '年底双薪']  开发|测试|运维类       数据开发   \n",
       "13           C轮   ['持牌金融机构', '跨境支付', '跨境金融', '国际化团队']  开发|测试|运维类       数据开发   \n",
       "14        不需要融资      ['绩效奖金', '带薪年假', '交通补助', '午餐补助']  产品|需求|项目类       数据分析   \n",
       "15        D轮及以上      ['六险一金', '快乐高效文化', '绩效奖金', '信任']  产品|需求|项目类       数据分析   \n",
       "16           A轮   ['开放式办公', '扁平管理', '带薪假期', '弹性工作时间']  开发|测试|运维类       数据开发   \n",
       "17           B轮         ['定期体检', '帅哥多', '领导好', '美女多']     市场|商务类      市场|营销   \n",
       "18        D轮及以上      ['年底双薪', '午餐补助', '年终分红', '绩效奖金']  开发|测试|运维类       数据开发   \n",
       "19          天使轮       ['带薪年假', '年轻团队', '股票期权', '下午茶']  产品|需求|项目类       数据分析   \n",
       "20        不需要融资    ['技术大牛', '领导nice', '帅哥美女', '环境超棒']  产品|需求|项目类       数据分析   \n",
       "21        不需要融资      ['年底双薪', '专项奖金', '提供三餐', '便捷班车']  开发|测试|运维类       数据开发   \n",
       "22         上市公司      ['五险一金', '通讯津贴', '带薪年假', '定期体检']  开发|测试|运维类       数据开发   \n",
       "23           B轮         ['定期体检', '帅哥多', '领导好', '美女多']     市场|商务类      市场|营销   \n",
       "24         上市公司      ['午餐补助', '带薪年假', '定期体检', '年度旅游']  产品|需求|项目类       数据分析   \n",
       "25           B轮       ['股票期权', '弹性工作', '领导好', '五险一金']  产品|需求|项目类       产品经理   \n",
       "26           B轮      ['股票期权', '绩效奖金', '带薪年假', '弹性工作']  产品|需求|项目类       数据分析   \n",
       "27          未融资       ['年底双薪', '专项奖金', '美女多', '弹性工作']  产品|需求|项目类     高端产品职位   \n",
       "28        不需要融资      ['带薪年假', '绩效奖金', '定期体检', '弹性工作']  开发|测试|运维类       数据开发   \n",
       "29        不需要融资      ['年终分红', '绩效奖金', '定期体检', '年底双薪']  综合职能|高级管理         财务   \n",
       "30        D轮及以上        ['技能培训', 'Geek', '开放', '扁平管理']  开发|测试|运维类       数据开发   \n",
       "31        D轮及以上        ['技能培训', 'Geek', '开放', '扁平管理']  开发|测试|运维类       数据开发   \n",
       "32          未融资      ['弹性工作', '技能培训', '岗位晋升', '五险一金']  开发|测试|运维类       数据开发   \n",
       "33         上市公司      ['绩效奖金', '股票期权', '五险一金', '午餐补助']  产品|需求|项目类       数据分析   \n",
       "34         上市公司       ['带薪年假', '定期体检', '免费班车', '领导好']  开发|测试|运维类       数据开发   \n",
       "35         上市公司      ['午餐补助', '带薪年假', '定期体检', '年度旅游']     市场|商务类      市场|营销   \n",
       "36           B轮       ['弹性工作', '扁平管理', '领导好', '五险一金']  产品|需求|项目类       数据分析   \n",
       "37         上市公司       ['带薪年假', '定期体检', '免费班车', '领导好']  产品|需求|项目类       数据分析   \n",
       "38         上市公司      ['年底双薪', '带薪年假', '午餐补助', '弹性工作']  开发|测试|运维类       后端开发   \n",
       "39           B轮       ['股票期权', '弹性工作', '领导好', '五险一金']  开发|测试|运维类       后端开发   \n",
       "40           B轮      ['技能培训', '股票期权', '带薪年假', '绩效奖金']  产品|需求|项目类       数据分析   \n",
       "41         上市公司       ['带薪年假', '定期体检', '免费班车', '领导好']  产品|需求|项目类       产品经理   \n",
       "42        D轮及以上       ['阿里合资', '六险一金', '独角兽', '行业先驱']     市场|商务类      市场|营销   \n",
       "43           C轮  ['扁平管理', '弹性工作', '大厨定制三餐', '就近租房补贴']  产品|需求|项目类       数据分析   \n",
       "44           A轮      ['岗位晋升', '年度旅游', '年底双薪', '午餐补助']  产品|需求|项目类       数据分析   \n",
       "45          未融资                                    []  开发|测试|运维类       数据开发   \n",
       "46        不需要融资      ['年底双薪', '带薪年假', '午餐补助', '定期体检']  开发|测试|运维类       数据开发   \n",
       "47        不需要融资      ['年底双薪', '带薪年假', '午餐补助', '定期体检']  开发|测试|运维类       数据开发   \n",
       "48         上市公司      ['节日礼物', '股票期权', '带薪年假', '岗位晋升']  产品|需求|项目类       数据分析   \n",
       "49           A轮   ['午餐补助', '带薪年假', '16到18薪', '法定节假日']  开发|测试|运维类       人工智能   \n",
       "50           C轮      ['技能培训', '年底双薪', '节日礼物', '绩效奖金']  产品|需求|项目类       数据分析   \n",
       "51        不需要融资                                    []  开发|测试|运维类       数据开发   \n",
       "52        不需要融资      ['弹性工作', '节日礼物', '岗位晋升', '技能培训']  产品|需求|项目类       数据分析   \n",
       "\n",
       "   thirdType  ... plus pcShow appShow deliver gradeDescription  \\\n",
       "0       数据分析  ...  NaN      0       0       0              NaN   \n",
       "1       数据分析  ...  NaN      0       0       0              NaN   \n",
       "2       数据分析  ...  NaN      0       0       0              NaN   \n",
       "3       数据分析  ...  NaN      0       0       0              NaN   \n",
       "4     其他数据分析  ...  NaN      0       0       0              NaN   \n",
       "5       数据分析  ...  NaN      0       0       0              NaN   \n",
       "6       数据分析  ...  NaN      0       0       0              NaN   \n",
       "7       数据分析  ...  NaN      0       0       0              NaN   \n",
       "8       数据分析  ...  NaN      0       0       0              NaN   \n",
       "9         建模  ...  NaN      0       0       0              NaN   \n",
       "10    数据分析专家  ...  NaN      0       0       0              NaN   \n",
       "11    其他产品经理  ...  NaN      0       0       0              NaN   \n",
       "12      数据分析  ...  NaN      0       0       0              NaN   \n",
       "13      数据分析  ...  NaN      0       0       0              NaN   \n",
       "14      数据分析  ...  NaN      0       0       0              NaN   \n",
       "15      数据分析  ...  NaN      0       0       0              NaN   \n",
       "16      数据分析  ...  NaN      0       0       0              NaN   \n",
       "17    商业数据分析  ...  NaN      0       0       0              NaN   \n",
       "18      数据分析  ...  NaN      0       0       0              NaN   \n",
       "19      数据分析  ...  NaN      0       0       0              NaN   \n",
       "20      数据分析  ...  NaN      0       0       0              NaN   \n",
       "21      数据分析  ...  NaN      0       0       0              NaN   \n",
       "22      数据分析  ...  NaN      0       0       0              NaN   \n",
       "23    商业数据分析  ...  NaN      0       0       0              NaN   \n",
       "24      数据分析  ...  NaN      0       0       0              NaN   \n",
       "25     数据分析师  ...  NaN      0       0       0              NaN   \n",
       "26      数据分析  ...  NaN      0       0       0              NaN   \n",
       "27    数据分析专家  ...  NaN      0       0       0              NaN   \n",
       "28      数据分析  ...  NaN      0       0       0              NaN   \n",
       "29      财务风控  ...  NaN      0       0       0              NaN   \n",
       "30      数据分析  ...  NaN      0       0       0              NaN   \n",
       "31      数据分析  ...  NaN      0       0       0              NaN   \n",
       "32      数据分析  ...  NaN      0       0       0              NaN   \n",
       "33      数据分析  ...  NaN      0       0       0              NaN   \n",
       "34      数据分析  ...  NaN      0       0       0              NaN   \n",
       "35    商业数据分析  ...  NaN      0       0       0              NaN   \n",
       "36        BI  ...  NaN      0       0       0              NaN   \n",
       "37      数据分析  ...  NaN      0       0       0              NaN   \n",
       "38      Java  ...  NaN      0       0       0              NaN   \n",
       "39      数据采集  ...  NaN      0       0       0              NaN   \n",
       "40      数据分析  ...  NaN      0       0       0              NaN   \n",
       "41      产品经理  ...  NaN      0       0       0              NaN   \n",
       "42    商业数据分析  ...  NaN      0       0       0              NaN   \n",
       "43    其他数据分析  ...  NaN      0       0       0              NaN   \n",
       "44      数据分析  ...  NaN      0       0       0              NaN   \n",
       "45      数据分析  ...  NaN      0       0       0              NaN   \n",
       "46      数据分析  ...  NaN      0       0       0              NaN   \n",
       "47      数据分析  ...  NaN      0       0       0              NaN   \n",
       "48      数据分析  ...  NaN      0       0       0              NaN   \n",
       "49      机器学习  ...  NaN      0       0       0              NaN   \n",
       "50      数据分析  ...  NaN      0       0       0              NaN   \n",
       "51      数据分析  ...  NaN      0       0       0              NaN   \n",
       "52    其他数据分析  ...  NaN      0       0       0              NaN   \n",
       "\n",
       "   promotionScoreExplain isHotHire  count aggregatePositionIds famousCompany  \n",
       "0                    NaN         0      0                   []         False  \n",
       "1                    NaN         0      0                   []         False  \n",
       "2                    NaN         0      0                   []          True  \n",
       "3                    NaN         0      0                   []         False  \n",
       "4                    NaN         0      0                   []         False  \n",
       "5                    NaN         0      0                   []         False  \n",
       "6                    NaN         0      0                   []          True  \n",
       "7                    NaN         0      0                   []          True  \n",
       "8                    NaN         0      0                   []          True  \n",
       "9                    NaN         0      0                   []         False  \n",
       "10                   NaN         0      0                   []          True  \n",
       "11                   NaN         0      0                   []          True  \n",
       "12                   NaN         0      0                   []         False  \n",
       "13                   NaN         0      0                   []         False  \n",
       "14                   NaN         0      0                   []         False  \n",
       "15                   NaN         0      0                   []          True  \n",
       "16                   NaN         0      0                   []         False  \n",
       "17                   NaN         0      0                   []         False  \n",
       "18                   NaN         0      0                   []         False  \n",
       "19                   NaN         0      0                   []         False  \n",
       "20                   NaN         0      0                   []         False  \n",
       "21                   NaN         0      0                   []         False  \n",
       "22                   NaN         0      0                   []         False  \n",
       "23                   NaN         0      0                   []         False  \n",
       "24                   NaN         0      0                   []         False  \n",
       "25                   NaN         0      0                   []         False  \n",
       "26                   NaN         0      0                   []         False  \n",
       "27                   NaN         0      0                   []         False  \n",
       "28                   NaN         0      0                   []         False  \n",
       "29                   NaN         0      0                   []         False  \n",
       "30                   NaN         0      0                   []          True  \n",
       "31                   NaN         0      0                   []          True  \n",
       "32                   NaN         0      0                   []         False  \n",
       "33                   NaN         0      0                   []          True  \n",
       "34                   NaN         0      0                   []          True  \n",
       "35                   NaN         0      0                   []         False  \n",
       "36                   NaN         0      0                   []         False  \n",
       "37                   NaN         0      0                   []          True  \n",
       "38                   NaN         0      0                   []          True  \n",
       "39                   NaN         0      0                   []         False  \n",
       "40                   NaN         0      0                   []         False  \n",
       "41                   NaN         0      0                   []          True  \n",
       "42                   NaN         0      0                   []         False  \n",
       "43                   NaN         0      0                   []          True  \n",
       "44                   NaN         0      0                   []         False  \n",
       "45                   NaN         0      0                   []         False  \n",
       "46                   NaN         0      0                   []         False  \n",
       "47                   NaN         0      0                   []         False  \n",
       "48                   NaN         0      0                   []         False  \n",
       "49                   NaN         0      0                   []         False  \n",
       "50                   NaN         0      0                   []         False  \n",
       "51                   NaN         0      0                   []         False  \n",
       "52                   NaN         0      0                   []          True  \n",
       "\n",
       "[53 rows x 52 columns]"
      ]
     },
     "execution_count": 43,
     "metadata": {},
     "output_type": "execute_result"
    }
   ],
   "source": [
    "pd.read_csv(\"./某招聘网站数据.csv\", skiprows=lambda x: (x!=0) and not x%2)"
   ]
  },
  {
   "cell_type": "markdown",
   "metadata": {},
   "source": [
    "![公众号：早起Python](http://liuzaoqi.oss-cn-beijing.aliyuncs.com/2021/09/18/16319660121648.jpg?域名/sample.jpg?x-oss-process=style/stylename)"
   ]
  },
  {
   "cell_type": "markdown",
   "metadata": {},
   "source": [
    "### 6 读取 Excel 文件｜指定列（列号）\n",
    "\n",
    "<br>\n",
    "\n",
    "**根据指定列号读取**\n",
    "\n",
    "读取当前目录下 `某招聘网站数据.csv` 文件的第 `1、3、5` 列"
   ]
  },
  {
   "cell_type": "code",
   "execution_count": 7,
   "metadata": {},
   "outputs": [],
   "source": []
  },
  {
   "cell_type": "markdown",
   "metadata": {},
   "source": [
    "###  7 读取 Excel 文件｜指定列（列名）\n",
    "\n",
    "<br>\n",
    "\n",
    "**根据指定列名读取**\n",
    "\n",
    "读取当前目录下 `某招聘网站数据.csv` 文件的 `positionId、positionName、salary` 列"
   ]
  },
  {
   "cell_type": "code",
   "execution_count": 11,
   "metadata": {},
   "outputs": [],
   "source": []
  },
  {
   "cell_type": "markdown",
   "metadata": {},
   "source": [
    "###  8 读取 Excel 文件｜指定列（匹配）\n",
    "\n",
    "<br>\n",
    "\n",
    "**根据指定列名匹配读取**\n",
    "\n",
    "让我们来个更难一点的，还是读取 `某招聘网站数据.csv` 文件，但现在有一个 list 中包含多个字段👇\n",
    "\n",
    "`usecols = ['positionId','test','positionName', 'test1','salary']`\n",
    "\n",
    "如果 `usecols` 中的列名存在于 `某招聘网站数据.csv` 中，则读取。"
   ]
  },
  {
   "cell_type": "code",
   "execution_count": 34,
   "metadata": {},
   "outputs": [],
   "source": []
  },
  {
   "cell_type": "markdown",
   "metadata": {},
   "source": [
    "### 9 读取 Excel 文件｜指定索引\n",
    "\n",
    "<br>\n",
    "\n",
    "读取当前目录下 `某招聘网站数据.csv` 文件，并在读取时将 `positionId` 设置为索引列"
   ]
  },
  {
   "cell_type": "code",
   "execution_count": 17,
   "metadata": {},
   "outputs": [],
   "source": []
  },
  {
   "cell_type": "markdown",
   "metadata": {},
   "source": [
    "###  10 读取 Excel 文件｜指定标题\n",
    "\n",
    "<br>\n",
    "\n",
    "\n",
    "读取当前目录下 `某招聘网站数据.csv` 文件的 `positionId、positionName、salary` 列，并将标题设置为 `ID、岗位名称、薪资`"
   ]
  },
  {
   "cell_type": "code",
   "execution_count": 41,
   "metadata": {},
   "outputs": [],
   "source": []
  },
  {
   "cell_type": "markdown",
   "metadata": {},
   "source": [
    "微信搜索公众号「早起Python」，关注后可以获得更多资源！"
   ]
  },
  {
   "cell_type": "code",
   "execution_count": null,
   "metadata": {},
   "outputs": [],
   "source": []
  },
  {
   "cell_type": "markdown",
   "metadata": {},
   "source": [
    "###  11 读取 Excel 文件｜缺失值转换\n",
    "\n",
    "<br>\n",
    "\n",
    "\n",
    "读取当前目录下 `某招聘网站数据.csv` 文件，**并不将缺失值标记为 `NA`**\n",
    "\n",
    "思考：为什么要这样做？"
   ]
  },
  {
   "cell_type": "code",
   "execution_count": 45,
   "metadata": {},
   "outputs": [],
   "source": []
  },
  {
   "cell_type": "markdown",
   "metadata": {},
   "source": [
    "###  12 读取 Excel 文件｜缺失值标记\n",
    "\n",
    "<br>\n",
    "\n",
    "\n",
    "读取当前目录下 `某招聘网站数据.csv` 文件，**并将`[]`标记为缺失值**\n"
   ]
  },
  {
   "cell_type": "code",
   "execution_count": 36,
   "metadata": {},
   "outputs": [],
   "source": []
  },
  {
   "cell_type": "markdown",
   "metadata": {},
   "source": [
    "### 13 读取 Excel 文件｜忽略缺失值\n",
    "\n",
    "<br>\n",
    "\n",
    "读取当前目录下 `某招聘网站数据.csv` 文件，**但不处理缺失值**\n",
    "\n",
    "思考：和之前的有什么不同，为什么这么做？"
   ]
  },
  {
   "cell_type": "code",
   "execution_count": 33,
   "metadata": {},
   "outputs": [],
   "source": []
  },
  {
   "cell_type": "markdown",
   "metadata": {},
   "source": [
    "### 14 读取 Excel 文件｜指定格式\n",
    "\n",
    "<br>\n",
    "\n",
    "读取当前目录下 `某招聘网站数据.csv` 文件，并将 `positionId,companyId` 设置为字符串格式"
   ]
  },
  {
   "cell_type": "code",
   "execution_count": 47,
   "metadata": {},
   "outputs": [],
   "source": []
  },
  {
   "cell_type": "markdown",
   "metadata": {},
   "source": [
    "### 15 读取 Excel 文件｜指定格式（时间）\n",
    "\n",
    "<br>\n",
    "\n",
    "读取当前目录下 `某招聘网站数据.csv` 文件，并将 `createTime` 列设置为字符串格式"
   ]
  },
  {
   "cell_type": "code",
   "execution_count": 49,
   "metadata": {},
   "outputs": [],
   "source": []
  },
  {
   "cell_type": "markdown",
   "metadata": {},
   "source": [
    "### 16 读取 Excel 文件｜分块读取\n",
    "\n",
    "\n",
    "<br>\n",
    "\n",
    "读取当前目录下 `某招聘网站数据.csv` 文件，要求返回一个可迭代对象，每次读取 10 行\n",
    "\n",
    "思考：为什么这样做？"
   ]
  },
  {
   "cell_type": "code",
   "execution_count": 58,
   "metadata": {},
   "outputs": [],
   "source": []
  },
  {
   "cell_type": "markdown",
   "metadata": {},
   "source": [
    "### 17 读取 txt 文件｜常规\n",
    "\n",
    "<br>\n",
    "\n",
    "读取当前目录下 `Titanic.txt` 文件。\n",
    "\n",
    "注意：在接下来的几种格式文件读取中，对于之前重复的参数/功能将不再整理，仅介绍读取功能。"
   ]
  },
  {
   "cell_type": "code",
   "execution_count": 83,
   "metadata": {},
   "outputs": [],
   "source": []
  },
  {
   "cell_type": "markdown",
   "metadata": {},
   "source": [
    "### 18 读取 txt 文件｜含中文\n",
    "\n",
    "<br>\n",
    "\n",
    "读取当前目录下 `TOP250.txt` 文件。"
   ]
  },
  {
   "cell_type": "code",
   "execution_count": 79,
   "metadata": {},
   "outputs": [],
   "source": []
  },
  {
   "cell_type": "markdown",
   "metadata": {},
   "source": [
    "### 19 读取 JSON 文件\n",
    "\n",
    "\n",
    "\n",
    "<br>\n",
    "\n",
    "读取当前目录下 `某基金数据.json` 文件。"
   ]
  },
  {
   "cell_type": "code",
   "execution_count": 175,
   "metadata": {},
   "outputs": [],
   "source": []
  },
  {
   "cell_type": "markdown",
   "metadata": {},
   "source": [
    "### 20 读取 HDF5 文件\n",
    "\n",
    "<br>\n",
    "\n",
    "`HDF5`是一种特殊的文件格式，常见于在大规模存储数据上\n",
    "\n",
    "关于 `pandas` 与 `hdf5` 格式文件的操作较多，下面仅学习如何读取。\n",
    "\n",
    "读取当前目录下`store_tl.h5`文件"
   ]
  },
  {
   "cell_type": "code",
   "execution_count": 120,
   "metadata": {},
   "outputs": [],
   "source": []
  },
  {
   "cell_type": "markdown",
   "metadata": {},
   "source": [
    "### 21 从剪贴板读取数据\n",
    "\n",
    "<br>\n",
    "\n",
    "打开当前目录下 `Titanic.txt` 文件，全选并复制。\n",
    "\n",
    "现在直接从剪贴板读取数据。"
   ]
  },
  {
   "cell_type": "code",
   "execution_count": 102,
   "metadata": {},
   "outputs": [],
   "source": []
  },
  {
   "cell_type": "markdown",
   "metadata": {},
   "source": [
    "### 22 从 SQL 读取数据\n",
    "\n",
    "<br>\n",
    "\n",
    "有时我们需要从 `SQL` 中读取数据，如果先将数据导出再`pandas`读取并不是一个合适的选择。\n",
    "\n",
    "在 `pandas` 中支持直接从 `sql` 中查询并读取。\n",
    "\n",
    "为了方便统一操作，请先执行下面的代码创建数据。"
   ]
  },
  {
   "cell_type": "code",
   "execution_count": 121,
   "metadata": {},
   "outputs": [],
   "source": []
  },
  {
   "cell_type": "markdown",
   "metadata": {},
   "source": [
    "下面将 `SQL` 语句 `SELECT int_column, date_column FROM test_data` 转换为 `DataFrame`"
   ]
  },
  {
   "cell_type": "code",
   "execution_count": 123,
   "metadata": {},
   "outputs": [
    {
     "data": {
      "text/html": [
       "<div>\n",
       "<style scoped>\n",
       "    .dataframe tbody tr th:only-of-type {\n",
       "        vertical-align: middle;\n",
       "    }\n",
       "\n",
       "    .dataframe tbody tr th {\n",
       "        vertical-align: top;\n",
       "    }\n",
       "\n",
       "    .dataframe thead th {\n",
       "        text-align: right;\n",
       "    }\n",
       "</style>\n",
       "<table border=\"1\" class=\"dataframe\">\n",
       "  <thead>\n",
       "    <tr style=\"text-align: right;\">\n",
       "      <th></th>\n",
       "      <th>int_column</th>\n",
       "      <th>date_column</th>\n",
       "    </tr>\n",
       "  </thead>\n",
       "  <tbody>\n",
       "    <tr>\n",
       "      <th>0</th>\n",
       "      <td>0</td>\n",
       "      <td>10/11/12</td>\n",
       "    </tr>\n",
       "    <tr>\n",
       "      <th>1</th>\n",
       "      <td>1</td>\n",
       "      <td>12/11/10</td>\n",
       "    </tr>\n",
       "  </tbody>\n",
       "</table>\n",
       "</div>"
      ],
      "text/plain": [
       "   int_column date_column\n",
       "0           0    10/11/12\n",
       "1           1    12/11/10"
      ]
     },
     "execution_count": 123,
     "metadata": {},
     "output_type": "execute_result"
    }
   ],
   "source": []
  },
  {
   "cell_type": "markdown",
   "metadata": {},
   "source": [
    "### 23 从网页读取数据\n",
    "\n",
    "<br>\n",
    "\n",
    "直接从东京奥运会官网读取奖牌榜数据。\n",
    "\n",
    "目标网站地址为 `https://olympics.com/tokyo-2020/olympic-games/zh/results/all-sports/medal-standings.htm`\n",
    "\n",
    "思考：什么类型的在线表格可以直接读取？"
   ]
  },
  {
   "cell_type": "code",
   "execution_count": 99,
   "metadata": {},
   "outputs": [],
   "source": []
  },
  {
   "cell_type": "markdown",
   "metadata": {},
   "source": [
    "### 24 循环读取数据\n",
    "\n",
    "<br>\n",
    "\n",
    "在本小节 `demodata` 文件夹下有多个 `Excel` 文件，要求一次性循环读取全部文件"
   ]
  },
  {
   "cell_type": "code",
   "execution_count": null,
   "metadata": {},
   "outputs": [],
   "source": []
  },
  {
   "cell_type": "markdown",
   "metadata": {},
   "source": [
    "## 1-2 数据创建\n",
    "\n",
    "<br>\n",
    "\n",
    "除了直接读取本地文件，学会直接创建数据框也很重要，常见于测试一些函数，下面是从常见数据结构创建数据框的方法整理"
   ]
  },
  {
   "cell_type": "markdown",
   "metadata": {},
   "source": [
    "### 25 从列表创建\n",
    "\n",
    "<br>\n",
    "\n",
    "将下面的 `list` 转换为 `dataframe`，并指定列名为`\"早起Python\"`"
   ]
  },
  {
   "cell_type": "code",
   "execution_count": 137,
   "metadata": {},
   "outputs": [],
   "source": [
    "l = [1,2,3,4,5]"
   ]
  },
  {
   "cell_type": "code",
   "execution_count": 139,
   "metadata": {},
   "outputs": [],
   "source": []
  },
  {
   "cell_type": "markdown",
   "metadata": {},
   "source": [
    "### 26 从列表创建｜嵌套列表\n",
    "\n",
    "<br>\n",
    "\n",
    "将下面的 `list` 转换为 `dataframe`，并指定行索引为`\"公众号\",\"早起Python\"`"
   ]
  },
  {
   "cell_type": "code",
   "execution_count": 150,
   "metadata": {},
   "outputs": [],
   "source": [
    "l = [[1,2,3],[4,5,6]]"
   ]
  },
  {
   "cell_type": "code",
   "execution_count": 151,
   "metadata": {},
   "outputs": [],
   "source": []
  },
  {
   "cell_type": "markdown",
   "metadata": {},
   "source": [
    "### 27 从字典创建"
   ]
  },
  {
   "cell_type": "markdown",
   "metadata": {},
   "source": [
    "执行下方代码，并将字典转换为`dataframe`"
   ]
  },
  {
   "cell_type": "code",
   "execution_count": 124,
   "metadata": {},
   "outputs": [],
   "source": [
    "d = {\n",
    "    \"one\": pd.Series([1.0, 2.0, 3.0], index=[\"a\", \"b\", \"c\"]),\n",
    "    \"two\": pd.Series([1.0, 2.0, 3.0, 4.0], index=[\"a\", \"b\", \"c\", \"d\"]) }"
   ]
  },
  {
   "cell_type": "code",
   "execution_count": 128,
   "metadata": {},
   "outputs": [],
   "source": []
  },
  {
   "cell_type": "markdown",
   "metadata": {},
   "source": [
    "### 28 从字典创建｜指定索引\n",
    "\n",
    "<br>\n",
    "\n",
    "还是上一题的字典`d`，将其转换为`dataframe`并指定索引顺序为 `d、b、a`"
   ]
  },
  {
   "cell_type": "code",
   "execution_count": null,
   "metadata": {},
   "outputs": [],
   "source": []
  },
  {
   "cell_type": "markdown",
   "metadata": {},
   "source": [
    "### 29 从字典创建｜指定列名\n",
    "\n",
    "<br>\n",
    "\n",
    "还是上一题的字典`d`，将其转换为`dataframe`并指定索引顺序为 `d、b、a`，列名为`\"two\", \"three\"`"
   ]
  },
  {
   "cell_type": "code",
   "execution_count": 144,
   "metadata": {},
   "outputs": [],
   "source": [
    "data = pd.DataFrame(d, index=[\"d\", \"b\", \"a\"], columns=[\"two\", \"three\"])"
   ]
  },
  {
   "cell_type": "markdown",
   "metadata": {},
   "source": [
    "### 30 从字典创建｜字典列表\n",
    "<br>\n",
    "\n",
    "将下方列表型字典转换为`dataframe`\n",
    "\n",
    "思考：如何指定行/列索引？"
   ]
  },
  {
   "cell_type": "code",
   "execution_count": null,
   "metadata": {},
   "outputs": [],
   "source": [
    "d = [{\"a\": 1, \"b\": 2}, {\"a\": 5, \"b\": 10, \"c\": 20}]"
   ]
  },
  {
   "cell_type": "code",
   "execution_count": null,
   "metadata": {},
   "outputs": [],
   "source": []
  },
  {
   "cell_type": "markdown",
   "metadata": {},
   "source": [
    "### 31 从集合创建\n",
    "\n",
    "<br>\n",
    "\n",
    "将下面的元组转换为 dataframe 且行列索引均为 `1,2,3,4`"
   ]
  },
  {
   "cell_type": "code",
   "execution_count": 163,
   "metadata": {},
   "outputs": [],
   "source": [
    "t =((1,0,0,0,),(2,3,0,0,),(4,5,6,0,),(7,8,9,10,))"
   ]
  },
  {
   "cell_type": "code",
   "execution_count": 164,
   "metadata": {},
   "outputs": [],
   "source": []
  },
  {
   "cell_type": "markdown",
   "metadata": {},
   "source": [
    "## 1-3 数据存储"
   ]
  },
  {
   "cell_type": "markdown",
   "metadata": {},
   "source": [
    "### 32 保存为 CSV\n",
    "\n",
    "<br>\n",
    "\n",
    "将第三题读取到的数据保存为 `csv` 格式至当前目录下（文件名任意）"
   ]
  },
  {
   "cell_type": "code",
   "execution_count": 184,
   "metadata": {},
   "outputs": [],
   "source": [
    "data = pd.read_csv(\"某招聘网站数据.csv\",nrows = 20)"
   ]
  },
  {
   "cell_type": "markdown",
   "metadata": {},
   "source": [
    "![](http://liuzaoqi.oss-cn-beijing.aliyuncs.com/2021/09/16/16317972442543.jpg?域名/sample.jpg?x-oss-process=style/stylename)"
   ]
  },
  {
   "cell_type": "code",
   "execution_count": 183,
   "metadata": {},
   "outputs": [],
   "source": []
  },
  {
   "cell_type": "markdown",
   "metadata": {},
   "source": [
    "### 33 保存为 CSV｜指定列\n",
    "\n",
    "<br>\n",
    "\n",
    "将第三题读取到的数据保存为 `csv` 格式至当前目录下（文件名任意），且只保留`positionName、salary`两列"
   ]
  },
  {
   "cell_type": "code",
   "execution_count": null,
   "metadata": {},
   "outputs": [],
   "source": []
  },
  {
   "cell_type": "markdown",
   "metadata": {},
   "source": [
    "### 34 保存为 CSV｜取消索引\n",
    "\n",
    "<br>\n",
    "\n",
    "将第三题读取到的数据保存为 `csv` 格式至当前目录下（文件名任意），且取消每一行的索引"
   ]
  },
  {
   "cell_type": "code",
   "execution_count": 185,
   "metadata": {},
   "outputs": [],
   "source": []
  },
  {
   "cell_type": "markdown",
   "metadata": {},
   "source": [
    "### 35 保存为 CSV｜标记缺失值\n",
    "\n",
    "<br>\n",
    "\n",
    "在上一题的基础上，在保存的同时，将缺失值标记为`'数据缺失'`"
   ]
  },
  {
   "cell_type": "code",
   "execution_count": 186,
   "metadata": {},
   "outputs": [],
   "source": []
  },
  {
   "cell_type": "markdown",
   "metadata": {},
   "source": [
    "### 36 保存为CSV｜压缩\n",
    "\n",
    "<br>\n",
    "\n",
    "将上一题的数据保存至 `zip` 文件，解压后出现 `out.csv`"
   ]
  },
  {
   "cell_type": "code",
   "execution_count": 192,
   "metadata": {},
   "outputs": [],
   "source": []
  },
  {
   "cell_type": "markdown",
   "metadata": {},
   "source": [
    "### 37 保存为 Excel \n",
    "\n",
    "<br>\n",
    "\n",
    "将第三题读取到的数据保存为 `xlsx` 格式至当前目录下（文件名任意）"
   ]
  },
  {
   "cell_type": "code",
   "execution_count": 189,
   "metadata": {},
   "outputs": [],
   "source": []
  },
  {
   "cell_type": "markdown",
   "metadata": {},
   "source": [
    "### 38 保存为 JSON\n",
    "\n",
    "将之前的数据保存为 `json` 格式至当前目录下（文件名任意）"
   ]
  },
  {
   "cell_type": "code",
   "execution_count": 194,
   "metadata": {},
   "outputs": [],
   "source": []
  },
  {
   "cell_type": "markdown",
   "metadata": {},
   "source": [
    "### 39 保存为 Markdown"
   ]
  },
  {
   "cell_type": "markdown",
   "metadata": {},
   "source": [
    "将之前数据转换为 `markdown` 形式表格，这样可以直接复制进 `.md` 文件中使用"
   ]
  },
  {
   "cell_type": "code",
   "execution_count": null,
   "metadata": {},
   "outputs": [],
   "source": []
  },
  {
   "cell_type": "markdown",
   "metadata": {},
   "source": [
    "### 40 保存为 Html\n",
    "\n",
    "将之前的数据保存为 `html` 格式至当前目录下（文件名任意），并进行如下设置\n",
    "- 取消行索引\n",
    "- 标题居中对齐\n",
    "- 列宽100"
   ]
  },
  {
   "cell_type": "code",
   "execution_count": 205,
   "metadata": {},
   "outputs": [],
   "source": []
  },
  {
   "cell_type": "markdown",
   "metadata": {},
   "source": [
    " "
   ]
  },
  {
   "cell_type": "markdown",
   "metadata": {},
   "source": [
    "![](http://liuzaoqi.oss-cn-beijing.aliyuncs.com/2021/09/16/16317972442543.jpg?域名/sample.jpg?x-oss-process=style/stylename)"
   ]
  },
  {
   "cell_type": "code",
   "execution_count": null,
   "metadata": {},
   "outputs": [],
   "source": []
  }
 ],
 "metadata": {
  "kernelspec": {
   "display_name": "Python 3",
   "language": "python",
   "name": "python3"
  },
  "language_info": {
   "codemirror_mode": {
    "name": "ipython",
    "version": 3
   },
   "file_extension": ".py",
   "mimetype": "text/x-python",
   "name": "python",
   "nbconvert_exporter": "python",
   "pygments_lexer": "ipython3",
   "version": "3.8.5"
  },
  "toc": {
   "base_numbering": 1,
   "nav_menu": {},
   "number_sections": false,
   "sideBar": true,
   "skip_h1_title": false,
   "title_cell": "Table of Contents",
   "title_sidebar": "Contents",
   "toc_cell": false,
   "toc_position": {
    "height": "calc(100% - 180px)",
    "left": "10px",
    "top": "150px",
    "width": "384px"
   },
   "toc_section_display": true,
   "toc_window_display": true
  }
 },
 "nbformat": 4,
 "nbformat_minor": 4
}
