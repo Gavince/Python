{
 "cells": [
  {
   "cell_type": "markdown",
   "id": "7c71f0fb-7a37-450a-a0a1-11dbbfb7b5a7",
   "metadata": {},
   "source": [
    "# Python数据读取和处理大量数据\n",
    "目的：为了进行并行处理，我们将任务划分为子单元。它增加了程序处理的作业数量，减少了整体处理时间。"
   ]
  },
  {
   "cell_type": "code",
   "execution_count": 1,
   "id": "f7105329-62c3-4031-985c-b502941091b7",
   "metadata": {},
   "outputs": [],
   "source": [
    "import multiprocessing as mp\n",
    "from joblib import Parallel, delayed\n",
    "from tqdm.notebook import tqdm\n",
    "import string\n",
    "import pandas as pd"
   ]
  },
  {
   "cell_type": "code",
   "execution_count": 2,
   "id": "4d41f973-5e2e-4846-a876-0c16650f17c2",
   "metadata": {},
   "outputs": [],
   "source": [
    "# 获取可用进程数目\n",
    "n_workers = 2*mp.cpu_count()"
   ]
  },
  {
   "cell_type": "code",
   "execution_count": 3,
   "id": "d94ed6fa-3d18-4c6b-8606-0b0b0c73d942",
   "metadata": {},
   "outputs": [
    {
     "name": "stdout",
     "output_type": "stream",
     "text": [
      "CPU times: user 9.74 s, sys: 984 ms, total: 10.7 s\n",
      "Wall time: 14.2 s\n"
     ]
    },
    {
     "data": {
      "text/html": [
       "<div><div id=7c71d51a-6a9e-4360-a041-41d86ea62561 style=\"display:none; background-color:#9D6CFF; color:white; width:200px; height:30px; padding-left:5px; border-radius:4px; flex-direction:row; justify-content:space-around; align-items:center;\" onmouseover=\"this.style.backgroundColor='#BA9BF8'\" onmouseout=\"this.style.backgroundColor='#9D6CFF'\" onclick=\"window.commands?.execute('create-mitosheet-from-dataframe-output');\">See Full Dataframe in Mito</div> <script> if (window.commands.hasCommand('create-mitosheet-from-dataframe-output')) document.getElementById('7c71d51a-6a9e-4360-a041-41d86ea62561').style.display = 'flex' </script> <table border=\"1\" class=\"dataframe\">\n",
       "  <thead>\n",
       "    <tr style=\"text-align: right;\">\n",
       "      <th></th>\n",
       "      <th>user_id</th>\n",
       "      <th>age_range</th>\n",
       "      <th>gender</th>\n",
       "      <th>merchant_id</th>\n",
       "      <th>label</th>\n",
       "      <th>activity_log</th>\n",
       "    </tr>\n",
       "  </thead>\n",
       "  <tbody>\n",
       "    <tr>\n",
       "      <th>0</th>\n",
       "      <td>34176</td>\n",
       "      <td>6.0</td>\n",
       "      <td>0.0</td>\n",
       "      <td>944</td>\n",
       "      <td>-1</td>\n",
       "      <td>408895:1505:7370:1107:0</td>\n",
       "    </tr>\n",
       "    <tr>\n",
       "      <th>1</th>\n",
       "      <td>34176</td>\n",
       "      <td>6.0</td>\n",
       "      <td>0.0</td>\n",
       "      <td>412</td>\n",
       "      <td>-1</td>\n",
       "      <td>17235:1604:4396:0818:0#954723:1604:4396:0818:0#275437:1604:4396:0818:0#548906:1577:4396:1031:0#368206:662:4396:0818:0#480007:1604:4396:0818:0#954723:1604:4396:0818:0#236488:1505:4396:1024:0</td>\n",
       "    </tr>\n",
       "    <tr>\n",
       "      <th>2</th>\n",
       "      <td>34176</td>\n",
       "      <td>6.0</td>\n",
       "      <td>0.0</td>\n",
       "      <td>1945</td>\n",
       "      <td>-1</td>\n",
       "      <td>231901:662:2758:0818:0#231901:662:2758:0818:0#108465:662:2758:0820:0#231901:662:2758:0820:0#231901:662:2758:0820:0#840446:1142:2758:0820:0#231901:662:2758:0819:0</td>\n",
       "    </tr>\n",
       "    <tr>\n",
       "      <th>3</th>\n",
       "      <td>34176</td>\n",
       "      <td>6.0</td>\n",
       "      <td>0.0</td>\n",
       "      <td>4752</td>\n",
       "      <td>-1</td>\n",
       "      <td>174142:821:6938:1027:0</td>\n",
       "    </tr>\n",
       "    <tr>\n",
       "      <th>4</th>\n",
       "      <td>34176</td>\n",
       "      <td>6.0</td>\n",
       "      <td>0.0</td>\n",
       "      <td>643</td>\n",
       "      <td>-1</td>\n",
       "      <td>716371:1505:968:1024:3</td>\n",
       "    </tr>\n",
       "    <tr>\n",
       "      <th>...</th>\n",
       "      <td>...</td>\n",
       "      <td>...</td>\n",
       "      <td>...</td>\n",
       "      <td>...</td>\n",
       "      <td>...</td>\n",
       "      <td>...</td>\n",
       "    </tr>\n",
       "    <tr>\n",
       "      <th>7030718</th>\n",
       "      <td>229247</td>\n",
       "      <td>4.0</td>\n",
       "      <td>2.0</td>\n",
       "      <td>2000</td>\n",
       "      <td>-1</td>\n",
       "      <td>610483:737:3894:0516:2#610483:737:3894:0524:0</td>\n",
       "    </tr>\n",
       "    <tr>\n",
       "      <th>7030719</th>\n",
       "      <td>229247</td>\n",
       "      <td>4.0</td>\n",
       "      <td>2.0</td>\n",
       "      <td>579</td>\n",
       "      <td>-1</td>\n",
       "      <td>179514:420:3610:1014:0#1007071:420:3610:1014:0#1105120:420:3610:1014:0</td>\n",
       "    </tr>\n",
       "    <tr>\n",
       "      <th>7030720</th>\n",
       "      <td>229247</td>\n",
       "      <td>4.0</td>\n",
       "      <td>2.0</td>\n",
       "      <td>1860</td>\n",
       "      <td>-1</td>\n",
       "      <td>980351:1130:918:1016:3#153613:1130:918:1016:0#980351:1130:918:1016:0</td>\n",
       "    </tr>\n",
       "    <tr>\n",
       "      <th>7030721</th>\n",
       "      <td>229247</td>\n",
       "      <td>4.0</td>\n",
       "      <td>2.0</td>\n",
       "      <td>4140</td>\n",
       "      <td>0</td>\n",
       "      <td>308321:737:5697:1111:0#308321:737:5697:1111:0#308321:737:5697:1111:2#761143:737:5697:1110:0#434017:737:5697:1110:0#442402:737:5697:1110:0#308321:737:5697:1110:0#308321:737:5697:1110:0#1062252:737:5697:1110:0#477933:737:5697:1110:0#162415:737:5697:1110:0#194824:737:5697:1110:0#203563:737:5697:1110:0#308321:737:5697:1110:0#495083:737:5697:1110:0#357685:737:5697:1110:0#308321:737:5697:1110:0#162415:737:5697:1110:0#507163:737:5697:1110:0#194824:737:5697:1110:0#665864:737:5697:1110:0#417458:737:5697:1110:0#308321:737:5697:1110:0#538779:737:5697:1110:0</td>\n",
       "    </tr>\n",
       "    <tr>\n",
       "      <th>7030722</th>\n",
       "      <td>229247</td>\n",
       "      <td>4.0</td>\n",
       "      <td>2.0</td>\n",
       "      <td>3828</td>\n",
       "      <td>-1</td>\n",
       "      <td>466063:1553:1446:1111:0#449724:1553:1446:1111:0#764743:1553:1446:1018:0#764743:1553:1446:1018:3</td>\n",
       "    </tr>\n",
       "  </tbody>\n",
       "</table></div>"
      ],
      "text/plain": [
       "         user_id  age_range  gender  merchant_id  label  \\\n",
       "0          34176        6.0     0.0          944     -1   \n",
       "1          34176        6.0     0.0          412     -1   \n",
       "2          34176        6.0     0.0         1945     -1   \n",
       "3          34176        6.0     0.0         4752     -1   \n",
       "4          34176        6.0     0.0          643     -1   \n",
       "...          ...        ...     ...          ...    ...   \n",
       "7030718   229247        4.0     2.0         2000     -1   \n",
       "7030719   229247        4.0     2.0          579     -1   \n",
       "7030720   229247        4.0     2.0         1860     -1   \n",
       "7030721   229247        4.0     2.0         4140      0   \n",
       "7030722   229247        4.0     2.0         3828     -1   \n",
       "\n",
       "                                              activity_log  \n",
       "0                                  408895:1505:7370:1107:0  \n",
       "1        17235:1604:4396:0818:0#954723:1604:4396:0818:0...  \n",
       "2        231901:662:2758:0818:0#231901:662:2758:0818:0#...  \n",
       "3                                   174142:821:6938:1027:0  \n",
       "4                                   716371:1505:968:1024:3  \n",
       "...                                                    ...  \n",
       "7030718      610483:737:3894:0516:2#610483:737:3894:0524:0  \n",
       "7030719  179514:420:3610:1014:0#1007071:420:3610:1014:0...  \n",
       "7030720  980351:1130:918:1016:3#153613:1130:918:1016:0#...  \n",
       "7030721  308321:737:5697:1111:0#308321:737:5697:1111:0#...  \n",
       "7030722  466063:1553:1446:1111:0#449724:1553:1446:1111:...  \n",
       "\n",
       "[7030723 rows x 6 columns]"
      ]
     },
     "execution_count": 3,
     "metadata": {},
     "output_type": "execute_result"
    }
   ],
   "source": [
    "%%time\n",
    "file_name = \"/home/gavin/Machine/data/data/data_format2/train_format2.csv\"\n",
    "df = pd.read_csv(file_name)\n",
    "df"
   ]
  },
  {
   "cell_type": "code",
   "execution_count": 10,
   "id": "cc56b914-8482-4ea1-a45d-516258d7f9f6",
   "metadata": {},
   "outputs": [],
   "source": [
    "def clean_text(x):\n",
    "    return x + 1"
   ]
  },
  {
   "cell_type": "code",
   "execution_count": 62,
   "id": "c04f5db5-2184-455d-aa30-722e2443800a",
   "metadata": {},
   "outputs": [],
   "source": [
    "df = pd.concat([df, df], axis=0)"
   ]
  },
  {
   "cell_type": "code",
   "execution_count": 63,
   "id": "0f8887f8-2e35-495d-bc89-68c2aae6117c",
   "metadata": {},
   "outputs": [
    {
     "name": "stdout",
     "output_type": "stream",
     "text": [
      "CPU times: user 3.79 s, sys: 1.75 s, total: 5.54 s\n",
      "Wall time: 15.1 s\n"
     ]
    }
   ],
   "source": [
    "%%time\n",
    "tqdm.pandas()\n",
    "df[\"age_range\"] = df[\"age_range\"].apply(clean_text)"
   ]
  },
  {
   "cell_type": "code",
   "execution_count": 64,
   "id": "ce40abc8-fd3f-446c-b387-c489e11a8659",
   "metadata": {},
   "outputs": [
    {
     "data": {
      "application/vnd.jupyter.widget-view+json": {
       "model_id": "7d3e5fe42bee40b68e42bd572c7a9eac",
       "version_major": 2,
       "version_minor": 0
      },
      "text/plain": [
       "  0%|          | 0/14061446 [01:57<?, ?it/s]"
      ]
     },
     "metadata": {},
     "output_type": "display_data"
    },
    {
     "name": "stdout",
     "output_type": "stream",
     "text": [
      "CPU times: user 9.42 s, sys: 3.46 s, total: 12.9 s\n",
      "Wall time: 2min 27s\n"
     ]
    }
   ],
   "source": [
    "%%time\n",
    "p = mp.Pool(n_workers)\n",
    "df[\"age_range\"] = p.map(clean_text, tqdm(df[\"age_range\"]))"
   ]
  },
  {
   "cell_type": "code",
   "execution_count": 65,
   "id": "59837e65-058e-493f-81af-8a554ee84b9b",
   "metadata": {},
   "outputs": [],
   "source": [
    "def text_parallel_clean_text(array):\n",
    "    result = Parallel(n_jobs=n_workers\n",
    "             , backend=\"multiprocessing\")(delayed(clean_text)(text) for text in tqdm(array))\n",
    "    \n",
    "    return result"
   ]
  },
  {
   "cell_type": "code",
   "execution_count": null,
   "id": "97b100bb-3519-4021-86b8-c7483b99bf2d",
   "metadata": {},
   "outputs": [
    {
     "data": {
      "application/vnd.jupyter.widget-view+json": {
       "model_id": "1bf92b2e1386440389e8a640d061abf8",
       "version_major": 2,
       "version_minor": 0
      },
      "text/plain": [
       "  0%|          | 0/14061446 [00:00<?, ?it/s]"
      ]
     },
     "metadata": {},
     "output_type": "display_data"
    }
   ],
   "source": [
    "%%time\n",
    "df[\"age_range\"] = text_parallel_clean_text(df[\"age_range\"])"
   ]
  },
  {
   "cell_type": "code",
   "execution_count": null,
   "id": "4ac05304-5b69-4ca6-85b2-37111a6b91ef",
   "metadata": {},
   "outputs": [],
   "source": [
    "from typing import List"
   ]
  },
  {
   "cell_type": "markdown",
   "id": "41245db7-214e-48c4-b00a-3d2de16710e8",
   "metadata": {},
   "source": [
    "## 拆分数据"
   ]
  },
  {
   "cell_type": "code",
   "execution_count": null,
   "id": "0b51840a-2934-46c0-9876-ff07a208b3cb",
   "metadata": {},
   "outputs": [],
   "source": [
    "def proc_batch(batch):\n",
    "    \n",
    "    return [clean_text_text(text) for text in batch]"
   ]
  },
  {
   "cell_type": "code",
   "execution_count": null,
   "id": "f926f2de-0d80-437b-85c8-61ecc50b408c",
   "metadata": {},
   "outputs": [],
   "source": [
    "def batch_file(array:List[List], n_workers:int) -> List[List]:\n",
    "    \"\"\"海量数据批量化.\n",
    "    \n",
    "    Args:\n",
    "        array: 原始数据.\n",
    "        n_workers: 进程数目.\n",
    "    \n",
    "    \n",
    "    Return:\n",
    "        bathces: 划分后的批量数据,以列表的形式存.\n",
    "    \"\"\"\n",
    "    \n",
    "    file_len = len(array)\n",
    "    batch_size = round(file_len / n_workers)\n",
    "    batches = [array[ix: ix + batch_size] for ix in tqdm(range(0, file_len, batch_size))]\n",
    "    \n",
    "\n",
    "    return batches"
   ]
  },
  {
   "cell_type": "code",
   "execution_count": null,
   "id": "7117bf3f-6da9-47f8-921c-fbc2e1cd1d23",
   "metadata": {},
   "outputs": [],
   "source": [
    "batches = batch_file(df[\"age_range\"], n_workers)"
   ]
  },
  {
   "cell_type": "code",
   "execution_count": null,
   "id": "f33c03b0-e873-4fdd-959b-114e140d0797",
   "metadata": {},
   "outputs": [],
   "source": [
    "# \n",
    "batch_output = Parallel(n_jobs=n_workers,backend=\"multiprocessing\")(\n",
    " delayed(proc_batch)\n",
    "  (batch)  \n",
    " for batch in tqdm(batches)\n",
    " )"
   ]
  },
  {
   "cell_type": "code",
   "execution_count": 11,
   "id": "649b047e-76c8-44f9-8730-c90d8206e1c1",
   "metadata": {},
   "outputs": [
    {
     "data": {
      "application/vnd.jupyter.widget-view+json": {
       "model_id": "25d64f0f2cf346ddbc626926409cbf5f",
       "version_major": 2,
       "version_minor": 0
      },
      "text/plain": [
       "  0%|          | 0/7030723 [00:00<?, ?it/s]"
      ]
     },
     "metadata": {},
     "output_type": "display_data"
    },
    {
     "name": "stdout",
     "output_type": "stream",
     "text": [
      "CPU times: user 7.32 s, sys: 789 ms, total: 8.11 s\n",
      "Wall time: 8.3 s\n"
     ]
    }
   ],
   "source": [
    "%%time\n",
    "from tqdm.contrib.concurrent import process_map\n",
    "batch = round(len(df)/n_workers)\n",
    "df['age_range'] = process_map(clean_text,df['age_range'], max_workers=n_workers, chunksize=batch)"
   ]
  },
  {
   "cell_type": "markdown",
   "id": "696f5bc7-a710-4087-8428-86db44c07121",
   "metadata": {},
   "source": [
    "## 多进程与多线程编程"
   ]
  },
  {
   "cell_type": "code",
   "execution_count": 3,
   "id": "29da1bbf-5c62-4d63-adc1-b13aabb16e00",
   "metadata": {},
   "outputs": [],
   "source": [
    "import time\n",
    "import os"
   ]
  },
  {
   "cell_type": "code",
   "execution_count": 4,
   "id": "92e6f8e1-ac94-4312-96ab-be954dc5bd4d",
   "metadata": {},
   "outputs": [
    {
     "name": "stdout",
     "output_type": "stream",
     "text": [
      "当前母进程: 355497\n",
      "当前进程: 355497\n",
      "结果: 1152921504606846976\n",
      "当前进程: 355497\n",
      "结果: 1152921504606846976\n",
      "用时4.004072189331055秒\n"
     ]
    }
   ],
   "source": [
    "def long_time_task():\n",
    "    print('当前进程: {}'.format(os.getpid()))\n",
    "    time.sleep(2)\n",
    "    print(\"结果: {}\".format(8 ** 20))\n",
    "\n",
    "if __name__ == \"__main__\":\n",
    "    print('当前母进程: {}'.format(os.getpid()))\n",
    "    start = time.time()\n",
    "    for i in range(2):\n",
    "        long_time_task()\n",
    "\n",
    "    end = time.time()\n",
    "    print(\"用时{}秒\".format((end-start)))"
   ]
  },
  {
   "cell_type": "code",
   "execution_count": 5,
   "id": "2889aafc-3fb6-426f-8999-fe0d3cb23d07",
   "metadata": {},
   "outputs": [],
   "source": [
    "from multiprocessing import Process"
   ]
  },
  {
   "cell_type": "code",
   "execution_count": 6,
   "id": "537672d1-72a8-4f9f-843a-f0983a90011a",
   "metadata": {},
   "outputs": [
    {
     "name": "stdout",
     "output_type": "stream",
     "text": [
      "当前母进程: 355497\n",
      "等待所有子进程完成。\n",
      "子进程: 355653 - 任务1\n",
      "子进程: 355656 - 任务2\n",
      "结果: 1152921504606846976\n",
      "结果: 1152921504606846976\n",
      "总共用时2.117201805114746秒\n"
     ]
    }
   ],
   "source": [
    "def long_time_task(i):\n",
    "    print('子进程: {} - 任务{}'.format(os.getpid(), i))\n",
    "    time.sleep(2)\n",
    "    print(\"结果: {}\".format(8 ** 20))\n",
    "\n",
    "\n",
    "if __name__=='__main__':\n",
    "    print('当前母进程: {}'.format(os.getpid()))\n",
    "    start = time.time()\n",
    "    p1 = Process(target=long_time_task, args=(1,))\n",
    "    p2 = Process(target=long_time_task, args=(2,))\n",
    "    print('等待所有子进程完成。')\n",
    "    p1.start()\n",
    "    p2.start()\n",
    "    p1.join()\n",
    "    p2.join()\n",
    "    end = time.time()\n",
    "    print(\"总共用时{}秒\".format((end - start)))"
   ]
  },
  {
   "cell_type": "code",
   "execution_count": 7,
   "id": "eced503d-d8e6-4e3c-a852-66233ef8c7f0",
   "metadata": {},
   "outputs": [],
   "source": [
    "from multiprocessing import Pool, cpu_count"
   ]
  },
  {
   "cell_type": "code",
   "execution_count": 11,
   "id": "f04a45cb-c4b4-439f-9b9f-7c3cf3b2e55f",
   "metadata": {},
   "outputs": [
    {
     "data": {
      "text/plain": [
       "4"
      ]
     },
     "execution_count": 11,
     "metadata": {},
     "output_type": "execute_result"
    }
   ],
   "source": [
    "cpu_count()"
   ]
  },
  {
   "cell_type": "code",
   "execution_count": 8,
   "id": "3c50bcf7-8c8f-4d15-8973-7a4dee578a63",
   "metadata": {},
   "outputs": [
    {
     "name": "stdout",
     "output_type": "stream",
     "text": [
      "CPU内核数:4\n",
      "当前母进程: 355497\n",
      "子进程: 355814 - 任务2子进程: 355813 - 任务1子进程: 355815 - 任务3\n",
      "\n",
      "\n",
      "子进程: 355812 - 任务0\n",
      "等待所有子进程完成。\n",
      "结果: 1152921504606846976结果: 1152921504606846976\n",
      "结果: 1152921504606846976\n",
      "子进程: 355815 - 任务4\n",
      "\n",
      "结果: 1152921504606846976\n",
      "结果: 1152921504606846976\n",
      "总共用时4.309876918792725秒\n"
     ]
    }
   ],
   "source": [
    "def long_time_task(i):\n",
    "    print('子进程: {} - 任务{}'.format(os.getpid(), i))\n",
    "    time.sleep(2)\n",
    "    print(\"结果: {}\".format(8 ** 20))\n",
    "\n",
    "\n",
    "if __name__=='__main__':\n",
    "    print(\"CPU内核数:{}\".format(cpu_count()))\n",
    "    print('当前母进程: {}'.format(os.getpid()))\n",
    "    start = time.time()\n",
    "    p = Pool(4)\n",
    "    for i in range(5):\n",
    "        p.apply_async(long_time_task, args=(i,))\n",
    "    print('等待所有子进程完成。')\n",
    "    p.close()\n",
    "    p.join()\n",
    "    end = time.time()\n",
    "    print(\"总共用时{}秒\".format((end - start)))"
   ]
  },
  {
   "cell_type": "code",
   "execution_count": 9,
   "id": "57f922c1-bec1-4b74-9b10-bc0b6bb40777",
   "metadata": {},
   "outputs": [
    {
     "name": "stdout",
     "output_type": "stream",
     "text": [
      "Process to write: 356056Process to read:356057\n",
      "\n",
      "Put A to queue...\n",
      "Get A from queue.\n",
      "Put B to queue...\n",
      "Get B from queue.\n",
      "Put C to queue...\n",
      "Get C from queue.\n"
     ]
    }
   ],
   "source": [
    "from multiprocessing import Process, Queue\n",
    "import os, time, random\n",
    "\n",
    "# 写数据进程执行的代码:\n",
    "def write(q):\n",
    "    print('Process to write: {}'.format(os.getpid()))\n",
    "    for value in ['A', 'B', 'C']:\n",
    "        print('Put %s to queue...' % value)\n",
    "        q.put(value)\n",
    "        time.sleep(random.random())\n",
    "\n",
    "# 读数据进程执行的代码:\n",
    "def read(q):\n",
    "    print('Process to read:{}'.format(os.getpid()))\n",
    "    while True:\n",
    "        value = q.get(True)\n",
    "        print('Get %s from queue.' % value)\n",
    "\n",
    "if __name__=='__main__':\n",
    "    # 父进程创建Queue，并传给各个子进程：\n",
    "    q = Queue()\n",
    "    pw = Process(target=write, args=(q,))\n",
    "    pr = Process(target=read, args=(q,))\n",
    "    # 启动子进程pw，写入:\n",
    "    pw.start()\n",
    "    # 启动子进程pr，读取:\n",
    "    pr.start()\n",
    "    # 等待pw结束:\n",
    "    pw.join()\n",
    "    # pr进程里是死循环，无法等待其结束，只能强行终止:\n",
    "    pr.terminate()"
   ]
  },
  {
   "cell_type": "code",
   "execution_count": null,
   "id": "2d6d6bc9-f4a4-401a-bbe7-0b87649ffa90",
   "metadata": {},
   "outputs": [],
   "source": []
  }
 ],
 "metadata": {
  "kernelspec": {
   "display_name": "Python 3",
   "language": "python",
   "name": "python3"
  },
  "language_info": {
   "codemirror_mode": {
    "name": "ipython",
    "version": 3
   },
   "file_extension": ".py",
   "mimetype": "text/x-python",
   "name": "python",
   "nbconvert_exporter": "python",
   "pygments_lexer": "ipython3",
   "version": "3.8.5"
  }
 },
 "nbformat": 4,
 "nbformat_minor": 5
}
