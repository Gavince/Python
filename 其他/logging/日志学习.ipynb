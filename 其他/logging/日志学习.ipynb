{
 "cells": [
  {
   "cell_type": "markdown",
   "metadata": {},
   "source": [
    "# Logging包学习"
   ]
  },
  {
   "cell_type": "markdown",
   "metadata": {},
   "source": [
    "## 谁懂了我的logging"
   ]
  },
  {
   "cell_type": "code",
   "execution_count": 2,
   "metadata": {},
   "outputs": [],
   "source": [
    "import logging\n",
    "from utils import get_logger"
   ]
  },
  {
   "cell_type": "code",
   "execution_count": 2,
   "metadata": {},
   "outputs": [],
   "source": [
    "logger = logging.getLogger(name=\"misery debug\")"
   ]
  },
  {
   "cell_type": "code",
   "execution_count": 3,
   "metadata": {},
   "outputs": [],
   "source": [
    "logger.setLevel(logging.INFO)"
   ]
  },
  {
   "cell_type": "code",
   "execution_count": 5,
   "metadata": {},
   "outputs": [],
   "source": [
    "logger.addHandler(logging.StreamHandler())"
   ]
  },
  {
   "cell_type": "code",
   "execution_count": 6,
   "metadata": {},
   "outputs": [
    {
     "name": "stderr",
     "output_type": "stream",
     "text": [
      "问题\n"
     ]
    }
   ],
   "source": [
    "logger.info(\"问题\")"
   ]
  },
  {
   "cell_type": "code",
   "execution_count": 7,
   "metadata": {},
   "outputs": [
    {
     "name": "stderr",
     "output_type": "stream",
     "text": [
      "learn log\n"
     ]
    }
   ],
   "source": [
    "ori_logger = logging.getLogger('custom_logger')\n",
    "ori_logger.setLevel(logging.INFO)\n",
    "ori_logger.addHandler(logging.StreamHandler())\n",
    "ori_logger.info('learn log')"
   ]
  },
  {
   "cell_type": "code",
   "execution_count": 10,
   "metadata": {},
   "outputs": [
    {
     "name": "stderr",
     "output_type": "stream",
     "text": [
      "2022-05-06 14:58:00,704 - mmcv_logger - INFO - learn log\n"
     ]
    }
   ],
   "source": [
    "mmcv_logger = get_logger('mmcv_logger', log_file='a.log')\n",
    "mmcv_logger.info('learn log')"
   ]
  },
  {
   "cell_type": "markdown",
   "metadata": {},
   "source": [
    "## logging的继承关系"
   ]
  },
  {
   "cell_type": "code",
   "execution_count": 11,
   "metadata": {},
   "outputs": [],
   "source": [
    "parent_logger = get_logger(\"parent\")"
   ]
  },
  {
   "cell_type": "code",
   "execution_count": 12,
   "metadata": {},
   "outputs": [],
   "source": [
    "child_logger = parent_logger.getChild(\"child\")"
   ]
  },
  {
   "cell_type": "code",
   "execution_count": 13,
   "metadata": {},
   "outputs": [
    {
     "name": "stderr",
     "output_type": "stream",
     "text": [
      "2022-05-06 15:00:35,622 - parent.child - INFO - I am child\n"
     ]
    }
   ],
   "source": [
    "child_logger.info(\"I am child\")"
   ]
  },
  {
   "cell_type": "code",
   "execution_count": 16,
   "metadata": {},
   "outputs": [
    {
     "name": "stderr",
     "output_type": "stream",
     "text": [
      "2022-05-06 15:08:58,611 - mmcv - INFO - 不会触发多重日志！\n"
     ]
    }
   ],
   "source": [
    "logging.root.addHandler(logging.StreamHandler()) \n",
    "logger = get_logger('mmcv')  # 将 Handler 的日志等级设置为 ERROR. \n",
    "logger.info('不会触发多重日志！') "
   ]
  },
  {
   "cell_type": "code",
   "execution_count": 17,
   "metadata": {},
   "outputs": [
    {
     "name": "stderr",
     "output_type": "stream",
     "text": [
      "2022-05-06 15:08:59,663 - mmcv - INFO - 触发多重日志！\n",
      "触发多重日志！\n"
     ]
    }
   ],
   "source": [
    "logging.root.addHandler(logging.StreamHandler())  # root 新增了 handler. \n",
    "logger.info('触发多重日志！') "
   ]
  },
  {
   "cell_type": "markdown",
   "metadata": {},
   "source": [
    "## Logging level\n",
    "日志等级  \n",
    "CRITICAL = 50        \n",
    "FATAL = CRITICAL  \n",
    "ERROR = 40           \n",
    "WARNING = 30        \n",
    "WARN = WARNING  \n",
    "INFO = 20            \n",
    "DEBUG = 10           \n",
    "NOTSET = 0  "
   ]
  },
  {
   "cell_type": "code",
   "execution_count": 8,
   "metadata": {},
   "outputs": [
    {
     "name": "stderr",
     "output_type": "stream",
     "text": [
      "erro msg\n",
      "erro msg\n"
     ]
    },
    {
     "name": "stdout",
     "output_type": "stream",
     "text": [
      "40\n",
      "40\n"
     ]
    }
   ],
   "source": [
    "logger = logging.root\n",
    "print(logger.level)  # 30， warning。root 日志等级为 WARNING (30)\n",
    "logger.info(\"info msg\")  # 日志等级为 INFO (20)，小于 WARNING，无消息\n",
    "\n",
    "logger.warning(\"warn msg\")  # 日志等级为 WARNING (30)，输出消息 warn msg\n",
    "logger.error(\"erro msg\")  # 日志等级为 ERROR (40)，输出消息 erro msg\n",
    "\n",
    "logger.setLevel(logging.ERROR)  # 设置日志等级为 ERROR (40)\n",
    "print(logger.level)  # 40， ERROR\n",
    "\n",
    "logger.warning(\"warn msg\")  # 无消息\n",
    "logger.error(\"erro msg\")  # erro msg"
   ]
  },
  {
   "cell_type": "markdown",
   "metadata": {},
   "source": [
    "## Hander"
   ]
  },
  {
   "cell_type": "code",
   "execution_count": 8,
   "metadata": {},
   "outputs": [
    {
     "name": "stderr",
     "output_type": "stream",
     "text": [
      "this is error\n",
      "this is error\n",
      "this is error\n",
      "this is error\n",
      "this is error\n",
      "this is warning\n",
      "this is warning\n",
      "this is warning\n",
      "this is warning\n",
      "this is warning\n"
     ]
    }
   ],
   "source": [
    "from logging import StreamHandler\n",
    "from logging import FileHandler\n",
    "\n",
    "logger = logging.getLogger(__name__)\n",
    "\n",
    "# 设置为DEBUG级别\n",
    "logger.setLevel(logging.DEBUG)\n",
    "\n",
    "# 标准流处理器，设置的级别为WARAING\n",
    "stream_handler = StreamHandler()\n",
    "stream_handler.setLevel(logging.WARNING)\n",
    "logger.addHandler(stream_handler)\n",
    "\n",
    "# 文件处理器，设置的级别为INFO\n",
    "file_handler = FileHandler(filename=\"test.log\")\n",
    "file_handler.setLevel(logging.INFO)\n",
    "logger.addHandler(file_handler)\n",
    "\n",
    "logger.debug(\"this is debug\")\n",
    "logger.info(\"this is info\")\n",
    "logger.error(\"this is error\")\n",
    "logger.warning(\"this is warning\")"
   ]
  },
  {
   "cell_type": "markdown",
   "metadata": {},
   "source": [
    "## StreamHandler"
   ]
  },
  {
   "cell_type": "code",
   "execution_count": 6,
   "metadata": {},
   "outputs": [],
   "source": [
    "logger = logging.root\n",
    "# 创建 streamHandler\n",
    "stream_handler = logging.StreamHandler()\n",
    "# 设置日志等级\n",
    "logger.setLevel(logging.INFO)\n",
    "logger.info(\"learn logging\")  # 没有配置 Handler，终端不会输出日志"
   ]
  },
  {
   "cell_type": "code",
   "execution_count": 3,
   "metadata": {},
   "outputs": [
    {
     "name": "stderr",
     "output_type": "stream",
     "text": [
      "learn logging\n"
     ]
    }
   ],
   "source": [
    "# 为 root logger配置 Handler\n",
    "logger.addHandler(stream_handler)\n",
    "logger.info(\"learn logging\")  # 配置 Handler，输出日志"
   ]
  },
  {
   "cell_type": "code",
   "execution_count": 4,
   "metadata": {},
   "outputs": [
    {
     "name": "stderr",
     "output_type": "stream",
     "text": [
      "learn logging\n"
     ]
    }
   ],
   "source": [
    "f = open('output.txt', 'w')\n",
    "logger = logging.root\n",
    "logger.setLevel(logging.INFO)\n",
    "stream_handler = logging.StreamHandler(stream=f)\n",
    "logger.addHandler(stream_handler)\n",
    "logger.warning(\"learn logging\")  # 此时 learn logging 会被写入到 output.txt 中\n",
    "f.close()"
   ]
  },
  {
   "cell_type": "markdown",
   "metadata": {
    "tags": []
   },
   "source": [
    "## FileHander"
   ]
  },
  {
   "cell_type": "code",
   "execution_count": 6,
   "metadata": {},
   "outputs": [
    {
     "name": "stderr",
     "output_type": "stream",
     "text": [
      "WARNING\n",
      "--- Logging error ---\n",
      "Traceback (most recent call last):\n",
      "  File \"/home/gavin/anaconda3/lib/python3.8/logging/__init__.py\", line 1084, in emit\n",
      "    stream.write(msg + self.terminator)\n",
      "ValueError: I/O operation on closed file.\n",
      "Call stack:\n",
      "  File \"/home/gavin/anaconda3/lib/python3.8/runpy.py\", line 194, in _run_module_as_main\n",
      "    return _run_code(code, main_globals, None,\n",
      "  File \"/home/gavin/anaconda3/lib/python3.8/runpy.py\", line 87, in _run_code\n",
      "    exec(code, run_globals)\n",
      "  File \"/home/gavin/anaconda3/lib/python3.8/site-packages/ipykernel_launcher.py\", line 16, in <module>\n",
      "    app.launch_new_instance()\n",
      "  File \"/home/gavin/anaconda3/lib/python3.8/site-packages/traitlets/config/application.py\", line 845, in launch_instance\n",
      "    app.start()\n",
      "  File \"/home/gavin/anaconda3/lib/python3.8/site-packages/ipykernel/kernelapp.py\", line 612, in start\n",
      "    self.io_loop.start()\n",
      "  File \"/home/gavin/anaconda3/lib/python3.8/site-packages/tornado/platform/asyncio.py\", line 199, in start\n",
      "    self.asyncio_loop.run_forever()\n",
      "  File \"/home/gavin/anaconda3/lib/python3.8/asyncio/base_events.py\", line 570, in run_forever\n",
      "    self._run_once()\n",
      "  File \"/home/gavin/anaconda3/lib/python3.8/asyncio/base_events.py\", line 1859, in _run_once\n",
      "    handle._run()\n",
      "  File \"/home/gavin/anaconda3/lib/python3.8/asyncio/events.py\", line 81, in _run\n",
      "    self._context.run(self._callback, *self._args)\n",
      "  File \"/home/gavin/anaconda3/lib/python3.8/site-packages/tornado/ioloop.py\", line 688, in <lambda>\n",
      "    lambda f: self._run_callback(functools.partial(callback, future))\n",
      "  File \"/home/gavin/anaconda3/lib/python3.8/site-packages/tornado/ioloop.py\", line 741, in _run_callback\n",
      "    ret = callback()\n",
      "  File \"/home/gavin/anaconda3/lib/python3.8/site-packages/tornado/gen.py\", line 814, in inner\n",
      "    self.ctx_run(self.run)\n",
      "  File \"/home/gavin/anaconda3/lib/python3.8/site-packages/tornado/gen.py\", line 775, in run\n",
      "    yielded = self.gen.send(value)\n",
      "  File \"/home/gavin/anaconda3/lib/python3.8/site-packages/ipykernel/kernelbase.py\", line 365, in process_one\n",
      "    yield gen.maybe_future(dispatch(*args))\n",
      "  File \"/home/gavin/anaconda3/lib/python3.8/site-packages/tornado/gen.py\", line 234, in wrapper\n",
      "    yielded = ctx_run(next, result)\n",
      "  File \"/home/gavin/anaconda3/lib/python3.8/site-packages/ipykernel/kernelbase.py\", line 268, in dispatch_shell\n",
      "    yield gen.maybe_future(handler(stream, idents, msg))\n",
      "  File \"/home/gavin/anaconda3/lib/python3.8/site-packages/tornado/gen.py\", line 234, in wrapper\n",
      "    yielded = ctx_run(next, result)\n",
      "  File \"/home/gavin/anaconda3/lib/python3.8/site-packages/ipykernel/kernelbase.py\", line 543, in execute_request\n",
      "    self.do_execute(\n",
      "  File \"/home/gavin/anaconda3/lib/python3.8/site-packages/tornado/gen.py\", line 234, in wrapper\n",
      "    yielded = ctx_run(next, result)\n",
      "  File \"/home/gavin/anaconda3/lib/python3.8/site-packages/ipykernel/ipkernel.py\", line 306, in do_execute\n",
      "    res = shell.run_cell(code, store_history=store_history, silent=silent)\n",
      "  File \"/home/gavin/anaconda3/lib/python3.8/site-packages/ipykernel/zmqshell.py\", line 536, in run_cell\n",
      "    return super(ZMQInteractiveShell, self).run_cell(*args, **kwargs)\n",
      "  File \"/home/gavin/anaconda3/lib/python3.8/site-packages/IPython/core/interactiveshell.py\", line 2877, in run_cell\n",
      "    result = self._run_cell(\n",
      "  File \"/home/gavin/anaconda3/lib/python3.8/site-packages/IPython/core/interactiveshell.py\", line 2923, in _run_cell\n",
      "    return runner(coro)\n",
      "  File \"/home/gavin/anaconda3/lib/python3.8/site-packages/IPython/core/async_helpers.py\", line 68, in _pseudo_sync_runner\n",
      "    coro.send(None)\n",
      "  File \"/home/gavin/anaconda3/lib/python3.8/site-packages/IPython/core/interactiveshell.py\", line 3146, in run_cell_async\n",
      "    has_raised = await self.run_ast_nodes(code_ast.body, cell_name,\n",
      "  File \"/home/gavin/anaconda3/lib/python3.8/site-packages/IPython/core/interactiveshell.py\", line 3338, in run_ast_nodes\n",
      "    if (await self.run_code(code, result,  async_=asy)):\n",
      "  File \"/home/gavin/anaconda3/lib/python3.8/site-packages/IPython/core/interactiveshell.py\", line 3418, in run_code\n",
      "    exec(code_obj, self.user_global_ns, self.user_ns)\n",
      "  File \"<ipython-input-6-7a593b09ff2c>\", line 6, in <module>\n",
      "    logger.info(\"WARNING\")  # 此时 learn logging 会被写入到 output.txt 中\n",
      "Message: 'WARNING'\n",
      "Arguments: ()\n"
     ]
    }
   ],
   "source": [
    "logger = logging.root\n",
    "logger.setLevel(logging.INFO)\n",
    "# 设置输出文件和编码方式\n",
    "file_handler = logging.FileHandler('output.txt', encoding='utf-8')\n",
    "logger.addHandler(file_handler)\n",
    "logger.info(\"WARNING\")  # 此时 learn logging 会被写入到 output.txt 中"
   ]
  },
  {
   "cell_type": "markdown",
   "metadata": {},
   "source": [
    "# 参考资料"
   ]
  },
  {
   "cell_type": "markdown",
   "metadata": {},
   "source": [
    "[python logging 日志模块详解](https://zhuanlan.zhihu.com/p/454463040)  \n",
    "[logging 详解第一期：是谁偷偷动了我的 logger](https://zhuanlan.zhihu.com/p/481383590)"
   ]
  },
  {
   "cell_type": "code",
   "execution_count": null,
   "metadata": {},
   "outputs": [],
   "source": []
  }
 ],
 "metadata": {
  "kernelspec": {
   "display_name": "Python 3",
   "language": "python",
   "name": "python3"
  },
  "language_info": {
   "codemirror_mode": {
    "name": "ipython",
    "version": 3
   },
   "file_extension": ".py",
   "mimetype": "text/x-python",
   "name": "python",
   "nbconvert_exporter": "python",
   "pygments_lexer": "ipython3",
   "version": "3.8.5"
  },
  "toc-autonumbering": true
 },
 "nbformat": 4,
 "nbformat_minor": 4
}
