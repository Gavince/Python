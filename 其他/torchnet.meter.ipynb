{
 "cells": [
  {
   "cell_type": "markdown",
   "metadata": {},
   "source": [
    "## import torchnet\n",
    "\n",
    "### tnt.Meter\n",
    "\n",
    "Meters provide a standardized way to measure a range of different measures, which makes it easy to measure a wide range of properties of your models.\n",
    "\n",
    "**有三个基础的方法：**\n",
    "\n",
    "- add() which adds an observation to the meter.\n",
    "- value() which returns the value of the meter, taking into account all observations.\n",
    "- reset() which removes all previously added observations, resetting the meter.\n",
    "\n",
    "\n",
    "### tnt.AverageValueMeter(self)\n",
    "The tnt.AverageValueMeter measures and returns the average value and the standard deviation of any collection of numbers that are added to it. It is useful, for instance, to measure the average loss over a collection of examples.\n",
    "\n",
    "### tnt.AUCMeter(self)\n",
    "The tnt.AUCMeter measures the area under the receiver-operating characteristic (ROC) curve for binary classification problems. The area under the curve (AUC) can be interpreted as the probability that, given a randomly selected positive example and a randomly selected negative example, the positive example is assigned a higher score by the classification model than the negative example.\n",
    "\n",
    "### tnt.ConfusionMeter(self, k[, normalized])\n",
    "The tnt.ConfusionMeter constructs a confusion matrix for a multi-class classification problems.\n"
   ]
  },
  {
   "cell_type": "code",
   "execution_count": 8,
   "metadata": {},
   "outputs": [
    {
     "name": "stdout",
     "output_type": "stream",
     "text": [
      "4.5\n",
      "(14.5, 3.0276503540974917)\n"
     ]
    }
   ],
   "source": [
    "import torchnet.meter as meter\n",
    "\n",
    "m = meter.AverageValueMeter()\n",
    "\n",
    "for i in range(10):\n",
    "    m.add(i)\n",
    "\n",
    "print(m.value()[0])\n",
    "\n",
    "m.reset()#重置数据\n",
    "\n",
    "for i in range(10, 20):\n",
    "    m.add(i)\n",
    "    \n",
    "print(m.value())"
   ]
  },
  {
   "cell_type": "code",
   "execution_count": 33,
   "metadata": {},
   "outputs": [
    {
     "name": "stdout",
     "output_type": "stream",
     "text": [
      "tensor([0, 1, 2])\n",
      "tensor([[1.0000e-02, 1.0000e-02, 1.0000e-01],\n",
      "        [1.0000e+01, 1.1000e+01, 1.0000e+01],\n",
      "        [2.0000e-01, 2.0000e-01, 3.0000e-01]])\n"
     ]
    }
   ],
   "source": [
    "import torch\n",
    "mtr = meter.ConfusionMeter(k=3)\n",
    "output = torch.Tensor([[.01, 0.01, 0.1], [10, 11, 10], [0.2, 0.2, .3]])\n",
    "if hasattr(torch, \"arange\"):\n",
    "    target = torch.arange(0, 3)\n",
    "else:\n",
    "    target = torch.range(0, 2)\n",
    "    \n",
    "print(target)\n",
    "print(output)\n",
    "mtr.add(output, target)"
   ]
  },
  {
   "cell_type": "code",
   "execution_count": 36,
   "metadata": {},
   "outputs": [
    {
     "data": {
      "text/plain": [
       "array([[0, 0, 1],\n",
       "       [0, 1, 0],\n",
       "       [0, 0, 1]], dtype=int32)"
      ]
     },
     "execution_count": 36,
     "metadata": {},
     "output_type": "execute_result"
    }
   ],
   "source": [
    "mtr.value()\n",
    "#生成一个onehat向量"
   ]
  },
  {
   "cell_type": "code",
   "execution_count": 35,
   "metadata": {},
   "outputs": [],
   "source": [
    "meter.confusionmeter??"
   ]
  }
 ],
 "metadata": {
  "kernelspec": {
   "display_name": "Python 3",
   "language": "python",
   "name": "python3"
  },
  "language_info": {
   "codemirror_mode": {
    "name": "ipython",
    "version": 3
   },
   "file_extension": ".py",
   "mimetype": "text/x-python",
   "name": "python",
   "nbconvert_exporter": "python",
   "pygments_lexer": "ipython3",
   "version": "3.6.5"
  }
 },
 "nbformat": 4,
 "nbformat_minor": 2
}
