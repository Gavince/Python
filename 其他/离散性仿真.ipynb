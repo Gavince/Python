{
 "cells": [
  {
   "cell_type": "code",
   "execution_count": 1,
   "metadata": {},
   "outputs": [],
   "source": [
    "import numpy as np\n",
    "import random\n",
    "COUNT = 10000  # 模拟总次数"
   ]
  },
  {
   "cell_type": "markdown",
   "metadata": {},
   "source": [
    "### 开车时间的模拟"
   ]
  },
  {
   "cell_type": "code",
   "execution_count": 2,
   "metadata": {},
   "outputs": [
    {
     "name": "stdout",
     "output_type": "stream",
     "text": [
      "0.699 0.20010000000000006 0.1009\n"
     ]
    }
   ],
   "source": [
    "s1, s3 = 0, 0\n",
    "\n",
    "for i in range(COUNT):\n",
    "    x = np.random.rand(1)\n",
    "    if x < 0.7:\n",
    "        s1 += 1\n",
    "    elif x > 0.9:\n",
    "        s3 += 1\n",
    "print(s1/COUNT, 1-s1/COUNT-s3/COUNT, s3/COUNT)"
   ]
  },
  {
   "cell_type": "markdown",
   "metadata": {},
   "source": [
    "### 人到达B站时刻仿真"
   ]
  },
  {
   "cell_type": "code",
   "execution_count": 3,
   "metadata": {},
   "outputs": [],
   "source": [
    "s1, s2, s3, s4 = 0, 0, 0, 0\n",
    "\n",
    "for i in range(COUNT):\n",
    "    x = np.random.rand(1)\n",
    "    if x < 0.3:\n",
    "        s1 += 1\n",
    "    elif x < 0.7:\n",
    "        s2 += 1\n",
    "    elif x<0.9:\n",
    "        s3 += 1\n",
    "    else:\n",
    "        s4 += 1"
   ]
  },
  {
   "cell_type": "code",
   "execution_count": 4,
   "metadata": {},
   "outputs": [
    {
     "name": "stdout",
     "output_type": "stream",
     "text": [
      "0.2845 0.4106 0.2048 0.1001\n"
     ]
    }
   ],
   "source": [
    "print(s1/10000,s2/10000,s3/10000,s4/10000)"
   ]
  },
  {
   "cell_type": "markdown",
   "metadata": {},
   "source": [
    "### 火车运行时间仿真"
   ]
  },
  {
   "cell_type": "code",
   "execution_count": 5,
   "metadata": {},
   "outputs": [
    {
     "name": "stdout",
     "output_type": "stream",
     "text": [
      "预测追赶时间： [26.94913599 29.26579824 29.02970144 ... 29.12206895 32.18727673\n",
      " 33.45523247]\n",
      "预测均值：29.99, \n",
      "预测方差：1.98\n"
     ]
    }
   ],
   "source": [
    "s = np.random.normal(0,1,COUNT)\n",
    "y = np.zeros((1, COUNT))\n",
    "for i in range(COUNT):\n",
    "    y[0][i] = 2*s[i]+30\n",
    "\n",
    "print(\"预测追赶时间：\", y[0])\n",
    "print(\"预测均值：%.2f, \\n预测方差：%.2f\"%(y[0].mean(), y[0].std()))"
   ]
  },
  {
   "cell_type": "markdown",
   "metadata": {},
   "source": [
    "### 赶上火车的仿真"
   ]
  },
  {
   "cell_type": "code",
   "execution_count": 6,
   "metadata": {},
   "outputs": [
    {
     "name": "stdout",
     "output_type": "stream",
     "text": [
      "赶上火车的概率:0.6307\n"
     ]
    }
   ],
   "source": [
    "X1 = [random.random() for i in range(COUNT)]\n",
    "X2 = [random.random() for i in range(COUNT)]\n",
    "X3 = np.random.normal(0, 1, COUNT)\n",
    "s = 0  # 记录可以追赶上的次数\n",
    "\n",
    "for i in range(COUNT):\n",
    "    if X1[i]<0.7:\n",
    "        T1=0  # T1表示起始时间\n",
    "    elif X1[i]<0.9:\n",
    "        T1=5\n",
    "    else:\n",
    "        T1=10\n",
    "    T2 = 30 + 2*X3[i]  # T2表示追赶时间\n",
    "    if X2[i]<0.3:\n",
    "        T3=28  # T3表示回车运行时间\n",
    "    elif X2[i]<0.7:\n",
    "        T3=30\n",
    "    elif X2[i]<0.9:\n",
    "        T3=32\n",
    "    else:\n",
    "        T3=34\n",
    "    if (T3<T2+T1).all():  # 起始时间加追赶时间是否小于运行时间\n",
    "        s += 1\n",
    "    continue\n",
    "print(\"赶上火车的概率:{}\".format(s/COUNT))"
   ]
  }
 ],
 "metadata": {
  "kernelspec": {
   "display_name": "Python 3",
   "language": "python",
   "name": "python3"
  },
  "language_info": {
   "codemirror_mode": {
    "name": "ipython",
    "version": 3
   },
   "file_extension": ".py",
   "mimetype": "text/x-python",
   "name": "python",
   "nbconvert_exporter": "python",
   "pygments_lexer": "ipython3",
   "version": "3.6.3"
  }
 },
 "nbformat": 4,
 "nbformat_minor": 4
}
