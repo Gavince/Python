{
 "cells": [
  {
   "cell_type": "code",
   "execution_count": 151,
   "metadata": {},
   "outputs": [],
   "source": [
    "import numpy as np\n",
    "import matplotlib.pylab as plt\n",
    "import seaborn as sns\n",
    "COUNT = 10000"
   ]
  },
  {
   "cell_type": "code",
   "execution_count": 152,
   "metadata": {},
   "outputs": [
    {
     "data": {
      "text/plain": [
       "26.912414918748617"
      ]
     },
     "execution_count": 152,
     "metadata": {},
     "output_type": "execute_result"
    }
   ],
   "source": [
    "time0 = 0 # 从A->B站可能的运行时间\n",
    "time0 = np.random.normal(30, 2)\n",
    "time0"
   ]
  },
  {
   "cell_type": "markdown",
   "metadata": {},
   "source": [
    "### 开车时间的模拟"
   ]
  },
  {
   "cell_type": "code",
   "execution_count": 154,
   "metadata": {},
   "outputs": [
    {
     "name": "stdout",
     "output_type": "stream",
     "text": [
      "0.6959 0.20100000000000004 0.1031\n"
     ]
    }
   ],
   "source": [
    "s1, s3 = 0, 0\n",
    "\n",
    "for i in range(COUNT):\n",
    "    x = np.random.rand(1)\n",
    "    if x < 0.7:\n",
    "        s1 += 1\n",
    "    elif x > 0.9:\n",
    "        s3 += 1\n",
    "print(s1/COUNT, 1-s1/COUNT-s3/COUNT, s3/COUNT)"
   ]
  },
  {
   "cell_type": "markdown",
   "metadata": {},
   "source": [
    "### 人到达时刻仿真"
   ]
  },
  {
   "cell_type": "code",
   "execution_count": 156,
   "metadata": {},
   "outputs": [],
   "source": [
    "s1, s2, s3, s4 = 0, 0, 0, 0\n",
    "\n",
    "for i in range(COUNT):\n",
    "    x = np.random.rand(1)\n",
    "    if x < 0.3:\n",
    "        s1 += 1\n",
    "    elif x < 0.7:\n",
    "        s2 += 1\n",
    "    elif x<0.9:\n",
    "        s3 += 1\n",
    "    else:\n",
    "        s4 += 1"
   ]
  },
  {
   "cell_type": "code",
   "execution_count": 157,
   "metadata": {},
   "outputs": [
    {
     "name": "stdout",
     "output_type": "stream",
     "text": [
      "0.2932 0.4069 0.1993 0.1006\n"
     ]
    }
   ],
   "source": [
    "print(s1/10000,s2/10000,s3/10000,s4/10000)"
   ]
  },
  {
   "cell_type": "markdown",
   "metadata": {},
   "source": [
    "### 火车运行时间仿真"
   ]
  },
  {
   "cell_type": "code",
   "execution_count": 158,
   "metadata": {},
   "outputs": [
    {
     "name": "stdout",
     "output_type": "stream",
     "text": [
      "预测追赶时间： [28.65351722 30.4092198  29.09466815 ... 31.78994015 31.4299805\n",
      " 29.93535455]\n",
      "预测均值：29.98, \n",
      "预测方差：1.99\n"
     ]
    }
   ],
   "source": [
    "s = np.random.normal(0,1,COUNT)\n",
    "y = np.zeros((1, COUNT))\n",
    "for i in range(COUNT):\n",
    "    y[0][i] = 2*s[i]+30\n",
    "\n",
    "print(\"预测追赶时间：\", y[0])\n",
    "print(\"预测均值：%.2f, \\n预测方差：%.2f\"%(y[0].mean(), y[0].std()))"
   ]
  },
  {
   "cell_type": "code",
   "execution_count": 159,
   "metadata": {},
   "outputs": [
    {
     "data": {
      "image/png": "[encoded data removed]",
      "text/plain": [
       "<matplotlib.figure.Figure at 0x7f0794a5db00>"
      ]
     },
     "metadata": {},
     "output_type": "display_data"
    }
   ],
   "source": [
    "plt.hist(y[0],color=\"b\")\n",
    "plt.show()"
   ]
  },
  {
   "cell_type": "markdown",
   "metadata": {},
   "source": [
    "[答案](https://wenku.baidu.com/view/edca0cd376eeaeaad1f33032.html)  \n",
    "[python](https://blog.csdn.net/weixin_41503009/article/details/81613044)"
   ]
  },
  {
   "cell_type": "code",
   "execution_count": null,
   "metadata": {},
   "outputs": [],
   "source": []
  }
 ],
 "metadata": {
  "kernelspec": {
   "display_name": "Python 3",
   "language": "python",
   "name": "python3"
  },
  "language_info": {
   "codemirror_mode": {
    "name": "ipython",
    "version": 3
   },
   "file_extension": ".py",
   "mimetype": "text/x-python",
   "name": "python",
   "nbconvert_exporter": "python",
   "pygments_lexer": "ipython3",
   "version": "3.6.3"
  }
 },
 "nbformat": 4,
 "nbformat_minor": 4
}
