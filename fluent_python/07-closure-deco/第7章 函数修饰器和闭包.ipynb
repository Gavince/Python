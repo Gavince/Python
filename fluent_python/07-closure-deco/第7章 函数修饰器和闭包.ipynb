{
 "cells": [
  {
   "cell_type": "markdown",
   "metadata": {},
   "source": [
    "# 第7章 函数修饰器和闭包"
   ]
  },
  {
   "cell_type": "markdown",
   "metadata": {},
   "source": [
    "## 实例：修饰器"
   ]
  },
  {
   "cell_type": "code",
   "execution_count": 2,
   "metadata": {},
   "outputs": [],
   "source": [
    "import time"
   ]
  },
  {
   "cell_type": "code",
   "execution_count": 14,
   "metadata": {},
   "outputs": [],
   "source": [
    "def time_consume(fun):\n",
    "    \"\"\"定义一个装饰器\"\"\"\n",
    "    def wrapper():\n",
    "        t1 = time.time()\n",
    "        fun()\n",
    "        print(time.time() - t1)\n",
    "    return wrapper"
   ]
  },
  {
   "cell_type": "code",
   "execution_count": 4,
   "metadata": {},
   "outputs": [],
   "source": [
    "def fun1():\n",
    "    t1 = time.time()\n",
    "    print(\"您好\")\n",
    "    print(time.time() - t1)"
   ]
  },
  {
   "cell_type": "code",
   "execution_count": 5,
   "metadata": {},
   "outputs": [],
   "source": [
    "def fun2():\n",
    "    print(\"北京\")"
   ]
  },
  {
   "cell_type": "code",
   "execution_count": 6,
   "metadata": {},
   "outputs": [],
   "source": [
    "@time_consume\n",
    "def fun3():\n",
    "    count = 0\n",
    "    for i in range(10000):\n",
    "        count += 1\n",
    "    print(count)"
   ]
  },
  {
   "cell_type": "code",
   "execution_count": 8,
   "metadata": {},
   "outputs": [
    {
     "data": {
      "text/plain": [
       "<function __main__.time_consume.<locals>.wrapper()>"
      ]
     },
     "execution_count": 8,
     "metadata": {},
     "output_type": "execute_result"
    }
   ],
   "source": [
    "# 返回值不在是fun3函数\n",
    "fun3"
   ]
  },
  {
   "cell_type": "code",
   "execution_count": 9,
   "metadata": {},
   "outputs": [
    {
     "name": "stdout",
     "output_type": "stream",
     "text": [
      "10000\n",
      "0.0019364356994628906\n"
     ]
    }
   ],
   "source": []
  },
  {
   "cell_type": "code",
   "execution_count": 10,
   "metadata": {},
   "outputs": [
    {
     "name": "stdout",
     "output_type": "stream",
     "text": [
      "北京\n"
     ]
    }
   ],
   "source": [
    "fun2()"
   ]
  },
  {
   "cell_type": "code",
   "execution_count": 11,
   "metadata": {},
   "outputs": [
    {
     "data": {
      "text/plain": [
       "<function __main__.fun2()>"
      ]
     },
     "execution_count": 11,
     "metadata": {},
     "output_type": "execute_result"
    }
   ],
   "source": [
    "fun2"
   ]
  },
  {
   "cell_type": "code",
   "execution_count": 12,
   "metadata": {},
   "outputs": [
    {
     "name": "stdout",
     "output_type": "stream",
     "text": [
      "您好\n",
      "8.511543273925781e-05\n"
     ]
    }
   ],
   "source": [
    "fun1()"
   ]
  },
  {
   "cell_type": "code",
   "execution_count": 13,
   "metadata": {},
   "outputs": [
    {
     "data": {
      "text/plain": [
       "<function __main__.fun1()>"
      ]
     },
     "execution_count": 13,
     "metadata": {},
     "output_type": "execute_result"
    }
   ],
   "source": [
    "fun1"
   ]
  },
  {
   "cell_type": "markdown",
   "metadata": {},
   "source": [
    "## 装饰器的执行顺序\n",
    "装饰器的一个关键特性是，它们在被装饰的函数定义之后立即运行。这通常是在导入时（即Python加载模块时）， 而为修饰的函数需要在触发后在执行。"
   ]
  },
  {
   "cell_type": "code",
   "execution_count": 15,
   "metadata": {},
   "outputs": [
    {
     "name": "stdout",
     "output_type": "stream",
     "text": [
      "running register(<function f1 at 0x7f1222f829d0>)\n",
      "running register(<function f2 at 0x7f123947cd30>)\n",
      "running main()\n",
      "registry -> [<function f1 at 0x7f1222f829d0>, <function f2 at 0x7f123947cd30>]\n",
      "running f1()\n",
      "running f2()\n",
      "running f3()\n"
     ]
    }
   ],
   "source": [
    "# BEGIN REGISTRATION\n",
    "\n",
    "registry = []  # <1>\n",
    "\n",
    "def register(func):  # <2>\n",
    "    print('running register(%s)' % func)  # <3>\n",
    "    registry.append(func)  # <4>\n",
    "    return func  # <5>\n",
    "\n",
    "@register  # <6>\n",
    "def f1():\n",
    "    print('running f1()')\n",
    "\n",
    "@register\n",
    "def f2():\n",
    "    print('running f2()')\n",
    "\n",
    "def f3():  # <7>\n",
    "    print('running f3()')\n",
    "\n",
    "def main():  # <8>\n",
    "    print('running main()')\n",
    "    print('registry ->', registry)\n",
    "    f1()\n",
    "    f2()\n",
    "    f3()\n",
    "\n",
    "if __name__=='__main__':\n",
    "    main()  # <9>\n",
    "\n",
    "# END REGISTRATION"
   ]
  },
  {
   "cell_type": "code",
   "execution_count": 16,
   "metadata": {},
   "outputs": [
    {
     "name": "stdout",
     "output_type": "stream",
     "text": [
      "running register(<function f1 at 0x7f1222f82af0>)\n",
      "running register(<function f2 at 0x7f1222f82f70>)\n"
     ]
    }
   ],
   "source": [
    "import registration"
   ]
  },
  {
   "cell_type": "code",
   "execution_count": 18,
   "metadata": {},
   "outputs": [
    {
     "data": {
      "text/plain": [
       "[<function registration.f1()>, <function registration.f2()>]"
      ]
     },
     "execution_count": 18,
     "metadata": {},
     "output_type": "execute_result"
    }
   ],
   "source": [
    "registration.registry"
   ]
  },
  {
   "cell_type": "markdown",
   "metadata": {},
   "source": [
    "## 变量作用域规则\n",
    "[Python 变量作用域](https://blog.csdn.net/cc7756789w/article/details/46635383)"
   ]
  },
  {
   "cell_type": "markdown",
   "metadata": {},
   "source": [
    "## 作用域"
   ]
  },
  {
   "cell_type": "code",
   "execution_count": 42,
   "metadata": {},
   "outputs": [],
   "source": [
    "def f1(a):\n",
    "    print(a)\n",
    "    print(b)"
   ]
  },
  {
   "cell_type": "code",
   "execution_count": 43,
   "metadata": {},
   "outputs": [
    {
     "name": "stdout",
     "output_type": "stream",
     "text": [
      "1\n"
     ]
    },
    {
     "ename": "NameError",
     "evalue": "name 'b' is not defined",
     "output_type": "error",
     "traceback": [
      "\u001b[0;31m---------------------------------------------------------------------------\u001b[0m",
      "\u001b[0;31mNameError\u001b[0m                                 Traceback (most recent call last)",
      "\u001b[0;32m<ipython-input-43-18bf5aabb7a6>\u001b[0m in \u001b[0;36m<module>\u001b[0;34m\u001b[0m\n\u001b[0;32m----> 1\u001b[0;31m \u001b[0mf1\u001b[0m\u001b[0;34m(\u001b[0m\u001b[0ma\u001b[0m \u001b[0;34m=\u001b[0m \u001b[0;36m1\u001b[0m\u001b[0;34m)\u001b[0m\u001b[0;34m\u001b[0m\u001b[0;34m\u001b[0m\u001b[0m\n\u001b[0m",
      "\u001b[0;32m<ipython-input-42-9f4177411975>\u001b[0m in \u001b[0;36mf1\u001b[0;34m(a)\u001b[0m\n\u001b[1;32m      1\u001b[0m \u001b[0;32mdef\u001b[0m \u001b[0mf1\u001b[0m\u001b[0;34m(\u001b[0m\u001b[0ma\u001b[0m\u001b[0;34m)\u001b[0m\u001b[0;34m:\u001b[0m\u001b[0;34m\u001b[0m\u001b[0;34m\u001b[0m\u001b[0m\n\u001b[1;32m      2\u001b[0m     \u001b[0mprint\u001b[0m\u001b[0;34m(\u001b[0m\u001b[0ma\u001b[0m\u001b[0;34m)\u001b[0m\u001b[0;34m\u001b[0m\u001b[0;34m\u001b[0m\u001b[0m\n\u001b[0;32m----> 3\u001b[0;31m     \u001b[0mprint\u001b[0m\u001b[0;34m(\u001b[0m\u001b[0mb\u001b[0m\u001b[0;34m)\u001b[0m\u001b[0;34m\u001b[0m\u001b[0;34m\u001b[0m\u001b[0m\n\u001b[0m",
      "\u001b[0;31mNameError\u001b[0m: name 'b' is not defined"
     ]
    }
   ],
   "source": [
    "f1(a = 1)"
   ]
  },
  {
   "cell_type": "code",
   "execution_count": 44,
   "metadata": {},
   "outputs": [],
   "source": [
    "b = 1"
   ]
  },
  {
   "cell_type": "code",
   "execution_count": 45,
   "metadata": {},
   "outputs": [
    {
     "name": "stdout",
     "output_type": "stream",
     "text": [
      "1\n",
      "1\n"
     ]
    }
   ],
   "source": [
    "f1(a=1)"
   ]
  },
  {
   "cell_type": "code",
   "execution_count": 46,
   "metadata": {},
   "outputs": [],
   "source": [
    "# 局部变量未定义\n",
    "def f2(a):\n",
    "    print(a)\n",
    "    print(b)\n",
    "    b = 5"
   ]
  },
  {
   "cell_type": "code",
   "execution_count": 47,
   "metadata": {},
   "outputs": [
    {
     "name": "stdout",
     "output_type": "stream",
     "text": [
      "5\n"
     ]
    },
    {
     "ename": "UnboundLocalError",
     "evalue": "local variable 'b' referenced before assignment",
     "output_type": "error",
     "traceback": [
      "\u001b[0;31m---------------------------------------------------------------------------\u001b[0m",
      "\u001b[0;31mUnboundLocalError\u001b[0m                         Traceback (most recent call last)",
      "\u001b[0;32m<ipython-input-47-486dabcf0954>\u001b[0m in \u001b[0;36m<module>\u001b[0;34m\u001b[0m\n\u001b[1;32m      1\u001b[0m \u001b[0mb\u001b[0m \u001b[0;34m=\u001b[0m \u001b[0;36m4\u001b[0m\u001b[0;34m\u001b[0m\u001b[0;34m\u001b[0m\u001b[0m\n\u001b[0;32m----> 2\u001b[0;31m \u001b[0mf2\u001b[0m\u001b[0;34m(\u001b[0m\u001b[0;36m5\u001b[0m\u001b[0;34m)\u001b[0m\u001b[0;34m\u001b[0m\u001b[0;34m\u001b[0m\u001b[0m\n\u001b[0m",
      "\u001b[0;32m<ipython-input-46-45fd10c456a2>\u001b[0m in \u001b[0;36mf2\u001b[0;34m(a)\u001b[0m\n\u001b[1;32m      2\u001b[0m \u001b[0;32mdef\u001b[0m \u001b[0mf2\u001b[0m\u001b[0;34m(\u001b[0m\u001b[0ma\u001b[0m\u001b[0;34m)\u001b[0m\u001b[0;34m:\u001b[0m\u001b[0;34m\u001b[0m\u001b[0;34m\u001b[0m\u001b[0m\n\u001b[1;32m      3\u001b[0m     \u001b[0mprint\u001b[0m\u001b[0;34m(\u001b[0m\u001b[0ma\u001b[0m\u001b[0;34m)\u001b[0m\u001b[0;34m\u001b[0m\u001b[0;34m\u001b[0m\u001b[0m\n\u001b[0;32m----> 4\u001b[0;31m     \u001b[0mprint\u001b[0m\u001b[0;34m(\u001b[0m\u001b[0mb\u001b[0m\u001b[0;34m)\u001b[0m\u001b[0;34m\u001b[0m\u001b[0;34m\u001b[0m\u001b[0m\n\u001b[0m\u001b[1;32m      5\u001b[0m     \u001b[0mb\u001b[0m \u001b[0;34m=\u001b[0m \u001b[0;36m5\u001b[0m\u001b[0;34m\u001b[0m\u001b[0;34m\u001b[0m\u001b[0m\n",
      "\u001b[0;31mUnboundLocalError\u001b[0m: local variable 'b' referenced before assignment"
     ]
    }
   ],
   "source": [
    "b = 4\n",
    "f2(5)"
   ]
  },
  {
   "cell_type": "code",
   "execution_count": 48,
   "metadata": {},
   "outputs": [],
   "source": [
    "# 局部变量未定义\n",
    "def f3(a):\n",
    "    global b\n",
    "    print(a)\n",
    "    print(b)\n",
    "    b = 5"
   ]
  },
  {
   "cell_type": "code",
   "execution_count": 49,
   "metadata": {},
   "outputs": [
    {
     "name": "stdout",
     "output_type": "stream",
     "text": [
      "4\n",
      "4\n"
     ]
    }
   ],
   "source": [
    "f3(4)"
   ]
  },
  {
   "cell_type": "code",
   "execution_count": 50,
   "metadata": {},
   "outputs": [],
   "source": [
    "b = 100"
   ]
  },
  {
   "cell_type": "code",
   "execution_count": 51,
   "metadata": {},
   "outputs": [
    {
     "name": "stdout",
     "output_type": "stream",
     "text": [
      "4\n",
      "100\n"
     ]
    }
   ],
   "source": [
    "f3(4)"
   ]
  },
  {
   "cell_type": "code",
   "execution_count": 52,
   "metadata": {},
   "outputs": [
    {
     "name": "stdout",
     "output_type": "stream",
     "text": [
      "100\n",
      "1000\n"
     ]
    }
   ],
   "source": [
    "# 局部作用域和全局作用域的区别\n",
    "# 在 def/class/lambda内进行赋值，就变成了其局部的作用域，局部作用域会覆盖全局作用域，但不会影响全局作用域。\n",
    "g = 1000\n",
    "\n",
    "def fun1(g):\n",
    "    \n",
    "    g = 100\n",
    "    \n",
    "    return g\n",
    "\n",
    "print(fun1(10))\n",
    "print(g)"
   ]
  },
  {
   "cell_type": "markdown",
   "metadata": {},
   "source": [
    "## 闭包\n",
    "概念：其实，闭包指延伸了作用域的函数，其中包含函数定义体中引用、但是不在定义体中定义的非全局变量。函数是不是匿名的没有关系，==关键是它能访问定义体之外定义的非全局变量==。  \n",
    "[谈谈自己的理解:python中闭包，闭包的实质](https://www.cnblogs.com/s-1314-521/p/9763376.html)"
   ]
  },
  {
   "cell_type": "code",
   "execution_count": 53,
   "metadata": {},
   "outputs": [],
   "source": [
    "class Averge:\n",
    "\n",
    "    def __init__(self):\n",
    "\n",
    "        self.series = []\n",
    "\n",
    "    def __call__(self, new_value):\n",
    "\n",
    "        self.series.append(new_value)\n",
    "        total_val = sum(self.series)\n",
    "        return total_val / len(self.series)"
   ]
  },
  {
   "cell_type": "code",
   "execution_count": 54,
   "metadata": {},
   "outputs": [],
   "source": [
    "# 通过使用avg使得实例对象为可调用的对象\n",
    "agv = Averge()"
   ]
  },
  {
   "cell_type": "code",
   "execution_count": 55,
   "metadata": {},
   "outputs": [
    {
     "data": {
      "text/plain": [
       "4.0"
      ]
     },
     "execution_count": 55,
     "metadata": {},
     "output_type": "execute_result"
    }
   ],
   "source": [
    "agv(4)"
   ]
  },
  {
   "cell_type": "code",
   "execution_count": 56,
   "metadata": {},
   "outputs": [
    {
     "data": {
      "text/plain": [
       "4.5"
      ]
     },
     "execution_count": 56,
     "metadata": {},
     "output_type": "execute_result"
    }
   ],
   "source": [
    "agv(5)"
   ]
  },
  {
   "cell_type": "code",
   "execution_count": 57,
   "metadata": {},
   "outputs": [
    {
     "data": {
      "text/plain": [
       "5.0"
      ]
     },
     "execution_count": 57,
     "metadata": {},
     "output_type": "execute_result"
    }
   ],
   "source": [
    "agv(6)"
   ]
  },
  {
   "cell_type": "code",
   "execution_count": 58,
   "metadata": {},
   "outputs": [],
   "source": [
    "# 外函数\n",
    "def Averge1():\n",
    "    # 自由变量\n",
    "    series = []\n",
    "    # 内函数\n",
    "\n",
    "    def make_averge(x):\n",
    "\n",
    "        series.append(x)\n",
    "        total_val = sum(series)\n",
    "\n",
    "        return total_val / len(series)\n",
    "    # 返回内函数的引用\n",
    "    return make_averge"
   ]
  },
  {
   "cell_type": "code",
   "execution_count": 59,
   "metadata": {},
   "outputs": [],
   "source": [
    "avg = Averge1()"
   ]
  },
  {
   "cell_type": "code",
   "execution_count": 60,
   "metadata": {},
   "outputs": [
    {
     "data": {
      "text/plain": [
       "<function __main__.Averge1.<locals>.make_averge(x)>"
      ]
     },
     "execution_count": 60,
     "metadata": {},
     "output_type": "execute_result"
    }
   ],
   "source": [
    "avg"
   ]
  },
  {
   "cell_type": "code",
   "execution_count": 61,
   "metadata": {},
   "outputs": [
    {
     "data": {
      "text/plain": [
       "10.0"
      ]
     },
     "execution_count": 61,
     "metadata": {},
     "output_type": "execute_result"
    }
   ],
   "source": [
    "avg(10)"
   ]
  },
  {
   "cell_type": "code",
   "execution_count": 62,
   "metadata": {},
   "outputs": [
    {
     "data": {
      "text/plain": [
       "27.5"
      ]
     },
     "execution_count": 62,
     "metadata": {},
     "output_type": "execute_result"
    }
   ],
   "source": [
    "avg(45)"
   ]
  },
  {
   "cell_type": "code",
   "execution_count": 63,
   "metadata": {},
   "outputs": [
    {
     "data": {
      "text/plain": [
       "(<cell at 0x7f373a5fcd00: list object at 0x7f373ab8e980>,)"
      ]
     },
     "execution_count": 63,
     "metadata": {},
     "output_type": "execute_result"
    }
   ],
   "source": [
    "avg.__closure__"
   ]
  },
  {
   "cell_type": "code",
   "execution_count": 64,
   "metadata": {},
   "outputs": [
    {
     "data": {
      "text/plain": [
       "('series',)"
      ]
     },
     "execution_count": 64,
     "metadata": {},
     "output_type": "execute_result"
    }
   ],
   "source": [
    "avg.__code__.co_freevars"
   ]
  },
  {
   "cell_type": "code",
   "execution_count": 65,
   "metadata": {},
   "outputs": [
    {
     "data": {
      "text/plain": [
       "('x', 'total_val')"
      ]
     },
     "execution_count": 65,
     "metadata": {},
     "output_type": "execute_result"
    }
   ],
   "source": [
    "avg.__code__.co_varnames"
   ]
  },
  {
   "cell_type": "code",
   "execution_count": 66,
   "metadata": {},
   "outputs": [],
   "source": [
    "# 外函数\n",
    "def Averge1():\n",
    "    # 自由变量\n",
    "    count = 0\n",
    "    total = 0\n",
    "    # 内函数\n",
    "\n",
    "    def make_averge(x):\n",
    "        nonlocal count, total\n",
    "        count += 1\n",
    "        total += x\n",
    "\n",
    "        return count/total\n",
    "    # 返回内函数的引用\n",
    "    return make_averge"
   ]
  },
  {
   "cell_type": "code",
   "execution_count": 67,
   "metadata": {},
   "outputs": [
    {
     "data": {
      "text/plain": [
       "0.1"
      ]
     },
     "execution_count": 67,
     "metadata": {},
     "output_type": "execute_result"
    }
   ],
   "source": [
    "A = Averge1()\n",
    "A(10)"
   ]
  },
  {
   "cell_type": "code",
   "execution_count": 68,
   "metadata": {},
   "outputs": [
    {
     "data": {
      "text/plain": [
       "0.06666666666666667"
      ]
     },
     "execution_count": 68,
     "metadata": {},
     "output_type": "execute_result"
    }
   ],
   "source": [
    "A(20)"
   ]
  },
  {
   "cell_type": "code",
   "execution_count": 69,
   "metadata": {},
   "outputs": [
    {
     "data": {
      "text/plain": [
       "2"
      ]
     },
     "execution_count": 69,
     "metadata": {},
     "output_type": "execute_result"
    }
   ],
   "source": [
    "A.__closure__[0].cell_contents"
   ]
  },
  {
   "cell_type": "markdown",
   "metadata": {},
   "source": [
    "# 实现一个简单的装饰器\n",
    "把被装饰的函数替换成新函数，二者接受相同的参数，而且（通常）返回被装饰的函数本该返回的值，同时还会做些额外操作。"
   ]
  },
  {
   "cell_type": "code",
   "execution_count": 110,
   "metadata": {},
   "outputs": [],
   "source": [
    "import functools"
   ]
  },
  {
   "cell_type": "code",
   "execution_count": 115,
   "metadata": {},
   "outputs": [],
   "source": [
    "def clock(func):\n",
    "    functools.wraps(func)\n",
    "\n",
    "    def clocked(*args, **kwargs):\n",
    "\n",
    "        t0 = time.perf_counter()\n",
    "        result = func(*args, **kwargs)  # 闭包\n",
    "        t1 = time.perf_counter() - t0\n",
    "        name = func.__name__\n",
    "        doc = func.__doc__\n",
    "        arg_str = \",\".join(repr(arg) for arg in args)\n",
    "        print(\"[%0.8fs] %s  %s(%s) --> %r\" % (t1, doc, name, arg_str, result))\n",
    "\n",
    "        return result\n",
    "\n",
    "    return clocked  # 返回内部函数的引用"
   ]
  },
  {
   "cell_type": "code",
   "execution_count": 116,
   "metadata": {},
   "outputs": [],
   "source": [
    "@clock\n",
    "def snooze(seconds):\n",
    "    time.sleep(seconds)\n",
    "\n",
    "\n",
    "@clock\n",
    "def fib(x):\n",
    "    return 1 if x < 2 else x*fib(x - 1)"
   ]
  },
  {
   "cell_type": "code",
   "execution_count": 117,
   "metadata": {},
   "outputs": [
    {
     "name": "stdout",
     "output_type": "stream",
     "text": [
      "[0.44056613s] None  snooze(0.44) --> None\n",
      "[0.00000105s] None  fib(1) --> 1\n",
      "[0.00007794s] None  fib(2) --> 2\n",
      "[0.00013735s] None  fib(3) --> 6\n",
      "[0.00019228s] None  fib(4) --> 24\n",
      "[0.00024311s] None  fib(5) --> 120\n"
     ]
    },
    {
     "data": {
      "text/plain": [
       "120"
      ]
     },
     "execution_count": 117,
     "metadata": {},
     "output_type": "execute_result"
    }
   ],
   "source": [
    "snooze(.44)\n",
    "fib(5)  # 每调用一次该函数，都将被修饰一次"
   ]
  },
  {
   "cell_type": "code",
   "execution_count": 118,
   "metadata": {},
   "outputs": [
    {
     "name": "stdout",
     "output_type": "stream",
     "text": [
      "[0.00000105s] None  fib(1) --> 1\n",
      "[0.00157254s] None  fib(2) --> 2\n",
      "[0.00161405s] None  fib(3) --> 6\n",
      "[0.00163869s] None  fib(4) --> 24\n",
      "[0.00166354s] None  fib(5) --> 120\n"
     ]
    },
    {
     "data": {
      "text/plain": [
       "<function __main__.clock.<locals>.clocked(*args, **kwargs)>"
      ]
     },
     "execution_count": 118,
     "metadata": {},
     "output_type": "execute_result"
    }
   ],
   "source": [
    "# 等价于\n",
    "fi = clock(fib(5))\n",
    "fi"
   ]
  },
  {
   "cell_type": "code",
   "execution_count": 119,
   "metadata": {},
   "outputs": [
    {
     "data": {
      "text/plain": [
       "'clocked'"
      ]
     },
     "execution_count": 119,
     "metadata": {},
     "output_type": "execute_result"
    }
   ],
   "source": [
    "fi.__name__"
   ]
  },
  {
   "cell_type": "code",
   "execution_count": 120,
   "metadata": {},
   "outputs": [
    {
     "name": "stdout",
     "output_type": "stream",
     "text": [
      "[0.00000044s] None  fib(1) --> 1\n",
      "[0.00006110s] None  fib(2) --> 2\n",
      "[0.00008037s] None  fib(3) --> 6\n",
      "[0.00009723s] None  fib(4) --> 24\n",
      "[0.00011283s] None  fib(5) --> 120\n",
      "[0.00012887s] None  fib(6) --> 720\n"
     ]
    },
    {
     "data": {
      "text/plain": [
       "720"
      ]
     },
     "execution_count": 120,
     "metadata": {},
     "output_type": "execute_result"
    }
   ],
   "source": [
    "fib(6)"
   ]
  },
  {
   "cell_type": "code",
   "execution_count": 121,
   "metadata": {},
   "outputs": [
    {
     "name": "stdout",
     "output_type": "stream",
     "text": [
      "[0.00000048s] fibonacci(0) -> 0\n",
      "[0.00000095s] fibonacci(1) -> 1\n",
      "[0.00012970s] fibonacci(2) -> 1\n",
      "[0.00000048s] fibonacci(1) -> 1\n",
      "[0.00000095s] fibonacci(0) -> 0\n",
      "[0.00000048s] fibonacci(1) -> 1\n",
      "[0.00004673s] fibonacci(2) -> 1\n",
      "[0.00009584s] fibonacci(3) -> 2\n",
      "[0.00027132s] fibonacci(4) -> 3\n",
      "[0.00000048s] fibonacci(1) -> 1\n",
      "[0.00000048s] fibonacci(0) -> 0\n",
      "[0.00000048s] fibonacci(1) -> 1\n",
      "[0.00004268s] fibonacci(2) -> 1\n",
      "[0.00008655s] fibonacci(3) -> 2\n",
      "[0.00000048s] fibonacci(0) -> 0\n",
      "[0.00000048s] fibonacci(1) -> 1\n",
      "[0.00004292s] fibonacci(2) -> 1\n",
      "[0.00000024s] fibonacci(1) -> 1\n",
      "[0.00000072s] fibonacci(0) -> 0\n",
      "[0.00000048s] fibonacci(1) -> 1\n",
      "[0.00004387s] fibonacci(2) -> 1\n",
      "[0.00008774s] fibonacci(3) -> 2\n",
      "[0.00017190s] fibonacci(4) -> 3\n",
      "[0.00030231s] fibonacci(5) -> 5\n",
      "[0.00061679s] fibonacci(6) -> 8\n",
      "8\n"
     ]
    }
   ],
   "source": [
    "from clockdeco import clock\n",
    "\n",
    "\n",
    "@clock\n",
    "def fibonacci(n):\n",
    "    if n < 2:\n",
    "        return n\n",
    "    return fibonacci(n-2) + fibonacci(n-1)\n",
    "\n",
    "\n",
    "if __name__ == '__main__':\n",
    "    # 正常递归情况的数据运行情况\n",
    "    # fib(1)最多被调用了8次，增加了时间上的开销\n",
    "    print(fibonacci(6))"
   ]
  },
  {
   "cell_type": "code",
   "execution_count": 122,
   "metadata": {},
   "outputs": [
    {
     "name": "stdout",
     "output_type": "stream",
     "text": [
      "[0.00000072s] fibonacci(0) -> 0\n",
      "[0.00000191s] fibonacci(1) -> 1\n",
      "[0.00132489s] fibonacci(2) -> 1\n",
      "[0.00000119s] fibonacci(3) -> 2\n",
      "[0.00168562s] fibonacci(4) -> 3\n",
      "[0.00000143s] fibonacci(5) -> 5\n",
      "[0.00196171s] fibonacci(6) -> 8\n",
      "8\n"
     ]
    }
   ],
   "source": [
    "@functools.lru_cache()\n",
    "@clock\n",
    "def fibonacci(n):\n",
    "    if n < 2:\n",
    "        return n\n",
    "    return fibonacci(n-2) + fibonacci(n-1)\n",
    "\n",
    "\n",
    "if __name__ == '__main__':\n",
    "    # 使用lru，节省的时间开销\n",
    "    print(fibonacci(6))"
   ]
  },
  {
   "cell_type": "markdown",
   "metadata": {},
   "source": [
    "## 参数化修饰器"
   ]
  },
  {
   "cell_type": "code",
   "execution_count": 123,
   "metadata": {},
   "outputs": [
    {
     "name": "stdout",
     "output_type": "stream",
     "text": [
      "running register(<function f1 at 0x7f3739dc5f70>)\n",
      "running main()\n",
      "registry -> [<function f1 at 0x7f3739dc5f70>]\n",
      "running f1()\n"
     ]
    }
   ],
   "source": [
    "# BEGIN REGISTRATION_ABRIDGED\n",
    "registry = []\n",
    "\n",
    "\n",
    "def register(func):\n",
    "    print('running register(%s)' % func)\n",
    "    registry.append(func)\n",
    "    return func\n",
    "\n",
    "\n",
    "@register\n",
    "def f1():\n",
    "    print('running f1()')\n",
    "\n",
    "\n",
    "print('running main()')\n",
    "print('registry ->', registry)\n",
    "f1()\n",
    "# END REGISTRATION_ABRIDGED"
   ]
  },
  {
   "cell_type": "code",
   "execution_count": 124,
   "metadata": {},
   "outputs": [
    {
     "name": "stdout",
     "output_type": "stream",
     "text": [
      "running register(active=False)->decorate(<function f1 at 0x7f3739dc5040>)\n",
      "running register(active=True)->decorate(<function f2 at 0x7f3739dc5f70>)\n"
     ]
    }
   ],
   "source": [
    "# BEGIN REGISTRATION_PARAM\n",
    "\n",
    "registry = set()  # <1>\n",
    "\n",
    "\n",
    "def register(active=True):  # <2>\n",
    "    def decorate(func):  # <3>\n",
    "        print('running register(active=%s)->decorate(%s)'\n",
    "              % (active, func))\n",
    "        if active:   # <4>\n",
    "            registry.add(func)\n",
    "        else:\n",
    "            registry.discard(func)  # <5>\n",
    "\n",
    "        return func  # <6>\n",
    "    return decorate  # <7>\n",
    "\n",
    "\n",
    "@register(active=False)  # <8>\n",
    "def f1():\n",
    "    print('running f1()')\n",
    "\n",
    "\n",
    "@register()  # <9>\n",
    "def f2():\n",
    "    print('running f2()')\n",
    "\n",
    "\n",
    "def f3():\n",
    "    print('running f3()')\n",
    "\n",
    "# END REGISTRATION_PARAM"
   ]
  },
  {
   "cell_type": "code",
   "execution_count": 128,
   "metadata": {},
   "outputs": [
    {
     "name": "stdout",
     "output_type": "stream",
     "text": [
      "running f2()\n"
     ]
    }
   ],
   "source": [
    "# 添加修饰器\n",
    "f2()"
   ]
  },
  {
   "cell_type": "code",
   "execution_count": 129,
   "metadata": {},
   "outputs": [
    {
     "data": {
      "text/plain": [
       "{<function __main__.f2()>, <function __main__.f3()>}"
      ]
     },
     "execution_count": 129,
     "metadata": {},
     "output_type": "execute_result"
    }
   ],
   "source": [
    "registry"
   ]
  },
  {
   "cell_type": "code",
   "execution_count": 132,
   "metadata": {},
   "outputs": [
    {
     "name": "stdout",
     "output_type": "stream",
     "text": [
      "running register(active=True)->decorate(<function f3 at 0x7f373a23adc0>)\n"
     ]
    },
    {
     "data": {
      "text/plain": [
       "<function __main__.f3()>"
      ]
     },
     "execution_count": 132,
     "metadata": {},
     "output_type": "execute_result"
    }
   ],
   "source": [
    "# 不加修饰器\n",
    "register()(f3)"
   ]
  },
  {
   "cell_type": "markdown",
   "metadata": {},
   "source": [
    "## 通用修饰器"
   ]
  },
  {
   "cell_type": "code",
   "execution_count": 134,
   "metadata": {},
   "outputs": [
    {
     "name": "stdout",
     "output_type": "stream",
     "text": [
      "test called\n",
      "test1 called\n",
      "test2 called and value is 9 \n"
     ]
    }
   ],
   "source": [
    "def w_test(func):\n",
    "    def inner(*args, **kwargs):\n",
    "        ret = func(*args, **kwargs)\n",
    "        return ret\n",
    "\n",
    "    return inner\n",
    "\n",
    "\n",
    "@w_test\n",
    "def test():\n",
    "    print('test called')\n",
    "\n",
    "\n",
    "@w_test\n",
    "def test1():\n",
    "    print('test1 called')\n",
    "    return 'python'\n",
    "\n",
    "\n",
    "@w_test\n",
    "def test2(a):\n",
    "    print('test2 called and value is %d ' % a)\n",
    "\n",
    "\n",
    "test()\n",
    "test1()\n",
    "test2(9)\n",
    "\n",
    "# 输出:\n",
    "# test called\n",
    "# test1 called\n",
    "# test2 called and value is 9"
   ]
  },
  {
   "cell_type": "markdown",
   "metadata": {},
   "source": [
    "# 参考"
   ]
  },
  {
   "cell_type": "markdown",
   "metadata": {},
   "source": [
    "[谈谈python修饰器](https://www.jianshu.com/p/ab702e4d4ba7)\n",
    "\n"
   ]
  },
  {
   "cell_type": "code",
   "execution_count": null,
   "metadata": {},
   "outputs": [],
   "source": []
  }
 ],
 "metadata": {
  "kernelspec": {
   "display_name": "Python 3",
   "language": "python",
   "name": "python3"
  },
  "language_info": {
   "codemirror_mode": {
    "name": "ipython",
    "version": 3
   },
   "file_extension": ".py",
   "mimetype": "text/x-python",
   "name": "python",
   "nbconvert_exporter": "python",
   "pygments_lexer": "ipython3",
   "version": "3.8.5"
  },
  "toc-autonumbering": false,
  "toc-showtags": false
 },
 "nbformat": 4,
 "nbformat_minor": 4
}
