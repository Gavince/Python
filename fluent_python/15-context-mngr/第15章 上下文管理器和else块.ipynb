{
 "cells": [
  {
   "cell_type": "code",
   "execution_count": 5,
   "id": "30b760ac-7471-4dba-a03f-77fd968a7065",
   "metadata": {},
   "outputs": [],
   "source": [
    "my_list = [1, 5, 3, 4]"
   ]
  },
  {
   "cell_type": "code",
   "execution_count": 6,
   "id": "0bf45849-8c71-4ad4-a716-181f83ef9da0",
   "metadata": {},
   "outputs": [
    {
     "ename": "ValueError",
     "evalue": "Val 2 no existing!",
     "output_type": "error",
     "traceback": [
      "\u001b[0;31m---------------------------------------------------------------------------\u001b[0m",
      "\u001b[0;31mValueError\u001b[0m                                Traceback (most recent call last)",
      "\u001b[0;32m<ipython-input-6-5909178dc4c8>\u001b[0m in \u001b[0;36m<module>\u001b[0;34m\u001b[0m\n\u001b[1;32m      3\u001b[0m         \u001b[0;32mbreak\u001b[0m\u001b[0;34m\u001b[0m\u001b[0;34m\u001b[0m\u001b[0m\n\u001b[1;32m      4\u001b[0m \u001b[0;32melse\u001b[0m\u001b[0;34m:\u001b[0m\u001b[0;34m\u001b[0m\u001b[0;34m\u001b[0m\u001b[0m\n\u001b[0;32m----> 5\u001b[0;31m     \u001b[0;32mraise\u001b[0m \u001b[0mValueError\u001b[0m\u001b[0;34m(\u001b[0m\u001b[0;34m\"Val 2 no existing!\"\u001b[0m\u001b[0;34m)\u001b[0m\u001b[0;34m\u001b[0m\u001b[0;34m\u001b[0m\u001b[0m\n\u001b[0m",
      "\u001b[0;31mValueError\u001b[0m: Val 2 no existing!"
     ]
    }
   ],
   "source": [
    "# 先执行\n",
    "for val in my_list:\n",
    "    if val == 2:\n",
    "        break\n",
    "else:\n",
    "    raise ValueError(\"Val 2 no existing!\")"
   ]
  },
  {
   "cell_type": "code",
   "execution_count": 8,
   "id": "376ecb9c-234e-4063-9b6d-2530eb9f889a",
   "metadata": {},
   "outputs": [],
   "source": [
    "with open(\"mirror.py\") as f:\n",
    "    src = f.read(60)"
   ]
  },
  {
   "cell_type": "code",
   "execution_count": 13,
   "id": "58f54698-4962-4056-8ace-ab2bf7abed02",
   "metadata": {},
   "outputs": [
    {
     "data": {
      "text/plain": [
       "60"
      ]
     },
     "execution_count": 13,
     "metadata": {},
     "output_type": "execute_result"
    }
   ],
   "source": [
    "len(src)"
   ]
  },
  {
   "cell_type": "code",
   "execution_count": 15,
   "id": "a84b96b1-dedf-4279-bf76-014093b1e69c",
   "metadata": {},
   "outputs": [
    {
     "data": {
      "text/plain": [
       "('mirror.py', 'r', 'UTF-8')"
      ]
     },
     "execution_count": 15,
     "metadata": {},
     "output_type": "execute_result"
    }
   ],
   "source": [
    "f.name, f.mode, f.encoding"
   ]
  },
  {
   "cell_type": "code",
   "execution_count": 16,
   "id": "a663344c-9e92-48c5-8104-7329afd2d260",
   "metadata": {},
   "outputs": [
    {
     "ename": "ValueError",
     "evalue": "I/O operation on closed file.",
     "output_type": "error",
     "traceback": [
      "\u001b[0;31m---------------------------------------------------------------------------\u001b[0m",
      "\u001b[0;31mValueError\u001b[0m                                Traceback (most recent call last)",
      "\u001b[0;32m<ipython-input-16-5a354f952aa4>\u001b[0m in \u001b[0;36m<module>\u001b[0;34m\u001b[0m\n\u001b[0;32m----> 1\u001b[0;31m \u001b[0mf\u001b[0m\u001b[0;34m.\u001b[0m\u001b[0mread\u001b[0m\u001b[0;34m(\u001b[0m\u001b[0;36m1\u001b[0m\u001b[0;34m)\u001b[0m\u001b[0;34m\u001b[0m\u001b[0;34m\u001b[0m\u001b[0m\n\u001b[0m",
      "\u001b[0;31mValueError\u001b[0m: I/O operation on closed file."
     ]
    }
   ],
   "source": [
    "f.read(1)"
   ]
  },
  {
   "cell_type": "code",
   "execution_count": 23,
   "id": "2d059c3d-65d5-455b-9267-b2ab1fdc3dc9",
   "metadata": {},
   "outputs": [],
   "source": [
    "from mirror import LookingGlass"
   ]
  },
  {
   "cell_type": "code",
   "execution_count": 25,
   "id": "e50f1446-b60e-4728-92b8-798439278fb9",
   "metadata": {},
   "outputs": [
    {
     "name": "stdout",
     "output_type": "stream",
     "text": [
      "ededed\n",
      "YKCOWREBBAJ\n"
     ]
    }
   ],
   "source": [
    "with  LookingGlass() as what:\n",
    "    print(\"dedede\")\n",
    "    print(what)"
   ]
  },
  {
   "cell_type": "code",
   "execution_count": 26,
   "id": "d17ebb6e-6c03-4f88-8040-db41f6b03e5e",
   "metadata": {},
   "outputs": [
    {
     "data": {
      "text/plain": [
       "'JABBERWOCKY'"
      ]
     },
     "execution_count": 26,
     "metadata": {},
     "output_type": "execute_result"
    }
   ],
   "source": [
    "what"
   ]
  },
  {
   "cell_type": "code",
   "execution_count": null,
   "id": "3d37734b-deb3-43d6-82fd-a398bc941ba5",
   "metadata": {},
   "outputs": [],
   "source": []
  }
 ],
 "metadata": {
  "kernelspec": {
   "display_name": "Python 3",
   "language": "python",
   "name": "python3"
  },
  "language_info": {
   "codemirror_mode": {
    "name": "ipython",
    "version": 3
   },
   "file_extension": ".py",
   "mimetype": "text/x-python",
   "name": "python",
   "nbconvert_exporter": "python",
   "pygments_lexer": "ipython3",
   "version": "3.8.5"
  }
 },
 "nbformat": 4,
 "nbformat_minor": 5
}
