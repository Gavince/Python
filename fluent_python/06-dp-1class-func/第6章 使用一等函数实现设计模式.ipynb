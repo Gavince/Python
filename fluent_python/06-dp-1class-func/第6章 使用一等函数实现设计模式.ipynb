{
 "cells": [
  {
   "cell_type": "markdown",
   "metadata": {},
   "source": [
    "# 第6章 使用一等函数实现设计模式"
   ]
  },
  {
   "cell_type": "markdown",
   "metadata": {},
   "source": [
    "## 策略模式"
   ]
  },
  {
   "cell_type": "code",
   "execution_count": 5,
   "metadata": {},
   "outputs": [],
   "source": [
    "# 上下文：把计算委托给实现不同算法的可互换组件，它提供服务。上下文是Order，它会根据不同的算法计算促销折扣\n",
    "# 策略：实现不同算法的组件共同的接口\n",
    "#       策略1：有 1000 或以上积分的顾客，每个订单享 5% 折扣\n",
    "#       策略2：同一订单中，单个商品的数量达到 20 个或以上，享 10% 折扣\n",
    "#       策略3：订单中的不同商品达到 10 个或以上，享 7% 折扣\n",
    "# 具体策略：策略的具体子类。\n",
    "\n",
    "from abc import ABC, abstractmethod\n",
    "from collections import namedtuple\n",
    "\n",
    "Customer = namedtuple(\"Customer\", \"name fidelity\")  # 通过具名元组定义一个”顾客“类型，包含【顾客名称、顾客积分】"
   ]
  },
  {
   "cell_type": "code",
   "execution_count": 5,
   "metadata": {},
   "outputs": [],
   "source": [
    "class LineItem:\n",
    "    \"\"\"定义清单明细\"\"\"\n",
    "\n",
    "    def __init__(self, product, quantity, price):\n",
    "        \"\"\"\n",
    "        定义单个物品的购买属性\n",
    "        \"\"\"\n",
    "        self.product = product  # 物品\n",
    "        self.quantity = quantity  # 数量\n",
    "        self.price = price  # 单价\n",
    "\n",
    "    def total(self):\n",
    "        \"\"\"明细价格：价格*数量\"\"\"\n",
    "        return self.price * self.quantity"
   ]
  },
  {
   "cell_type": "code",
   "execution_count": 5,
   "metadata": {},
   "outputs": [],
   "source": [
    "class Order:\n",
    "    \"\"\"订单信息\"\"\"\n",
    "\n",
    "    def __init__(self, customer, cart, promotion):\n",
    "        \n",
    "        self.customer = customer  # 顾客\n",
    "        self.cart = list(cart)  # 购物车\n",
    "        self.promotion = promotion  # 折扣策略\n",
    "\n",
    "    def total(self):\n",
    "        \"\"\"总价格（未打折）= 购物车中明细价格之和\"\"\"\n",
    "        \n",
    "        if not hasattr(self, '__total'):\n",
    "            return sum(item.total() for item in self.cart)\n",
    "        return self.__total\n",
    "\n",
    "    def due(self):\n",
    "        \"\"\"最终价格/确定价格 总价格-折扣价格\"\"\"\n",
    "        \n",
    "        if self.promotion is None:\n",
    "            discount = 0\n",
    "        else:\n",
    "            # 传入一个当前对象\n",
    "            discount = self.promotion.discount(self)\n",
    "        return self.total() - discount\n",
    "\n",
    "    def __repr__(self):\n",
    "        \n",
    "        fmt = '<Order total:{:.2f} due:{:.2f}>'\n",
    "        return fmt.format(self.total(), self.due())"
   ]
  },
  {
   "cell_type": "code",
   "execution_count": 5,
   "metadata": {},
   "outputs": [],
   "source": [
    "class Promotion(ABC):\n",
    "    \"\"\"策略，抽象基类\"\"\"\n",
    "\n",
    "    @abstractmethod\n",
    "    def discount(self, order):\n",
    "        \"\"\"返回折扣金额（正值）\"\"\"\n",
    "\n",
    "\n",
    "class FidelityPromo(Promotion):\n",
    "    \n",
    "    def discount(self, order):\n",
    "\n",
    "        # 策略1：有 1000 或以上积分的顾客，每个订单享 5% 折扣\n",
    "        return order.total() * .05 if order.customer.fidelity > 1000 else 0\n",
    "\n",
    "\n",
    "class BulkItemPromo(Promotion):\n",
    "    \n",
    "    def discount(self, order):\n",
    "        \n",
    "        # 策略2：同一订单中，单个商品的数量达到 20 个或以上，享 10% 折扣\n",
    "        discout = 0\n",
    "        for item in order.cart:\n",
    "            if item.quantity >= 20:\n",
    "                discout += item.total() * .1\n",
    "                \n",
    "        return discout\n",
    "\n",
    "\n",
    "class LargeOrderPromo(Promotion):\n",
    "    \n",
    "    def discount(self, order):\n",
    "        \n",
    "        # 策略3：订单中的不同商品达到 10 个或以上，享 7% 折扣\n",
    "        # return order.total() * .07 if len(order.cart) >= 10 else 0\n",
    "        distinct_items = {item.product for item in order.cart}\n",
    "        if len(distinct_items) >= 10:\n",
    "            return order.total() * .07\n",
    "        \n",
    "        return 0"
   ]
  },
  {
   "cell_type": "code",
   "execution_count": 12,
   "metadata": {},
   "outputs": [
    {
     "name": "stdout",
     "output_type": "stream",
     "text": [
      "<Order total:42.00 due:42.00>\n"
     ]
    }
   ],
   "source": [
    "# 两个顾客：joe 的积分是 0，ann 的积分是 1100。\n",
    "joe = Customer('John Doe', 0)\n",
    "ann = Customer('Ann Smith', 1100)\n",
    "# 物品、数量和单价\n",
    "# 2 + 15 + 25\n",
    "cart = [LineItem('banana', 4, .5), LineItem('apple', 10, 1.5), LineItem('watermellon', 5, 5.0)]\n",
    "print(Order(joe, cart, FidelityPromo())) # <Order total:42.00 due:42.00> 不打折"
   ]
  },
  {
   "cell_type": "code",
   "execution_count": 9,
   "metadata": {},
   "outputs": [
    {
     "name": "stdout",
     "output_type": "stream",
     "text": [
      "<Order total:42.00 due:39.90>\n"
     ]
    }
   ],
   "source": [
    "print(Order(ann, cart, FidelityPromo())) # <Order total:42.00 due:39.90> 策略1：有 1000 或以上积分的顾客，每个订单享 5% 折扣"
   ]
  },
  {
   "cell_type": "code",
   "execution_count": 10,
   "metadata": {},
   "outputs": [
    {
     "name": "stdout",
     "output_type": "stream",
     "text": [
      "<Order total:30.00 due:28.50>\n"
     ]
    }
   ],
   "source": [
    "banana_cart = [LineItem('banana', 30, .5), LineItem('apple', 10, 1.5)]\n",
    "print(Order(joe, banana_cart, BulkItemPromo())) #<Order total:30.00 due:28.50> # 策略2：同一订单中，单个商品的数量达到 20 个或以上，享 10% 折扣"
   ]
  },
  {
   "cell_type": "code",
   "execution_count": 11,
   "metadata": {},
   "outputs": [
    {
     "name": "stdout",
     "output_type": "stream",
     "text": [
      "<Order total:10.00 due:9.30>\n",
      "<Order total:42.00 due:42.00>\n"
     ]
    }
   ],
   "source": [
    "long_order = [LineItem(str(item_code), 1, 1.0) for item_code in range(10)]\n",
    "print(Order(joe, long_order, LargeOrderPromo())) #<Order total:10.00 due:9.30> 策略3：订单中的不同商品达到 10 个或以上，享 7% 折扣\n",
    "print(Order(joe, cart, LargeOrderPromo()))"
   ]
  },
  {
   "cell_type": "markdown",
   "metadata": {},
   "source": [
    "## 使用函数实现\"策略\"模型"
   ]
  },
  {
   "cell_type": "code",
   "execution_count": 15,
   "metadata": {},
   "outputs": [],
   "source": [
    "# 优化6-2 没必要在新建订单时实例化新的促销对象，函数拿来即用\n",
    "# 上下文：把计算委托给实现不同算法的可互换组件，它提供服务。上下文是Order，它会根据不同的算法计算促销折扣\n",
    "# 策略：实现不同算法的组件共同的接口\n",
    "#       策略1：有 1000 或以上积分的顾客，每个订单享 5% 折扣\n",
    "#       策略2：同一订单中，单个商品的数量达到 20 个或以上，享 10% 折扣\n",
    "#       策略3：订单中的不同商品达到 10 个或以上，享 7% 折扣\n",
    "# 具体策略：策略的具体子类。\n",
    "from collections import namedtuple\n",
    "\n",
    "Customer = namedtuple(\"Customer\", \"name fidelity\")  # 通过具名元组定义一个”顾客“类型，包含【顾客名称、顾客积分】"
   ]
  },
  {
   "cell_type": "code",
   "execution_count": 15,
   "metadata": {},
   "outputs": [],
   "source": [
    "class LineItem:\n",
    "    \"\"\"定义清单明细\"\"\"\n",
    "\n",
    "    def __init__(self, product, quantity, price):\n",
    "        self.product = product  # 物品\n",
    "        self.quantity = quantity  # 数量\n",
    "        self.price = price  # 单价\n",
    "\n",
    "    def total(self):\n",
    "        \"\"\"明细价格：价格*数量\"\"\"\n",
    "        return self.price * self.quantity\n",
    "\n",
    "\n",
    "class Order:\n",
    "    \"\"\"订单信息\"\"\"\n",
    "\n",
    "    def __init__(self, customer, cart, promotion):\n",
    "        self.customer = customer  # 顾客\n",
    "        self.cart = list(cart)  # 购物车\n",
    "        self.promotion = promotion  # 折扣策略\n",
    "\n",
    "    def total(self):\n",
    "        \"\"\"总价格（未打折）= 购物车中明细价格之和\"\"\"\n",
    "        if not hasattr(self, '__total'):\n",
    "            return sum(item.total() for item in self.cart)\n",
    "        return self.__total\n",
    "\n",
    "    def due(self):\n",
    "        \"\"\"最终价格/确定价格 总价格-折扣价格\"\"\"\n",
    "        if self.promotion is None:\n",
    "            discount = 0\n",
    "        else:\n",
    "            discount = self.promotion(self)\n",
    "        return self.total() - discount\n",
    "\n",
    "    def __repr__(self):\n",
    "        fmt = '<Order total:{:.2f} due:{:.2f}>'\n",
    "        return fmt.format(self.total(), self.due())\n",
    "\n",
    "def fidelity_promo(order):\n",
    "    # 策略1：有 1000 或以上积分的顾客，每个订单享 5% 折扣\n",
    "    return order.total() * .05 if order.customer.fidelity > 1000 else 0\n",
    "\n",
    "def bulk_item_promo(order):\n",
    "    # 策略2：同一订单中，单个商品的数量达到 20 个或以上，享 10% 折扣\n",
    "    discout = 0\n",
    "    for item in order.cart:\n",
    "        if item.quantity >= 20:\n",
    "            discout += item.total() * .1\n",
    "    return discout\n",
    "\n",
    "def large_order_promo(order):\n",
    "    # 策略3：订单中的不同商品达到 10 个或以上，享 7% 折扣\n",
    "    # return order.total() * .07 if len(order.cart) >= 10 else 0\n",
    "    distinct_items = {item.product for item in order.cart}\n",
    "    if len(distinct_items) >= 10:\n",
    "        return order.total() * .07\n",
    "    return 0"
   ]
  },
  {
   "cell_type": "code",
   "execution_count": 26,
   "metadata": {},
   "outputs": [
    {
     "name": "stdout",
     "output_type": "stream",
     "text": [
      "<Order total:42.00 due:42.00>\n",
      "<Order total:42.00 due:39.90>\n",
      "<Order total:30.00 due:28.50>\n",
      "<Order total:10.00 due:9.30>\n",
      "<Order total:42.00 due:42.00>\n"
     ]
    }
   ],
   "source": [
    "# 两个顾客：joe 的积分是 0，ann 的积分是 1100。\n",
    "\n",
    "joe = Customer('John Doe', 0)\n",
    "ann = Customer('Ann Smith', 1100)\n",
    "cart = [LineItem('banana', 4, .5), LineItem('apple', 10, 1.5), LineItem('watermellon', 5, 5.0)]\n",
    "print(Order(joe, cart, fidelity_promo))  # <Order total:42.00 due:42.00> 不打折\n",
    "print(Order(ann, cart, fidelity_promo))  # <Order total:42.00 due:39.90> 策略1：有 1000 或以上积分的顾客，每个订单享 5% 折扣\n",
    "banana_cart = [LineItem('banana', 30, .5), LineItem('apple', 10, 1.5)]\n",
    "print(Order(joe, banana_cart, bulk_item_promo))  # <Order total:30.00 due:28.50> # 策略2：同一订单中，单个商品的数量达到 20 个或以上，享 10% 折扣\n",
    "long_order = [LineItem(str(item_code), 1, 1.0) for item_code in range(10)]\n",
    "print(Order(joe, long_order, large_order_promo))  # <Order total:10.00 due:9.30> 策略3：订单中的不同商品达到 10 个或以上，享 7% 折扣\n",
    "print(Order(joe, cart, large_order_promo))"
   ]
  },
  {
   "cell_type": "markdown",
   "metadata": {},
   "source": [
    "## 选择最佳策略：简单的方式"
   ]
  },
  {
   "cell_type": "code",
   "execution_count": 27,
   "metadata": {},
   "outputs": [],
   "source": [
    "# 找到最优的优惠方案\n",
    "# 上下文：把计算委托给实现不同算法的可互换组件，它提供服务。上下文是Order，它会根据不同的算法计算促销折扣\n",
    "# 策略：实现不同算法的组件共同的接口\n",
    "#       策略1：有 1000 或以上积分的顾客，每个订单享 5% 折扣\n",
    "#       策略2：同一订单中，单个商品的数量达到 20 个或以上，享 10% 折扣\n",
    "#       策略3：订单中的不同商品达到 10 个或以上，享 7% 折扣\n",
    "# 具体策略：策略的具体子类。\n",
    "\n",
    "# from abc import ABC, abstractmethod\n",
    "from collections import namedtuple\n",
    "\n",
    "Customer = namedtuple(\"Customer\", \"name fidelity\")  # 通过具名元组定义一个”顾客“类型，包含【顾客名称、顾客积分】\n",
    "\n",
    "\n",
    "class LineItem:\n",
    "    \"\"\"定义清单明细\"\"\"\n",
    "\n",
    "    def __init__(self, product, quantity, price):\n",
    "        self.product = product  # 物品\n",
    "        self.quantity = quantity  # 数量\n",
    "        self.price = price  # 单价\n",
    "\n",
    "    def total(self):\n",
    "        \"\"\"明细价格：价格*数量\"\"\"\n",
    "        return self.price * self.quantity\n",
    "\n",
    "\n",
    "class Order:\n",
    "    \"\"\"订单信息\"\"\"\n",
    "\n",
    "    def __init__(self, customer, cart, promotion):\n",
    "        self.customer = customer  # 顾客\n",
    "        self.cart = list(cart)  # 购物车\n",
    "        self.promotion = promotion  # 折扣策略\n",
    "\n",
    "    def total(self):\n",
    "        \"\"\"总价格（未打折）= 购物车中明细价格之和\"\"\"\n",
    "        if not hasattr(self, '__total'):\n",
    "            return sum(item.total() for item in self.cart)\n",
    "        return self.__total\n",
    "\n",
    "    def due(self):\n",
    "        \"\"\"最终价格/确定价格 总价格-折扣价格\"\"\"\n",
    "        if self.promotion is None:\n",
    "            discount = 0\n",
    "        else:\n",
    "            discount = self.promotion(self)\n",
    "        return self.total() - discount\n",
    "\n",
    "    def __repr__(self):\n",
    "        fmt = '<Order total:{:.2f} due:{:.2f}>'\n",
    "        return fmt.format(self.total(), self.due())\n",
    "\n",
    "\n",
    "def fidelity_promo(order):\n",
    "    # 策略1：有 1000 或以上积分的顾客，每个订单享 5% 折扣\n",
    "    return order.total() * .05 if order.customer.fidelity > 1000 else 0\n",
    "\n",
    "\n",
    "def bulk_item_promo(order):\n",
    "    # 策略2：同一订单中，单个商品的数量达到 20 个或以上，享 10% 折扣\n",
    "    discout = 0\n",
    "    for item in order.cart:\n",
    "        if item.quantity >= 20:\n",
    "            discout += item.total() * .1\n",
    "    return discout\n",
    "\n",
    "\n",
    "def large_order_promo(order):\n",
    "    # 策略3：订单中的不同商品达到 10 个或以上，享 7% 折扣\n",
    "    # return order.total() * .07 if len(order.cart) >= 10 else 0\n",
    "    distinct_items = {item.product for item in order.cart}\n",
    "    if len(distinct_items) >= 10:\n",
    "        return order.total() * .07\n",
    "    return 0\n",
    "\n",
    "\n",
    "def best_promo(order):\n",
    "    \"\"\"\n",
    "    选择最优的折扣方案\n",
    "    :param order: 订单\n",
    "    :return: 最优解\n",
    "    \"\"\"\n",
    "    promos = [fidelity_promo, bulk_item_promo, large_order_promo]  # 列出函数实现的各个策略\n",
    "    return max(promo(order) for promo in promos)"
   ]
  },
  {
   "cell_type": "code",
   "execution_count": 28,
   "metadata": {},
   "outputs": [],
   "source": [
    "# 两个顾客：joe 的积分是 0，ann 的积分是 1100。\n",
    "joe = Customer('John Doe', 0)\n",
    "ann = Customer('Ann Smith', 1100)\n",
    "# 三种购物车\n",
    "cart = [LineItem('banana', 4, .5), LineItem('apple', 10, 1.5), LineItem('watermellon', 5, 5.0)]\n",
    "banana_cart = [LineItem('banana', 30, .5), LineItem('apple', 10, 1.5)]\n",
    "long_order = [LineItem(str(item_code), 1, 1.0) for item_code in range(10)]"
   ]
  },
  {
   "cell_type": "code",
   "execution_count": 29,
   "metadata": {},
   "outputs": [
    {
     "name": "stdout",
     "output_type": "stream",
     "text": [
      "------------joe的选择（普通购物车）------------\n",
      "<Order total:42.00 due:42.00>\n",
      "<Order total:42.00 due:42.00>\n",
      "<Order total:42.00 due:42.00>\n",
      "<Order total:42.00 due:42.00>\n"
     ]
    }
   ],
   "source": [
    "print(\"------------joe的选择（普通购物车）------------\")\n",
    "print(Order(joe, cart, fidelity_promo))  # <Order total:42.00 due:42.00> 不打折\n",
    "print(Order(joe, cart, bulk_item_promo))  # <Order total:30.00 due:28.50> # 策略2：同一订单中，单个商品的数量达到 20 个或以上，享 10% 折扣\n",
    "print(Order(joe, cart, large_order_promo))  # <Order total:10.00 due:9.30> 策略3：订单中的不同商品达到 10 个或以上，享 7% 折扣\n",
    "print(Order(joe, cart, best_promo))  # <Order total:10.00 due:9.30> 策略3：订单中的不同商品达到 10 个或以上，享 7% 折扣"
   ]
  },
  {
   "cell_type": "code",
   "execution_count": 30,
   "metadata": {},
   "outputs": [
    {
     "name": "stdout",
     "output_type": "stream",
     "text": [
      "------------ann的选择（普通购物车）------------\n",
      "<Order total:42.00 due:39.90>\n",
      "<Order total:42.00 due:42.00>\n",
      "<Order total:42.00 due:42.00>\n",
      "<Order total:42.00 due:39.90>\n"
     ]
    }
   ],
   "source": [
    "print(\"------------ann的选择（普通购物车）------------\")\n",
    "print(Order(ann, cart, fidelity_promo))  # <Order total:42.00 due:42.00> 不打折\n",
    "print(Order(ann, cart, bulk_item_promo))  # <Order total:30.00 due:28.50> # 策略2：同一订单中，单个商品的数量达到 20 个或以上，享 10% 折扣\n",
    "print(Order(ann, cart, large_order_promo))  # <Order total:10.00 due:9.30> 策略3：订单中的不同商品达到 10 个或以上，享 7% 折扣\n",
    "print(Order(ann, cart, best_promo))  # <Order total:10.00 due:9.30> 策略3：订单中的不同商品达到 10 个或以上，享 7% 折扣"
   ]
  },
  {
   "cell_type": "code",
   "execution_count": 31,
   "metadata": {},
   "outputs": [
    {
     "name": "stdout",
     "output_type": "stream",
     "text": [
      "------------joe的选择（香蕉购物车）------------\n",
      "<Order total:30.00 due:30.00>\n",
      "<Order total:30.00 due:28.50>\n",
      "<Order total:30.00 due:30.00>\n",
      "<Order total:30.00 due:28.50>\n"
     ]
    }
   ],
   "source": [
    "print(\"------------joe的选择（香蕉购物车）------------\")\n",
    "print(Order(joe, banana_cart, fidelity_promo))  # <Order total:42.00 due:42.00> 不打折\n",
    "print(Order(joe, banana_cart, bulk_item_promo))  # <Order total:30.00 due:28.50> # 策略2：同一订单中，单个商品的数量达到 20 个或以上，享 10% 折扣\n",
    "print(Order(joe, banana_cart, large_order_promo))  # <Order total:10.00 due:9.30> 策略3：订单中的不同商品达到 10 个或以上，享 7% 折扣\n",
    "print(Order(joe, banana_cart, best_promo))  # <Order total:10.00 due:9.30> 策略3：订单中的不同商品达到 10 个或以上，享 7% 折扣"
   ]
  },
  {
   "cell_type": "code",
   "execution_count": 32,
   "metadata": {},
   "outputs": [
    {
     "name": "stdout",
     "output_type": "stream",
     "text": [
      "------------joe的选择（长订单购物车）------------\n",
      "<Order total:10.00 due:10.00>\n",
      "<Order total:10.00 due:10.00>\n",
      "<Order total:10.00 due:9.30>\n",
      "<Order total:10.00 due:9.30>\n"
     ]
    }
   ],
   "source": [
    "print(\"------------joe的选择（长订单购物车）------------\")\n",
    "print(Order(joe, long_order, fidelity_promo))  # <Order total:42.00 due:42.00> 不打折\n",
    "print(Order(joe, long_order, bulk_item_promo))  # <Order total:30.00 due:28.50> # 策略2：同一订单中，单个商品的数量达到 20 个或以上，享 10% 折扣\n",
    "print(Order(joe, long_order, large_order_promo))  # <Order total:10.00 due:9.30> 策略3：订单中的不同商品达到 10 个或以上，享 7% 折扣\n",
    "print(Order(joe, long_order, best_promo))  # <Order total:10.00 due:9.30> 策略3：订单中的不同商品达到 10 个或以上，享 7% 折扣"
   ]
  },
  {
   "cell_type": "markdown",
   "metadata": {},
   "source": [
    "## 选择最佳策略：灵活的方式"
   ]
  },
  {
   "cell_type": "code",
   "execution_count": 33,
   "metadata": {},
   "outputs": [],
   "source": [
    "#  6-6 的有一个缺陷：若添加新的促销策略，要定义相应的函数，需要及得把它添加到 promos 列表中。否则 best_promo 不会考虑它\n",
    "#  globals() 返回一个字典，表示当前的全局符号表。 使用 globals 函数帮助 best_promo 自动找到其他可用的 *_promo 函数，过程有点 曲折。\n",
    "\n",
    "# from abc import ABC, abstractmethod\n",
    "from collections import namedtuple\n",
    "\n",
    "Customer = namedtuple(\"Customer\", \"name fidelity\")  # 通过具名元组定义一个”顾客“类型，包含【顾客名称、顾客积分】\n",
    "\n",
    "\n",
    "class LineItem:\n",
    "    \"\"\"定义清单明细\"\"\"\n",
    "\n",
    "    def __init__(self, product, quantity, price):\n",
    "        self.product = product  # 物品\n",
    "        self.quantity = quantity  # 数量\n",
    "        self.price = price  # 单价\n",
    "\n",
    "    def total(self):\n",
    "        \"\"\"明细价格：价格*数量\"\"\"\n",
    "        return self.price * self.quantity\n",
    "\n",
    "\n",
    "class Order:\n",
    "    \"\"\"订单信息\"\"\"\n",
    "\n",
    "    def __init__(self, customer, cart, promotion):\n",
    "        self.customer = customer  # 顾客\n",
    "        self.cart = list(cart)  # 购物车\n",
    "        self.promotion = promotion  # 折扣策略\n",
    "\n",
    "    def total(self):\n",
    "        \"\"\"总价格（未打折）= 购物车中明细价格之和\"\"\"\n",
    "        if not hasattr(self, '__total'):\n",
    "            return sum(item.total() for item in self.cart)\n",
    "        return self.__total\n",
    "\n",
    "    def due(self):\n",
    "        \"\"\"最终价格/确定价格 总价格-折扣价格\"\"\"\n",
    "        if self.promotion is None:\n",
    "            discount = 0\n",
    "        else:\n",
    "            discount = self.promotion(self)\n",
    "        return self.total() - discount\n",
    "\n",
    "    def __repr__(self):\n",
    "        fmt = '<Order total:{:.2f} due:{:.2f}>'\n",
    "        return fmt.format(self.total(), self.due())\n",
    "\n",
    "\n",
    "def fidelity_promo(order):\n",
    "    # 策略1：有 1000 或以上积分的顾客，每个订单享 5% 折扣\n",
    "    return order.total() * .05 if order.customer.fidelity > 1000 else 0\n",
    "\n",
    "\n",
    "def bulk_item_promo(order):\n",
    "    # 策略2：同一订单中，单个商品的数量达到 20 个或以上，享 10% 折扣\n",
    "    discout = 0\n",
    "    for item in order.cart:\n",
    "        if item.quantity >= 20:\n",
    "            discout += item.total() * .1\n",
    "    return discout\n",
    "\n",
    "\n",
    "def large_order_promo(order):\n",
    "    # 策略3：订单中的不同商品达到 10 个或以上，享 7% 折扣\n",
    "    # return order.total() * .07 if len(order.cart) >= 10 else 0\n",
    "    distinct_items = {item.product for item in order.cart}\n",
    "    if len(distinct_items) >= 10:\n",
    "        return order.total() * .07\n",
    "    return 0\n",
    "\n",
    "\n",
    "def best_promo(order):\n",
    "    \"\"\"\n",
    "    选择最优的折扣方案\n",
    "    :param order: 订单\n",
    "    :return: 最优解\n",
    "    \"\"\"\n",
    "    # promos = [fidelity_promo, bulk_item_promo, large_order_promo]  # 列出函数实现的各个策略\n",
    "    # 直接在全局进行结果的搜索\n",
    "    promos = [globals()[name] for  name in globals() if name.endswith('_promo') and name != 'best_promo']\n",
    "    \n",
    "    return max(promo(order) for promo in promos)"
   ]
  },
  {
   "cell_type": "code",
   "execution_count": 34,
   "metadata": {},
   "outputs": [
    {
     "name": "stdout",
     "output_type": "stream",
     "text": [
      "------------joe的选择（普通购物车）------------\n",
      "<Order total:42.00 due:42.00>\n",
      "<Order total:42.00 due:42.00>\n",
      "<Order total:42.00 due:42.00>\n",
      "<Order total:42.00 due:42.00>\n",
      "------------ann的选择（普通购物车）------------\n",
      "<Order total:42.00 due:39.90>\n",
      "<Order total:42.00 due:42.00>\n",
      "<Order total:42.00 due:42.00>\n",
      "<Order total:42.00 due:39.90>\n",
      "------------joe的选择（香蕉购物车）------------\n",
      "<Order total:30.00 due:30.00>\n",
      "<Order total:30.00 due:28.50>\n",
      "<Order total:30.00 due:30.00>\n",
      "<Order total:30.00 due:28.50>\n",
      "------------joe的选择（长订单购物车）------------\n",
      "<Order total:10.00 due:10.00>\n",
      "<Order total:10.00 due:10.00>\n",
      "<Order total:10.00 due:9.30>\n",
      "<Order total:10.00 due:9.30>\n"
     ]
    }
   ],
   "source": [
    "# 两个顾客：joe 的积分是 0，ann 的积分是 1100。\n",
    "joe = Customer('John Doe', 0)\n",
    "ann = Customer('Ann Smith', 1100)\n",
    "# 三种购物车\n",
    "cart = [LineItem('banana', 4, .5), LineItem('apple', 10, 1.5), LineItem('watermellon', 5, 5.0)]\n",
    "banana_cart = [LineItem('banana', 30, .5), LineItem('apple', 10, 1.5)]\n",
    "long_order = [LineItem(str(item_code), 1, 1.0) for item_code in range(10)]\n",
    "\n",
    "print(\"------------joe的选择（普通购物车）------------\")\n",
    "print(Order(joe, cart, fidelity_promo))  # <Order total:42.00 due:42.00> 不打折\n",
    "print(Order(joe, cart, bulk_item_promo))  # <Order total:30.00 due:28.50> # 策略2：同一订单中，单个商品的数量达到 20 个或以上，享 10% 折扣\n",
    "print(Order(joe, cart, large_order_promo))  # <Order total:10.00 due:9.30> 策略3：订单中的不同商品达到 10 个或以上，享 7% 折扣\n",
    "print(Order(joe, cart, best_promo))  # <Order total:10.00 due:9.30> 策略3：订单中的不同商品达到 10 个或以上，享 7% 折扣\n",
    "print(\"------------ann的选择（普通购物车）------------\")\n",
    "print(Order(ann, cart, fidelity_promo))  # <Order total:42.00 due:42.00> 不打折\n",
    "print(Order(ann, cart, bulk_item_promo))  # <Order total:30.00 due:28.50> # 策略2：同一订单中，单个商品的数量达到 20 个或以上，享 10% 折扣\n",
    "print(Order(ann, cart, large_order_promo))  # <Order total:10.00 due:9.30> 策略3：订单中的不同商品达到 10 个或以上，享 7% 折扣\n",
    "print(Order(ann, cart, best_promo))  # <Order total:10.00 due:9.30> 策略3：订单中的不同商品达到 10 个或以上，享 7% 折扣\n",
    "print(\"------------joe的选择（香蕉购物车）------------\")\n",
    "print(Order(joe, banana_cart, fidelity_promo))  # <Order total:42.00 due:42.00> 不打折\n",
    "print(Order(joe, banana_cart, bulk_item_promo))  # <Order total:30.00 due:28.50> # 策略2：同一订单中，单个商品的数量达到 20 个或以上，享 10% 折扣\n",
    "print(Order(joe, banana_cart, large_order_promo))  # <Order total:10.00 due:9.30> 策略3：订单中的不同商品达到 10 个或以上，享 7% 折扣\n",
    "print(Order(joe, banana_cart, best_promo))  # <Order total:10.00 due:9.30> 策略3：订单中的不同商品达到 10 个或以上，享 7% 折扣\n",
    "print(\"------------joe的选择（长订单购物车）------------\")\n",
    "print(Order(joe, long_order, fidelity_promo))  # <Order total:42.00 due:42.00> 不打折\n",
    "print(Order(joe, long_order, bulk_item_promo))  # <Order total:30.00 due:28.50> # 策略2：同一订单中，单个商品的数量达到 20 个或以上，享 10% 折扣\n",
    "print(Order(joe, long_order, large_order_promo))  # <Order total:10.00 due:9.30> 策略3：订单中的不同商品达到 10 个或以上，享 7% 折扣\n",
    "print(Order(joe, long_order, best_promo))  # <Order total:10.00 due:9.30> 策略3：订单中的不同商品达到 10 个或以上，享 7% 折扣"
   ]
  },
  {
   "cell_type": "code",
   "execution_count": 41,
   "metadata": {},
   "outputs": [
    {
     "name": "stdout",
     "output_type": "stream",
     "text": [
      "fidelity_promo\n",
      "bulk_item_promo\n",
      "large_order_promo\n",
      "best_promo\n"
     ]
    }
   ],
   "source": [
    "for name in globals():\n",
    "    if name.endswith(\"_promo\"):\n",
    "        print(name)"
   ]
  },
  {
   "cell_type": "code",
   "execution_count": null,
   "metadata": {},
   "outputs": [],
   "source": []
  },
  {
   "cell_type": "code",
   "execution_count": null,
   "metadata": {},
   "outputs": [],
   "source": []
  }
 ],
 "metadata": {
  "kernelspec": {
   "display_name": "Python 3",
   "language": "python",
   "name": "python3"
  },
  "language_info": {
   "codemirror_mode": {
    "name": "ipython",
    "version": 3
   },
   "file_extension": ".py",
   "mimetype": "text/x-python",
   "name": "python",
   "nbconvert_exporter": "python",
   "pygments_lexer": "ipython3",
   "version": "3.8.5"
  },
  "toc-autonumbering": false
 },
 "nbformat": 4,
 "nbformat_minor": 4
}
