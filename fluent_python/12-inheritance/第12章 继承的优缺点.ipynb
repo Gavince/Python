{
 "cells": [
  {
   "cell_type": "code",
   "execution_count": 1,
   "id": "31423d0f-187d-4690-8293-b156d2351828",
   "metadata": {},
   "outputs": [],
   "source": [
    "class DoppeDice(dict):\n",
    "    \n",
    "    def __setitem__(self, key, value):\n",
    "        \n",
    "        super().__setitem__(key, [value] * 2)"
   ]
  },
  {
   "cell_type": "code",
   "execution_count": 2,
   "id": "af9552eb-6c95-488a-97de-2e19ab07ebda",
   "metadata": {},
   "outputs": [],
   "source": [
    "dd = DoppeDice(one=\"1\")"
   ]
  },
  {
   "cell_type": "code",
   "execution_count": 3,
   "id": "09f207a2-9fd4-495e-97f4-e141fb176df5",
   "metadata": {},
   "outputs": [
    {
     "data": {
      "text/plain": [
       "{'one': '1'}"
      ]
     },
     "execution_count": 3,
     "metadata": {},
     "output_type": "execute_result"
    }
   ],
   "source": [
    "dd"
   ]
  },
  {
   "cell_type": "code",
   "execution_count": 4,
   "id": "7cbea517-11f0-4dd3-bd1d-9f1df543ec8d",
   "metadata": {},
   "outputs": [
    {
     "data": {
      "text/plain": [
       "{'one': '1', 'two': [2, 2]}"
      ]
     },
     "execution_count": 4,
     "metadata": {},
     "output_type": "execute_result"
    }
   ],
   "source": [
    "dd[\"two\"] = 2\n",
    "dd"
   ]
  },
  {
   "cell_type": "code",
   "execution_count": 5,
   "id": "4644ffed-7960-455b-ac19-7d684cfe8f38",
   "metadata": {},
   "outputs": [
    {
     "data": {
      "text/plain": [
       "[2, 2]"
      ]
     },
     "execution_count": 5,
     "metadata": {},
     "output_type": "execute_result"
    }
   ],
   "source": [
    "dd.get(\"two\")"
   ]
  },
  {
   "cell_type": "code",
   "execution_count": 6,
   "id": "f1560429-94f2-4e18-92bd-2947c9c38d09",
   "metadata": {},
   "outputs": [
    {
     "data": {
      "text/plain": [
       "{'one': '1', 'two': [2, 2], 'three': 3}"
      ]
     },
     "execution_count": 6,
     "metadata": {},
     "output_type": "execute_result"
    }
   ],
   "source": [
    "dd.update(three = 3)\n",
    "dd"
   ]
  },
  {
   "cell_type": "code",
   "execution_count": 7,
   "id": "f7efc127-96c3-4f51-9791-94ee3eb0ee32",
   "metadata": {},
   "outputs": [],
   "source": [
    "class AnwerDict(dict):\n",
    "    \n",
    "    def __getitem__(self, key):\n",
    "        return 42"
   ]
  },
  {
   "cell_type": "code",
   "execution_count": 8,
   "id": "1f865bd2-5335-45cc-98f5-3d1bfe83651e",
   "metadata": {},
   "outputs": [],
   "source": [
    "ad = AnwerDict(a = \"foot\")"
   ]
  },
  {
   "cell_type": "code",
   "execution_count": 27,
   "id": "53f1e59a-bf84-4f13-9ba7-1d7932c4b9fb",
   "metadata": {},
   "outputs": [
    {
     "data": {
      "text/plain": [
       "42"
      ]
     },
     "execution_count": 27,
     "metadata": {},
     "output_type": "execute_result"
    }
   ],
   "source": [
    "ad[\"a\"]"
   ]
  },
  {
   "cell_type": "code",
   "execution_count": 22,
   "id": "a479b60a-cf6e-4d01-9349-d5476a69d5e2",
   "metadata": {},
   "outputs": [],
   "source": [
    "d = {}"
   ]
  },
  {
   "cell_type": "code",
   "execution_count": 24,
   "id": "9733e919-1503-47b6-be72-127b93836385",
   "metadata": {},
   "outputs": [
    {
     "data": {
      "text/plain": [
       "{'a': 'foot'}"
      ]
     },
     "execution_count": 24,
     "metadata": {},
     "output_type": "execute_result"
    }
   ],
   "source": [
    "d.update(ad)\n",
    "d"
   ]
  },
  {
   "cell_type": "code",
   "execution_count": 26,
   "id": "30328593-28ff-4510-b193-7a8dc9b340dc",
   "metadata": {},
   "outputs": [
    {
     "data": {
      "text/plain": [
       "'foot'"
      ]
     },
     "execution_count": 26,
     "metadata": {},
     "output_type": "execute_result"
    }
   ],
   "source": [
    "d[\"a\"]"
   ]
  },
  {
   "cell_type": "code",
   "execution_count": 29,
   "id": "6154bf8f-7d66-434e-ab56-f5b31ade8f92",
   "metadata": {},
   "outputs": [],
   "source": [
    "import collections"
   ]
  },
  {
   "cell_type": "code",
   "execution_count": 36,
   "id": "41dcdea8-b4f2-4777-80b0-bd9f5fe136ad",
   "metadata": {},
   "outputs": [],
   "source": [
    "class DoppeDice(collections.UserDict):\n",
    "    \n",
    "    def __setitem__(self, key, value):\n",
    "        \n",
    "        super().__setitem__(key, [value] * 2)"
   ]
  },
  {
   "cell_type": "code",
   "execution_count": 37,
   "id": "522de2e6-45d8-4e51-a40b-bac5e75eaf77",
   "metadata": {},
   "outputs": [
    {
     "data": {
      "text/plain": [
       "{'one': [1, 1]}"
      ]
     },
     "execution_count": 37,
     "metadata": {},
     "output_type": "execute_result"
    }
   ],
   "source": [
    "dd = DoppeDice(one = 1)\n",
    "dd"
   ]
  },
  {
   "cell_type": "code",
   "execution_count": 38,
   "id": "d01515bd-1615-480f-9da3-2010a80027cb",
   "metadata": {},
   "outputs": [
    {
     "data": {
      "text/plain": [
       "{'one': [1, 1], 'two': [2, 2]}"
      ]
     },
     "execution_count": 38,
     "metadata": {},
     "output_type": "execute_result"
    }
   ],
   "source": [
    "dd[\"two\"] = 2\n",
    "dd"
   ]
  },
  {
   "cell_type": "code",
   "execution_count": 39,
   "id": "b34040ec-fc7c-458c-a8a3-8e4764950f0d",
   "metadata": {},
   "outputs": [
    {
     "data": {
      "text/plain": [
       "{'one': [1, 1], 'two': [2, 2], 'three': [3, 3]}"
      ]
     },
     "execution_count": 39,
     "metadata": {},
     "output_type": "execute_result"
    }
   ],
   "source": [
    "dd.update(three = 3)\n",
    "dd"
   ]
  },
  {
   "cell_type": "code",
   "execution_count": 41,
   "id": "d76c0b4f-f0d2-405a-9019-dfba71cc782b",
   "metadata": {},
   "outputs": [],
   "source": [
    "class A:\n",
    "    def ping(self):\n",
    "        print('ping:', self)\n",
    "\n",
    "\n",
    "class B(A):\n",
    "    def pong(self):\n",
    "        print('pong:', self)\n",
    "\n",
    "\n",
    "class C(A):\n",
    "    def pong(self):\n",
    "        print('PONG:', self)\n",
    "\n",
    "\n",
    "class D(B, C):\n",
    "\n",
    "    def ping(self):\n",
    "        super().ping()\n",
    "        print('post-ping:', self)\n",
    "\n",
    "    def pingpong(self):\n",
    "        self.ping()\n",
    "        super().ping()\n",
    "        self.pong()\n",
    "        super().pong()\n",
    "        C.pong(self)"
   ]
  },
  {
   "cell_type": "code",
   "execution_count": 51,
   "id": "40b17a52-ba71-4849-b7df-5b0fe8e45a8b",
   "metadata": {},
   "outputs": [],
   "source": [
    "# %load diamond.py\n",
    "class A:\n",
    "    def ping(self):\n",
    "        print('(A)ping:', self)\n",
    "\n",
    "\n",
    "class B(A):\n",
    "    def pong(self):\n",
    "        print('(B)pong:', self)\n",
    "\n",
    "\n",
    "class C(A):\n",
    "    def pong(self):\n",
    "        print('(C)PONG:', self)\n",
    "\n",
    "\n",
    "class D(B, C):\n",
    "\n",
    "    def ping(self):\n",
    "        super().ping()\n",
    "        print('post-ping:', self)\n",
    "\n",
    "    def pingpong(self):\n",
    "        self.ping()\n",
    "        super().ping()\n",
    "        self.pong()\n",
    "        super().pong()\n",
    "        C.pong(self)\n"
   ]
  },
  {
   "cell_type": "code",
   "execution_count": 56,
   "id": "a54957c0-c342-46b8-ad40-3ee314e0d859",
   "metadata": {},
   "outputs": [
    {
     "data": {
      "text/plain": [
       "(__main__.D, __main__.B, __main__.C, __main__.A, object)"
      ]
     },
     "execution_count": 56,
     "metadata": {},
     "output_type": "execute_result"
    }
   ],
   "source": [
    "D.__mro__"
   ]
  },
  {
   "cell_type": "code",
   "execution_count": 52,
   "id": "6797a0fb-aa6f-4c68-9cd8-619cdbeff134",
   "metadata": {},
   "outputs": [],
   "source": [
    "d = D()"
   ]
  },
  {
   "cell_type": "code",
   "execution_count": 58,
   "id": "7dbe9bfc-aceb-4c94-96b3-cafa6f0c3be6",
   "metadata": {},
   "outputs": [
    {
     "name": "stdout",
     "output_type": "stream",
     "text": [
      "(A)ping: <__main__.D object at 0x7f516da93940>\n",
      "post-ping: <__main__.D object at 0x7f516da93940>\n"
     ]
    }
   ],
   "source": [
    "d.ping()"
   ]
  },
  {
   "cell_type": "code",
   "execution_count": 53,
   "id": "ebe070ec-f31a-4d3d-9f3d-1d87482e2460",
   "metadata": {},
   "outputs": [
    {
     "name": "stdout",
     "output_type": "stream",
     "text": [
      "(B)pong: <__main__.D object at 0x7f516da93940>\n"
     ]
    }
   ],
   "source": [
    "d.pong()"
   ]
  },
  {
   "cell_type": "code",
   "execution_count": 55,
   "id": "726f8aa8-72c6-42a1-bef3-69abe29fa719",
   "metadata": {},
   "outputs": [
    {
     "name": "stdout",
     "output_type": "stream",
     "text": [
      "(C)PONG: <__main__.C object at 0x7f516ce57df0>\n"
     ]
    }
   ],
   "source": [
    "c = C()\n",
    "c.pong()"
   ]
  },
  {
   "cell_type": "code",
   "execution_count": 57,
   "id": "b61238e1-9ca6-4e6d-9fc7-eef9a06a4e0f",
   "metadata": {},
   "outputs": [
    {
     "name": "stdout",
     "output_type": "stream",
     "text": [
      "(A)ping: <__main__.D object at 0x7f516da93940>\n",
      "post-ping: <__main__.D object at 0x7f516da93940>\n",
      "(A)ping: <__main__.D object at 0x7f516da93940>\n",
      "(B)pong: <__main__.D object at 0x7f516da93940>\n",
      "(B)pong: <__main__.D object at 0x7f516da93940>\n",
      "(C)PONG: <__main__.D object at 0x7f516da93940>\n"
     ]
    }
   ],
   "source": [
    "d.pingpong()"
   ]
  },
  {
   "cell_type": "code",
   "execution_count": 63,
   "id": "8fefbaa3-82ea-49fc-baa1-6ab496b77e62",
   "metadata": {},
   "outputs": [],
   "source": [
    "def print_mro(cls):\n",
    "    \n",
    "    print(\"-->\".join(c.__name__ for c in cls.__mro__))"
   ]
  },
  {
   "cell_type": "code",
   "execution_count": 64,
   "id": "f6450b4d-420c-4167-bd60-ff28247ac4df",
   "metadata": {},
   "outputs": [
    {
     "name": "stdout",
     "output_type": "stream",
     "text": [
      "D-->B-->C-->A-->object\n"
     ]
    }
   ],
   "source": [
    "print_mro(D)"
   ]
  },
  {
   "cell_type": "code",
   "execution_count": null,
   "id": "cb52fb34-8ee0-4e22-b918-e9955a80f63b",
   "metadata": {},
   "outputs": [],
   "source": []
  }
 ],
 "metadata": {
  "kernelspec": {
   "display_name": "Python 3",
   "language": "python",
   "name": "python3"
  },
  "language_info": {
   "codemirror_mode": {
    "name": "ipython",
    "version": 3
   },
   "file_extension": ".py",
   "mimetype": "text/x-python",
   "name": "python",
   "nbconvert_exporter": "python",
   "pygments_lexer": "ipython3",
   "version": "3.8.5"
  }
 },
 "nbformat": 4,
 "nbformat_minor": 5
}
