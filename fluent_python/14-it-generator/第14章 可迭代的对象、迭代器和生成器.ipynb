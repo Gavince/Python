{
 "cells": [
  {
   "cell_type": "markdown",
   "id": "46564e3f-4cc3-4073-8c57-6acc9afec652",
   "metadata": {},
   "source": [
    "# 第14章 可迭代的对象、迭代器和生成器"
   ]
  },
  {
   "cell_type": "code",
   "execution_count": 8,
   "id": "7e50ab37-ef53-42ce-8725-2e4b9b5940c6",
   "metadata": {},
   "outputs": [],
   "source": [
    "import re\n",
    "import reprlib\n",
    "\n",
    "RE_WORD = re.compile(r'\\w+')"
   ]
  },
  {
   "cell_type": "code",
   "execution_count": 173,
   "id": "766f908b-f5a4-4ece-974b-de3d996d1692",
   "metadata": {},
   "outputs": [],
   "source": [
    "class Sentence:\n",
    "\n",
    "    def __init__(self, text):\n",
    "        self.text = text\n",
    "        self.words = RE_WORD.findall(text)  # <1>\n",
    "\n",
    "    def __getitem__(self, index):\n",
    "        return self.words[index]  # <2>\n",
    "\n",
    "    def __len__(self):  # <3>\n",
    "        return len(self.words)\n",
    "\n",
    "    def __repr__(self):\n",
    "        return 'Sentence(%s)' % reprlib.repr(self.text)  # <4>"
   ]
  },
  {
   "cell_type": "code",
   "execution_count": 171,
   "id": "d024703b-ab29-4bbe-9149-c9662915d6c1",
   "metadata": {},
   "outputs": [],
   "source": [
    "ss = '\"The time has come, \"the Walrus said'"
   ]
  },
  {
   "cell_type": "code",
   "execution_count": 182,
   "id": "e5f7508b-c969-42c6-9fff-fcff85bdc0ba",
   "metadata": {},
   "outputs": [
    {
     "data": {
      "text/plain": [
       "Sentence('\"The time ha...e Walrus said')"
      ]
     },
     "execution_count": 182,
     "metadata": {},
     "output_type": "execute_result"
    }
   ],
   "source": [
    "sentence = Sentence(ss)\n",
    "sentence"
   ]
  },
  {
   "cell_type": "code",
   "execution_count": 183,
   "id": "88d970ea-d186-4d7e-b6f4-bbbd9d0cee0c",
   "metadata": {},
   "outputs": [],
   "source": [
    "# 检查对象是否可以迭代\n",
    "sss = iter(sentence)"
   ]
  },
  {
   "cell_type": "code",
   "execution_count": 188,
   "id": "114bc30a-6d9a-4625-86e5-120217c0dc38",
   "metadata": {},
   "outputs": [
    {
     "data": {
      "text/plain": [
       "'the'"
      ]
     },
     "execution_count": 188,
     "metadata": {},
     "output_type": "execute_result"
    }
   ],
   "source": [
    "next(sss)"
   ]
  },
  {
   "cell_type": "code",
   "execution_count": 175,
   "id": "e5ebe9f6-256f-46df-a7e2-8b5afe5e2698",
   "metadata": {},
   "outputs": [
    {
     "name": "stdout",
     "output_type": "stream",
     "text": [
      "ABC\n"
     ]
    }
   ],
   "source": [
    "# DOTO：为什么序列是可迭代的？\n",
    "for se in sentence:\n",
    "    print(se)"
   ]
  },
  {
   "cell_type": "code",
   "execution_count": 63,
   "id": "d98cc4c4-f960-44e3-b9e6-85025f1c685b",
   "metadata": {},
   "outputs": [
    {
     "data": {
      "text/plain": [
       "['ABC']"
      ]
     },
     "execution_count": 63,
     "metadata": {},
     "output_type": "execute_result"
    }
   ],
   "source": [
    "list(sentence)"
   ]
  },
  {
   "cell_type": "code",
   "execution_count": 64,
   "id": "889d76f1-27cb-420b-88d6-cabc3a0e1d29",
   "metadata": {},
   "outputs": [
    {
     "name": "stdout",
     "output_type": "stream",
     "text": [
      "A\n",
      "B\n",
      "C\n"
     ]
    }
   ],
   "source": [
    "# 可迭代的对象\n",
    "s = \"ABC\"\n",
    "for char in s:\n",
    "    print(char)"
   ]
  },
  {
   "cell_type": "code",
   "execution_count": 65,
   "id": "37a863b0-644d-430f-9bd1-14e40e60d20b",
   "metadata": {},
   "outputs": [],
   "source": [
    "# 迭代器\n",
    "it = iter(s)"
   ]
  },
  {
   "cell_type": "code",
   "execution_count": 66,
   "id": "36935091-2407-4e6a-990e-d4f8d5165f6e",
   "metadata": {},
   "outputs": [
    {
     "name": "stdout",
     "output_type": "stream",
     "text": [
      "A\n",
      "B\n",
      "C\n"
     ]
    }
   ],
   "source": [
    "for i in it:\n",
    "    print(i)"
   ]
  },
  {
   "cell_type": "code",
   "execution_count": 67,
   "id": "6295fa1d-398a-4ccd-8ebe-8b9e6d236c73",
   "metadata": {},
   "outputs": [],
   "source": [
    "while True:\n",
    "    try:\n",
    "        print(next(it))\n",
    "    except StopIteration:\n",
    "        del it\n",
    "        break"
   ]
  },
  {
   "cell_type": "code",
   "execution_count": 207,
   "id": "6d79d837-c6b4-4487-8ee3-7e64c1ca75f5",
   "metadata": {},
   "outputs": [],
   "source": [
    "class Sentence:\n",
    "    \"\"\"实现一个可迭代的对象.\n",
    "        可迭代对象必选实现：__iter__ or __getitem__(序列常用)\n",
    "    \"\"\"\n",
    "\n",
    "    def __init__(self, text):\n",
    "        self.text = text\n",
    "        self.words = RE_WORD.findall(text)  # <1>\n",
    "\n",
    "    def __iter__(self):\n",
    "        # pass\n",
    "        return SentenceIterator(self.words)\n",
    "\n",
    "    def __repr__(self):\n",
    "        return 'Sentence(%s)' % reprlib.repr(self.text)  # <4>"
   ]
  },
  {
   "cell_type": "code",
   "execution_count": 208,
   "id": "6a00d447-2219-45b1-9d96-6e73d7f2564a",
   "metadata": {},
   "outputs": [],
   "source": [
    "class SentenceIterator:\n",
    "    \"\"\"实现一个迭代器.\n",
    "        迭代器必须实现两个重要的方法:__next__、__iter__\n",
    "    \"\"\"\n",
    "\n",
    "    def __init__(self, words):\n",
    "\n",
    "        self.words = words\n",
    "        self.index = 0\n",
    "\n",
    "    def __next__(self):\n",
    "\n",
    "        try:\n",
    "            word = self.words[self.index]\n",
    "        except IndexError:\n",
    "            raise StopIteration()\n",
    "        self.index += 1\n",
    "\n",
    "        return word\n",
    "\n",
    "    def __iter__(self):\n",
    "\n",
    "        return self"
   ]
  },
  {
   "cell_type": "code",
   "execution_count": 209,
   "id": "33552139-2cb7-40d6-bada-58a21034c288",
   "metadata": {},
   "outputs": [],
   "source": [
    "sss = Sentence(ss)"
   ]
  },
  {
   "cell_type": "code",
   "execution_count": 210,
   "id": "665df56e-2141-4627-aa22-8104df751bf1",
   "metadata": {},
   "outputs": [
    {
     "data": {
      "text/plain": [
       "Sentence('\"The time ha...e Walrus said')"
      ]
     },
     "execution_count": 210,
     "metadata": {},
     "output_type": "execute_result"
    }
   ],
   "source": [
    "sss"
   ]
  },
  {
   "cell_type": "code",
   "execution_count": 211,
   "id": "9d760326-a54d-40e0-85b0-75f8773775fe",
   "metadata": {},
   "outputs": [
    {
     "name": "stdout",
     "output_type": "stream",
     "text": [
      "The\n",
      "time\n",
      "has\n",
      "come\n",
      "the\n",
      "Walrus\n",
      "said\n"
     ]
    }
   ],
   "source": [
    "for i in sss:\n",
    "    print(i)"
   ]
  },
  {
   "cell_type": "code",
   "execution_count": 198,
   "id": "ab88f931-e0d8-4c85-8aaa-79123e626ca4",
   "metadata": {},
   "outputs": [],
   "source": [
    "itor = iter(sss)"
   ]
  },
  {
   "cell_type": "code",
   "execution_count": 201,
   "id": "d303d692-3e74-4de5-a97f-9384a6c71969",
   "metadata": {},
   "outputs": [
    {
     "data": {
      "text/plain": [
       "<__main__.SentenceIterator at 0x7effaff51130>"
      ]
     },
     "execution_count": 201,
     "metadata": {},
     "output_type": "execute_result"
    }
   ],
   "source": [
    "itor"
   ]
  },
  {
   "cell_type": "code",
   "execution_count": 200,
   "id": "d91a5df1-8ff5-4345-8865-769d65208362",
   "metadata": {},
   "outputs": [
    {
     "data": {
      "text/plain": [
       "<__main__.SentenceIterator at 0x7effaff51130>"
      ]
     },
     "execution_count": 200,
     "metadata": {},
     "output_type": "execute_result"
    }
   ],
   "source": [
    "# 返回本身\n",
    "iter(itor)"
   ]
  },
  {
   "cell_type": "code",
   "execution_count": 199,
   "id": "31ef3f8b-0ec8-4c54-9563-a9f4c9e37d14",
   "metadata": {},
   "outputs": [
    {
     "data": {
      "text/plain": [
       "'The'"
      ]
     },
     "execution_count": 199,
     "metadata": {},
     "output_type": "execute_result"
    }
   ],
   "source": [
    "next(itor)"
   ]
  },
  {
   "cell_type": "markdown",
   "id": "15e6c19b-1cab-44b7-9b2c-bde0ceacd5e6",
   "metadata": {},
   "source": [
    "## 生成器"
   ]
  },
  {
   "cell_type": "code",
   "execution_count": 219,
   "id": "32cbf78e-0294-40d5-8714-c62e58334438",
   "metadata": {},
   "outputs": [],
   "source": [
    "def gen_123():\n",
    "\n",
    "    yield 1\n",
    "    yield 2\n",
    "    yield 3"
   ]
  },
  {
   "cell_type": "code",
   "execution_count": 220,
   "id": "6b882cf9-83e6-4650-939a-0d69479787d1",
   "metadata": {},
   "outputs": [
    {
     "data": {
      "text/plain": [
       "<generator object gen_123 at 0x7effaef75c10>"
      ]
     },
     "execution_count": 220,
     "metadata": {},
     "output_type": "execute_result"
    }
   ],
   "source": [
    "gen_123()"
   ]
  },
  {
   "cell_type": "code",
   "execution_count": 245,
   "id": "eea132f3-e71a-4df9-9299-da68672ce398",
   "metadata": {},
   "outputs": [],
   "source": [
    "g = gen_123()"
   ]
  },
  {
   "cell_type": "code",
   "execution_count": 246,
   "id": "8d937f40-8c3c-4272-9f73-0b7e5fbffaa8",
   "metadata": {},
   "outputs": [
    {
     "data": {
      "text/plain": [
       "<generator object gen_123 at 0x7effaef74900>"
      ]
     },
     "execution_count": 246,
     "metadata": {},
     "output_type": "execute_result"
    }
   ],
   "source": [
    "# 生成器对象\n",
    "g"
   ]
  },
  {
   "cell_type": "code",
   "execution_count": 247,
   "id": "d0bfbc0a-8f80-4287-aeed-7c82902a69be",
   "metadata": {},
   "outputs": [],
   "source": [
    "# for val in g:\n",
    "#     print(val)"
   ]
  },
  {
   "cell_type": "code",
   "execution_count": 248,
   "id": "dc2749fb-8f35-4b1c-8cb8-11d15d385751",
   "metadata": {},
   "outputs": [
    {
     "name": "stdout",
     "output_type": "stream",
     "text": [
      "1\n",
      "2\n",
      "3\n"
     ]
    }
   ],
   "source": [
    "for val in gen_123():\n",
    "    print(val)"
   ]
  },
  {
   "cell_type": "code",
   "execution_count": 249,
   "id": "49d5f4c1-3b01-4717-a469-32e61c72ac9c",
   "metadata": {},
   "outputs": [
    {
     "data": {
      "text/plain": [
       "1"
      ]
     },
     "execution_count": 249,
     "metadata": {},
     "output_type": "execute_result"
    }
   ],
   "source": [
    "next(gen_123())"
   ]
  },
  {
   "cell_type": "code",
   "execution_count": 250,
   "id": "3901061a-a654-4232-b7d1-579249976905",
   "metadata": {},
   "outputs": [
    {
     "data": {
      "text/plain": [
       "1"
      ]
     },
     "execution_count": 250,
     "metadata": {},
     "output_type": "execute_result"
    }
   ],
   "source": [
    "next(g)"
   ]
  },
  {
   "cell_type": "code",
   "execution_count": 251,
   "id": "5d0d91b0-eca0-4fc0-8aee-576865ec8184",
   "metadata": {},
   "outputs": [
    {
     "data": {
      "text/plain": [
       "2"
      ]
     },
     "execution_count": 251,
     "metadata": {},
     "output_type": "execute_result"
    }
   ],
   "source": [
    "next(g)"
   ]
  },
  {
   "cell_type": "code",
   "execution_count": 252,
   "id": "375fa4a2-0759-468f-835d-b33207502b70",
   "metadata": {},
   "outputs": [],
   "source": [
    "def gen_AB():\n",
    "    print(\"start\")\n",
    "    yield 'A'\n",
    "\n",
    "    print(\"continue\")\n",
    "    yield \"B\"\n",
    "\n",
    "    print(\"end\")"
   ]
  },
  {
   "cell_type": "code",
   "execution_count": 105,
   "id": "bd6e2c8f-d6b8-4afe-b180-2212574ea082",
   "metadata": {},
   "outputs": [
    {
     "name": "stdout",
     "output_type": "stream",
     "text": [
      "start\n",
      "--> A\n",
      "continue\n",
      "--> B\n",
      "end\n"
     ]
    }
   ],
   "source": [
    "for c in gen_AB():\n",
    "    print(\"-->\", c)"
   ]
  },
  {
   "cell_type": "code",
   "execution_count": 106,
   "id": "7ca2e846-4e18-4f2c-9102-8712e53814b9",
   "metadata": {},
   "outputs": [],
   "source": [
    "g = gen_AB()"
   ]
  },
  {
   "cell_type": "code",
   "execution_count": 107,
   "id": "f7890a47-3741-4686-857e-ada87b3e717e",
   "metadata": {},
   "outputs": [
    {
     "name": "stdout",
     "output_type": "stream",
     "text": [
      "start\n"
     ]
    },
    {
     "data": {
      "text/plain": [
       "'A'"
      ]
     },
     "execution_count": 107,
     "metadata": {},
     "output_type": "execute_result"
    }
   ],
   "source": [
    "next(g)"
   ]
  },
  {
   "cell_type": "code",
   "execution_count": 108,
   "id": "fefb963c-ddaa-448e-96fd-61c2290ce93d",
   "metadata": {},
   "outputs": [
    {
     "name": "stdout",
     "output_type": "stream",
     "text": [
      "continue\n"
     ]
    },
    {
     "data": {
      "text/plain": [
       "'B'"
      ]
     },
     "execution_count": 108,
     "metadata": {},
     "output_type": "execute_result"
    }
   ],
   "source": [
    "next(g)"
   ]
  },
  {
   "cell_type": "code",
   "execution_count": 109,
   "id": "ac85e692-bff0-47f1-82a6-48eda320579e",
   "metadata": {},
   "outputs": [
    {
     "name": "stdout",
     "output_type": "stream",
     "text": [
      "end\n"
     ]
    },
    {
     "ename": "StopIteration",
     "evalue": "",
     "output_type": "error",
     "traceback": [
      "\u001b[0;31m---------------------------------------------------------------------------\u001b[0m",
      "\u001b[0;31mStopIteration\u001b[0m                             Traceback (most recent call last)",
      "\u001b[0;32m<ipython-input-109-e734f8aca5ac>\u001b[0m in \u001b[0;36m<module>\u001b[0;34m\u001b[0m\n\u001b[0;32m----> 1\u001b[0;31m \u001b[0mnext\u001b[0m\u001b[0;34m(\u001b[0m\u001b[0mg\u001b[0m\u001b[0;34m)\u001b[0m\u001b[0;34m\u001b[0m\u001b[0;34m\u001b[0m\u001b[0m\n\u001b[0m",
      "\u001b[0;31mStopIteration\u001b[0m: "
     ]
    }
   ],
   "source": [
    "next(g)"
   ]
  },
  {
   "cell_type": "code",
   "execution_count": 110,
   "id": "c7a464d4-16fc-4f94-8748-1fb4fb0595b5",
   "metadata": {},
   "outputs": [
    {
     "name": "stdout",
     "output_type": "stream",
     "text": [
      "start\n",
      "continue\n",
      "end\n"
     ]
    }
   ],
   "source": [
    "# 列表推导式(先调用)\n",
    "res1 = [x*3 for x in gen_AB()]"
   ]
  },
  {
   "cell_type": "code",
   "execution_count": 134,
   "id": "c9041055-10e0-439d-9c0d-fd656d4efa5f",
   "metadata": {},
   "outputs": [
    {
     "data": {
      "text/plain": [
       "['AAA', 'BBB']"
      ]
     },
     "execution_count": 134,
     "metadata": {},
     "output_type": "execute_result"
    }
   ],
   "source": [
    "res1"
   ]
  },
  {
   "cell_type": "code",
   "execution_count": 131,
   "id": "740ec23c-c389-407c-8599-a75a84da3e46",
   "metadata": {},
   "outputs": [
    {
     "name": "stdout",
     "output_type": "stream",
     "text": [
      "--> AAA\n",
      "--> BBB\n"
     ]
    }
   ],
   "source": [
    "for i in res1:\n",
    "    print(\"-->\", i)"
   ]
  },
  {
   "cell_type": "code",
   "execution_count": 132,
   "id": "5488d2a4-6e26-4896-ad7d-46a8cabd40bd",
   "metadata": {},
   "outputs": [
    {
     "data": {
      "text/plain": [
       "<generator object <genexpr> at 0x7effaff8a270>"
      ]
     },
     "execution_count": 132,
     "metadata": {},
     "output_type": "execute_result"
    }
   ],
   "source": [
    "# 生成器表达式（后处理）\n",
    "res2 = (x*3 for x in gen_AB())\n",
    "res2"
   ]
  },
  {
   "cell_type": "code",
   "execution_count": 133,
   "id": "dc95b38f-3955-400b-9e5d-275dcbb124aa",
   "metadata": {},
   "outputs": [
    {
     "name": "stdout",
     "output_type": "stream",
     "text": [
      "start\n",
      "--> AAA\n",
      "continue\n",
      "--> BBB\n",
      "end\n"
     ]
    }
   ],
   "source": [
    "for val in res2:\n",
    "    print(\"-->\", val)"
   ]
  },
  {
   "cell_type": "code",
   "execution_count": 135,
   "id": "6a96edb8-5a37-4994-859b-bf49b6cdec05",
   "metadata": {},
   "outputs": [],
   "source": [
    "import os"
   ]
  },
  {
   "cell_type": "code",
   "execution_count": 139,
   "id": "15347d2b-8df3-49bb-bc04-1d6f7cdf7ece",
   "metadata": {},
   "outputs": [
    {
     "name": "stdout",
     "output_type": "stream",
     "text": [
      "('.', ['isis2json', '.ipynb_checkpoints'], ['sentence_genexp.py', 'sentence.py', 'sentence_gen.py', 'sentence.rst', 'aritprog_float_error.py', 'aritprog.rst', 'sentence_gen2.py', 'Untitled.ipynb', 'README.rst', 'aritprog_v0.py', 'aritprog_v1.py', 'sentence_iter.py', 'sentence_iter2.py', 'aritprog_v3.py', 'yield_delegate_fix.py', 'fibo_by_hand.py', 'aritprog_v2.py', 'yield_delegate_fail.py', 'aritprog_runner.py', 'sentence_runner.py'])\n",
      "('./isis2json', [], ['subfield.py', 'isis2json.py', 'README.rst', 'iso2709.py'])\n",
      "('./.ipynb_checkpoints', [], ['Untitled-checkpoint.ipynb'])\n"
     ]
    }
   ],
   "source": [
    "for i in os.walk('.'):\n",
    "    print(i)"
   ]
  },
  {
   "cell_type": "code",
   "execution_count": 140,
   "id": "bf550a43-4df2-4209-b04e-b9eb618ac56b",
   "metadata": {},
   "outputs": [],
   "source": [
    "import itertools"
   ]
  },
  {
   "cell_type": "code",
   "execution_count": 143,
   "id": "81390506-6e7c-4184-9818-148ce0f04e97",
   "metadata": {},
   "outputs": [
    {
     "data": {
      "text/plain": [
       "['A', 'B', 'C', 1, 2, 3, 4]"
      ]
     },
     "execution_count": 143,
     "metadata": {},
     "output_type": "execute_result"
    }
   ],
   "source": [
    "list(itertools.chain('ABC', range(1, 5)))"
   ]
  },
  {
   "cell_type": "code",
   "execution_count": 150,
   "id": "f592f039-22e4-45e4-bea5-86c3b883c764",
   "metadata": {},
   "outputs": [
    {
     "data": {
      "text/plain": [
       "['A', 1, 'B', 2, 'C', 3]"
      ]
     },
     "execution_count": 150,
     "metadata": {},
     "output_type": "execute_result"
    }
   ],
   "source": [
    "# 只可传入一个可迭代的对象\n",
    "list(itertools.chain.from_iterable(zip('ABC', range(1, 5))))"
   ]
  },
  {
   "cell_type": "code",
   "execution_count": 149,
   "id": "f9c9f110-f782-4806-a0df-1d81321e39bc",
   "metadata": {},
   "outputs": [
    {
     "data": {
      "text/plain": [
       "[('A', 0),\n",
       " ('B', 1),\n",
       " ('C', 2),\n",
       " ('?', 3),\n",
       " ('?', 4),\n",
       " ('?', 5),\n",
       " ('?', 6),\n",
       " ('?', 7),\n",
       " ('?', 8),\n",
       " ('?', 9)]"
      ]
     },
     "execution_count": 149,
     "metadata": {},
     "output_type": "execute_result"
    }
   ],
   "source": [
    "# 拉链， 可对默认值进行传递\n",
    "list(itertools.zip_longest(\"ABC\", range(10), fillvalue=\"?\"))"
   ]
  },
  {
   "cell_type": "code",
   "execution_count": 151,
   "id": "863f355c-a75f-45e2-bdb0-a82dcff9bd02",
   "metadata": {},
   "outputs": [],
   "source": [
    "# 计算笛卡尔内积\n",
    "suits = 'spades hearts diamonds clubs'.split()"
   ]
  },
  {
   "cell_type": "code",
   "execution_count": 153,
   "id": "dac6e456-4868-4ef2-a124-4db1a0a83327",
   "metadata": {},
   "outputs": [
    {
     "data": {
      "text/plain": [
       "[('A', 'spades'),\n",
       " ('A', 'hearts'),\n",
       " ('A', 'diamonds'),\n",
       " ('A', 'clubs'),\n",
       " ('K', 'spades'),\n",
       " ('K', 'hearts'),\n",
       " ('K', 'diamonds'),\n",
       " ('K', 'clubs')]"
      ]
     },
     "execution_count": 153,
     "metadata": {},
     "output_type": "execute_result"
    }
   ],
   "source": [
    "list(itertools.product(\"AK\", suits))"
   ]
  },
  {
   "cell_type": "code",
   "execution_count": 158,
   "id": "ffa40486-437f-49b0-a1d0-06035c3d5b9b",
   "metadata": {},
   "outputs": [
    {
     "data": {
      "text/plain": [
       "[('A', 'A'),\n",
       " ('A', 'B'),\n",
       " ('A', 'C'),\n",
       " ('B', 'A'),\n",
       " ('B', 'B'),\n",
       " ('B', 'C'),\n",
       " ('C', 'A'),\n",
       " ('C', 'B'),\n",
       " ('C', 'C')]"
      ]
     },
     "execution_count": 158,
     "metadata": {},
     "output_type": "execute_result"
    }
   ],
   "source": [
    "list(itertools.product('ABC', repeat=2))"
   ]
  },
  {
   "cell_type": "code",
   "execution_count": 161,
   "id": "74285f6c-717c-4f28-bbf1-cd2135d1602c",
   "metadata": {},
   "outputs": [
    {
     "data": {
      "text/plain": [
       "[('A', 'B'), ('A', 'C'), ('A', 'D'), ('B', 'C'), ('B', 'D'), ('C', 'D')]"
      ]
     },
     "execution_count": 161,
     "metadata": {},
     "output_type": "execute_result"
    }
   ],
   "source": [
    "# 组合（可迭代对象，组合大小）\n",
    "list(itertools.combinations(\"ABCD\", 2))"
   ]
  },
  {
   "cell_type": "code",
   "execution_count": 162,
   "id": "2f06e521-bd03-4b6c-9cd1-4bcfa4c575e2",
   "metadata": {},
   "outputs": [
    {
     "data": {
      "text/plain": [
       "[('A', 'B', 'C'), ('A', 'B', 'D'), ('A', 'C', 'D'), ('B', 'C', 'D')]"
      ]
     },
     "execution_count": 162,
     "metadata": {},
     "output_type": "execute_result"
    }
   ],
   "source": [
    "list(itertools.combinations(\"ABCD\", 3))"
   ]
  },
  {
   "cell_type": "code",
   "execution_count": 166,
   "id": "298882c3-8b88-4497-acae-d27121c68213",
   "metadata": {},
   "outputs": [
    {
     "data": {
      "text/plain": [
       "[('A', 'A', 'A'),\n",
       " ('A', 'A', 'B'),\n",
       " ('A', 'A', 'C'),\n",
       " ('A', 'A', 'D'),\n",
       " ('A', 'B', 'B'),\n",
       " ('A', 'B', 'C'),\n",
       " ('A', 'B', 'D'),\n",
       " ('A', 'C', 'C'),\n",
       " ('A', 'C', 'D'),\n",
       " ('A', 'D', 'D'),\n",
       " ('B', 'B', 'B'),\n",
       " ('B', 'B', 'C'),\n",
       " ('B', 'B', 'D'),\n",
       " ('B', 'C', 'C'),\n",
       " ('B', 'C', 'D'),\n",
       " ('B', 'D', 'D'),\n",
       " ('C', 'C', 'C'),\n",
       " ('C', 'C', 'D'),\n",
       " ('C', 'D', 'D'),\n",
       " ('D', 'D', 'D')]"
      ]
     },
     "execution_count": 166,
     "metadata": {},
     "output_type": "execute_result"
    }
   ],
   "source": [
    "# 含有相同值\n",
    "list(itertools.combinations_with_replacement(\"ABCD\", 3))"
   ]
  },
  {
   "cell_type": "code",
   "execution_count": 167,
   "id": "4d70b19d-7e7c-4e71-a7a4-ae7fae88d1f9",
   "metadata": {},
   "outputs": [
    {
     "data": {
      "text/plain": [
       "[('A', 'B'), ('A', 'C'), ('B', 'A'), ('B', 'C'), ('C', 'A'), ('C', 'B')]"
      ]
     },
     "execution_count": 167,
     "metadata": {},
     "output_type": "execute_result"
    }
   ],
   "source": [
    "# 排列，强调顺序\n",
    "list(itertools.permutations('ABC', 2))"
   ]
  },
  {
   "cell_type": "code",
   "execution_count": 165,
   "id": "3cbda79a-25ef-4b42-8d06-a507ccd69536",
   "metadata": {},
   "outputs": [
    {
     "data": {
      "text/plain": [
       "[('A', 'A'),\n",
       " ('A', 'B'),\n",
       " ('A', 'C'),\n",
       " ('A', 'D'),\n",
       " ('B', 'A'),\n",
       " ('B', 'B'),\n",
       " ('B', 'C'),\n",
       " ('B', 'D'),\n",
       " ('C', 'A'),\n",
       " ('C', 'B'),\n",
       " ('C', 'C'),\n",
       " ('C', 'D'),\n",
       " ('D', 'A'),\n",
       " ('D', 'B'),\n",
       " ('D', 'C'),\n",
       " ('D', 'D')]"
      ]
     },
     "execution_count": 165,
     "metadata": {},
     "output_type": "execute_result"
    }
   ],
   "source": [
    "# 排列\n",
    "list(itertools.product(\"ABCD\", repeat=2))"
   ]
  },
  {
   "cell_type": "code",
   "execution_count": null,
   "id": "3e974974-5a3a-46a4-87d6-3d47b6f2bef9",
   "metadata": {},
   "outputs": [],
   "source": []
  }
 ],
 "metadata": {
  "kernelspec": {
   "display_name": "Python 3",
   "language": "python",
   "name": "python3"
  },
  "language_info": {
   "codemirror_mode": {
    "name": "ipython",
    "version": 3
   },
   "file_extension": ".py",
   "mimetype": "text/x-python",
   "name": "python",
   "nbconvert_exporter": "python",
   "pygments_lexer": "ipython3",
   "version": "3.8.5"
  }
 },
 "nbformat": 4,
 "nbformat_minor": 5
}
