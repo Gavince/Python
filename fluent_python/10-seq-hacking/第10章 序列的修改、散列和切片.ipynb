{
 "cells": [
  {
   "cell_type": "code",
   "execution_count": 175,
   "id": "4de0ad4b-6cae-4af7-85dc-34c70ecc8839",
   "metadata": {},
   "outputs": [
    {
     "name": "stdout",
     "output_type": "stream",
     "text": [
      " README.rst     vector_v3.py  '第10章 序列的修改、散列和切片.ipynb'\n",
      " vector_v1.py   vector_v4.py\n",
      " vector_v2.py   vector_v5.py\n"
     ]
    }
   ],
   "source": [
    "ls"
   ]
  },
  {
   "cell_type": "code",
   "execution_count": 176,
   "id": "1bc90afd-8bcb-49ff-bfe3-d8b3c351b7f3",
   "metadata": {},
   "outputs": [],
   "source": [
    "from array import array\n",
    "import reprlib\n",
    "import math\n",
    "import numbers"
   ]
  },
  {
   "cell_type": "code",
   "execution_count": 200,
   "id": "908b62b1-1964-44d4-8354-1e00fd4aba7f",
   "metadata": {},
   "outputs": [],
   "source": [
    "class Vector:\n",
    "    typecode = 'd'\n",
    "    shortcut_names = \"xyzt\"\n",
    "    \n",
    "    def __init__(self, components):\n",
    "        self._components = array(self.typecode, components)  # <1>\n",
    "        \n",
    "    def __getitem__(self, index):\n",
    "        \n",
    "        cls  = type(self)\n",
    "        if isinstance(index, slice):\n",
    "            return cls(self._components[index])\n",
    "        \n",
    "        elif isinstance(index, numbers.Integral):\n",
    "            return self._components[index]\n",
    "        \n",
    "        else:\n",
    "            msg = '{cls.__name__} indices must be integerts'\n",
    "            raise TypeError(msg.format(cls=cls))       \n",
    "    \n",
    "    def __len__(self):\n",
    "        \n",
    "        return len(self._components)\n",
    "\n",
    "    \n",
    "    def __getattr__(self, name):\n",
    "        \n",
    "        cls = type(self)\n",
    "        if len(name) == 1:\n",
    "            pos = cls.shortcut_names.find(name)\n",
    "            return self._components[pos]\n",
    "        msg = '{.__name__!r} object has no attrbute {!r}'\n",
    "        \n",
    "        raise AttributeError(msg.format(cls, name))   \n",
    "    \n",
    "    def __setattr__(self, name, value):\n",
    "        \n",
    "        cls = type(self)\n",
    "        if len(name) == 1:\n",
    "            if name in cls.shortcut_names:\n",
    "                error =  'readonly attribute {attr_name!r}'\n",
    "            elif name.islower():\n",
    "                error = \"can't set attribites 'a' to 'z' in {cls_name!r}\"\n",
    "            else:\n",
    "                error = ''\n",
    "            if error:\n",
    "                msg = error.format(cls_name=cls.__name__, attr_name=name)\n",
    "                raise AttributeError(msg)\n",
    "        \n",
    "        super().__setattr__(name, value)\n",
    "        \n",
    "        \n",
    "        \n",
    "    def __iter__(self):\n",
    "        return iter(self._components)  # <2>\n",
    "\n",
    "    def __repr__(self):\n",
    "        components = reprlib.repr(self._components)  # <3>\n",
    "        components = components[components.find('['):-1]  # <4>\n",
    "        return 'Vector({})'.format(components)\n",
    "\n",
    "    def __str__(self):\n",
    "        return str(tuple(self))\n",
    "\n",
    "    def __bytes__(self):\n",
    "        return (bytes([ord(self.typecode)]) +\n",
    "                bytes(self._components))  # <5>\n",
    "\n",
    "    def __eq__(self, other):\n",
    "        return tuple(self) == tuple(other)\n",
    "\n",
    "    def __abs__(self):\n",
    "        return math.sqrt(sum(x * x for x in self))  # <6>\n",
    "\n",
    "    def __bool__(self):\n",
    "        return bool(abs(self))\n",
    "\n",
    "    @classmethod\n",
    "    def frombytes(cls, octets):\n",
    "        typecode = chr(octets[0])\n",
    "        memv = memoryview(octets[1:]).cast(typecode)\n",
    "        return cls(memv)  # <7>"
   ]
  },
  {
   "cell_type": "code",
   "execution_count": 201,
   "id": "b5251aa5-31e1-4ff2-94dc-58039c8c8095",
   "metadata": {},
   "outputs": [
    {
     "data": {
      "text/plain": [
       "Vector([1.0, 2.0, 3.0])"
      ]
     },
     "execution_count": 201,
     "metadata": {},
     "output_type": "execute_result"
    }
   ],
   "source": [
    "v = Vector([1, 2, 3])\n",
    "v"
   ]
  },
  {
   "cell_type": "code",
   "execution_count": 202,
   "id": "f2ee9ec1-6f9d-4bb9-997f-4c4507b9b80b",
   "metadata": {},
   "outputs": [
    {
     "data": {
      "text/plain": [
       "'Vector'"
      ]
     },
     "execution_count": 202,
     "metadata": {},
     "output_type": "execute_result"
    }
   ],
   "source": [
    "type(v).__name__"
   ]
  },
  {
   "cell_type": "code",
   "execution_count": 203,
   "id": "729b58d1-3fff-45dc-bfb4-f979fc2edfd8",
   "metadata": {},
   "outputs": [
    {
     "data": {
      "text/plain": [
       "Vector([2.0])"
      ]
     },
     "execution_count": 203,
     "metadata": {},
     "output_type": "execute_result"
    }
   ],
   "source": [
    "v[1: 2]"
   ]
  },
  {
   "cell_type": "code",
   "execution_count": 204,
   "id": "d099b468-6ef4-4923-bf51-62bade4f6533",
   "metadata": {},
   "outputs": [
    {
     "data": {
      "text/plain": [
       "2.0"
      ]
     },
     "execution_count": 204,
     "metadata": {},
     "output_type": "execute_result"
    }
   ],
   "source": [
    "v[1]"
   ]
  },
  {
   "cell_type": "code",
   "execution_count": 205,
   "id": "2a9876b2-433a-40c9-b99a-e50ce60a47ed",
   "metadata": {},
   "outputs": [
    {
     "data": {
      "text/plain": [
       "<function Vector.mro()>"
      ]
     },
     "execution_count": 205,
     "metadata": {},
     "output_type": "execute_result"
    }
   ],
   "source": [
    "Vector.mro"
   ]
  },
  {
   "cell_type": "code",
   "execution_count": 206,
   "id": "e46617cd-35e8-44c1-9044-8cb809656b73",
   "metadata": {},
   "outputs": [
    {
     "ename": "TypeError",
     "evalue": "Vector indices must be integerts",
     "output_type": "error",
     "traceback": [
      "\u001b[0;31m---------------------------------------------------------------------------\u001b[0m",
      "\u001b[0;31mTypeError\u001b[0m                                 Traceback (most recent call last)",
      "\u001b[0;32m<ipython-input-206-e6d9c9068f7d>\u001b[0m in \u001b[0;36m<module>\u001b[0;34m\u001b[0m\n\u001b[0;32m----> 1\u001b[0;31m \u001b[0mv\u001b[0m\u001b[0;34m[\u001b[0m\u001b[0;34m\"2\"\u001b[0m\u001b[0;34m]\u001b[0m\u001b[0;34m\u001b[0m\u001b[0;34m\u001b[0m\u001b[0m\n\u001b[0m",
      "\u001b[0;32m<ipython-input-200-76363ac94769>\u001b[0m in \u001b[0;36m__getitem__\u001b[0;34m(self, index)\u001b[0m\n\u001b[1;32m     17\u001b[0m         \u001b[0;32melse\u001b[0m\u001b[0;34m:\u001b[0m\u001b[0;34m\u001b[0m\u001b[0;34m\u001b[0m\u001b[0m\n\u001b[1;32m     18\u001b[0m             \u001b[0mmsg\u001b[0m \u001b[0;34m=\u001b[0m \u001b[0;34m'{cls.__name__} indices must be integerts'\u001b[0m\u001b[0;34m\u001b[0m\u001b[0;34m\u001b[0m\u001b[0m\n\u001b[0;32m---> 19\u001b[0;31m             \u001b[0;32mraise\u001b[0m \u001b[0mTypeError\u001b[0m\u001b[0;34m(\u001b[0m\u001b[0mmsg\u001b[0m\u001b[0;34m.\u001b[0m\u001b[0mformat\u001b[0m\u001b[0;34m(\u001b[0m\u001b[0mcls\u001b[0m\u001b[0;34m=\u001b[0m\u001b[0mcls\u001b[0m\u001b[0;34m)\u001b[0m\u001b[0;34m)\u001b[0m\u001b[0;34m\u001b[0m\u001b[0;34m\u001b[0m\u001b[0m\n\u001b[0m\u001b[1;32m     20\u001b[0m \u001b[0;34m\u001b[0m\u001b[0m\n\u001b[1;32m     21\u001b[0m     \u001b[0;32mdef\u001b[0m \u001b[0m__len__\u001b[0m\u001b[0;34m(\u001b[0m\u001b[0mself\u001b[0m\u001b[0;34m)\u001b[0m\u001b[0;34m:\u001b[0m\u001b[0;34m\u001b[0m\u001b[0;34m\u001b[0m\u001b[0m\n",
      "\u001b[0;31mTypeError\u001b[0m: Vector indices must be integerts"
     ]
    }
   ],
   "source": [
    "v[\"2\"]"
   ]
  },
  {
   "cell_type": "code",
   "execution_count": null,
   "id": "d5b4e2d2-51d2-440b-863d-09bf922a3ffc",
   "metadata": {},
   "outputs": [],
   "source": [
    "len(v)"
   ]
  },
  {
   "cell_type": "code",
   "execution_count": null,
   "id": "ca43fbb9-f95a-4de0-a0df-bf3e8ff93c9f",
   "metadata": {},
   "outputs": [],
   "source": [
    "import collections\n",
    "\n",
    "Card = collections.namedtuple('Card', ['rank', 'suit'])"
   ]
  },
  {
   "cell_type": "code",
   "execution_count": 207,
   "id": "13cc361d-4367-44a0-8737-75beb9130b58",
   "metadata": {},
   "outputs": [],
   "source": [
    "class FrenchDeck:\n",
    "    \n",
    "    ranks = [str(n) for n in range(2, 11)] + list('JQKA')\n",
    "    suits = 'spades diamonds clubs hearts'.split()\n",
    "    \n",
    "    def __init__(self):\n",
    "        self._cards = [Card(rank, suit) for suit in self.suits for rank in self.ranks]\n",
    "    \n",
    "    def __len__(self):\n",
    "        return len(self._cards)\n",
    "    \n",
    "    def __getitem__(self, position):\n",
    "        return self._cards[position]"
   ]
  },
  {
   "cell_type": "code",
   "execution_count": 208,
   "id": "509fe58d-6365-443e-8d2b-9d380c2a2877",
   "metadata": {},
   "outputs": [],
   "source": [
    "F = FrenchDeck()"
   ]
  },
  {
   "cell_type": "code",
   "execution_count": 209,
   "id": "90582fce-c0a1-4da2-99d1-4a295d7a9152",
   "metadata": {},
   "outputs": [
    {
     "ename": "TypeError",
     "evalue": "list indices must be integers or slices, not str",
     "output_type": "error",
     "traceback": [
      "\u001b[0;31m---------------------------------------------------------------------------\u001b[0m",
      "\u001b[0;31mTypeError\u001b[0m                                 Traceback (most recent call last)",
      "\u001b[0;32m<ipython-input-209-cfd7b62bf0c0>\u001b[0m in \u001b[0;36m<module>\u001b[0;34m\u001b[0m\n\u001b[0;32m----> 1\u001b[0;31m \u001b[0mF\u001b[0m\u001b[0;34m[\u001b[0m\u001b[0;34m\"DE\"\u001b[0m\u001b[0;34m]\u001b[0m\u001b[0;34m\u001b[0m\u001b[0;34m\u001b[0m\u001b[0m\n\u001b[0m",
      "\u001b[0;32m<ipython-input-207-3b4695f93020>\u001b[0m in \u001b[0;36m__getitem__\u001b[0;34m(self, position)\u001b[0m\n\u001b[1;32m     11\u001b[0m \u001b[0;34m\u001b[0m\u001b[0m\n\u001b[1;32m     12\u001b[0m     \u001b[0;32mdef\u001b[0m \u001b[0m__getitem__\u001b[0m\u001b[0;34m(\u001b[0m\u001b[0mself\u001b[0m\u001b[0;34m,\u001b[0m \u001b[0mposition\u001b[0m\u001b[0;34m)\u001b[0m\u001b[0;34m:\u001b[0m\u001b[0;34m\u001b[0m\u001b[0;34m\u001b[0m\u001b[0m\n\u001b[0;32m---> 13\u001b[0;31m         \u001b[0;32mreturn\u001b[0m \u001b[0mself\u001b[0m\u001b[0;34m.\u001b[0m\u001b[0m_cards\u001b[0m\u001b[0;34m[\u001b[0m\u001b[0mposition\u001b[0m\u001b[0;34m]\u001b[0m\u001b[0;34m\u001b[0m\u001b[0;34m\u001b[0m\u001b[0m\n\u001b[0m",
      "\u001b[0;31mTypeError\u001b[0m: list indices must be integers or slices, not str"
     ]
    }
   ],
   "source": [
    "F[\"DE\"]"
   ]
  },
  {
   "cell_type": "code",
   "execution_count": null,
   "id": "945febf6-bfef-41ac-9522-eeacace6bd8d",
   "metadata": {},
   "outputs": [],
   "source": [
    "class MySeq:\n",
    "    \n",
    "    def __getitem__(self, index):\n",
    "        \n",
    "        return index"
   ]
  },
  {
   "cell_type": "code",
   "execution_count": null,
   "id": "fdc1b0a9-9ced-46c4-b57a-f5e94dc1131a",
   "metadata": {},
   "outputs": [],
   "source": [
    "s = MySeq()"
   ]
  },
  {
   "cell_type": "code",
   "execution_count": null,
   "id": "cbe5fe09-4f96-4a0f-98f0-9c8d1579e887",
   "metadata": {},
   "outputs": [],
   "source": [
    "s[1]"
   ]
  },
  {
   "cell_type": "code",
   "execution_count": null,
   "id": "5b578926-386a-4101-9a16-358cd8dc95f7",
   "metadata": {},
   "outputs": [],
   "source": [
    "s[1:5]"
   ]
  },
  {
   "cell_type": "code",
   "execution_count": null,
   "id": "d49b4c1a-76ec-480f-aaf5-602d874adb7e",
   "metadata": {},
   "outputs": [],
   "source": [
    "li = [1, 2, 2]"
   ]
  },
  {
   "cell_type": "code",
   "execution_count": null,
   "id": "e323525f-e6a9-4d93-8eda-c9c29b541fd0",
   "metadata": {},
   "outputs": [],
   "source": [
    "help(slice.indices) "
   ]
  },
  {
   "cell_type": "code",
   "execution_count": null,
   "id": "d2500c1c-9220-4905-b79c-7abaa3c0cd5a",
   "metadata": {},
   "outputs": [],
   "source": [
    "slice(None, 10, 2).indices(5)"
   ]
  },
  {
   "cell_type": "code",
   "execution_count": null,
   "id": "a005aa2b-b5e5-4f36-9789-6d6be5660496",
   "metadata": {},
   "outputs": [],
   "source": [
    "slice(None, None).indices(5)"
   ]
  },
  {
   "cell_type": "code",
   "execution_count": null,
   "id": "a163100b-e0da-43f4-bd2d-d63fe2a82846",
   "metadata": {},
   "outputs": [],
   "source": [
    "s = slice(1, 10, 3)\n",
    "s"
   ]
  },
  {
   "cell_type": "code",
   "execution_count": null,
   "id": "8e1d16c2-3a9a-4bc2-92c7-d0af63deb1d8",
   "metadata": {},
   "outputs": [],
   "source": [
    "s.start"
   ]
  },
  {
   "cell_type": "code",
   "execution_count": null,
   "id": "a1508399-e409-4ba7-be2b-af0fbcef12e2",
   "metadata": {},
   "outputs": [],
   "source": [
    "s.stop"
   ]
  },
  {
   "cell_type": "code",
   "execution_count": null,
   "id": "6015a791-0d64-4838-a2e0-e949de68b6ed",
   "metadata": {},
   "outputs": [],
   "source": [
    "s.step"
   ]
  },
  {
   "cell_type": "code",
   "execution_count": null,
   "id": "26bd34d0-62a1-47b9-a6a6-d15d5be4528f",
   "metadata": {},
   "outputs": [],
   "source": [
    "??s.indices"
   ]
  },
  {
   "cell_type": "code",
   "execution_count": null,
   "id": "c740a219-b813-49da-ac9f-80647a5a3b8a",
   "metadata": {},
   "outputs": [],
   "source": [
    "li[s]"
   ]
  },
  {
   "cell_type": "code",
   "execution_count": null,
   "id": "0c44a2fc-a7f8-4675-bcbd-75b15a3e01a0",
   "metadata": {},
   "outputs": [],
   "source": [
    "li = [1, 2, 3, 4]"
   ]
  },
  {
   "cell_type": "code",
   "execution_count": null,
   "id": "43a60d82-fcd0-43e5-9bb5-33a836bfda91",
   "metadata": {},
   "outputs": [],
   "source": [
    "li[s]"
   ]
  },
  {
   "cell_type": "code",
   "execution_count": null,
   "id": "641871b1-44bd-4f31-8f53-9369eaef0998",
   "metadata": {},
   "outputs": [],
   "source": [
    "type(v)([1])"
   ]
  },
  {
   "cell_type": "markdown",
   "id": "e2f3de63-62e3-4177-bf1d-fc4b1ff8c570",
   "metadata": {},
   "source": [
    "## Vector类第3版： 动态存取属性"
   ]
  },
  {
   "cell_type": "code",
   "execution_count": 210,
   "id": "9eeb2599-6686-449f-a2ae-dae05dde22f8",
   "metadata": {},
   "outputs": [
    {
     "data": {
      "text/plain": [
       "2.0"
      ]
     },
     "execution_count": 210,
     "metadata": {},
     "output_type": "execute_result"
    }
   ],
   "source": [
    "v.y"
   ]
  },
  {
   "cell_type": "code",
   "execution_count": 211,
   "id": "c74172f6-de23-4b0b-a517-5b3933324fc7",
   "metadata": {},
   "outputs": [
    {
     "data": {
      "text/plain": [
       "1.0"
      ]
     },
     "execution_count": 211,
     "metadata": {},
     "output_type": "execute_result"
    }
   ],
   "source": [
    "v.x"
   ]
  },
  {
   "cell_type": "code",
   "execution_count": 212,
   "id": "6ab4adf2-0a10-4497-8f17-05ef2ffbe2c4",
   "metadata": {},
   "outputs": [
    {
     "data": {
      "text/plain": [
       "'xyzt'"
      ]
     },
     "execution_count": 212,
     "metadata": {},
     "output_type": "execute_result"
    }
   ],
   "source": [
    "v.__class__.shortcut_names"
   ]
  },
  {
   "cell_type": "code",
   "execution_count": 223,
   "id": "5add5c51-5c8d-4bd4-8458-dc72f4e66a29",
   "metadata": {},
   "outputs": [],
   "source": [
    "v.var = \"low\""
   ]
  },
  {
   "cell_type": "code",
   "execution_count": 224,
   "id": "5afd62a1-081b-412e-8659-2a204b3b0fc5",
   "metadata": {},
   "outputs": [
    {
     "data": {
      "text/plain": [
       "'low'"
      ]
     },
     "execution_count": 224,
     "metadata": {},
     "output_type": "execute_result"
    }
   ],
   "source": [
    "v.var"
   ]
  },
  {
   "cell_type": "code",
   "execution_count": 226,
   "id": "9fe6771c-a722-4cbe-b95a-c63a4eca9335",
   "metadata": {},
   "outputs": [
    {
     "data": {
      "text/plain": [
       "{'_components': array('d', [1.0, 2.0, 3.0]), 'Z': 4, 'X': 4, 'var': 'low'}"
      ]
     },
     "execution_count": 226,
     "metadata": {},
     "output_type": "execute_result"
    }
   ],
   "source": [
    "v.__dict__"
   ]
  },
  {
   "cell_type": "code",
   "execution_count": 214,
   "id": "586009c8-a1ff-427d-bc73-a7f4a0b995fa",
   "metadata": {},
   "outputs": [
    {
     "ename": "AttributeError",
     "evalue": "readonly attribute 'x'",
     "output_type": "error",
     "traceback": [
      "\u001b[0;31m---------------------------------------------------------------------------\u001b[0m",
      "\u001b[0;31mAttributeError\u001b[0m                            Traceback (most recent call last)",
      "\u001b[0;32m<ipython-input-214-ab03a2bcc936>\u001b[0m in \u001b[0;36m<module>\u001b[0;34m\u001b[0m\n\u001b[0;32m----> 1\u001b[0;31m \u001b[0mv\u001b[0m\u001b[0;34m.\u001b[0m\u001b[0mx\u001b[0m \u001b[0;34m=\u001b[0m \u001b[0;36m10\u001b[0m\u001b[0;34m\u001b[0m\u001b[0;34m\u001b[0m\u001b[0m\n\u001b[0m",
      "\u001b[0;32m<ipython-input-200-76363ac94769>\u001b[0m in \u001b[0;36m__setattr__\u001b[0;34m(self, name, value)\u001b[0m\n\u001b[1;32m     46\u001b[0m             \u001b[0;32mif\u001b[0m \u001b[0merror\u001b[0m\u001b[0;34m:\u001b[0m\u001b[0;34m\u001b[0m\u001b[0;34m\u001b[0m\u001b[0m\n\u001b[1;32m     47\u001b[0m                 \u001b[0mmsg\u001b[0m \u001b[0;34m=\u001b[0m \u001b[0merror\u001b[0m\u001b[0;34m.\u001b[0m\u001b[0mformat\u001b[0m\u001b[0;34m(\u001b[0m\u001b[0mcls_name\u001b[0m\u001b[0;34m=\u001b[0m\u001b[0mcls\u001b[0m\u001b[0;34m.\u001b[0m\u001b[0m__name__\u001b[0m\u001b[0;34m,\u001b[0m \u001b[0mattr_name\u001b[0m\u001b[0;34m=\u001b[0m\u001b[0mname\u001b[0m\u001b[0;34m)\u001b[0m\u001b[0;34m\u001b[0m\u001b[0;34m\u001b[0m\u001b[0m\n\u001b[0;32m---> 48\u001b[0;31m                 \u001b[0;32mraise\u001b[0m \u001b[0mAttributeError\u001b[0m\u001b[0;34m(\u001b[0m\u001b[0mmsg\u001b[0m\u001b[0;34m)\u001b[0m\u001b[0;34m\u001b[0m\u001b[0;34m\u001b[0m\u001b[0m\n\u001b[0m\u001b[1;32m     49\u001b[0m \u001b[0;34m\u001b[0m\u001b[0m\n\u001b[1;32m     50\u001b[0m         \u001b[0msuper\u001b[0m\u001b[0;34m(\u001b[0m\u001b[0;34m)\u001b[0m\u001b[0;34m.\u001b[0m\u001b[0m__setattr__\u001b[0m\u001b[0;34m(\u001b[0m\u001b[0mname\u001b[0m\u001b[0;34m,\u001b[0m \u001b[0mvalue\u001b[0m\u001b[0;34m)\u001b[0m\u001b[0;34m\u001b[0m\u001b[0;34m\u001b[0m\u001b[0m\n",
      "\u001b[0;31mAttributeError\u001b[0m: readonly attribute 'x'"
     ]
    }
   ],
   "source": [
    "v.x = 10"
   ]
  },
  {
   "cell_type": "code",
   "execution_count": 215,
   "id": "7740d2e9-91e4-49f8-87a6-230be6ae68f3",
   "metadata": {},
   "outputs": [
    {
     "data": {
      "text/plain": [
       "1.0"
      ]
     },
     "execution_count": 215,
     "metadata": {},
     "output_type": "execute_result"
    }
   ],
   "source": [
    "v.x"
   ]
  },
  {
   "cell_type": "code",
   "execution_count": 222,
   "id": "4e54662e-0db0-4539-b225-fb4d30fdae40",
   "metadata": {},
   "outputs": [],
   "source": [
    "v.X = 4"
   ]
  },
  {
   "cell_type": "code",
   "execution_count": null,
   "id": "9fbb8551-980e-4eaf-88f6-e5cce6464670",
   "metadata": {},
   "outputs": [],
   "source": [
    "a = '123'\n",
    "b = 'hello, {a}'.format(a=4545)\n",
    "b"
   ]
  },
  {
   "cell_type": "code",
   "execution_count": null,
   "id": "b870035c-53b7-4ffd-b166-4cc72281bee6",
   "metadata": {},
   "outputs": [],
   "source": [
    "b = 'hello, %r' % (a)"
   ]
  },
  {
   "cell_type": "code",
   "execution_count": null,
   "id": "8a316259-a128-4605-b965-875520c30499",
   "metadata": {},
   "outputs": [],
   "source": [
    "b"
   ]
  },
  {
   "cell_type": "markdown",
   "id": "84f37778-e1e1-41db-9147-d0001df8422f",
   "metadata": {},
   "source": [
    "## 知识点"
   ]
  },
  {
   "cell_type": "markdown",
   "id": "07da7429-a78e-496a-9f36-49080de5d4be",
   "metadata": {},
   "source": [
    "### format函数"
   ]
  },
  {
   "cell_type": "code",
   "execution_count": 227,
   "id": "341de798-7fcb-4f50-89a9-304c6536a30a",
   "metadata": {},
   "outputs": [
    {
     "data": {
      "text/plain": [
       "datetime.date(2022, 9, 4)"
      ]
     },
     "execution_count": 227,
     "metadata": {},
     "output_type": "execute_result"
    }
   ],
   "source": [
    "import datetime\n",
    "\n",
    "\n",
    "d = datetime.date.today()\n",
    "d"
   ]
  },
  {
   "cell_type": "code",
   "execution_count": 228,
   "id": "56d90e33-bc69-48d7-9f79-838f72b2514f",
   "metadata": {},
   "outputs": [
    {
     "name": "stdout",
     "output_type": "stream",
     "text": [
      "2022-09-04\n",
      "2022-09-04\n",
      "datetime.date(2022, 9, 4)\n",
      "datetime.date(2022, 9, 4)\n"
     ]
    }
   ],
   "source": [
    "print(\"%s\" % d)\n",
    "print(\"{}\".format(d))\n",
    "print(\"%r\" % d)\n",
    "print(\"{!r}\".format(d))"
   ]
  },
  {
   "cell_type": "markdown",
   "id": "569ce303-ecdd-4062-a38d-b5c5d2316eb3",
   "metadata": {},
   "source": [
    "### zip函数"
   ]
  },
  {
   "cell_type": "code",
   "execution_count": 230,
   "id": "c75ca5f4-6e6f-4e42-a144-96d5f42bb275",
   "metadata": {},
   "outputs": [
    {
     "data": {
      "text/plain": [
       "<zip at 0x7f2a9fbdd880>"
      ]
     },
     "execution_count": 230,
     "metadata": {},
     "output_type": "execute_result"
    }
   ],
   "source": [
    "zip(range(3), 'ABC')"
   ]
  },
  {
   "cell_type": "code",
   "execution_count": 231,
   "id": "1d6de2b2-b7fa-4126-92a5-d313d9461c8e",
   "metadata": {},
   "outputs": [
    {
     "data": {
      "text/plain": [
       "[(0, 'A'), (1, 'B'), (2, 'C')]"
      ]
     },
     "execution_count": 231,
     "metadata": {},
     "output_type": "execute_result"
    }
   ],
   "source": [
    "list(zip(range(3), 'ABC'))"
   ]
  },
  {
   "cell_type": "code",
   "execution_count": 233,
   "id": "1875c69e-db59-42de-a428-e058595f781e",
   "metadata": {},
   "outputs": [
    {
     "data": {
      "text/plain": [
       "[(0, 'A', 'a'), (1, 'B', 'b'), (2, 'C', 'c')]"
      ]
     },
     "execution_count": 233,
     "metadata": {},
     "output_type": "execute_result"
    }
   ],
   "source": [
    "list(zip(range(3), 'ABC', \"abc\"))"
   ]
  },
  {
   "cell_type": "code",
   "execution_count": null,
   "id": "5b82365b-5fff-491d-a9c9-e9ff5cd97209",
   "metadata": {},
   "outputs": [],
   "source": [
    "from itertools import  zip_longest"
   ]
  },
  {
   "cell_type": "code",
   "execution_count": 237,
   "id": "dd6e7ec7-4f11-4a01-8100-51ddedf106a8",
   "metadata": {},
   "outputs": [
    {
     "data": {
      "text/plain": [
       "[(0, 'A', 'a'), (1, 'B', -1), (2, 'C', -1)]"
      ]
     },
     "execution_count": 237,
     "metadata": {},
     "output_type": "execute_result"
    }
   ],
   "source": [
    "list(zip_longest(range(3), 'ABC', \"a\", fillvalue=-1))"
   ]
  },
  {
   "cell_type": "code",
   "execution_count": null,
   "id": "1d8c7e9d-f3d3-4463-8a1b-4ff9e00d12a4",
   "metadata": {},
   "outputs": [],
   "source": []
  },
  {
   "cell_type": "code",
   "execution_count": null,
   "id": "b9013ace-7b6e-47b0-8e21-564316bb77c8",
   "metadata": {},
   "outputs": [],
   "source": []
  },
  {
   "cell_type": "code",
   "execution_count": null,
   "id": "0c036fc8-c98c-4c6f-9581-28f7533acac0",
   "metadata": {},
   "outputs": [],
   "source": []
  },
  {
   "cell_type": "code",
   "execution_count": null,
   "id": "9373ba0d-e3fe-4077-9eda-84829bbbe2c2",
   "metadata": {},
   "outputs": [],
   "source": []
  },
  {
   "cell_type": "code",
   "execution_count": null,
   "id": "174c0250-805d-4829-b3f8-d99aba3d72ff",
   "metadata": {},
   "outputs": [],
   "source": []
  },
  {
   "cell_type": "code",
   "execution_count": null,
   "id": "b0d62fa0-7a76-4f63-8b01-691d762b9bbe",
   "metadata": {},
   "outputs": [],
   "source": []
  },
  {
   "cell_type": "code",
   "execution_count": null,
   "id": "83d31f29-04b4-48d4-94af-f6b522164b82",
   "metadata": {},
   "outputs": [],
   "source": []
  },
  {
   "cell_type": "code",
   "execution_count": null,
   "id": "83c004c7-86e9-4dbd-8c29-936742640831",
   "metadata": {},
   "outputs": [],
   "source": []
  },
  {
   "cell_type": "code",
   "execution_count": null,
   "id": "4ce11c20-a3e7-4d2e-9d4e-9fba597a44f9",
   "metadata": {},
   "outputs": [],
   "source": []
  },
  {
   "cell_type": "code",
   "execution_count": null,
   "id": "6cf30d6c-b895-4d01-ac14-772bd2f28c44",
   "metadata": {},
   "outputs": [],
   "source": []
  },
  {
   "cell_type": "code",
   "execution_count": null,
   "id": "3a2815a9-45a5-4a0b-8109-54413ae8a2a2",
   "metadata": {},
   "outputs": [],
   "source": []
  },
  {
   "cell_type": "code",
   "execution_count": null,
   "id": "d3270571-417f-4d14-946d-5d89188fdd3a",
   "metadata": {},
   "outputs": [],
   "source": []
  },
  {
   "cell_type": "code",
   "execution_count": null,
   "id": "69d53b32-3af3-4512-aa2f-ef779b949530",
   "metadata": {},
   "outputs": [],
   "source": []
  },
  {
   "cell_type": "code",
   "execution_count": null,
   "id": "652edbe0-9046-4033-b5a6-7dcc94f7e513",
   "metadata": {},
   "outputs": [],
   "source": []
  },
  {
   "cell_type": "code",
   "execution_count": null,
   "id": "c0e0c317-4437-42a7-ac5f-29cf80885bac",
   "metadata": {},
   "outputs": [],
   "source": []
  },
  {
   "cell_type": "code",
   "execution_count": null,
   "id": "b1b7a454-db91-46ab-87ae-3f25bbbbe136",
   "metadata": {},
   "outputs": [],
   "source": []
  },
  {
   "cell_type": "code",
   "execution_count": null,
   "id": "5de2fdbf-d2f3-4767-8c6c-f35188b7348c",
   "metadata": {},
   "outputs": [],
   "source": []
  },
  {
   "cell_type": "code",
   "execution_count": null,
   "id": "7076ce21-e8e5-4b1e-80d8-9a37663da782",
   "metadata": {},
   "outputs": [],
   "source": []
  },
  {
   "cell_type": "code",
   "execution_count": null,
   "id": "48b53ff0-6448-4a8c-82eb-a14e02307502",
   "metadata": {},
   "outputs": [],
   "source": []
  },
  {
   "cell_type": "code",
   "execution_count": null,
   "id": "00bbce52-f223-45d0-84be-0d09184f0937",
   "metadata": {},
   "outputs": [],
   "source": []
  }
 ],
 "metadata": {
  "kernelspec": {
   "display_name": "Python 3",
   "language": "python",
   "name": "python3"
  },
  "language_info": {
   "codemirror_mode": {
    "name": "ipython",
    "version": 3
   },
   "file_extension": ".py",
   "mimetype": "text/x-python",
   "name": "python",
   "nbconvert_exporter": "python",
   "pygments_lexer": "ipython3",
   "version": "3.8.5"
  }
 },
 "nbformat": 4,
 "nbformat_minor": 5
}
