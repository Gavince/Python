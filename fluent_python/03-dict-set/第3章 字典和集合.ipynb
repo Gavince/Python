{
 "cells": [
  {
   "cell_type": "markdown",
   "metadata": {},
   "source": [
    "# 第3章 字典和集合"
   ]
  },
  {
   "cell_type": "markdown",
   "metadata": {},
   "source": [
    "## 映射类型"
   ]
  },
  {
   "cell_type": "code",
   "execution_count": 1,
   "metadata": {},
   "outputs": [
    {
     "name": "stdout",
     "output_type": "stream",
     "text": [
      "True True\n",
      "True False\n",
      "True False\n"
     ]
    }
   ],
   "source": [
    "from collections import abc, OrderedDict, UserDict\n",
    "\n",
    "# isinstance和type区别\n",
    "# isinstance()：认为子类是一种父类类型，考虑继承关系\n",
    "# type()：不会认为子类是一种父类类型，不考虑继承关系。\n",
    "# 如果要判断两个类型是否相同推荐使用 isinstance()。\n",
    "my_dict = {}\n",
    "print(isinstance(my_dict, abc.Mapping), type(my_dict).__name__ == 'dict')\n",
    "my_dict2 = OrderedDict([])\n",
    "print(isinstance(my_dict2, abc.Mapping), type(my_dict2).__name__ == 'dict')\n",
    "\n",
    "\n",
    "class StrkeyDict(UserDict):\n",
    "    pass\n",
    "\n",
    "\n",
    "my_dict3 = StrkeyDict()\n",
    "print(isinstance(my_dict3, abc.Mapping), type(my_dict2).__name__ == 'dict')\n"
   ]
  },
  {
   "cell_type": "code",
   "execution_count": 2,
   "metadata": {},
   "outputs": [
    {
     "data": {
      "text/plain": [
       "-2764265307498484889"
      ]
     },
     "execution_count": 2,
     "metadata": {},
     "output_type": "execute_result"
    }
   ],
   "source": [
    "# 散列表\n",
    "tt = (1, 2, (5, 4))\n",
    "hash(tt)"
   ]
  },
  {
   "cell_type": "code",
   "execution_count": 3,
   "metadata": {},
   "outputs": [
    {
     "data": {
      "text/plain": [
       "True"
      ]
     },
     "execution_count": 3,
     "metadata": {},
     "output_type": "execute_result"
    }
   ],
   "source": [
    "t1 = (1, 2, (5, 4))\n",
    "tt == t1"
   ]
  },
  {
   "cell_type": "code",
   "execution_count": 4,
   "metadata": {},
   "outputs": [
    {
     "data": {
      "text/plain": [
       "-2764265307498484889"
      ]
     },
     "execution_count": 4,
     "metadata": {},
     "output_type": "execute_result"
    }
   ],
   "source": [
    "hash(t1)"
   ]
  },
  {
   "cell_type": "code",
   "execution_count": 5,
   "metadata": {},
   "outputs": [
    {
     "ename": "TypeError",
     "evalue": "unhashable type: 'list'",
     "output_type": "error",
     "traceback": [
      "\u001b[0;31m---------------------------------------------------------------------------\u001b[0m",
      "\u001b[0;31mTypeError\u001b[0m                                 Traceback (most recent call last)",
      "\u001b[0;32m<ipython-input-5-905bd139236d>\u001b[0m in \u001b[0;36m<module>\u001b[0;34m\u001b[0m\n\u001b[1;32m      1\u001b[0m \u001b[0mt2\u001b[0m \u001b[0;34m=\u001b[0m \u001b[0;34m(\u001b[0m\u001b[0;36m1\u001b[0m\u001b[0;34m,\u001b[0m \u001b[0;36m2\u001b[0m\u001b[0;34m,\u001b[0m \u001b[0;34m[\u001b[0m\u001b[0;36m5\u001b[0m\u001b[0;34m,\u001b[0m \u001b[0;36m4\u001b[0m\u001b[0;34m]\u001b[0m\u001b[0;34m)\u001b[0m\u001b[0;34m\u001b[0m\u001b[0;34m\u001b[0m\u001b[0m\n\u001b[0;32m----> 2\u001b[0;31m \u001b[0mhash\u001b[0m\u001b[0;34m(\u001b[0m\u001b[0mt2\u001b[0m\u001b[0;34m)\u001b[0m\u001b[0;34m\u001b[0m\u001b[0;34m\u001b[0m\u001b[0m\n\u001b[0m",
      "\u001b[0;31mTypeError\u001b[0m: unhashable type: 'list'"
     ]
    }
   ],
   "source": [
    "# 可变的元组＋不可变的列表＝不可散列\n",
    "# 不可变不是充要条件\n",
    "t2 = (1, 2, [5, 4])\n",
    "hash(t2)"
   ]
  },
  {
   "cell_type": "code",
   "execution_count": 9,
   "metadata": {},
   "outputs": [
    {
     "name": "stdout",
     "output_type": "stream",
     "text": [
      "5149391500123939311\n"
     ]
    }
   ],
   "source": [
    "t3 = (1, 2, frozenset([30, 40]))\n",
    "print(hash(t3))"
   ]
  },
  {
   "cell_type": "code",
   "execution_count": 11,
   "metadata": {},
   "outputs": [
    {
     "data": {
      "text/plain": [
       "1"
      ]
     },
     "execution_count": 11,
     "metadata": {},
     "output_type": "execute_result"
    }
   ],
   "source": [
    "# 原子：数值、str、bytes不可变类型，属于可散列类型\n",
    "hash(1)"
   ]
  },
  {
   "cell_type": "markdown",
   "metadata": {},
   "source": [
    "## 字典创建与推导\n",
    "字典推导（dictcomp）可以从任何以键值对作为元素的可迭代对象中构建出字典"
   ]
  },
  {
   "cell_type": "markdown",
   "metadata": {},
   "source": [
    "### 字典的创建"
   ]
  },
  {
   "cell_type": "code",
   "execution_count": 18,
   "metadata": {},
   "outputs": [
    {
     "name": "stdout",
     "output_type": "stream",
     "text": [
      "True\n"
     ]
    }
   ],
   "source": [
    "# 字典的创造\n",
    "a = dict(one=1, two=2, three=3)\n",
    "b = {'one': 1, \"two\": 2, \"three\": 3}\n",
    "c = dict(zip([\"one\", \"two\", \"three\"], [1, 2, 3]))  # 拉链函数:可迭代对象 打包成元组\n",
    "d = dict([(\"two\", 2), ('one', 1), (\"three\", 3)])  #\n",
    "e = dict({\"two\": 2, 'one': 1, \"three\": 3})\n",
    "\n",
    "print(a == b == c == e == d)"
   ]
  },
  {
   "cell_type": "code",
   "execution_count": 21,
   "metadata": {},
   "outputs": [],
   "source": [
    "a = [1, 2, 3]\n",
    "b = [4, 5, 6]\n",
    "c = [4, 5, 6, 7, 8]\n",
    "zipped = zip(a, b)  # 打包为元组的列表"
   ]
  },
  {
   "cell_type": "code",
   "execution_count": 23,
   "metadata": {},
   "outputs": [
    {
     "name": "stdout",
     "output_type": "stream",
     "text": [
      "<class 'zip'>\n",
      "\n",
      "(1, 4) (2, 5) (3, 6)\n"
     ]
    }
   ],
   "source": [
    "print(type(zipped))\n",
    "print(*zipped)  # 与 zip 相反，*zipped 可理解为解压，返回二维矩阵式\n",
    "print(*zip(a, c))  # 元素个数与最短的列表一致"
   ]
  },
  {
   "cell_type": "code",
   "execution_count": 25,
   "metadata": {},
   "outputs": [
    {
     "data": {
      "text/plain": [
       "[(1, 4), (2, 5), (3, 6)]"
      ]
     },
     "execution_count": 25,
     "metadata": {},
     "output_type": "execute_result"
    }
   ],
   "source": [
    "# 拆包\n",
    "[*zip(a, c)]"
   ]
  },
  {
   "cell_type": "code",
   "execution_count": 15,
   "metadata": {},
   "outputs": [
    {
     "name": "stdout",
     "output_type": "stream",
     "text": [
      "1 4\n",
      "2 5\n",
      "3 6\n"
     ]
    }
   ],
   "source": [
    "# zip在for循环中的使用\n",
    "for i,j in zip(a, c):\n",
    "    print(i, j)"
   ]
  },
  {
   "cell_type": "markdown",
   "metadata": {},
   "source": [
    "### 字典的推导"
   ]
  },
  {
   "cell_type": "code",
   "execution_count": 3,
   "metadata": {},
   "outputs": [
    {
     "name": "stdout",
     "output_type": "stream",
     "text": [
      "[(86, 'China'), (91, 'India'), (1, 'United States'), (62, 'Indonesia'), (55, 'Brazil'), (92, 'Pakistan'), (880, 'Bangladesh'), (234, 'Nigeria'), (7, 'Russia'), (81, 'Japan')]\n"
     ]
    }
   ],
   "source": [
    "dial_codes = [(86, 'China'),\n",
    "              (91, 'India'),\n",
    "              (1, 'United States'),\n",
    "              (62, 'Indonesia'),\n",
    "              (55, 'Brazil'),\n",
    "              (92, 'Pakistan'),\n",
    "              (880, 'Bangladesh'),\n",
    "              (234, 'Nigeria'),\n",
    "              (7, 'Russia'),\n",
    "              (81, 'Japan')]\n",
    "\n",
    "print(dial_codes)"
   ]
  },
  {
   "cell_type": "code",
   "execution_count": 4,
   "metadata": {},
   "outputs": [
    {
     "name": "stdout",
     "output_type": "stream",
     "text": [
      "{'China': 86, 'India': 91, 'United States': 1, 'Indonesia': 62, 'Brazil': 55, 'Pakistan': 92, 'Bangladesh': 880, 'Nigeria': 234, 'Russia': 7, 'Japan': 81}\n"
     ]
    }
   ],
   "source": [
    "# 利用推导来获取数据\n",
    "country_code = {country: code for code, country in dial_codes}\n",
    "print(country_code)"
   ]
  },
  {
   "cell_type": "code",
   "execution_count": 5,
   "metadata": {},
   "outputs": [
    {
     "name": "stdout",
     "output_type": "stream",
     "text": [
      "{1: 'UNITED STATES', 62: 'INDONESIA', 55: 'BRAZIL', 7: 'RUSSIA'}\n"
     ]
    }
   ],
   "source": [
    "# 对字典创建进行判断\n",
    "country_code2 = {code: country.upper() for code, country in dial_codes  if code < 66}\n",
    "print(country_code2)"
   ]
  },
  {
   "cell_type": "markdown",
   "metadata": {},
   "source": [
    "### 鸭子类型\n",
    "核心要点：你既可以用一个映射对象来新建一个映射对象，也可以用包含(key, value)元素的可迭代对象来初始化一个映射对象。"
   ]
  },
  {
   "cell_type": "code",
   "execution_count": 33,
   "metadata": {},
   "outputs": [
    {
     "data": {
      "text/plain": [
       "{'d': 5, 'a': 1, 'b': 2}"
      ]
     },
     "execution_count": 33,
     "metadata": {},
     "output_type": "execute_result"
    }
   ],
   "source": [
    "# 鸭子类型的更新方法\n",
    "# 含有keys方法\n",
    "item.update({\"d\":5})\n",
    "# iterable\n",
    "item.update([(\"a\", 1), (\"b\", 2)])\n",
    "item"
   ]
  },
  {
   "cell_type": "markdown",
   "metadata": {},
   "source": [
    "\n",
    "## 常见的映射方法"
   ]
  },
  {
   "cell_type": "markdown",
   "metadata": {},
   "source": [
    "### 键值缺失情况\n",
    "一般步骤：  \n",
    "(1)找到缺失key  \n",
    "(2)填补缺失value  \n",
    "(3)重新映射key-->value的关系"
   ]
  },
  {
   "cell_type": "code",
   "execution_count": 20,
   "metadata": {},
   "outputs": [
    {
     "ename": "KeyError",
     "evalue": "'python'",
     "output_type": "error",
     "traceback": [
      "\u001b[0;31m---------------------------------------------------------------------------\u001b[0m",
      "\u001b[0;31mKeyError\u001b[0m                                  Traceback (most recent call last)",
      "\u001b[0;32m<ipython-input-20-0cb5570bbf22>\u001b[0m in \u001b[0;36m<module>\u001b[0;34m\u001b[0m\n\u001b[1;32m      1\u001b[0m \u001b[0;31m#　当键值不存在时\u001b[0m\u001b[0;34m\u001b[0m\u001b[0;34m\u001b[0m\u001b[0;34m\u001b[0m\u001b[0m\n\u001b[1;32m      2\u001b[0m \u001b[0mitem\u001b[0m \u001b[0;34m=\u001b[0m \u001b[0;34m{\u001b[0m\u001b[0;34m}\u001b[0m\u001b[0;34m\u001b[0m\u001b[0;34m\u001b[0m\u001b[0m\n\u001b[0;32m----> 3\u001b[0;31m \u001b[0mitem\u001b[0m\u001b[0;34m[\u001b[0m\u001b[0;34m\"python\"\u001b[0m\u001b[0;34m]\u001b[0m\u001b[0;34m\u001b[0m\u001b[0;34m\u001b[0m\u001b[0m\n\u001b[0m",
      "\u001b[0;31mKeyError\u001b[0m: 'python'"
     ]
    }
   ],
   "source": [
    "#　当键值不存在时\n",
    "item = {}\n",
    "item[\"python\"]"
   ]
  },
  {
   "cell_type": "code",
   "execution_count": 21,
   "metadata": {},
   "outputs": [
    {
     "data": {
      "text/plain": [
       "[]"
      ]
     },
     "execution_count": 21,
     "metadata": {},
     "output_type": "execute_result"
    }
   ],
   "source": [
    "# 后处理不存在值\n",
    "values = item.get(\"python\", [])\n",
    "values"
   ]
  },
  {
   "cell_type": "code",
   "execution_count": 22,
   "metadata": {},
   "outputs": [
    {
     "data": {
      "text/plain": [
       "{'python': [5]}"
      ]
     },
     "execution_count": 22,
     "metadata": {},
     "output_type": "execute_result"
    }
   ],
   "source": [
    "# 添加步骤\n",
    "# 两步查找，先查找取出默认，后查找放入取值\n",
    "values.append(5)\n",
    "item[\"python\"] = values\n",
    "item"
   ]
  },
  {
   "cell_type": "code",
   "execution_count": 24,
   "metadata": {},
   "outputs": [
    {
     "data": {
      "text/plain": [
       "[]"
      ]
     },
     "execution_count": 24,
     "metadata": {},
     "output_type": "execute_result"
    }
   ],
   "source": [
    "# 设置字典的默认属性，插入值\n",
    "item = {}\n",
    "item.setdefault(\"python\", [])\n",
    "item[\"python\"]"
   ]
  },
  {
   "cell_type": "markdown",
   "metadata": {},
   "source": [
    "### 特殊方法__mission__\n",
    "核心要点：所有的映射类型在处理找不到的键的时候，都会牵扯到__missing__方法。这也是这个方法称作“missing”的原因。虽然基类dict并没有定义这个方法，但是dict是知道有这么个东西存在的。也就是说，如果有一个类继承了dict，然后这个继承类提供了__missing__方法，那么在__getitem__碰到找不到的键的时候，Python就会自动调用它，而不是抛出一个KeyError异常。"
   ]
  },
  {
   "cell_type": "code",
   "execution_count": 147,
   "metadata": {},
   "outputs": [],
   "source": [
    "\"\"\"\n",
    "查询的时候，映射类型里面的键，统统换成str\n",
    "如果一个类例如StrKeyDict0继承了dict。然后这个继承类提供了一个__missing__方法，\n",
    "那么在__getitem__碰到找不到的键的时候，Python会自动调用它\n",
    "\"\"\"\n",
    "\n",
    "\n",
    "class StrKeyDict0(dict):\n",
    "    # 该类继承了dict\n",
    "    def __missing__(self, key):\n",
    "        print(\"i'm missing\")\n",
    "        # 如果找不到的键，本身就是字符串，抛异常\n",
    "        if isinstance(key, str):\n",
    "            raise KeyError(key)\n",
    "        return self[str(key)]\n",
    "\n",
    "    def get(self, key, default=None):\n",
    "        try:\n",
    "            return self[key]  # 通过这种形式委托给__getitem__.如果这个时候再找不到那就走__missing__\n",
    "        except KeyError:\n",
    "            return default  # 如果__missing__也是失败\n",
    "\n",
    "    def __contains__(self, key):\n",
    "        # 先按照传入键的原本的值来查找（我们的映射类型中可能含有非字符串的键），如果没 找到，再用 str() 方法把键转换成字符串再查找一次。\n",
    "        return key in self.keys() or str(key) in self.keys()"
   ]
  },
  {
   "cell_type": "code",
   "execution_count": 148,
   "metadata": {},
   "outputs": [
    {
     "name": "stdout",
     "output_type": "stream",
     "text": [
      "two\n",
      "-------非字符串查找,转换成字符串后存在--------\n",
      "i'm missing\n",
      "four\n",
      "-------非字符串查找,转换成字符串后仍然不存在--------\n",
      "i'm missing\n",
      "i'm missing\n"
     ]
    },
    {
     "ename": "KeyError",
     "evalue": "'1'",
     "output_type": "error",
     "traceback": [
      "\u001b[0;31m---------------------------------------------------------------------------\u001b[0m",
      "\u001b[0;31mKeyError\u001b[0m                                  Traceback (most recent call last)",
      "\u001b[0;32m<ipython-input-148-f952f6e83f1a>\u001b[0m in \u001b[0;36m<module>\u001b[0;34m\u001b[0m\n\u001b[1;32m      5\u001b[0m \u001b[0mprint\u001b[0m\u001b[0;34m(\u001b[0m\u001b[0md\u001b[0m\u001b[0;34m[\u001b[0m\u001b[0;36m4\u001b[0m\u001b[0;34m]\u001b[0m\u001b[0;34m)\u001b[0m\u001b[0;34m\u001b[0m\u001b[0;34m\u001b[0m\u001b[0m\n\u001b[1;32m      6\u001b[0m \u001b[0mprint\u001b[0m\u001b[0;34m(\u001b[0m\u001b[0;34m\"-------非字符串查找,转换成字符串后仍然不存在--------\"\u001b[0m\u001b[0;34m)\u001b[0m\u001b[0;34m\u001b[0m\u001b[0;34m\u001b[0m\u001b[0m\n\u001b[0;32m----> 7\u001b[0;31m \u001b[0mprint\u001b[0m\u001b[0;34m(\u001b[0m\u001b[0md\u001b[0m\u001b[0;34m[\u001b[0m\u001b[0;36m1\u001b[0m\u001b[0;34m]\u001b[0m\u001b[0;34m)\u001b[0m\u001b[0;34m\u001b[0m\u001b[0;34m\u001b[0m\u001b[0m\n\u001b[0m",
      "\u001b[0;32m<ipython-input-147-83ee2d0e69f8>\u001b[0m in \u001b[0;36m__missing__\u001b[0;34m(self, key)\u001b[0m\n\u001b[1;32m     13\u001b[0m         \u001b[0;32mif\u001b[0m \u001b[0misinstance\u001b[0m\u001b[0;34m(\u001b[0m\u001b[0mkey\u001b[0m\u001b[0;34m,\u001b[0m \u001b[0mstr\u001b[0m\u001b[0;34m)\u001b[0m\u001b[0;34m:\u001b[0m\u001b[0;34m\u001b[0m\u001b[0;34m\u001b[0m\u001b[0m\n\u001b[1;32m     14\u001b[0m             \u001b[0;32mraise\u001b[0m \u001b[0mKeyError\u001b[0m\u001b[0;34m(\u001b[0m\u001b[0mkey\u001b[0m\u001b[0;34m)\u001b[0m\u001b[0;34m\u001b[0m\u001b[0;34m\u001b[0m\u001b[0m\n\u001b[0;32m---> 15\u001b[0;31m         \u001b[0;32mreturn\u001b[0m \u001b[0mself\u001b[0m\u001b[0;34m[\u001b[0m\u001b[0mstr\u001b[0m\u001b[0;34m(\u001b[0m\u001b[0mkey\u001b[0m\u001b[0;34m)\u001b[0m\u001b[0;34m]\u001b[0m\u001b[0;34m\u001b[0m\u001b[0;34m\u001b[0m\u001b[0m\n\u001b[0m\u001b[1;32m     16\u001b[0m \u001b[0;34m\u001b[0m\u001b[0m\n\u001b[1;32m     17\u001b[0m     \u001b[0;32mdef\u001b[0m \u001b[0mget\u001b[0m\u001b[0;34m(\u001b[0m\u001b[0mself\u001b[0m\u001b[0;34m,\u001b[0m \u001b[0mkey\u001b[0m\u001b[0;34m,\u001b[0m \u001b[0mdefault\u001b[0m\u001b[0;34m=\u001b[0m\u001b[0;32mNone\u001b[0m\u001b[0;34m)\u001b[0m\u001b[0;34m:\u001b[0m\u001b[0;34m\u001b[0m\u001b[0;34m\u001b[0m\u001b[0m\n",
      "\u001b[0;32m<ipython-input-147-83ee2d0e69f8>\u001b[0m in \u001b[0;36m__missing__\u001b[0;34m(self, key)\u001b[0m\n\u001b[1;32m     12\u001b[0m         \u001b[0;31m# 如果找不到的键，本身就是字符串，抛异常\u001b[0m\u001b[0;34m\u001b[0m\u001b[0;34m\u001b[0m\u001b[0;34m\u001b[0m\u001b[0m\n\u001b[1;32m     13\u001b[0m         \u001b[0;32mif\u001b[0m \u001b[0misinstance\u001b[0m\u001b[0;34m(\u001b[0m\u001b[0mkey\u001b[0m\u001b[0;34m,\u001b[0m \u001b[0mstr\u001b[0m\u001b[0;34m)\u001b[0m\u001b[0;34m:\u001b[0m\u001b[0;34m\u001b[0m\u001b[0;34m\u001b[0m\u001b[0m\n\u001b[0;32m---> 14\u001b[0;31m             \u001b[0;32mraise\u001b[0m \u001b[0mKeyError\u001b[0m\u001b[0;34m(\u001b[0m\u001b[0mkey\u001b[0m\u001b[0;34m)\u001b[0m\u001b[0;34m\u001b[0m\u001b[0;34m\u001b[0m\u001b[0m\n\u001b[0m\u001b[1;32m     15\u001b[0m         \u001b[0;32mreturn\u001b[0m \u001b[0mself\u001b[0m\u001b[0;34m[\u001b[0m\u001b[0mstr\u001b[0m\u001b[0;34m(\u001b[0m\u001b[0mkey\u001b[0m\u001b[0;34m)\u001b[0m\u001b[0;34m]\u001b[0m\u001b[0;34m\u001b[0m\u001b[0;34m\u001b[0m\u001b[0m\n\u001b[1;32m     16\u001b[0m \u001b[0;34m\u001b[0m\u001b[0m\n",
      "\u001b[0;31mKeyError\u001b[0m: '1'"
     ]
    }
   ],
   "source": [
    "# 当有非字符串的键被查找的时候，StrKeyDict0 是如何在该键不存在的情况下， 把它转换为字符串的\n",
    "d = StrKeyDict0([('2', 'two'), ('4', 'four')])\n",
    "# 一次missing方法\n",
    "print(d['2'])\n",
    "print(\"-------非字符串查找,转换成字符串后存在--------\")\n",
    "# 两次missing方法\n",
    "print(d[4])\n",
    "print(\"-------非字符串查找,转换成字符串后仍然不存在--------\")\n",
    "print(d[1])"
   ]
  },
  {
   "cell_type": "code",
   "execution_count": 149,
   "metadata": {},
   "outputs": [
    {
     "name": "stdout",
     "output_type": "stream",
     "text": [
      "i'm missing\n",
      "i'm missing\n",
      "i'm missing\n",
      "None\n",
      "True\n",
      "False\n"
     ]
    }
   ],
   "source": [
    "d.get('2')\n",
    "d.get(4)\n",
    "# get方法不存在，则以默认值的形式表示\n",
    "print(d.get(1))\n",
    "# __contains__方法\n",
    "print( 2 in d )\n",
    "print( 1 in d )"
   ]
  },
  {
   "cell_type": "markdown",
   "metadata": {},
   "source": [
    "### 默认字典 defaultdict"
   ]
  },
  {
   "cell_type": "code",
   "execution_count": 37,
   "metadata": {},
   "outputs": [
    {
     "name": "stdout",
     "output_type": "stream",
     "text": [
      "0 [(12, 17), (13, 22)]\n",
      "added [(11, 15)]\n",
      "after [(4, 1)]\n",
      "an [(1, 30)]\n",
      "app [(15, 40), (16, 5)]\n",
      "as [(15, 37)]\n",
      "avoid [(3, 55)]\n",
      "back [(11, 21)]\n",
      "by [(11, 26)]\n",
      "can [(3, 51)]\n",
      "cwd [(4, 20)]\n",
      "CWD [(10, 18)]\n",
      "del [(13, 9)]\n",
      "doing [(3, 61)]\n",
      "Entry [(1, 4)]\n",
      "for [(1, 16)]\n",
      "from [(3, 18), (4, 24), (10, 22), (15, 5)]\n",
      "if [(9, 1), (12, 5)]\n",
      "import [(7, 1), (15, 20)]\n",
      "imports [(3, 67)]\n",
      "init_path [(11, 49)]\n",
      "InteractiveShellApp [(11, 29)]\n",
      "ipykernel [(3, 27), (15, 10)]\n",
      "IPython [(1, 33)]\n",
      "is [(3, 6), (11, 12)]\n",
      "kernel [(1, 41)]\n",
      "kernelapp [(15, 27)]\n",
      "launching [(1, 20)]\n",
      "launch_new_instance [(16, 9)]\n",
      "load [(10, 45)]\n",
      "package [(3, 37)]\n",
      "path [(4, 33), (10, 31), (12, 12), (13, 17)]\n",
      "point [(1, 10)]\n",
      "Remove [(10, 7)]\n",
      "removing [(4, 7)]\n",
      "separate [(3, 9)]\n",
      "so [(3, 45)]\n",
      "stuff [(10, 50)]\n",
      "sys [(4, 29), (7, 8), (10, 27), (12, 8), (13, 13)]\n",
      "the [(3, 23), (4, 16), (10, 14)]\n",
      "This [(3, 1), (11, 7)]\n",
      "until [(3, 75)]\n",
      "we [(3, 48), (10, 42)]\n",
      "while [(10, 36)]\n",
      "__main__ [(9, 17)]\n",
      "__name__ [(9, 4)]\n"
     ]
    }
   ],
   "source": [
    "# 缺失字典的更新\n",
    "import sys\n",
    "import re\n",
    "\n",
    "WORD_RE = re.compile(r'\\w+')\n",
    "index = {}\n",
    "with open(sys.argv[0], encoding='utf-8') as fp:\n",
    "    for line_no, line in enumerate(fp, 1):\n",
    "        for match in WORD_RE.finditer(line):\n",
    "            word = match.group()\n",
    "            column_no = match.start() + 1\n",
    "            location = (line_no, column_no)\n",
    "            # 方法一\n",
    "            # occurrences = index.get(word, []) # 提取 word 出现的情况，如果还没有它的记录返回 []\n",
    "            # occurrences.append(location) # 把新单词出现的位置添加到列表的后面\n",
    "            # index[word] = occurrences # 把新的列表放回到字典中 #又涉及一次到查询\n",
    "            # 方法二\n",
    "            # 如果word值第一次出现，则为[],否则追加元素\n",
    "            index.setdefault(word,[]).append(location)\n",
    "            \n",
    "# 以字母顺序打印结果\n",
    "for word in sorted(index, key=str.upper):\n",
    "    print(word, index[word])"
   ]
  },
  {
   "cell_type": "code",
   "execution_count": 26,
   "metadata": {},
   "outputs": [
    {
     "name": "stdout",
     "output_type": "stream",
     "text": [
      "defaultdict(<class 'list'>, {'a': [1, 2, 2], 'b': [3], 'c': []})\n"
     ]
    }
   ],
   "source": [
    "from collections import defaultdict\n",
    "# 前处理不存在值\n",
    "# 默认字典保证键有值\n",
    "#参数是类型\n",
    "# 默认字典，一致性：所有字典类型表示为同一类型,可以使用相应类型下的方法\n",
    "# 例如:当key值存在，而无value值时，会默认生成{key:默认类型}\n",
    "d=defaultdict(list)\n",
    "d['a'].append(1)\n",
    "d['a'].append(2)\n",
    "d['a'].append(2)\n",
    "d['b'].append(3)\n",
    "# 只有键，默认[]\n",
    "d[\"c\"]\n",
    "print(d)"
   ]
  },
  {
   "cell_type": "code",
   "execution_count": 32,
   "metadata": {},
   "outputs": [],
   "source": [
    "a = defaultdict(set)"
   ]
  },
  {
   "cell_type": "code",
   "execution_count": 33,
   "metadata": {},
   "outputs": [
    {
     "data": {
      "text/plain": [
       "set()"
      ]
     },
     "execution_count": 33,
     "metadata": {},
     "output_type": "execute_result"
    }
   ],
   "source": [
    "a[\"1\"]"
   ]
  },
  {
   "cell_type": "code",
   "execution_count": 39,
   "metadata": {},
   "outputs": [
    {
     "name": "stdout",
     "output_type": "stream",
     "text": [
      "defaultdict(<class 'set'>, {'a': {1, 2}, 'b': {3}, 'c': set()})\n"
     ]
    }
   ],
   "source": [
    "d2=defaultdict(set)\n",
    "d2['a'].add(1)\n",
    "d2['a'].add(2)\n",
    "d2['a'].add(2)\n",
    "d2['b'].add(3)\n",
    "d2[\"c\"]\n",
    "print(d2)"
   ]
  },
  {
   "cell_type": "code",
   "execution_count": 43,
   "metadata": {},
   "outputs": [
    {
     "name": "stdout",
     "output_type": "stream",
     "text": [
      "{'a': [1, 2], 'b': [3]}\n"
     ]
    }
   ],
   "source": [
    "d3 = {}\n",
    "d3.setdefault('a', []).append(1)\n",
    "d3.setdefault('a', []).append(2)\n",
    "d3.setdefault('b', []).append(3)\n",
    "print(d3)  # {'a': [1, 2], 'b': [3]}"
   ]
  },
  {
   "cell_type": "code",
   "execution_count": 45,
   "metadata": {},
   "outputs": [
    {
     "data": {
      "text/plain": [
       "defaultdict(int, {'4': 1, '5': 0})"
      ]
     },
     "execution_count": 45,
     "metadata": {},
     "output_type": "execute_result"
    }
   ],
   "source": [
    "# 默认在value不存在的情况下，用整数0进行补充\n",
    "d4 = defaultdict(int)\n",
    "d4[\"4\"] = 1\n",
    "d4[\"5\"]\n",
    "d4"
   ]
  },
  {
   "cell_type": "code",
   "execution_count": 48,
   "metadata": {},
   "outputs": [
    {
     "data": {
      "text/plain": [
       "{'a': [1, 1], 'b': {8, 88}}"
      ]
     },
     "execution_count": 48,
     "metadata": {},
     "output_type": "execute_result"
    }
   ],
   "source": [
    "# 普通字典类型\n",
    "d5 = {}\n",
    "# 增加默认字典类型\n",
    "d5.setdefault(\"a\", [])\n",
    "d5.setdefault(\"b\", set())\n",
    "d5[\"a\"].append(1)\n",
    "d5[\"a\"].append(1)\n",
    "d5[\"b\"].add(88)\n",
    "d5[\"b\"].add(8)\n",
    "d5[\"b\"].add(8)\n",
    "d5"
   ]
  },
  {
   "cell_type": "markdown",
   "metadata": {},
   "source": [
    "### 有序字典 OrderedDict\n",
    "核心要点：一个 OrderedDict 的大小是一个普通字典的两倍，因为它内部维护着另外一个链表OrderedDict 内部维护着一个根据键插入顺序排序的双向链表。每次当一个新的元素插入进来的时候，它会被放到链表的尾部。对于一个已经存在的键的重复赋值不会 改变键的顺序"
   ]
  },
  {
   "cell_type": "code",
   "execution_count": 49,
   "metadata": {},
   "outputs": [
    {
     "name": "stdout",
     "output_type": "stream",
     "text": [
      "a ===== 1\n",
      "b ===== 2\n",
      "c ===== 3\n",
      "d ===== 4\n"
     ]
    }
   ],
   "source": [
    "from collections import OrderedDict\n",
    "\n",
    "d4 = OrderedDict()\n",
    "d4['a'] = 1\n",
    "d4['b'] = 2\n",
    "d4['c'] = 3\n",
    "d4['d'] = 4\n",
    "for k, v in d4.items():\n",
    "    print(k, '=====', v)"
   ]
  },
  {
   "cell_type": "code",
   "execution_count": 50,
   "metadata": {},
   "outputs": [
    {
     "name": "stdout",
     "output_type": "stream",
     "text": [
      "{\"a\": 1, \"b\": 2, \"c\": 3, \"d\": 4}\n"
     ]
    }
   ],
   "source": [
    "import json\n",
    "print(json.dumps(d4)) # {\"a\": 1, \"b\": 2, \"c\": 3, \"d\": 4}"
   ]
  },
  {
   "cell_type": "code",
   "execution_count": 51,
   "metadata": {},
   "outputs": [
    {
     "name": "stdout",
     "output_type": "stream",
     "text": [
      "{\"a\": 1, \"b\": 2, \"c\": 3}\n"
     ]
    }
   ],
   "source": [
    "# 删除\n",
    "d4.popitem() #默认一处字典中最先插入的元素（先进后出）\n",
    "print(json.dumps(d4)) # {\"a\": 1, \"b\": 2, \"c\": 3}"
   ]
  },
  {
   "cell_type": "code",
   "execution_count": 52,
   "metadata": {},
   "outputs": [
    {
     "name": "stdout",
     "output_type": "stream",
     "text": [
      "{\"b\": 2, \"c\": 3}\n"
     ]
    }
   ],
   "source": [
    "d4.popitem(last=False) #默认一处字典中最先插入的元素（先进先出）\n",
    "print(json.dumps(d4)) # {\"b\": 2, \"c\": 3}"
   ]
  },
  {
   "cell_type": "code",
   "execution_count": 53,
   "metadata": {},
   "outputs": [
    {
     "name": "stdout",
     "output_type": "stream",
     "text": [
      "-----循环-----\n",
      "45.23 == ACME\n",
      "612.78 == AAPL\n",
      "205.55 == IBM\n",
      "37.2 == HPQ\n",
      "10.75 == FB\n"
     ]
    }
   ],
   "source": [
    "print(\"-----循环-----\")\n",
    "prices = {\n",
    "    'ACME': 45.23,\n",
    "    'AAPL': 612.78,\n",
    "    'IBM': 205.55,\n",
    "    'HPQ': 37.20,\n",
    "    'FB': 10.75\n",
    "}\n",
    "price1 = zip(prices.values(), prices.keys())\n",
    "for k, v in price1.__iter__():\n",
    "    print(k, '==', v)"
   ]
  },
  {
   "cell_type": "code",
   "execution_count": 58,
   "metadata": {},
   "outputs": [
    {
     "name": "stdout",
     "output_type": "stream",
     "text": [
      "------普通字典-------\n",
      "{'a': 1, 'b': 2} {'b': 2, 'a': 1}\n",
      "True\n"
     ]
    }
   ],
   "source": [
    "# 普通字典无序，但按照存储顺序读写\n",
    "print(\"------普通字典-------\")\n",
    "dicta = {\"a\": 1, \"b\": 2}\n",
    "dictb = {\"b\": 2, \"a\": 1, }\n",
    "print(dicta, dictb)\n",
    "print(dicta == dictb)"
   ]
  },
  {
   "cell_type": "code",
   "execution_count": 55,
   "metadata": {},
   "outputs": [
    {
     "name": "stdout",
     "output_type": "stream",
     "text": [
      "------列表-------\n",
      "['a', 'b'] ['b', 'a']\n",
      "False\n"
     ]
    }
   ],
   "source": [
    "# 列表有序\n",
    "print(\"------列表-------\")\n",
    "lista = [\"a\", \"b\"]\n",
    "listb = [\"b\", \"a\", ]\n",
    "print(lista, listb)\n",
    "print(lista == listb)"
   ]
  },
  {
   "cell_type": "code",
   "execution_count": 56,
   "metadata": {},
   "outputs": [
    {
     "name": "stdout",
     "output_type": "stream",
     "text": [
      "------有序字典-------\n",
      "OrderedDict([('a', 1), ('b', 2)]) OrderedDict([('b', 2), ('a', 1)])\n",
      "False\n"
     ]
    }
   ],
   "source": [
    "print(\"------有序字典-------\")\n",
    "from collections import OrderedDict\n",
    "\n",
    "d4 = OrderedDict()\n",
    "d4['a'] = 1\n",
    "d4['b'] = 2\n",
    "d5 = OrderedDict()\n",
    "d5['b'] = 2\n",
    "d5['a'] = 1\n",
    "print(d4, d5)\n",
    "print(d4 == d5)"
   ]
  },
  {
   "cell_type": "markdown",
   "metadata": {},
   "source": [
    "### 链映射ChainMap\n",
    "核心要点：该类型可以容纳数个不同的映射对象，然后在进行键查找操作的时候，这些对象会被当作一个整体被逐个查找，直到键被找到为止。因此，ChainMap实际上是把放入的字典存储在一个队列中，<font color = \"red\">当进行字典的增加删除等操作只会在第一个字典上进行，当进行查找的时候会依次查找。</font>"
   ]
  },
  {
   "cell_type": "code",
   "execution_count": 59,
   "metadata": {},
   "outputs": [
    {
     "name": "stdout",
     "output_type": "stream",
     "text": [
      "ChainMap({'x': 1, 'z': 3}, {'y': 2, 'z': 4})\n"
     ]
    }
   ],
   "source": [
    "from collections import ChainMap\n",
    "\n",
    "a = {\"x\": 1, \"z\": 3}\n",
    "b = {\"y\": 2, \"z\": 4}\n",
    "\n",
    "c = ChainMap(a, b)\n",
    "print(c)"
   ]
  },
  {
   "cell_type": "code",
   "execution_count": 60,
   "metadata": {},
   "outputs": [
    {
     "data": {
      "text/plain": [
       "(3, 2)"
      ]
     },
     "execution_count": 60,
     "metadata": {},
     "output_type": "execute_result"
    }
   ],
   "source": [
    "# 查找操作：依次查找，首次查找之后，停止继续查找\n",
    "c[\"z\"], c[\"y\"]"
   ]
  },
  {
   "cell_type": "code",
   "execution_count": 62,
   "metadata": {},
   "outputs": [
    {
     "name": "stdout",
     "output_type": "stream",
     "text": [
      "ChainMap({'x': 1, 'z': 2}, {'y': 2, 'z': 4})\n"
     ]
    }
   ],
   "source": [
    "# 对象的引用\n",
    "a.update({\"z\": 2})\n",
    "print(c)  # 同步更新"
   ]
  },
  {
   "cell_type": "code",
   "execution_count": 66,
   "metadata": {},
   "outputs": [
    {
     "name": "stdout",
     "output_type": "stream",
     "text": [
      "5\n",
      "ChainMap({'x': 1, 'z': 5}, {'y': 2, 'z': 4})\n"
     ]
    },
    {
     "data": {
      "text/plain": [
       "{'x': 1, 'z': 5}"
      ]
     },
     "execution_count": 66,
     "metadata": {},
     "output_type": "execute_result"
    }
   ],
   "source": [
    "# 当对ChainMap进行修改的时候总是只会对第一个字典进行修改\n",
    "print(c[\"z\"])\n",
    "c[\"z\"]=5\n",
    "print(c)\n",
    "a"
   ]
  },
  {
   "cell_type": "code",
   "execution_count": 68,
   "metadata": {},
   "outputs": [
    {
     "data": {
      "text/plain": [
       "ChainMap({'x': 1, 'z': 5, 'y': 100}, {'y': 2, 'z': 4})"
      ]
     },
     "execution_count": 68,
     "metadata": {},
     "output_type": "execute_result"
    }
   ],
   "source": [
    "# 增加 只对第一个字典进行修改，即使key在后面的字典中存在\n",
    "c[\"y\"] = 100\n",
    "c"
   ]
  },
  {
   "cell_type": "code",
   "execution_count": 69,
   "metadata": {},
   "outputs": [
    {
     "name": "stdout",
     "output_type": "stream",
     "text": [
      "ChainMap({'x': 1, 'y': 100}, {'y': 2, 'z': 4})\n"
     ]
    }
   ],
   "source": [
    "# 删除\n",
    "c.pop('z')\n",
    "print(c)"
   ]
  },
  {
   "cell_type": "code",
   "execution_count": 74,
   "metadata": {},
   "outputs": [
    {
     "ename": "KeyError",
     "evalue": "\"Key not found in the first mapping: 'z'\"",
     "output_type": "error",
     "traceback": [
      "\u001b[0;31m---------------------------------------------------------------------------\u001b[0m",
      "\u001b[0;31mKeyError\u001b[0m                                  Traceback (most recent call last)",
      "\u001b[0;32m~/anaconda3/lib/python3.8/collections/__init__.py\u001b[0m in \u001b[0;36mpop\u001b[0;34m(self, key, *args)\u001b[0m\n\u001b[1;32m    964\u001b[0m         \u001b[0;32mtry\u001b[0m\u001b[0;34m:\u001b[0m\u001b[0;34m\u001b[0m\u001b[0;34m\u001b[0m\u001b[0m\n\u001b[0;32m--> 965\u001b[0;31m             \u001b[0;32mreturn\u001b[0m \u001b[0mself\u001b[0m\u001b[0;34m.\u001b[0m\u001b[0mmaps\u001b[0m\u001b[0;34m[\u001b[0m\u001b[0;36m0\u001b[0m\u001b[0;34m]\u001b[0m\u001b[0;34m.\u001b[0m\u001b[0mpop\u001b[0m\u001b[0;34m(\u001b[0m\u001b[0mkey\u001b[0m\u001b[0;34m,\u001b[0m \u001b[0;34m*\u001b[0m\u001b[0margs\u001b[0m\u001b[0;34m)\u001b[0m\u001b[0;34m\u001b[0m\u001b[0;34m\u001b[0m\u001b[0m\n\u001b[0m\u001b[1;32m    966\u001b[0m         \u001b[0;32mexcept\u001b[0m \u001b[0mKeyError\u001b[0m\u001b[0;34m:\u001b[0m\u001b[0;34m\u001b[0m\u001b[0;34m\u001b[0m\u001b[0m\n",
      "\u001b[0;31mKeyError\u001b[0m: 'z'",
      "\nDuring handling of the above exception, another exception occurred:\n",
      "\u001b[0;31mKeyError\u001b[0m                                  Traceback (most recent call last)",
      "\u001b[0;32m<ipython-input-74-66a35da292e0>\u001b[0m in \u001b[0;36m<module>\u001b[0;34m\u001b[0m\n\u001b[0;32m----> 1\u001b[0;31m \u001b[0mc\u001b[0m\u001b[0;34m.\u001b[0m\u001b[0mpop\u001b[0m\u001b[0;34m(\u001b[0m\u001b[0;34m'z'\u001b[0m\u001b[0;34m)\u001b[0m  \u001b[0;31m# 报错\u001b[0m\u001b[0;34m\u001b[0m\u001b[0;34m\u001b[0m\u001b[0m\n\u001b[0m\u001b[1;32m      2\u001b[0m \u001b[0;32mdel\u001b[0m \u001b[0mc\u001b[0m\u001b[0;34m[\u001b[0m\u001b[0;34m\"z\"\u001b[0m\u001b[0;34m]\u001b[0m    \u001b[0;31m# 报错\u001b[0m\u001b[0;34m\u001b[0m\u001b[0;34m\u001b[0m\u001b[0m\n",
      "\u001b[0;32m~/anaconda3/lib/python3.8/collections/__init__.py\u001b[0m in \u001b[0;36mpop\u001b[0;34m(self, key, *args)\u001b[0m\n\u001b[1;32m    965\u001b[0m             \u001b[0;32mreturn\u001b[0m \u001b[0mself\u001b[0m\u001b[0;34m.\u001b[0m\u001b[0mmaps\u001b[0m\u001b[0;34m[\u001b[0m\u001b[0;36m0\u001b[0m\u001b[0;34m]\u001b[0m\u001b[0;34m.\u001b[0m\u001b[0mpop\u001b[0m\u001b[0;34m(\u001b[0m\u001b[0mkey\u001b[0m\u001b[0;34m,\u001b[0m \u001b[0;34m*\u001b[0m\u001b[0margs\u001b[0m\u001b[0;34m)\u001b[0m\u001b[0;34m\u001b[0m\u001b[0;34m\u001b[0m\u001b[0m\n\u001b[1;32m    966\u001b[0m         \u001b[0;32mexcept\u001b[0m \u001b[0mKeyError\u001b[0m\u001b[0;34m:\u001b[0m\u001b[0;34m\u001b[0m\u001b[0;34m\u001b[0m\u001b[0m\n\u001b[0;32m--> 967\u001b[0;31m             \u001b[0;32mraise\u001b[0m \u001b[0mKeyError\u001b[0m\u001b[0;34m(\u001b[0m\u001b[0;34m'Key not found in the first mapping: {!r}'\u001b[0m\u001b[0;34m.\u001b[0m\u001b[0mformat\u001b[0m\u001b[0;34m(\u001b[0m\u001b[0mkey\u001b[0m\u001b[0;34m)\u001b[0m\u001b[0;34m)\u001b[0m\u001b[0;34m\u001b[0m\u001b[0;34m\u001b[0m\u001b[0m\n\u001b[0m\u001b[1;32m    968\u001b[0m \u001b[0;34m\u001b[0m\u001b[0m\n\u001b[1;32m    969\u001b[0m     \u001b[0;32mdef\u001b[0m \u001b[0mclear\u001b[0m\u001b[0;34m(\u001b[0m\u001b[0mself\u001b[0m\u001b[0;34m)\u001b[0m\u001b[0;34m:\u001b[0m\u001b[0;34m\u001b[0m\u001b[0;34m\u001b[0m\u001b[0m\n",
      "\u001b[0;31mKeyError\u001b[0m: \"Key not found in the first mapping: 'z'\""
     ]
    }
   ],
   "source": [
    "c.pop('z')  # 报错\n",
    "del c[\"z\"]    # 报错"
   ]
  },
  {
   "cell_type": "code",
   "execution_count": 75,
   "metadata": {},
   "outputs": [
    {
     "name": "stdout",
     "output_type": "stream",
     "text": [
      "-------------------\n",
      "ChainMap({'x': 1})\n"
     ]
    }
   ],
   "source": [
    "print('-------------------')\n",
    "a = ChainMap()\n",
    "a[\"x\"]=1\n",
    "print(a) # ChainMap({'x': 1})"
   ]
  },
  {
   "cell_type": "code",
   "execution_count": 80,
   "metadata": {},
   "outputs": [
    {
     "data": {
      "text/plain": [
       "(ChainMap({'x': 1}), ChainMap({'4': 4}, {'x': 1}))"
      ]
     },
     "execution_count": 80,
     "metadata": {},
     "output_type": "execute_result"
    }
   ],
   "source": [
    "b=a.new_child()\n",
    "b[\"4\"] = 4\n",
    "a, b"
   ]
  },
  {
   "cell_type": "markdown",
   "metadata": {},
   "source": [
    "### 计数器Counter\n",
    "核心要点: 这个映射类型会给键准备一个整数计数器。每次更新一个键的时候都会增加这个计数器。所以这个类型可以用来给可散列表对象计数，或者是当成多重集来用——多重集合就是集合里的元素可以出现不止一次。"
   ]
  },
  {
   "cell_type": "code",
   "execution_count": 34,
   "metadata": {},
   "outputs": [],
   "source": [
    "from collections import Counter"
   ]
  },
  {
   "cell_type": "code",
   "execution_count": 35,
   "metadata": {},
   "outputs": [
    {
     "name": "stdout",
     "output_type": "stream",
     "text": [
      "Counter({' ': 7, 't': 6, 'o': 5, 'e': 4, 'b': 2, 'n': 2, 'h': 2, 'i': 2, 's': 2, 'T': 1, ',': 1, 'r': 1, ':': 1, 'a': 1, 'q': 1, 'u': 1})\n"
     ]
    }
   ],
   "source": [
    "s = 'To be,or not to be:that is the question'\n",
    "# Counter存储为键值对的形式，因此按照字典的形式进行处理\n",
    "c = Counter(s)\n",
    "print(c)"
   ]
  },
  {
   "cell_type": "code",
   "execution_count": 36,
   "metadata": {},
   "outputs": [
    {
     "name": "stdout",
     "output_type": "stream",
     "text": [
      "8\n"
     ]
    }
   ],
   "source": [
    "#Counter({' ': 7, 't': 6, 'o': 5, 'e': 4, 'b': 2, 'n': 2, 'h': 2, 'i': 2, 's': 2, 'T': 1, ',': 1, 'r': 1, ':': 1, 'a': 1, 'q': 1, 'u': 1})\n",
    "total = sum([v for k, v in c.items() if k in ['y', 'a', 'n', 'g', 'o']])\n",
    "print(total) # 简单理解c是一个dict，使用items()方法可以遍历dict的key和value。 如果 k"
   ]
  },
  {
   "cell_type": "code",
   "execution_count": 37,
   "metadata": {},
   "outputs": [
    {
     "name": "stdout",
     "output_type": "stream",
     "text": [
      "Counter({'jack': 1, 'JACK': 1, 'lucy': 1, 'April': 1, 'Lucy': 1, 'mike': 1, 'JAck': 1})\n"
     ]
    }
   ],
   "source": [
    "# 同样的，可以对list统计\n",
    "elements = ['jack', 'JACK', 'lucy', 'April', 'Lucy', 'mike', 'JAck']\n",
    "c = Counter(elements)\n",
    "print(c) # Counter({'jack': 1, 'JACK': 1, 'lucy': 1, 'April': 1, 'Lucy': 1, 'mike': 1, 'JAck': 1})"
   ]
  },
  {
   "cell_type": "code",
   "execution_count": 38,
   "metadata": {},
   "outputs": [
    {
     "data": {
      "text/plain": [
       "[('jack', 1), ('JACK', 1), ('lucy', 1)]"
      ]
     },
     "execution_count": 38,
     "metadata": {},
     "output_type": "execute_result"
    }
   ],
   "source": [
    "# 众数\n",
    "c.most_common(3)"
   ]
  },
  {
   "cell_type": "code",
   "execution_count": 39,
   "metadata": {},
   "outputs": [
    {
     "name": "stdout",
     "output_type": "stream",
     "text": [
      "Counter({'jack': 1, 'JACK': 1, 'lucy': 1, 'April': 1, 'Lucy': 1, 'mike': 1, 'JAck': 1, 'alice': 1, 'steven': 1})\n"
     ]
    }
   ],
   "source": [
    "# 更新子键值\n",
    "new_elements=['alice','steven']\n",
    "c.update(new_elements)\n",
    "print(c) # Counter({'jack': 1, 'JACK': 1, 'lucy': 1, 'April': 1, 'Lucy': 1, 'mike': 1, 'JAck': 1, 'alice': 1, 'steven': 1})"
   ]
  },
  {
   "cell_type": "markdown",
   "metadata": {},
   "source": [
    "# 消除子键值\n",
    "new_elements=['JACK','JAck','jaCK']\n",
    "c.subtract(new_elements)\n",
    "print(c) # Counter({'jack': 1, 'lucy': 1, 'April': 1, 'Lucy': 1, 'mike': 1, 'alice': 1, 'steven': 1, 'JACK': 0, 'JAck': 0, 'jaCK': -1})"
   ]
  },
  {
   "cell_type": "code",
   "execution_count": 92,
   "metadata": {},
   "outputs": [
    {
     "name": "stdout",
     "output_type": "stream",
     "text": [
      "Counter({'lucy': 1, 'April': 1, 'Lucy': 1, 'mike': 1, 'alice': 1, 'steven': 1, 'JAck': 0, 'jaCK': -1})\n"
     ]
    }
   ],
   "source": [
    "del c['JACK']\n",
    "print(c) # Counter({'lucy': 1, 'April': 1, 'Lucy': 1, 'mike': 1, 'alice': 1, 'steven': 1, 'JACK': 0, 'JAck': 0, 'jaCK': -1})"
   ]
  },
  {
   "cell_type": "code",
   "execution_count": 94,
   "metadata": {},
   "outputs": [],
   "source": [
    "a = Counter('aaab')\n",
    "b = Counter('ccdd')"
   ]
  },
  {
   "cell_type": "code",
   "execution_count": 95,
   "metadata": {},
   "outputs": [
    {
     "data": {
      "text/plain": [
       "(Counter({'a': 3, 'b': 1}), Counter({'c': 2, 'd': 2}))"
      ]
     },
     "execution_count": 95,
     "metadata": {},
     "output_type": "execute_result"
    }
   ],
   "source": [
    "a, b"
   ]
  },
  {
   "cell_type": "code",
   "execution_count": 96,
   "metadata": {},
   "outputs": [
    {
     "name": "stdout",
     "output_type": "stream",
     "text": [
      "Counter({'a': 3, 'c': 2, 'd': 2, 'b': 1})\n"
     ]
    }
   ],
   "source": [
    "# + 和\n",
    "a_sum_b = a + b\n",
    "print(a_sum_b)"
   ]
  },
  {
   "cell_type": "code",
   "execution_count": 97,
   "metadata": {},
   "outputs": [
    {
     "name": "stdout",
     "output_type": "stream",
     "text": [
      "Counter({'a': 3, 'b': 1})\n"
     ]
    }
   ],
   "source": [
    "# - 差\n",
    "a_sub_b = a - b\n",
    "print(a_sub_b)"
   ]
  },
  {
   "cell_type": "code",
   "execution_count": 98,
   "metadata": {},
   "outputs": [
    {
     "name": "stdout",
     "output_type": "stream",
     "text": [
      "Counter()\n"
     ]
    }
   ],
   "source": [
    "# & 交集\n",
    "a_and_b = a & b\n",
    "print(a_and_b)"
   ]
  },
  {
   "cell_type": "code",
   "execution_count": 99,
   "metadata": {},
   "outputs": [
    {
     "name": "stdout",
     "output_type": "stream",
     "text": [
      "Counter({'a': 3, 'c': 2, 'd': 2, 'b': 1})\n"
     ]
    }
   ],
   "source": [
    "# | 并集\n",
    "a_union_b = a | b\n",
    "print(a_union_b)"
   ]
  },
  {
   "cell_type": "markdown",
   "metadata": {},
   "source": [
    "### 子类化 UserDict"
   ]
  },
  {
   "cell_type": "code",
   "execution_count": 232,
   "metadata": {},
   "outputs": [],
   "source": [
    "from collections import UserDict\n",
    "\n",
    "\n",
    "class StrkeyDict(UserDict):\n",
    "    def __missing__(self, key):\n",
    "        if isinstance(key,str):\n",
    "            raise KeyError\n",
    "        return self[str(key)]\n",
    "\n",
    "    def __setitem__(self, key, value):\n",
    "        self.data[str(key)]=value\n",
    "\n",
    "    def __contains__(self, key):\n",
    "        return str(key) in self.data"
   ]
  },
  {
   "cell_type": "code",
   "execution_count": 236,
   "metadata": {},
   "outputs": [
    {
     "name": "stdout",
     "output_type": "stream",
     "text": [
      "two\n",
      "-------非字符串查找,转换成字符串后存在--------\n",
      "four\n",
      "-------非字符串查找,转换成字符串后仍然不存在--------\n"
     ]
    }
   ],
   "source": [
    "# 当有非字符串的键被查找的时候，StrkeyDict 是如何在该键不存在的情况下， 把它转换为字符串的\n",
    "d = StrkeyDict([('2', 'two'), ('4', 'four')])\n",
    "print(d['2'])\n",
    "print(\"-------非字符串查找,转换成字符串后存在--------\")\n",
    "print(d[4])\n",
    "print(\"-------非字符串查找,转换成字符串后仍然不存在--------\")\n",
    "# print(d[1]) # 报错"
   ]
  },
  {
   "cell_type": "code",
   "execution_count": 240,
   "metadata": {},
   "outputs": [
    {
     "data": {
      "text/plain": [
       "'two'"
      ]
     },
     "execution_count": 240,
     "metadata": {},
     "output_type": "execute_result"
    }
   ],
   "source": [
    "d.get('2')"
   ]
  },
  {
   "cell_type": "code",
   "execution_count": 241,
   "metadata": {},
   "outputs": [
    {
     "data": {
      "text/plain": [
       "'four'"
      ]
     },
     "execution_count": 241,
     "metadata": {},
     "output_type": "execute_result"
    }
   ],
   "source": [
    "d.get(4)"
   ]
  },
  {
   "cell_type": "code",
   "execution_count": 239,
   "metadata": {},
   "outputs": [
    {
     "name": "stdout",
     "output_type": "stream",
     "text": [
      "None\n"
     ]
    }
   ],
   "source": [
    "# 返回默认值None\n",
    "print(d.get(1))"
   ]
  },
  {
   "cell_type": "code",
   "execution_count": 237,
   "metadata": {},
   "outputs": [
    {
     "name": "stdout",
     "output_type": "stream",
     "text": [
      "None\n",
      "True\n",
      "False\n"
     ]
    }
   ],
   "source": [
    "print( 2 in d )\n",
    "print( 1 in d )"
   ]
  },
  {
   "cell_type": "markdown",
   "metadata": {},
   "source": [
    "## 不可变的映射类型（只读）\n",
    "问题来源: 标准库里所有的映射类型都是可变的，但有时候你会有这样的需求，比如不能让用户错误地修改某个映射。  \n",
    "核心要点：如果给这个类一个映射，它会返回一个只读的映射视图。虽然是个只读视图，但是它是<font color=red>动态的</font>。这意味着如果对原映射做出了改动，我们通过这个视图可以观察到，但是无法通过这个视图对原映射做出修改。"
   ]
  },
  {
   "cell_type": "code",
   "execution_count": 102,
   "metadata": {},
   "outputs": [
    {
     "name": "stdout",
     "output_type": "stream",
     "text": [
      "{1: 'A'}\n",
      "A\n"
     ]
    }
   ],
   "source": [
    "from types import MappingProxyType\n",
    "\n",
    "d = {1: 'A'}\n",
    "d_proxy = MappingProxyType(d)\n",
    "print(d_proxy)  # {1: 'A'}\n",
    "print(d_proxy[1])  # A"
   ]
  },
  {
   "cell_type": "code",
   "execution_count": 103,
   "metadata": {},
   "outputs": [
    {
     "data": {
      "text/plain": [
       "mappingproxy({1: 'A', 2: 'B'})"
      ]
     },
     "execution_count": 103,
     "metadata": {},
     "output_type": "execute_result"
    }
   ],
   "source": [
    "# 改变原始映射, 其对应的视图也进行变化(动态的)\n",
    "# 因此只能通过原始映射进行修改\n",
    "d[2] = \"B\"\n",
    "d_proxy"
   ]
  },
  {
   "cell_type": "code",
   "execution_count": 106,
   "metadata": {},
   "outputs": [
    {
     "ename": "TypeError",
     "evalue": "'mappingproxy' object does not support item assignment",
     "output_type": "error",
     "traceback": [
      "\u001b[0;31m---------------------------------------------------------------------------\u001b[0m",
      "\u001b[0;31mTypeError\u001b[0m                                 Traceback (most recent call last)",
      "\u001b[0;32m<ipython-input-106-e13a080da871>\u001b[0m in \u001b[0;36m<module>\u001b[0;34m\u001b[0m\n\u001b[1;32m      1\u001b[0m \u001b[0;31m# 对视图不能直接进行修改，即映射后的视图属于不可修改类型\u001b[0m\u001b[0;34m\u001b[0m\u001b[0;34m\u001b[0m\u001b[0;34m\u001b[0m\u001b[0m\n\u001b[0;32m----> 2\u001b[0;31m \u001b[0md_proxy\u001b[0m\u001b[0;34m[\u001b[0m\u001b[0;36m2\u001b[0m\u001b[0;34m]\u001b[0m \u001b[0;34m=\u001b[0m \u001b[0;34m'x'\u001b[0m \u001b[0;31m#  直接赋值就报错\u001b[0m\u001b[0;34m\u001b[0m\u001b[0;34m\u001b[0m\u001b[0m\n\u001b[0m",
      "\u001b[0;31mTypeError\u001b[0m: 'mappingproxy' object does not support item assignment"
     ]
    }
   ],
   "source": [
    "# 对视图不能直接进行修改，即映射后的视图属于不可修改类型\n",
    "d_proxy[2] = 'x' #  直接赋值就报错"
   ]
  },
  {
   "cell_type": "markdown",
   "metadata": {},
   "source": [
    "## 集合\n",
    "“散列表（Hash table，也叫哈希表），是根据关键码值(Key value)而直接进行访问的数据结构。也就是说，它通过把关键码值映射到表中一个位置来访问记录，以加快查找的速度。这个映射函数叫做散列函数，存放记录的数组叫做散列表。给定表M，存在函数f(key)，对任意给定的关键字值key，代入函数后若能得到包含该关键字的记录在表中的地址，则称表M为哈希(Hash）表，函数f(key)为哈希(Hash) 函数。”"
   ]
  },
  {
   "cell_type": "code",
   "execution_count": 109,
   "metadata": {},
   "outputs": [
    {
     "data": {
      "text/plain": [
       "(dict, set, set, dict)"
      ]
     },
     "execution_count": 109,
     "metadata": {},
     "output_type": "execute_result"
    }
   ],
   "source": [
    "# 空集合创建的误区\n",
    "a = {}  # 默认为字典类型，因此，如果是创建空集合，必须是set()\n",
    "b = set()  # 创建空集合\n",
    "c = {1}  # 包含集合类型的元素时为集合\n",
    "d = {2: \"B\"}  # 包含字典类型的元素时为集合\n",
    "\n",
    "type(a), type(b), type(c), type(d)"
   ]
  },
  {
   "cell_type": "code",
   "execution_count": 108,
   "metadata": {},
   "outputs": [
    {
     "ename": "TypeError",
     "evalue": "unhashable type: 'set'",
     "output_type": "error",
     "traceback": [
      "\u001b[0;31m---------------------------------------------------------------------------\u001b[0m",
      "\u001b[0;31mTypeError\u001b[0m                                 Traceback (most recent call last)",
      "\u001b[0;32m<ipython-input-108-ad85d8b55702>\u001b[0m in \u001b[0;36m<module>\u001b[0;34m\u001b[0m\n\u001b[0;32m----> 1\u001b[0;31m \u001b[0mhash\u001b[0m\u001b[0;34m(\u001b[0m\u001b[0mb\u001b[0m\u001b[0;34m)\u001b[0m\u001b[0;34m\u001b[0m\u001b[0;34m\u001b[0m\u001b[0m\n\u001b[0m",
      "\u001b[0;31mTypeError\u001b[0m: unhashable type: 'set'"
     ]
    }
   ],
   "source": [
    "# 集合属于不可散列的\n",
    "hash(b)"
   ]
  },
  {
   "cell_type": "code",
   "execution_count": 282,
   "metadata": {},
   "outputs": [],
   "source": [
    "a = {1, 2, 3}\n",
    "b = {3, 4, 5}"
   ]
  },
  {
   "cell_type": "code",
   "execution_count": 283,
   "metadata": {},
   "outputs": [
    {
     "name": "stdout",
     "output_type": "stream",
     "text": [
      "{3} {1, 2, 3} {3, 4, 5}\n",
      "{3} {1, 2, 3} {3, 4, 5}\n"
     ]
    }
   ],
   "source": [
    "# 交集  s &= z\n",
    "print(a & b, a, b)  # {3} {1, 2, 3} {3, 4, 5}\n",
    "print(b & a, a, b)"
   ]
  },
  {
   "cell_type": "code",
   "execution_count": 284,
   "metadata": {},
   "outputs": [
    {
     "name": "stdout",
     "output_type": "stream",
     "text": [
      "{1, 2} {1, 2, 3} {3, 4, 5}\n",
      "{4, 5} {1, 2, 3} {3, 4, 5}\n"
     ]
    }
   ],
   "source": [
    "# 差集  s -= z\n",
    "print(a - b, a, b)  # {1, 2} {1, 2, 3} {3, 4, 5}\n",
    "print(b - a, a, b)  # {4, 5} {1, 2, 3} {3, 4, 5}"
   ]
  },
  {
   "cell_type": "code",
   "execution_count": 285,
   "metadata": {},
   "outputs": [
    {
     "name": "stdout",
     "output_type": "stream",
     "text": [
      "{1, 2, 3, 4, 5} {1, 2, 3} {3, 4, 5}\n",
      "{1, 2, 3, 4, 5} {1, 2, 3} {3, 4, 5}\n"
     ]
    }
   ],
   "source": [
    "# 并集  s |= z\n",
    "print(a | b, a, b)  # {1, 2, 3, 4, 5, 6} {1, 2, 3} {3, 4, 5}\n",
    "print(b | a, a, b)"
   ]
  },
  {
   "cell_type": "code",
   "execution_count": 286,
   "metadata": {},
   "outputs": [
    {
     "name": "stdout",
     "output_type": "stream",
     "text": [
      "{1, 2, 4, 5} {1, 2, 3} {3, 4, 5}\n",
      "{1, 2, 4, 5} {1, 2, 3} {3, 4, 5}\n"
     ]
    }
   ],
   "source": [
    "# 补集  s ^= z\n",
    "print(a ^ b, a, b)  # {1, 2, 4, 5} {1, 2, 3} {3, 4, 5}\n",
    "print(b ^ a, a, b)  # {1, 2, 4, 5} {1, 2, 3} {3, 4, 5}"
   ]
  },
  {
   "cell_type": "code",
   "execution_count": 287,
   "metadata": {},
   "outputs": [
    {
     "name": "stdout",
     "output_type": "stream",
     "text": [
      "-----比较运算符-----\n",
      "True\n",
      "True True\n",
      "False True\n"
     ]
    }
   ],
   "source": [
    "# 集合之间的运算\n",
    "# <= 子集（包含本身）, < 真子集（不包含本身）\n",
    "c = {1, 2}\n",
    "e = 2\n",
    "f = {1, 2, 3}\n",
    "print(\"-----比较运算符-----\")\n",
    "print(e in a)  # 元素 e 是否属于 s\n",
    "print(f<=a,c<=a)\n",
    "print(f<a,c<a)"
   ]
  },
  {
   "cell_type": "markdown",
   "metadata": {},
   "source": [
    "## dict和set的背后"
   ]
  },
  {
   "cell_type": "code",
   "execution_count": 288,
   "metadata": {},
   "outputs": [],
   "source": [
    "\"\"\"\n",
    "整体思想其实并不难\n",
    "1：主要功能包含：存值、取值。\n",
    "2：丰富：存值得时候调用了hash算法，随便处理了hash冲突\n",
    "3：hash算法：用的是 取余算法\n",
    "4：解决冲突：用的是\n",
    "\"\"\"\n",
    "\n",
    "\n",
    "class HashTable:\n",
    "    def __init__(self):\n",
    "        self.size = 11  # hash szie\n",
    "        self.slots = [None] * self.size  # 插槽\n",
    "        self.data = [None] * self.size  # 数据\n",
    "\n",
    "    def put(self, key, data):\n",
    "        # 通过 hash 算法，计算出插槽的位置\n",
    "        hashvalue = self.hashfunction(key, len(self.slots))\n",
    "\n",
    "        if self.slots[hashvalue] == None:\n",
    "            # 如果 这个插槽为空\n",
    "            self.slots[hashvalue] = key\n",
    "            self.data[hashvalue] = data\n",
    "        else:\n",
    "            # 计算后的hash值和key值相等\n",
    "            # eg: [54] == \"A\", [54] == \"B\" \n",
    "            if self.slots[hashvalue] == key:\n",
    "                self.data[hashvalue] = data  # replace\n",
    "            else:\n",
    "                # hash 冲突 通过 重新计算hash值的办法 继续\n",
    "                # [54] = \"A\", [44] = \"B\", hash_value = 10\n",
    "                nextslot = self.rehash(hashvalue, len(self.slots))\n",
    "                while self.slots[nextslot] != None and self.slots[nextslot] != key:\n",
    "                    nextslot = self.rehash(nextslot, len(self.slots))\n",
    "\n",
    "                if self.slots[nextslot] == None:\n",
    "                    self.slots[nextslot] = key\n",
    "                    self.data[nextslot] = data\n",
    "                else:\n",
    "                    self.data[nextslot] = data  # replace\n",
    "\n",
    "    def hashfunction(self, key, size):\n",
    "        \"\"\"哈希方法，取余\"\"\"\n",
    "        return key % size\n",
    "\n",
    "    def rehash(self, oldhash, size):\n",
    "        \"\"\"解决冲突，重新开地址的方法\"\"\"\n",
    "        return (oldhash + 1) % size\n",
    "\n",
    "    def get(self, key):\n",
    "        # 获取的时候也一样，\n",
    "        startslot = self.hashfunction(key, len(self.slots))\n",
    "\n",
    "        data = None\n",
    "        stop = False\n",
    "        found = False\n",
    "        position = startslot\n",
    "        while self.slots[position] != None and not found and not stop:\n",
    "            if self.slots[position] == key:\n",
    "                found = True\n",
    "                data = self.data[position]\n",
    "            else:\n",
    "                position = self.rehash(position, len(self.slots))\n",
    "                if position == startslot:\n",
    "                    stop = True\n",
    "        return data\n",
    "\n",
    "    def __getitem__(self, key):\n",
    "        return self.get(key)\n",
    "\n",
    "    def __setitem__(self, key, data):\n",
    "        self.put(key, data)"
   ]
  },
  {
   "cell_type": "code",
   "execution_count": 289,
   "metadata": {},
   "outputs": [
    {
     "name": "stdout",
     "output_type": "stream",
     "text": [
      "[77, 44, 55, 20, 26, 93, 17, None, None, 31, 54]\n",
      "['bird', 'goat', 'pig', 'chicken', 'dog', 'lion', 'tiger', None, None, 'cow', 'cat']\n",
      "chicken\n",
      "tiger\n",
      "duck\n",
      "None\n"
     ]
    }
   ],
   "source": [
    "H = HashTable()     # hash value\n",
    "H[54] = \"cat\"       # 10\n",
    "H[26] = \"dog\"       # 4\n",
    "H[93] = \"lion\"      # 5\n",
    "H[17] = \"tiger\"     # 6\n",
    "H[77] = \"bird\"      # 0\n",
    "H[31] = \"cow\"       # 10\n",
    "H[44] = \"goat\"      # 0\n",
    "H[55] = \"pig\"       # 0\n",
    "H[20] = \"chicken\"   # 9\n",
    "print(H.slots)\n",
    "print(H.data)\n",
    "print(H[20])1\n",
    "print(H[17])\n",
    "H[20] = 'duck'\n",
    "print(H[20])\n",
    "print(H[99])"
   ]
  },
  {
   "cell_type": "markdown",
   "metadata": {},
   "source": [
    "## 本章小结\n",
    "- 字典算得上是Python的基石。除了基本的dict之外，标准库还提供现成且好用的特殊映射类型，比如defaultdict、OrderedDict、ChainMap和Counter。这些映射类型都属于collections模块，这个模块还提供了便于扩展的UserDict类。  \n",
    "- 大多数映射类型都提供了两个很强大的方法：setdefault和update。setdefault方法可以用来更新字典里存放的可变值（比如列表），从而避免了重复的键搜索。update方法则让批量更新成为可能，它可以用来插入新值或者更新已有键值对，它的参数可以是包含(key, value)这种键值对的可迭代对象，或者关键字参数。映射类型的构造方法也会利用update方法来让用户可以使用别的映射对象、可迭代对象或者关键字参数来创建新对象。　　\n",
    "- 在映射类型的API中，有个很好用的方法是__missing__，当对象找不到某个键的时候，可以通过这个方法自定义会发生什么。　　\n",
    "- collections.abc模块提供了Mapping和MutableMapping这两个抽象基类，利用它们，我们可以进行类型查询或者引用。不太为人所知的MappingProxyType可以用来创建不可变映射对象，它被封装在types模块中。另外还有Set和MutableSet这两个抽象基类。　　\n",
    "- dict和set背后的散列表效率很高，对它的了解越深入，就越能理解为什么被保存的元素会呈现出不同的顺序，以及已有的元素顺序会发生变化的原因。同时，速度是以牺牲空间为代价而换来的。"
   ]
  },
  {
   "cell_type": "markdown",
   "metadata": {},
   "source": [
    "## 参考\n",
    "[python collections模块详解](https://www.cnblogs.com/dahu-daqing/p/7040490.html)  \n",
    "[流畅的Python](https://weread.qq.com/web/reader/ab832620715c017eab864a6)"
   ]
  }
 ],
 "metadata": {
  "kernelspec": {
   "display_name": "Python 3",
   "language": "python",
   "name": "python3"
  },
  "language_info": {
   "codemirror_mode": {
    "name": "ipython",
    "version": 3
   },
   "file_extension": ".py",
   "mimetype": "text/x-python",
   "name": "python",
   "nbconvert_exporter": "python",
   "pygments_lexer": "ipython3",
   "version": "3.8.5"
  },
  "toc-autonumbering": true
 },
 "nbformat": 4,
 "nbformat_minor": 4
}
