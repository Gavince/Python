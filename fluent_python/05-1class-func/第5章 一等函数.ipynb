{
 "cells": [
  {
   "cell_type": "markdown",
   "metadata": {},
   "source": [
    "# 第五章 一等函数"
   ]
  },
  {
   "cell_type": "markdown",
   "metadata": {},
   "source": [
    "## 把函数视作对象\n",
    "[如何理解“python中函数是一等公民”？](https://www.zhihu.com/question/32002222)"
   ]
  },
  {
   "cell_type": "code",
   "execution_count": 22,
   "metadata": {},
   "outputs": [
    {
     "name": "stdout",
     "output_type": "stream",
     "text": [
      "对象 1 的类型是 int, 对象 int类 的类型是 type.\n",
      "对象 1.0 的类型是 float, 对象 float类 的类型是 type.\n",
      "对象 hello 的类型是 str, 对象 str类 的类型是 type.\n",
      "对象 [1] 的类型是 list, 对象 list类 的类型是 type.\n",
      "对象 {'a': 1} 的类型是 dict, 对象 dict类 的类型是 type.\n",
      "对象 {1} 的类型是 set, 对象 set类 的类型是 type.\n",
      "对象 <function factorial at 0x7fd08c89a790> 的类型是 function, 对象 function类 的类型是 type.\n",
      "对象 <__main__.Dumb object at 0x7fd08c44d640> 的类型是 Dumb, 对象 Dumb类 的类型是 type.\n",
      "对象 <module 're' from '/home/gavin/anaconda3/lib/python3.8/re.py'> 的类型是 module, 对象 module类 的类型是 type.\n",
      "对象 None 的类型是 NoneType, 对象 NoneType类 的类型是 type.\n",
      "对象 <class 'object'> 的类型是 type, 对象 type类 的类型是 type.\n"
     ]
    }
   ],
   "source": [
    "import re\n",
    "\n",
    "\n",
    "def factorial(n):\n",
    "    '''returns n!'''\n",
    "    return 1 if n < 2 else n * factorial(n - 1)\n",
    "\n",
    "\n",
    "class Dumb:\n",
    "    pass\n",
    "\n",
    "\n",
    "items = [1, 1.0, 'hello', [1], {'a': 1}, {\n",
    "    1}, factorial, Dumb(), re, None, object]\n",
    "\n",
    "for item in items:\n",
    "    print(f'对象 {item} 的类型是 {type(item).__name__},',\n",
    "          f'对象 {type(item).__name__}类 的类型是 {type(type(item)).__name__}.')"
   ]
  },
  {
   "cell_type": "code",
   "execution_count": 1,
   "metadata": {},
   "outputs": [],
   "source": [
    "def funa(n):\n",
    "    ''' \n",
    "    返回 n！\n",
    "    param n: 输入的整数\n",
    "    return : 返回阶乘数\n",
    "    '''\n",
    "\n",
    "    return 1 if n < 2 else n * funa(n-1)"
   ]
  },
  {
   "cell_type": "code",
   "execution_count": 2,
   "metadata": {},
   "outputs": [
    {
     "name": "stdout",
     "output_type": "stream",
     "text": [
      "120\n"
     ]
    }
   ],
   "source": [
    "print(funa(5))"
   ]
  },
  {
   "cell_type": "code",
   "execution_count": 3,
   "metadata": {},
   "outputs": [],
   "source": [
    "class Solution:\n",
    "    \"\"\"记录数据的处理方法\"\"\"\n",
    "\n",
    "    pass"
   ]
  },
  {
   "cell_type": "code",
   "execution_count": 10,
   "metadata": {},
   "outputs": [
    {
     "data": {
      "text/plain": [
       "__main__.Solution"
      ]
     },
     "execution_count": 10,
     "metadata": {},
     "output_type": "execute_result"
    }
   ],
   "source": [
    "type(Solution())"
   ]
  },
  {
   "cell_type": "code",
   "execution_count": 16,
   "metadata": {},
   "outputs": [
    {
     "data": {
      "text/plain": [
       "'__main__'"
      ]
     },
     "execution_count": 16,
     "metadata": {},
     "output_type": "execute_result"
    }
   ],
   "source": [
    "funa.__module__"
   ]
  },
  {
   "cell_type": "code",
   "execution_count": 13,
   "metadata": {},
   "outputs": [
    {
     "data": {
      "text/plain": [
       "function"
      ]
     },
     "execution_count": 13,
     "metadata": {},
     "output_type": "execute_result"
    }
   ],
   "source": [
    "type(funa)"
   ]
  },
  {
   "cell_type": "code",
   "execution_count": 14,
   "metadata": {},
   "outputs": [],
   "source": [
    "obj = Solution()"
   ]
  },
  {
   "cell_type": "code",
   "execution_count": 15,
   "metadata": {},
   "outputs": [
    {
     "name": "stdout",
     "output_type": "stream",
     "text": [
      "<class '__main__.Solution'>\n"
     ]
    }
   ],
   "source": [
    "print(type(obj))"
   ]
  },
  {
   "cell_type": "code",
   "execution_count": 4,
   "metadata": {},
   "outputs": [
    {
     "data": {
      "text/plain": [
       "'记录数据的处理方法'"
      ]
     },
     "execution_count": 4,
     "metadata": {},
     "output_type": "execute_result"
    }
   ],
   "source": [
    "# 类\n",
    "Solution().__doc__"
   ]
  },
  {
   "cell_type": "code",
   "execution_count": 5,
   "metadata": {},
   "outputs": [
    {
     "name": "stdout",
     "output_type": "stream",
     "text": [
      " \n",
      "    返回 n！\n",
      "    param n: 输入的整数\n",
      "    return : 返回阶乘数\n",
      "    \n"
     ]
    }
   ],
   "source": [
    "# 函数类的doc属性\n",
    "print(funa.__doc__)"
   ]
  },
  {
   "cell_type": "code",
   "execution_count": 28,
   "metadata": {},
   "outputs": [
    {
     "name": "stdout",
     "output_type": "stream",
     "text": [
      "Help on function funa in module __main__:\n",
      "\n",
      "funa(n)\n",
      "    返回 n！\n",
      "    param n: 输入的整数\n",
      "    return : 返回阶乘数\n",
      "\n"
     ]
    }
   ],
   "source": [
    "# 使用help函数\n",
    "help(funa)"
   ]
  },
  {
   "cell_type": "code",
   "execution_count": 29,
   "metadata": {},
   "outputs": [
    {
     "name": "stdout",
     "output_type": "stream",
     "text": [
      "<class 'function'>\n"
     ]
    }
   ],
   "source": [
    "# 函数是类funcation的实例对象\n",
    "print(type(funa))"
   ]
  },
  {
   "cell_type": "code",
   "execution_count": 30,
   "metadata": {},
   "outputs": [
    {
     "name": "stdout",
     "output_type": "stream",
     "text": [
      "funa: <function funa at 0x7fd08cb6e040>\n",
      "fuct: <function funa at 0x7fd08cb6e040>\n"
     ]
    }
   ],
   "source": [
    "# 验证函数对象的一等本性\n",
    "# 在运行时创建\n",
    "# 能赋值给变量或数据结构中的元素\n",
    "fact = funa\n",
    "print(\"funa:\", funa)\n",
    "print(\"fuct:\", fact)"
   ]
  },
  {
   "cell_type": "code",
   "execution_count": 31,
   "metadata": {},
   "outputs": [
    {
     "data": {
      "text/plain": [
       "[1, 1, 2, 6, 24, 120]"
      ]
     },
     "execution_count": 31,
     "metadata": {},
     "output_type": "execute_result"
    }
   ],
   "source": [
    "# 能作为参数传给函数\n",
    "# map函数返回一个可迭代对象，里面的元素是把第一个参数（一个函数）\n",
    "# 应用到第二个参数（一个可迭代对象，这里是range(11)）中各个元素上得到的结果\n",
    "\n",
    "list(map(funa, range(6)))"
   ]
  },
  {
   "cell_type": "code",
   "execution_count": 32,
   "metadata": {},
   "outputs": [
    {
     "name": "stdout",
     "output_type": "stream",
     "text": [
      "2\n"
     ]
    }
   ],
   "source": [
    "# 能作为函数的返回结果\n",
    "def get_funa():\n",
    "\n",
    "    return funa\n",
    "\n",
    "\n",
    "print(get_funa()(2))"
   ]
  },
  {
   "cell_type": "markdown",
   "metadata": {},
   "source": [
    "## 高阶函数\n",
    "定义：接受函数为参数，或者把函数作为结果返回的函数是高阶函数。  \n",
    "[列表生成式](https://www.cnblogs.com/rissa/p/14930102.html)"
   ]
  },
  {
   "cell_type": "code",
   "execution_count": 97,
   "metadata": {},
   "outputs": [],
   "source": [
    "# 高阶函数的替代品\n",
    "# 在 Python 3 中，map 和 filter 返回生成器（一种迭代器），因此现在它们的直接替代品是 生成器表达式\n",
    "from functools import reduce\n",
    "from operator import add"
   ]
  },
  {
   "cell_type": "code",
   "execution_count": 29,
   "metadata": {},
   "outputs": [],
   "source": [
    "def factorial(n: int) -> int:\n",
    "    \"\"\"\n",
    "    计算斐波那契数\n",
    "    param n: \n",
    "    return :int\n",
    "    \"\"\"\n",
    "\n",
    "    return 1 if n < 2 else factorial(n - 1) * n"
   ]
  },
  {
   "cell_type": "code",
   "execution_count": 28,
   "metadata": {},
   "outputs": [
    {
     "name": "stdout",
     "output_type": "stream",
     "text": [
      "\n",
      "    斐波那契函数\n",
      "    param n: \n",
      "    return \n",
      "    \n"
     ]
    }
   ],
   "source": [
    "print(factorial.__doc__)"
   ]
  },
  {
   "cell_type": "code",
   "execution_count": 24,
   "metadata": {},
   "outputs": [
    {
     "data": {
      "text/plain": [
       "[3, 4, 6, 7]"
      ]
     },
     "execution_count": 24,
     "metadata": {},
     "output_type": "execute_result"
    }
   ],
   "source": [
    "# map匿名函数\n",
    "list(map(lambda x: x + 2, [1, 2, 4, 5]))"
   ]
  },
  {
   "cell_type": "code",
   "execution_count": 96,
   "metadata": {},
   "outputs": [
    {
     "name": "stdout",
     "output_type": "stream",
     "text": [
      "CPU times: user 3 µs, sys: 1e+03 ns, total: 4 µs\n",
      "Wall time: 6.91 µs\n",
      "[1, 1, 2, 6, 24, 120]\n",
      "[1, 1, 2, 6, 24, 120]\n"
     ]
    }
   ],
   "source": [
    "# 求出 1-6 的阶乘\n",
    "%time\n",
    "print(list(map(factorial, range(6))))\n",
    "print([factorial(i) for i in range(6)])"
   ]
  },
  {
   "cell_type": "code",
   "execution_count": 95,
   "metadata": {},
   "outputs": [
    {
     "name": "stdout",
     "output_type": "stream",
     "text": [
      "CPU times: user 6 µs, sys: 0 ns, total: 6 µs\n",
      "Wall time: 11.4 µs\n",
      "[1, 6, 120]\n"
     ]
    }
   ],
   "source": [
    "# 求出 1-6 之间 偶数的阶乘, 1, 3, 5 的阶乘\n",
    "%time\n",
    "print(list(map(factorial, filter(lambda n: n % 2, range(6)))))"
   ]
  },
  {
   "cell_type": "code",
   "execution_count": 89,
   "metadata": {},
   "outputs": [
    {
     "name": "stdout",
     "output_type": "stream",
     "text": [
      "CPU times: user 3 µs, sys: 0 ns, total: 3 µs\n",
      "Wall time: 7.15 µs\n",
      "[1, 6, 120]\n"
     ]
    }
   ],
   "source": [
    "%time\n",
    "print([factorial(i) for i in range(6) if i % 2])"
   ]
  },
  {
   "cell_type": "code",
   "execution_count": 109,
   "metadata": {},
   "outputs": [
    {
     "name": "stdout",
     "output_type": "stream",
     "text": [
      "CPU times: user 6 µs, sys: 0 ns, total: 6 µs\n",
      "Wall time: 11.2 µs\n",
      "4950\n"
     ]
    }
   ],
   "source": [
    "# reduce() 函数会对参数序列中元素进行累积。\n",
    "# 函数将一个数据集合（链表，元组等）中的所有数据进行下列操作：用传给 reduce 中的函数\n",
    "# function（有两个参数）先对集合中的第 1、2 个元素进行操作，得到的结果再与第三个数据用 function 函数运算，最后得到一个结果。\n",
    "# reduce() 函数语法：reduce(function, iterable[, initializer])\n",
    "# 累计求和 （1-100）\n",
    "%time\n",
    "print(reduce(add, range(100)))"
   ]
  },
  {
   "cell_type": "code",
   "execution_count": 110,
   "metadata": {},
   "outputs": [
    {
     "name": "stdout",
     "output_type": "stream",
     "text": [
      "CPU times: user 2 µs, sys: 1e+03 ns, total: 3 µs\n",
      "Wall time: 4.05 µs\n",
      "4950\n"
     ]
    }
   ],
   "source": [
    "%time\n",
    "print(sum(range(100)))"
   ]
  },
  {
   "cell_type": "code",
   "execution_count": 111,
   "metadata": {},
   "outputs": [
    {
     "data": {
      "text/plain": [
       "4950"
      ]
     },
     "execution_count": 111,
     "metadata": {},
     "output_type": "execute_result"
    }
   ],
   "source": [
    "reduce(lambda x, y: x + y, range(100))"
   ]
  },
  {
   "cell_type": "code",
   "execution_count": 105,
   "metadata": {},
   "outputs": [
    {
     "data": {
      "text/plain": [
       "[1, 2]"
      ]
     },
     "execution_count": 105,
     "metadata": {},
     "output_type": "execute_result"
    }
   ],
   "source": [
    "# filter函数\n",
    "list(filter(lambda x: x < 3, [1, 2, 3]))"
   ]
  },
  {
   "cell_type": "code",
   "execution_count": 113,
   "metadata": {},
   "outputs": [
    {
     "data": {
      "text/plain": [
       "True"
      ]
     },
     "execution_count": 113,
     "metadata": {},
     "output_type": "execute_result"
    }
   ],
   "source": [
    "any([True, False])"
   ]
  },
  {
   "cell_type": "code",
   "execution_count": 114,
   "metadata": {},
   "outputs": [
    {
     "data": {
      "text/plain": [
       "False"
      ]
     },
     "execution_count": 114,
     "metadata": {},
     "output_type": "execute_result"
    }
   ],
   "source": [
    "all([True, False])"
   ]
  },
  {
   "cell_type": "markdown",
   "metadata": {},
   "source": [
    "## 匿名函数\n",
    "lambda关键字在Python表达式内创建匿名函数  \n",
    "然而，Python简单的句法限制了lambda函数的定义体只能使用纯表达式。换句话说，lambda函数的定义体中不能赋值，也不能使用while和try等Python语句。"
   ]
  },
  {
   "cell_type": "code",
   "execution_count": 43,
   "metadata": {},
   "outputs": [
    {
     "data": {
      "text/plain": [
       "['apple', 'banana', 'cherry', 'fig', 'raspberry', 'strawberry']"
      ]
     },
     "execution_count": 43,
     "metadata": {},
     "output_type": "execute_result"
    }
   ],
   "source": [
    "# 默认字符首字母排序\n",
    "fruits = [\"strawberry\", \"fig\", \"apple\", \"cherry\", \"raspberry\", \"banana\"]\n",
    "sorted(fruits)"
   ]
  },
  {
   "cell_type": "code",
   "execution_count": 44,
   "metadata": {},
   "outputs": [],
   "source": [
    "tmp = sorted(fruits)"
   ]
  },
  {
   "cell_type": "code",
   "execution_count": 45,
   "metadata": {},
   "outputs": [],
   "source": [
    "fruits.sort()"
   ]
  },
  {
   "cell_type": "code",
   "execution_count": 42,
   "metadata": {},
   "outputs": [
    {
     "data": {
      "text/plain": [
       "['apple', 'banana', 'cherry', 'fig', 'raspberry', 'strawberry']"
      ]
     },
     "execution_count": 42,
     "metadata": {},
     "output_type": "execute_result"
    }
   ],
   "source": [
    "fruits"
   ]
  },
  {
   "cell_type": "code",
   "execution_count": 38,
   "metadata": {},
   "outputs": [
    {
     "data": {
      "text/plain": [
       "140370673314944"
      ]
     },
     "execution_count": 38,
     "metadata": {},
     "output_type": "execute_result"
    }
   ],
   "source": [
    "id(fruits)"
   ]
  },
  {
   "cell_type": "code",
   "execution_count": 118,
   "metadata": {},
   "outputs": [
    {
     "data": {
      "text/plain": [
       "140370676693632"
      ]
     },
     "execution_count": 118,
     "metadata": {},
     "output_type": "execute_result"
    }
   ],
   "source": [
    "# sorted函数new一个新的对象\n",
    "id(tmp)"
   ]
  },
  {
   "cell_type": "code",
   "execution_count": 119,
   "metadata": {},
   "outputs": [],
   "source": [
    "def reverse_word(word: str) -> str:\n",
    "    \"\"\"翻转字符\"\"\"\n",
    "\n",
    "    return word[::-1]"
   ]
  },
  {
   "cell_type": "code",
   "execution_count": 120,
   "metadata": {},
   "outputs": [
    {
     "data": {
      "text/plain": [
       "['banana', 'apple', 'fig', 'raspberry', 'strawberry', 'cherry']"
      ]
     },
     "execution_count": 120,
     "metadata": {},
     "output_type": "execute_result"
    }
   ],
   "source": [
    "sorted(fruits, key=reverse_word)"
   ]
  },
  {
   "cell_type": "code",
   "execution_count": 47,
   "metadata": {},
   "outputs": [
    {
     "data": {
      "text/plain": [
       "['banana', 'apple', 'fig', 'raspberry', 'strawberry', 'cherry']"
      ]
     },
     "execution_count": 47,
     "metadata": {},
     "output_type": "execute_result"
    }
   ],
   "source": [
    "# 使用lambda, 按照单词的最后一个字符进行排序\n",
    "sorted(fruits, key=lambda word: word[::-1])"
   ]
  },
  {
   "cell_type": "markdown",
   "metadata": {},
   "source": [
    "## 可调用的对象\n",
    "[python中什么是 可调用的，什么是不可调用的？](https://blog.csdn.net/u010339879/article/details/105065270)"
   ]
  },
  {
   "cell_type": "code",
   "execution_count": 125,
   "metadata": {},
   "outputs": [
    {
     "data": {
      "text/plain": [
       "True"
      ]
     },
     "execution_count": 125,
     "metadata": {},
     "output_type": "execute_result"
    }
   ],
   "source": [
    "# 用户自定义函数\n",
    "callable(funa)"
   ]
  },
  {
   "cell_type": "code",
   "execution_count": 126,
   "metadata": {},
   "outputs": [
    {
     "data": {
      "text/plain": [
       "<function __main__.funa(n)>"
      ]
     },
     "execution_count": 126,
     "metadata": {},
     "output_type": "execute_result"
    }
   ],
   "source": [
    "funa"
   ]
  },
  {
   "cell_type": "code",
   "execution_count": 127,
   "metadata": {},
   "outputs": [
    {
     "data": {
      "text/plain": [
       "True"
      ]
     },
     "execution_count": 127,
     "metadata": {},
     "output_type": "execute_result"
    }
   ],
   "source": [
    "# 内置函数\n",
    "callable(len)"
   ]
  },
  {
   "cell_type": "code",
   "execution_count": 128,
   "metadata": {},
   "outputs": [
    {
     "name": "stdout",
     "output_type": "stream",
     "text": [
      "True False True\n",
      "frank is  singing\n"
     ]
    }
   ],
   "source": [
    "# 类和实例\n",
    "class Person:\n",
    "    def __init__(self, name='frank'):\n",
    "        self.name = name\n",
    "\n",
    "    def sing(self):\n",
    "        print(f\"{self.name} is  singing\")\n",
    "\n",
    "\n",
    "print(callable(Person), callable(Person()), callable(Person().sing))\n",
    "Person().sing()"
   ]
  },
  {
   "cell_type": "code",
   "execution_count": 129,
   "metadata": {},
   "outputs": [
    {
     "name": "stdout",
     "output_type": "stream",
     "text": [
      "True True True\n",
      "Callable!\n"
     ]
    }
   ],
   "source": [
    "# 类和实例\n",
    "# 不仅Python函数是真正的对象，任何Python对象都可以表现得像函数。\n",
    "# 为此，只需实现实例方法__call__。\n",
    "class Person:\n",
    "\n",
    "    def __init__(self, name='frank'):\n",
    "\n",
    "        self.name = name\n",
    "\n",
    "    def sing(self):\n",
    "\n",
    "        print(f\"{self.name} is  singing\")\n",
    "\n",
    "    def __call__(self):\n",
    "        \"\"\"实例对象可调用（魔术方法）\"\"\"\n",
    "\n",
    "        print(\"Callable!\")\n",
    "\n",
    "\n",
    "print(callable(Person), callable(Person()), callable(Person().sing))\n",
    "Person()()"
   ]
  },
  {
   "cell_type": "code",
   "execution_count": 130,
   "metadata": {},
   "outputs": [
    {
     "data": {
      "text/plain": [
       "True"
      ]
     },
     "execution_count": 130,
     "metadata": {},
     "output_type": "execute_result"
    }
   ],
   "source": [
    "# 内置方法\n",
    "callable(dict.get)"
   ]
  },
  {
   "cell_type": "code",
   "execution_count": 75,
   "metadata": {},
   "outputs": [
    {
     "name": "stdout",
     "output_type": "stream",
     "text": [
      "Callable!\n",
      "Callable!\n"
     ]
    }
   ],
   "source": [
    "person = Person()\n",
    "person()\n",
    "person()"
   ]
  },
  {
   "cell_type": "code",
   "execution_count": 134,
   "metadata": {},
   "outputs": [],
   "source": [
    "#  __call__\n",
    "import random\n",
    "\n",
    "\n",
    "class BingoCage:\n",
    "\n",
    "    def __init__(self, items):\n",
    "        self._items = list(items)\n",
    "        random.shuffle(self._items)\n",
    "\n",
    "    def pick(self):\n",
    "        try:\n",
    "            return self._items.pop()\n",
    "        except IndexError:\n",
    "            raise LookupError(\"pick for empty BingoCage!\")\n",
    "\n",
    "    def __call__(self):\n",
    "        return self.pick()"
   ]
  },
  {
   "cell_type": "code",
   "execution_count": 142,
   "metadata": {},
   "outputs": [],
   "source": [
    "bc = BingoCage([1, 2, 4])"
   ]
  },
  {
   "cell_type": "code",
   "execution_count": 143,
   "metadata": {},
   "outputs": [
    {
     "data": {
      "text/plain": [
       "1"
      ]
     },
     "execution_count": 143,
     "metadata": {},
     "output_type": "execute_result"
    }
   ],
   "source": [
    "bc.pick()"
   ]
  },
  {
   "cell_type": "code",
   "execution_count": 144,
   "metadata": {},
   "outputs": [
    {
     "data": {
      "text/plain": [
       "2"
      ]
     },
     "execution_count": 144,
     "metadata": {},
     "output_type": "execute_result"
    }
   ],
   "source": [
    "bc()"
   ]
  },
  {
   "cell_type": "code",
   "execution_count": 145,
   "metadata": {},
   "outputs": [
    {
     "data": {
      "text/plain": [
       "True"
      ]
     },
     "execution_count": 145,
     "metadata": {},
     "output_type": "execute_result"
    }
   ],
   "source": [
    "callable(bc)"
   ]
  },
  {
   "cell_type": "markdown",
   "metadata": {},
   "source": [
    "\n",
    "## 函数内省"
   ]
  },
  {
   "cell_type": "code",
   "execution_count": 161,
   "metadata": {},
   "outputs": [
    {
     "name": "stdout",
     "output_type": "stream",
     "text": [
      "['__annotations__', '__call__', '__class__', '__closure__', '__code__', '__defaults__', '__delattr__', '__dict__', '__dir__', '__doc__', '__eq__', '__format__', '__ge__', '__get__', '__getattribute__', '__globals__', '__gt__', '__hash__', '__init__', '__init_subclass__', '__kwdefaults__', '__le__', '__lt__', '__module__', '__name__', '__ne__', '__new__', '__qualname__', '__reduce__', '__reduce_ex__', '__repr__', '__setattr__', '__sizeof__', '__str__', '__subclasshook__']\n"
     ]
    }
   ],
   "source": [
    "def factorial(n: int, data_type=None) -> int:\n",
    "    \"\"\"计算斐波那契数列\"\"\"\n",
    "\n",
    "    return 1 if n < 2 else factorial(n - 1) * n\n",
    "\n",
    "\n",
    "# dir函数查看对象的属性\n",
    "print(dir(factorial))"
   ]
  },
  {
   "cell_type": "code",
   "execution_count": 186,
   "metadata": {},
   "outputs": [
    {
     "data": {
      "text/plain": [
       "{'short_description': 'short_Name', 'long_description': 'long_Name'}"
      ]
     },
     "execution_count": 186,
     "metadata": {},
     "output_type": "execute_result"
    }
   ],
   "source": [
    "factorial.__dict__"
   ]
  },
  {
   "cell_type": "code",
   "execution_count": 187,
   "metadata": {},
   "outputs": [
    {
     "data": {
      "text/plain": [
       "function"
      ]
     },
     "execution_count": 187,
     "metadata": {},
     "output_type": "execute_result"
    }
   ],
   "source": [
    "type(factorial)"
   ]
  },
  {
   "cell_type": "code",
   "execution_count": 188,
   "metadata": {},
   "outputs": [
    {
     "name": "stdout",
     "output_type": "stream",
     "text": [
      "{'short_description': 'short_Name', 'long_description': 'long_Name'}\n"
     ]
    }
   ],
   "source": [
    "# 外部创建实例对象（不推荐）\n",
    "factorial.short_description = 'short_Name'\n",
    "factorial.long_description = 'long_Name'\n",
    "print(factorial.__dict__)"
   ]
  },
  {
   "cell_type": "code",
   "execution_count": 189,
   "metadata": {},
   "outputs": [
    {
     "name": "stdout",
     "output_type": "stream",
     "text": [
      "['__annotations__', '__call__', '__closure__', '__code__', '__defaults__', '__get__', '__globals__', '__kwdefaults__', '__name__', '__qualname__']\n"
     ]
    }
   ],
   "source": [
    "# 列出常规对象没有而函数有的属性\n",
    "class C:\n",
    "    pass\n",
    "\n",
    "\n",
    "obj = C()\n",
    "\n",
    "\n",
    "def func(): pass\n",
    "\n",
    "\n",
    "# 函数对象特有的属性\n",
    "print(sorted(set(dir(func)) - set(dir(obj))))"
   ]
  },
  {
   "cell_type": "code",
   "execution_count": 190,
   "metadata": {},
   "outputs": [
    {
     "data": {
      "text/plain": [
       "<method-wrapper '__call__' of function object at 0x7faa978d63a0>"
      ]
     },
     "execution_count": 190,
     "metadata": {},
     "output_type": "execute_result"
    }
   ],
   "source": [
    "factorial.__call__"
   ]
  },
  {
   "cell_type": "code",
   "execution_count": 191,
   "metadata": {},
   "outputs": [
    {
     "data": {
      "text/plain": [
       "<code object factorial at 0x7faa969badf0, file \"<ipython-input-161-f04f61f9b9f3>\", line 1>"
      ]
     },
     "execution_count": 191,
     "metadata": {},
     "output_type": "execute_result"
    }
   ],
   "source": [
    "factorial.__code__"
   ]
  },
  {
   "cell_type": "code",
   "execution_count": 192,
   "metadata": {},
   "outputs": [],
   "source": [
    "factorial.__closure__"
   ]
  },
  {
   "cell_type": "code",
   "execution_count": 193,
   "metadata": {},
   "outputs": [
    {
     "data": {
      "text/plain": [
       "(None,)"
      ]
     },
     "execution_count": 193,
     "metadata": {},
     "output_type": "execute_result"
    }
   ],
   "source": [
    "factorial.__defaults__"
   ]
  },
  {
   "cell_type": "code",
   "execution_count": 194,
   "metadata": {},
   "outputs": [
    {
     "data": {
      "text/plain": [
       "<method-wrapper '__get__' of function object at 0x7faa978d63a0>"
      ]
     },
     "execution_count": 194,
     "metadata": {},
     "output_type": "execute_result"
    }
   ],
   "source": [
    "factorial.__get__"
   ]
  },
  {
   "cell_type": "code",
   "execution_count": 195,
   "metadata": {},
   "outputs": [
    {
     "data": {
      "text/plain": [
       "'factorial'"
      ]
     },
     "execution_count": 195,
     "metadata": {},
     "output_type": "execute_result"
    }
   ],
   "source": [
    "# 可以获得实例对象的类名\n",
    "factorial.__name__"
   ]
  },
  {
   "cell_type": "code",
   "execution_count": 196,
   "metadata": {},
   "outputs": [],
   "source": [
    "factorial.__kwdefaults__"
   ]
  },
  {
   "cell_type": "code",
   "execution_count": 197,
   "metadata": {},
   "outputs": [
    {
     "data": {
      "text/plain": [
       "{'n': int, 'return': int}"
      ]
     },
     "execution_count": 197,
     "metadata": {},
     "output_type": "execute_result"
    }
   ],
   "source": [
    "factorial.__annotations__"
   ]
  },
  {
   "cell_type": "code",
   "execution_count": 198,
   "metadata": {},
   "outputs": [
    {
     "data": {
      "text/plain": [
       "'__main__'"
      ]
     },
     "execution_count": 198,
     "metadata": {},
     "output_type": "execute_result"
    }
   ],
   "source": [
    "__name__"
   ]
  },
  {
   "cell_type": "code",
   "execution_count": 173,
   "metadata": {},
   "outputs": [
    {
     "data": {
      "text/plain": [
       "True"
      ]
     },
     "execution_count": 173,
     "metadata": {},
     "output_type": "execute_result"
    }
   ],
   "source": [
    "__name__ == \"__main__\""
   ]
  },
  {
   "cell_type": "markdown",
   "metadata": {},
   "source": [
    "## 从定位参数到仅限关键字参数"
   ]
  },
  {
   "cell_type": "code",
   "execution_count": 1,
   "metadata": {},
   "outputs": [],
   "source": [
    "def tag(name, *content, cls=None, **attrs):\n",
    "    \"\"\"\n",
    "    生成一个或多个html标签\n",
    "    \"\"\"\n",
    "\n",
    "    if cls is not None:\n",
    "        attrs[\"class\"] = cls\n",
    "\n",
    "    if attrs:\n",
    "        attr_str = ''.join(' %s=\"%s\"' % (attr, value)\n",
    "                           for attr, value in sorted(attrs.items()))\n",
    "    else:\n",
    "        attr_str = ''\n",
    "\n",
    "    if content:\n",
    "        return '\\n'.join('<%s%s>%s</%s>' % (name, attr_str, c, name) for c in content)\n",
    "    else:\n",
    "        return '<%s%s />' % (name, attr_str)"
   ]
  },
  {
   "cell_type": "code",
   "execution_count": 2,
   "metadata": {},
   "outputs": [
    {
     "name": "stdout",
     "output_type": "stream",
     "text": [
      "<br />\n",
      "\n",
      "\n",
      "<p>hello</p>\n",
      "\n",
      "\n",
      "<p>hello world !</p>\n",
      "<p>I'm Yango !</p>\n",
      "\n",
      "\n",
      "<p>hello world !</p>\n",
      "<p>I'm Yango !</p>\n",
      "<p>googl.com</p>\n",
      "\n",
      "\n",
      "<p id=\"33\">hello</p>\n",
      "<p class=\"namedP\">带有类名的P标签</p>\n"
     ]
    }
   ],
   "source": [
    "print(tag('br'))  # 自闭标签(无内容)\n",
    "print(\"\\n\")\n",
    "print(tag('p', 'hello'))  #\n",
    "print(\"\\n\")\n",
    "# 第一个参数后面的人一个参数会被*content捕获，存入一个元组\n",
    "print(tag('p', 'hello world !', \"I'm Yango !\"))\n",
    "print(\"\\n\")\n",
    "print(tag('p', 'hello world !', \"I'm Yango !\", \"googl.com\"))\n",
    "print(\"\\n\")\n",
    "print(tag('p', 'hello', id=33))\n",
    "print(tag('p', \"带有类名的P标签\", cls=\"namedP\"))"
   ]
  },
  {
   "cell_type": "code",
   "execution_count": 3,
   "metadata": {},
   "outputs": [
    {
     "name": "stdout",
     "output_type": "stream",
     "text": [
      "<img class=\"framed\" src=\"sunset.jpg\" title=\"Sunset Boulevard\" />\n"
     ]
    }
   ],
   "source": [
    "# 关键词参数\n",
    "my_tag = {'name': 'img', 'title': 'Sunset Boulevard',\n",
    "          'src': 'sunset.jpg', 'cls': 'framed'}\n",
    "\n",
    "print(tag(**my_tag))"
   ]
  },
  {
   "cell_type": "code",
   "execution_count": 4,
   "metadata": {},
   "outputs": [
    {
     "data": {
      "text/plain": [
       "<code object tag at 0x7fb582d4a030, file \"<ipython-input-1-478ef58ed4b8>\", line 1>"
      ]
     },
     "execution_count": 4,
     "metadata": {},
     "output_type": "execute_result"
    }
   ],
   "source": [
    "tag.__code__"
   ]
  },
  {
   "cell_type": "code",
   "execution_count": 5,
   "metadata": {},
   "outputs": [
    {
     "data": {
      "text/plain": [
       "{'cls': None}"
      ]
     },
     "execution_count": 5,
     "metadata": {},
     "output_type": "execute_result"
    }
   ],
   "source": [
    "tag.__kwdefaults__"
   ]
  },
  {
   "cell_type": "code",
   "execution_count": 6,
   "metadata": {},
   "outputs": [],
   "source": [
    "tag.__defaults__"
   ]
  },
  {
   "cell_type": "code",
   "execution_count": 209,
   "metadata": {},
   "outputs": [],
   "source": [
    "def fun(src=\"google\", *arg, **args):\n",
    "\n",
    "    print(src, arg, args)"
   ]
  },
  {
   "cell_type": "code",
   "execution_count": 210,
   "metadata": {},
   "outputs": [
    {
     "name": "stdout",
     "output_type": "stream",
     "text": [
      "1 (4, 4) {}\n"
     ]
    }
   ],
   "source": [
    "fun(1, 4, 4)"
   ]
  },
  {
   "cell_type": "code",
   "execution_count": null,
   "metadata": {},
   "outputs": [],
   "source": []
  },
  {
   "cell_type": "code",
   "execution_count": 86,
   "metadata": {},
   "outputs": [
    {
     "name": "stdout",
     "output_type": "stream",
     "text": [
      "sunset.jpg () {'name': 'img', 'title': 'Sunset Boulevard', 'cls': 'framed'}\n"
     ]
    }
   ],
   "source": [
    "# 字典中的所有元素作为单个参数传入，同名键会绑定到对应的具名参数上，\n",
    "# 余下的则被**attrs捕获。\n",
    "# 用字典指定传入的参数数值\n",
    "fun(**my_tag)"
   ]
  },
  {
   "cell_type": "code",
   "execution_count": 87,
   "metadata": {},
   "outputs": [
    {
     "name": "stdout",
     "output_type": "stream",
     "text": [
      "google () {'A': 1, 'a': 2}\n"
     ]
    }
   ],
   "source": [
    "fun(A=1, a=2)"
   ]
  },
  {
   "cell_type": "code",
   "execution_count": 88,
   "metadata": {},
   "outputs": [
    {
     "name": "stdout",
     "output_type": "stream",
     "text": [
      "1 () {'param': 'n'}\n"
     ]
    }
   ],
   "source": [
    "fun(1, param=\"n\")"
   ]
  },
  {
   "cell_type": "code",
   "execution_count": 89,
   "metadata": {},
   "outputs": [],
   "source": [
    "# 强制传入关键字参数\n",
    "def f(a, *, b):\n",
    "    \"\"\"关键字参数必须指定\"\"\"\n",
    "\n",
    "    return a, b"
   ]
  },
  {
   "cell_type": "code",
   "execution_count": 90,
   "metadata": {},
   "outputs": [
    {
     "data": {
      "text/plain": [
       "(1, 4)"
      ]
     },
     "execution_count": 90,
     "metadata": {},
     "output_type": "execute_result"
    }
   ],
   "source": [
    "# 必须指定第二参数的关键字，否则不指定会被吸收为元组类型\n",
    "f(1, b=4)"
   ]
  },
  {
   "cell_type": "code",
   "execution_count": 269,
   "metadata": {},
   "outputs": [],
   "source": [
    "# 定位参数和关键词参数\n",
    "def get_info(name: str, age: int, sex: 'int > 0' = 25, *args, **kwargs) -> str:\n",
    "    \"\"\"获取一个人的数据信息.\n",
    "\n",
    "    给定的个人基本信息或者扩展信息，从而打印相关信息.\n",
    "\n",
    "    Args:\n",
    "        name: 用户姓名.\n",
    "        age: 用户年龄.\n",
    "        sex: 用户性别.\n",
    "\n",
    "    Returns:\n",
    "        返回一个包含所有信息的字符串.\n",
    "        example:\n",
    "        \n",
    "        \"name:wanyu, age: 35, sex: female\".\n",
    "        \n",
    "\n",
    "    Raise:\n",
    "        None.\n",
    "    \"\"\"\n",
    "    if not kwargs:\n",
    "        print(f\"name:{name},age:{age},sex:{sex}\")\n",
    "    else:\n",
    "        print(args)\n",
    "        print(f\"name:{name},age:{age},sex:{sex}\")\n",
    "        print(\" \".join('%s=\"%s\"' % (key, val) for key, val in kwargs.items()))"
   ]
  },
  {
   "cell_type": "code",
   "execution_count": 270,
   "metadata": {},
   "outputs": [
    {
     "name": "stdout",
     "output_type": "stream",
     "text": [
      "(45, 58)\n",
      "name:wangyu,age:27,sex:female\n",
      "heigh=\"178\" weight=\"70\"\n"
     ]
    }
   ],
   "source": [
    "get_info(\"wangyu\", 27, \"female\", 45, 58, heigh=178, weight=70)"
   ]
  },
  {
   "cell_type": "code",
   "execution_count": 271,
   "metadata": {},
   "outputs": [
    {
     "data": {
      "text/plain": [
       "{'name': str, 'age': int, 'sex': 'int > 0', 'return': str}"
      ]
     },
     "execution_count": 271,
     "metadata": {},
     "output_type": "execute_result"
    }
   ],
   "source": [
    "get_info.__annotations__"
   ]
  },
  {
   "cell_type": "code",
   "execution_count": 268,
   "metadata": {},
   "outputs": [
    {
     "name": "stdout",
     "output_type": "stream",
     "text": [
      "获取一个人的数据信息.\n",
      "\n",
      "    给定的个人基本信息或者扩展信息，从而打印相关信息.\n",
      "\n",
      "    Args:\n",
      "        name: 用户姓名.\n",
      "        age: 用户年龄.\n",
      "        sex: 用户性别.\n",
      "\n",
      "    Returns:\n",
      "        输出一个包含所有信息的字符串.\n",
      "        example:\n",
      "        \"name:wanyu, age: 35, sex: female\".\n",
      "    \n",
      "    Rasise:\n",
      "        None.\n",
      "    \n"
     ]
    }
   ],
   "source": [
    "print(get_info.__doc__)"
   ]
  },
  {
   "cell_type": "markdown",
   "metadata": {},
   "source": [
    "## 获取关于参数的信息"
   ]
  },
  {
   "cell_type": "code",
   "execution_count": 7,
   "metadata": {},
   "outputs": [],
   "source": [
    "def clip(text: str, max_len: 'int > 0' = 80) -> str:  # <1>\n",
    "    \"\"\"Return text clipped at the last space before or after max_len.\n",
    "\n",
    "    Args:\n",
    "        text: \n",
    "    \"\"\"\n",
    "\n",
    "    end = None\n",
    "    if len(text) > max_len:\n",
    "        space_before = text.rfind(' ', 0, max_len)\n",
    "        if space_before >= 0:\n",
    "            end = space_before\n",
    "        else:\n",
    "            space_after = text.rfind(' ', max_len)\n",
    "            if space_after >= 0:\n",
    "                end = space_after\n",
    "    if end is None:  # no spaces were found\n",
    "        end = len(text)\n",
    "\n",
    "    return text[:end].rstrip()"
   ]
  },
  {
   "cell_type": "code",
   "execution_count": 8,
   "metadata": {},
   "outputs": [
    {
     "data": {
      "text/plain": [
       "'Return text clipped at the last space before or after max_len.\\n\\n    Args:\\n        text: \\n    '"
      ]
     },
     "execution_count": 8,
     "metadata": {},
     "output_type": "execute_result"
    }
   ],
   "source": [
    "# 获取注解\n",
    "clip.__doc__"
   ]
  },
  {
   "cell_type": "code",
   "execution_count": 9,
   "metadata": {},
   "outputs": [
    {
     "data": {
      "text/plain": [
       "(80,)"
      ]
     },
     "execution_count": 9,
     "metadata": {},
     "output_type": "execute_result"
    }
   ],
   "source": [
    "# 获取默认参数值，只有参数数值，没有对应的变量名称\n",
    "clip.__defaults__"
   ]
  },
  {
   "cell_type": "code",
   "execution_count": 10,
   "metadata": {},
   "outputs": [
    {
     "data": {
      "text/plain": [
       "('text', 'max_len', 'end', 'space_before', 'space_after')"
      ]
     },
     "execution_count": 10,
     "metadata": {},
     "output_type": "execute_result"
    }
   ],
   "source": [
    "# 获取变量名称, 包括函数体内的变量\n",
    "clip.__code__.co_varnames"
   ]
  },
  {
   "cell_type": "code",
   "execution_count": 11,
   "metadata": {},
   "outputs": [
    {
     "data": {
      "text/plain": [
       "2"
      ]
     },
     "execution_count": 11,
     "metadata": {},
     "output_type": "execute_result"
    }
   ],
   "source": [
    "# 获取参数数量\n",
    "clip.__code__.co_argcount"
   ]
  },
  {
   "cell_type": "code",
   "execution_count": 12,
   "metadata": {},
   "outputs": [
    {
     "data": {
      "text/plain": [
       "<Signature (text: str, max_len: 'int > 0' = 80) -> str>"
      ]
     },
     "execution_count": 12,
     "metadata": {},
     "output_type": "execute_result"
    }
   ],
   "source": [
    "from inspect import signature\n",
    "\n",
    "# 函数签名\n",
    "sig = signature(clip)\n",
    "sig"
   ]
  },
  {
   "cell_type": "code",
   "execution_count": 13,
   "metadata": {},
   "outputs": [
    {
     "data": {
      "text/plain": [
       "\"(text: str, max_len: 'int > 0' = 80) -> str\""
      ]
     },
     "execution_count": 13,
     "metadata": {},
     "output_type": "execute_result"
    }
   ],
   "source": [
    "# 函数参数描述\n",
    "str(sig)"
   ]
  },
  {
   "cell_type": "code",
   "execution_count": 14,
   "metadata": {},
   "outputs": [
    {
     "data": {
      "text/plain": [
       "mappingproxy({'text': <Parameter \"text: str\">,\n",
       "              'max_len': <Parameter \"max_len: 'int > 0' = 80\">})"
      ]
     },
     "execution_count": 14,
     "metadata": {},
     "output_type": "execute_result"
    }
   ],
   "source": [
    "sig.parameters"
   ]
  },
  {
   "cell_type": "code",
   "execution_count": 99,
   "metadata": {},
   "outputs": [
    {
     "name": "stdout",
     "output_type": "stream",
     "text": [
      "text : text: str\n",
      "max_len : max_len: 'int > 0' = 80\n"
     ]
    }
   ],
   "source": [
    "for key, val in sig.parameters.items():\n",
    "    print(key, \":\", val)"
   ]
  },
  {
   "cell_type": "code",
   "execution_count": 100,
   "metadata": {},
   "outputs": [
    {
     "data": {
      "text/plain": [
       "(<_ParameterKind.POSITIONAL_OR_KEYWORD: 1>, 'max_len', 80)"
      ]
     },
     "execution_count": 100,
     "metadata": {},
     "output_type": "execute_result"
    }
   ],
   "source": [
    "val.kind, val.name, val.default"
   ]
  },
  {
   "cell_type": "code",
   "execution_count": 101,
   "metadata": {},
   "outputs": [
    {
     "data": {
      "text/plain": [
       "OrderedDict([('name', 'img'),\n",
       "             ('cls', 'framed'),\n",
       "             ('attrs', {'title': 'Sunset Boulevard', 'src': 'sunset.jpg'})])"
      ]
     },
     "execution_count": 101,
     "metadata": {},
     "output_type": "execute_result"
    }
   ],
   "source": [
    "# bind参数\n",
    "sig = signature(tag)\n",
    "bound_args = sig.bind(**my_tag)\n",
    "bound_args.arguments"
   ]
  },
  {
   "cell_type": "code",
   "execution_count": 102,
   "metadata": {},
   "outputs": [
    {
     "ename": "TypeError",
     "evalue": "missing a required argument: 'name'",
     "output_type": "error",
     "traceback": [
      "\u001b[0;31m---------------------------------------------------------------------------\u001b[0m",
      "\u001b[0;31mTypeError\u001b[0m                                 Traceback (most recent call last)",
      "\u001b[0;32m<ipython-input-102-b94b9459bb88>\u001b[0m in \u001b[0;36m<module>\u001b[0;34m\u001b[0m\n\u001b[1;32m      1\u001b[0m \u001b[0;32mdel\u001b[0m \u001b[0mmy_tag\u001b[0m\u001b[0;34m[\u001b[0m\u001b[0;34m\"name\"\u001b[0m\u001b[0;34m]\u001b[0m\u001b[0;34m\u001b[0m\u001b[0;34m\u001b[0m\u001b[0m\n\u001b[1;32m      2\u001b[0m \u001b[0;34m\u001b[0m\u001b[0m\n\u001b[0;32m----> 3\u001b[0;31m \u001b[0mbound_args\u001b[0m \u001b[0;34m=\u001b[0m \u001b[0msig\u001b[0m\u001b[0;34m.\u001b[0m\u001b[0mbind\u001b[0m\u001b[0;34m(\u001b[0m\u001b[0;34m**\u001b[0m\u001b[0mmy_tag\u001b[0m\u001b[0;34m)\u001b[0m\u001b[0;34m\u001b[0m\u001b[0;34m\u001b[0m\u001b[0m\n\u001b[0m\u001b[1;32m      4\u001b[0m \u001b[0mbound_args\u001b[0m\u001b[0;34m.\u001b[0m\u001b[0marguments\u001b[0m\u001b[0;34m\u001b[0m\u001b[0;34m\u001b[0m\u001b[0m\n",
      "\u001b[0;32m~/anaconda3/lib/python3.8/inspect.py\u001b[0m in \u001b[0;36mbind\u001b[0;34m(self, *args, **kwargs)\u001b[0m\n\u001b[1;32m   3023\u001b[0m         \u001b[0;32mif\u001b[0m \u001b[0mthe\u001b[0m \u001b[0mpassed\u001b[0m \u001b[0marguments\u001b[0m \u001b[0mcan\u001b[0m \u001b[0;32mnot\u001b[0m \u001b[0mbe\u001b[0m \u001b[0mbound\u001b[0m\u001b[0;34m.\u001b[0m\u001b[0;34m\u001b[0m\u001b[0;34m\u001b[0m\u001b[0m\n\u001b[1;32m   3024\u001b[0m         \"\"\"\n\u001b[0;32m-> 3025\u001b[0;31m         \u001b[0;32mreturn\u001b[0m \u001b[0mself\u001b[0m\u001b[0;34m.\u001b[0m\u001b[0m_bind\u001b[0m\u001b[0;34m(\u001b[0m\u001b[0margs\u001b[0m\u001b[0;34m,\u001b[0m \u001b[0mkwargs\u001b[0m\u001b[0;34m)\u001b[0m\u001b[0;34m\u001b[0m\u001b[0;34m\u001b[0m\u001b[0m\n\u001b[0m\u001b[1;32m   3026\u001b[0m \u001b[0;34m\u001b[0m\u001b[0m\n\u001b[1;32m   3027\u001b[0m     \u001b[0;32mdef\u001b[0m \u001b[0mbind_partial\u001b[0m\u001b[0;34m(\u001b[0m\u001b[0mself\u001b[0m\u001b[0;34m,\u001b[0m \u001b[0;34m/\u001b[0m\u001b[0;34m,\u001b[0m \u001b[0;34m*\u001b[0m\u001b[0margs\u001b[0m\u001b[0;34m,\u001b[0m \u001b[0;34m**\u001b[0m\u001b[0mkwargs\u001b[0m\u001b[0;34m)\u001b[0m\u001b[0;34m:\u001b[0m\u001b[0;34m\u001b[0m\u001b[0;34m\u001b[0m\u001b[0m\n",
      "\u001b[0;32m~/anaconda3/lib/python3.8/inspect.py\u001b[0m in \u001b[0;36m_bind\u001b[0;34m(self, args, kwargs, partial)\u001b[0m\n\u001b[1;32m   2938\u001b[0m                             \u001b[0mmsg\u001b[0m \u001b[0;34m=\u001b[0m \u001b[0;34m'missing a required argument: {arg!r}'\u001b[0m\u001b[0;34m\u001b[0m\u001b[0;34m\u001b[0m\u001b[0m\n\u001b[1;32m   2939\u001b[0m                             \u001b[0mmsg\u001b[0m \u001b[0;34m=\u001b[0m \u001b[0mmsg\u001b[0m\u001b[0;34m.\u001b[0m\u001b[0mformat\u001b[0m\u001b[0;34m(\u001b[0m\u001b[0marg\u001b[0m\u001b[0;34m=\u001b[0m\u001b[0mparam\u001b[0m\u001b[0;34m.\u001b[0m\u001b[0mname\u001b[0m\u001b[0;34m)\u001b[0m\u001b[0;34m\u001b[0m\u001b[0;34m\u001b[0m\u001b[0m\n\u001b[0;32m-> 2940\u001b[0;31m                             \u001b[0;32mraise\u001b[0m \u001b[0mTypeError\u001b[0m\u001b[0;34m(\u001b[0m\u001b[0mmsg\u001b[0m\u001b[0;34m)\u001b[0m \u001b[0;32mfrom\u001b[0m \u001b[0;32mNone\u001b[0m\u001b[0;34m\u001b[0m\u001b[0;34m\u001b[0m\u001b[0m\n\u001b[0m\u001b[1;32m   2941\u001b[0m             \u001b[0;32melse\u001b[0m\u001b[0;34m:\u001b[0m\u001b[0;34m\u001b[0m\u001b[0;34m\u001b[0m\u001b[0m\n\u001b[1;32m   2942\u001b[0m                 \u001b[0;31m# We have a positional argument to process\u001b[0m\u001b[0;34m\u001b[0m\u001b[0;34m\u001b[0m\u001b[0;34m\u001b[0m\u001b[0m\n",
      "\u001b[0;31mTypeError\u001b[0m: missing a required argument: 'name'"
     ]
    }
   ],
   "source": [
    "del my_tag[\"name\"]\n",
    "\n",
    "bound_args = sig.bind(**my_tag)\n",
    "bound_args.arguments"
   ]
  },
  {
   "cell_type": "markdown",
   "metadata": {},
   "source": [
    "## 函数注解\n",
    "注解位置：函数声明中的各个参数可以在:之后增加注解表达式。如果参数有默认值，注解放在参数名和=号之间。如果想注解返回值，在)和函数声明末尾的:之间添加->和一个表达式。"
   ]
  },
  {
   "cell_type": "code",
   "execution_count": 35,
   "metadata": {},
   "outputs": [],
   "source": [
    "#  注解常用类型为类和字符串\n",
    "def clip(text: str, max_len: 'int > 0' = 80) -> str:  # <1>\n",
    "    \"\"\"\n",
    "    Return text clipped at the last space before or after max_len\n",
    "    \"\"\"\n",
    "    print(text, max_len)\n",
    "\n",
    "    pass"
   ]
  },
  {
   "cell_type": "code",
   "execution_count": 36,
   "metadata": {},
   "outputs": [
    {
     "data": {
      "text/plain": [
       "'\\n    Return text clipped at the last space before or after max_len\\n    '"
      ]
     },
     "execution_count": 36,
     "metadata": {},
     "output_type": "execute_result"
    }
   ],
   "source": [
    "clip.__doc__"
   ]
  },
  {
   "cell_type": "code",
   "execution_count": 37,
   "metadata": {},
   "outputs": [
    {
     "data": {
      "text/plain": [
       "{'text': str, 'max_len': 'int > 0', 'return': str}"
      ]
     },
     "execution_count": 37,
     "metadata": {},
     "output_type": "execute_result"
    }
   ],
   "source": [
    "# 函数注解\n",
    "clip.__annotations__"
   ]
  },
  {
   "cell_type": "code",
   "execution_count": 38,
   "metadata": {},
   "outputs": [
    {
     "name": "stdout",
     "output_type": "stream",
     "text": [
      "Hellow 45\n"
     ]
    }
   ],
   "source": [
    "clip(\"Hellow\",45 )"
   ]
  },
  {
   "cell_type": "code",
   "execution_count": 40,
   "metadata": {},
   "outputs": [
    {
     "data": {
      "text/plain": [
       "<Signature (text: str, max_len: 'int > 0' = 80) -> str>"
      ]
     },
     "execution_count": 40,
     "metadata": {},
     "output_type": "execute_result"
    }
   ],
   "source": [
    "sig = signature(clip)\n",
    "sig"
   ]
  },
  {
   "cell_type": "code",
   "execution_count": 41,
   "metadata": {},
   "outputs": [
    {
     "data": {
      "text/plain": [
       "str"
      ]
     },
     "execution_count": 41,
     "metadata": {},
     "output_type": "execute_result"
    }
   ],
   "source": [
    "sig.return_annotation"
   ]
  },
  {
   "cell_type": "code",
   "execution_count": 49,
   "metadata": {},
   "outputs": [
    {
     "name": "stdout",
     "output_type": "stream",
     "text": [
      "<class 'str'> text <class 'inspect._empty'>\n",
      "int > 0 max_len 80\n"
     ]
    }
   ],
   "source": [
    "for param in sig.parameters.values():\n",
    "    print(param.annotation, param.name, param.default)"
   ]
  },
  {
   "cell_type": "markdown",
   "metadata": {},
   "source": [
    "## 支持函数式编程的包\n",
    "虽然Guido明确表明，Python的目标不是变成函数式编程语言，但是得益于operator和functools等包的支持，函数式编程风格也可以信手拈来。接下来的两节分别介绍这两个包。"
   ]
  },
  {
   "cell_type": "markdown",
   "metadata": {},
   "source": [
    "### operator"
   ]
  },
  {
   "cell_type": "code",
   "execution_count": 61,
   "metadata": {},
   "outputs": [],
   "source": [
    "from functools import reduce\n",
    "from operator import mul, add"
   ]
  },
  {
   "cell_type": "code",
   "execution_count": 62,
   "metadata": {},
   "outputs": [],
   "source": [
    "vals = [1, 2, 5, 3, 6] "
   ]
  },
  {
   "cell_type": "code",
   "execution_count": 63,
   "metadata": {},
   "outputs": [
    {
     "data": {
      "text/plain": [
       "180"
      ]
     },
     "execution_count": 63,
     "metadata": {},
     "output_type": "execute_result"
    }
   ],
   "source": [
    "reduce(lambda a, b: a*b, vals)"
   ]
  },
  {
   "cell_type": "code",
   "execution_count": 64,
   "metadata": {},
   "outputs": [
    {
     "data": {
      "text/plain": [
       "180"
      ]
     },
     "execution_count": 64,
     "metadata": {},
     "output_type": "execute_result"
    }
   ],
   "source": [
    "reduce(mul, vals)"
   ]
  },
  {
   "cell_type": "code",
   "execution_count": 65,
   "metadata": {},
   "outputs": [
    {
     "data": {
      "text/plain": [
       "17"
      ]
     },
     "execution_count": 65,
     "metadata": {},
     "output_type": "execute_result"
    }
   ],
   "source": [
    "reduce(add, vals)"
   ]
  },
  {
   "cell_type": "markdown",
   "metadata": {},
   "source": [
    "### itemgetter"
   ]
  },
  {
   "cell_type": "code",
   "execution_count": 27,
   "metadata": {},
   "outputs": [],
   "source": [
    "metro_areas = [\n",
    "    ('Tokyo', 'JP', 36.933, (35.689722, 139.691667)),   # <1>\n",
    "    ('Delhi NCR', 'IN', 21.935, (28.613889, 77.208889)),\n",
    "    ('Mexico City', 'MX', 20.142, (19.433333, -99.133333)),\n",
    "    ('New York-Newark', 'US', 20.104, (40.808611, -74.020386)),\n",
    "    ('Sao Paulo', 'BR', 19.649, (-23.547778, -46.635833)),\n",
    "]"
   ]
  },
  {
   "cell_type": "code",
   "execution_count": 66,
   "metadata": {},
   "outputs": [
    {
     "name": "stdout",
     "output_type": "stream",
     "text": [
      "('JP', 'JP', 36.933, 36.933)\n",
      "('IN', 'IN', 21.935, 21.935)\n",
      "('MX', 'MX', 20.142, 20.142)\n",
      "('US', 'US', 20.104, 20.104)\n",
      "('BR', 'BR', 19.649, 19.649)\n"
     ]
    }
   ],
   "source": [
    "from operator import itemgetter\n",
    "\n",
    "# 类似于指定位置切片\n",
    "item_get = itemgetter(1, 1, 2, 2)\n",
    ".\n",
    "for area in metro_areas:\n",
    "    print(item_get(area))"
   ]
  },
  {
   "cell_type": "code",
   "execution_count": 67,
   "metadata": {},
   "outputs": [
    {
     "data": {
      "text/plain": [
       "[1, 2, 3, 4, 5, 6, 7, 8, 9, 10]"
      ]
     },
     "execution_count": 67,
     "metadata": {},
     "output_type": "execute_result"
    }
   ],
   "source": [
    "# 测试：列表\n",
    "# 指定位置进行切片\n",
    "array = list(range(1, 11))\n",
    "array"
   ]
  },
  {
   "cell_type": "code",
   "execution_count": 68,
   "metadata": {},
   "outputs": [
    {
     "data": {
      "text/plain": [
       "(2, 2, 3, 3)"
      ]
     },
     "execution_count": 68,
     "metadata": {},
     "output_type": "execute_result"
    }
   ],
   "source": [
    "item_get(array)"
   ]
  },
  {
   "cell_type": "code",
   "execution_count": 80,
   "metadata": {},
   "outputs": [
    {
     "data": {
      "text/plain": [
       "[('Tokyo', 'JP', 36.933, (35.689722, 139.691667)),\n",
       " ('Delhi NCR', 'IN', 21.935, (28.613889, 77.208889)),\n",
       " ('Mexico City', 'MX', 20.142, (19.433333, -99.133333)),\n",
       " ('New York-Newark', 'US', 20.104, (40.808611, -74.020386)),\n",
       " ('Sao Paulo', 'BR', 19.649, (-23.547778, -46.635833))]"
      ]
     },
     "execution_count": 80,
     "metadata": {},
     "output_type": "execute_result"
    }
   ],
   "source": [
    "sorted(metro_areas, key=itemgetter(2), reverse=True)"
   ]
  },
  {
   "cell_type": "markdown",
   "metadata": {},
   "source": [
    "### attrgetter"
   ]
  },
  {
   "cell_type": "code",
   "execution_count": 70,
   "metadata": {},
   "outputs": [
    {
     "data": {
      "text/plain": [
       "City(name='Tokyo', country='JP', poplulation=36.933, coordinates=(35.689722, 139.691667))"
      ]
     },
     "execution_count": 70,
     "metadata": {},
     "output_type": "execute_result"
    }
   ],
   "source": [
    "from collections import namedtuple\n",
    "# 属性调用\n",
    "from operator import attrgetter\n",
    "\n",
    "\n",
    "City = namedtuple(\"City\", \"name country poplulation coordinates\")\n",
    "tokyo = City('Tokyo', 'JP', 36.933, (35.689722, 139.691667))\n",
    "tokyo"
   ]
  },
  {
   "cell_type": "code",
   "execution_count": 71,
   "metadata": {},
   "outputs": [
    {
     "data": {
      "text/plain": [
       "'Tokyo'"
      ]
     },
     "execution_count": 71,
     "metadata": {},
     "output_type": "execute_result"
    }
   ],
   "source": [
    "tokyo.name"
   ]
  },
  {
   "cell_type": "code",
   "execution_count": 72,
   "metadata": {},
   "outputs": [],
   "source": [
    "class Person:\n",
    "    \n",
    "    def __init__(self):\n",
    "        self.name = \"Tom\"\n",
    "        self.age = 25\n",
    "        self.sex = \"male\""
   ]
  },
  {
   "cell_type": "code",
   "execution_count": 83,
   "metadata": {},
   "outputs": [],
   "source": [
    "attr_person = attrgetter('name', 'age', 'sex')"
   ]
  },
  {
   "cell_type": "code",
   "execution_count": 84,
   "metadata": {},
   "outputs": [
    {
     "data": {
      "text/plain": [
       "('Tom', 25, 'male')"
      ]
     },
     "execution_count": 84,
     "metadata": {},
     "output_type": "execute_result"
    }
   ],
   "source": [
    "attr_person(Person())"
   ]
  },
  {
   "cell_type": "code",
   "execution_count": 156,
   "metadata": {},
   "outputs": [
    {
     "data": {
      "text/plain": [
       "('Tokyo', 'JP')"
      ]
     },
     "execution_count": 156,
     "metadata": {},
     "output_type": "execute_result"
    }
   ],
   "source": [
    "# tokyo.name, tokyo.country\n",
    "attr = attrgetter(\"name\", \"country\")\n",
    "attr(tokyo)"
   ]
  },
  {
   "cell_type": "code",
   "execution_count": 160,
   "metadata": {},
   "outputs": [
    {
     "data": {
      "text/plain": [
       "('Tokyo', 'JP', (35.689722, 139.691667))"
      ]
     },
     "execution_count": 160,
     "metadata": {},
     "output_type": "execute_result"
    }
   ],
   "source": [
    "attr = attrgetter(\"name\", \"country\", \"coordinates\")\n",
    "attr(tokyo)"
   ]
  },
  {
   "cell_type": "code",
   "execution_count": 167,
   "metadata": {},
   "outputs": [
    {
     "data": {
      "text/plain": [
       "[10, 9, 8, 7, 6, 5, 4, 3, 2, 1]"
      ]
     },
     "execution_count": 167,
     "metadata": {},
     "output_type": "execute_result"
    }
   ],
   "source": [
    "sorted(array, reverse=True)"
   ]
  },
  {
   "cell_type": "markdown",
   "metadata": {},
   "source": [
    "### methodcaller"
   ]
  },
  {
   "cell_type": "code",
   "execution_count": 109,
   "metadata": {},
   "outputs": [],
   "source": [
    "from operator import methodcaller"
   ]
  },
  {
   "cell_type": "code",
   "execution_count": 110,
   "metadata": {},
   "outputs": [
    {
     "data": {
      "text/plain": [
       "'THE TIME HAS COME!'"
      ]
     },
     "execution_count": 110,
     "metadata": {},
     "output_type": "execute_result"
    }
   ],
   "source": [
    "s = \"the time has come!\"\n",
    "s.upper()"
   ]
  },
  {
   "cell_type": "code",
   "execution_count": 111,
   "metadata": {},
   "outputs": [
    {
     "data": {
      "text/plain": [
       "'THE TIME HAS COME!'"
      ]
     },
     "execution_count": 111,
     "metadata": {},
     "output_type": "execute_result"
    }
   ],
   "source": [
    "upcase = methodcaller(\"upper\")\n",
    "upcase(s)"
   ]
  },
  {
   "cell_type": "code",
   "execution_count": 112,
   "metadata": {},
   "outputs": [
    {
     "data": {
      "text/plain": [
       "False"
      ]
     },
     "execution_count": 112,
     "metadata": {},
     "output_type": "execute_result"
    }
   ],
   "source": [
    "s.isnumeric()"
   ]
  },
  {
   "cell_type": "code",
   "execution_count": 113,
   "metadata": {},
   "outputs": [
    {
     "data": {
      "text/plain": [
       "False"
      ]
     },
     "execution_count": 113,
     "metadata": {},
     "output_type": "execute_result"
    }
   ],
   "source": [
    "is_num = methodcaller(\"isnumeric\")\n",
    "is_num(s)"
   ]
  },
  {
   "cell_type": "code",
   "execution_count": 114,
   "metadata": {},
   "outputs": [
    {
     "data": {
      "text/plain": [
       "'the-time-has-come!'"
      ]
     },
     "execution_count": 114,
     "metadata": {},
     "output_type": "execute_result"
    }
   ],
   "source": [
    "# 包装方法，统一执行\n",
    "# 调用方法 s.replace(\" \", \"-\")\n",
    "replace = methodcaller('replace', \" \", \"-\")\n",
    "replace(s)"
   ]
  },
  {
   "cell_type": "code",
   "execution_count": 115,
   "metadata": {},
   "outputs": [
    {
     "data": {
      "text/plain": [
       "'the-time-has-come!'"
      ]
     },
     "execution_count": 115,
     "metadata": {},
     "output_type": "execute_result"
    }
   ],
   "source": [
    "s.replace(\" \", \"-\")"
   ]
  },
  {
   "cell_type": "markdown",
   "metadata": {},
   "source": [
    "### partial\n",
    "functools.partial这个高阶函数用于部分应用一个函数。部分应用是指，基于一个函数创建一个新的可调用对象，把原函数的某些参数固定。使用这个函数可以把接受一个或多个参数的函数改编成需要回调的API，这样参数更少。"
   ]
  },
  {
   "cell_type": "code",
   "execution_count": 116,
   "metadata": {},
   "outputs": [
    {
     "data": {
      "text/plain": [
       "21"
      ]
     },
     "execution_count": 116,
     "metadata": {},
     "output_type": "execute_result"
    }
   ],
   "source": [
    "# 固定参数或冻结参数\n",
    "from functools import partial\n",
    "from operator import mul\n",
    "\n",
    "# 默认固定第一个位置的参数\n",
    "triple = partial(mul, 3)\n",
    "triple(7)"
   ]
  },
  {
   "cell_type": "code",
   "execution_count": 117,
   "metadata": {},
   "outputs": [],
   "source": [
    "# 用于设置默认参数\n",
    "# test partial\n",
    "def fun(name, nums):\n",
    "    \"\"\"测试函数\"\"\"\n",
    "\n",
    "    print(name, nums)"
   ]
  },
  {
   "cell_type": "code",
   "execution_count": 120,
   "metadata": {},
   "outputs": [
    {
     "name": "stdout",
     "output_type": "stream",
     "text": [
      "zhang 4\n"
     ]
    }
   ],
   "source": [
    "# 类似于只将函数中的部分参数固定，下次只传递未被冻结的参数值\n",
    "re_fun = partial(fun, name=\"zhang\")\n",
    "re_fun(nums=4)"
   ]
  },
  {
   "cell_type": "code",
   "execution_count": 121,
   "metadata": {},
   "outputs": [
    {
     "name": "stdout",
     "output_type": "stream",
     "text": [
      "zhang 5\n"
     ]
    }
   ],
   "source": [
    "re_fun(nums=5)"
   ]
  },
  {
   "cell_type": "code",
   "execution_count": 123,
   "metadata": {},
   "outputs": [],
   "source": [
    "def my_fun(name, sex, age, height):\n",
    "    print(name, sex, age, height)\n",
    "   "
   ]
  },
  {
   "cell_type": "code",
   "execution_count": 125,
   "metadata": {},
   "outputs": [],
   "source": [
    "new_fun = partial(my_fun, name=\"tom\")"
   ]
  },
  {
   "cell_type": "code",
   "execution_count": 128,
   "metadata": {},
   "outputs": [
    {
     "name": "stdout",
     "output_type": "stream",
     "text": [
      "tom male 15 187\n"
     ]
    }
   ],
   "source": [
    "new_fun(sex = \"male\", age = 15, height = 187)"
   ]
  },
  {
   "cell_type": "code",
   "execution_count": 129,
   "metadata": {},
   "outputs": [
    {
     "data": {
      "text/plain": [
       "functools.partial(<function my_fun at 0x7fb559716700>, name='tom')"
      ]
     },
     "execution_count": 129,
     "metadata": {},
     "output_type": "execute_result"
    }
   ],
   "source": [
    "new_fun"
   ]
  },
  {
   "cell_type": "code",
   "execution_count": 131,
   "metadata": {},
   "outputs": [
    {
     "data": {
      "text/plain": [
       "<function __main__.my_fun(name, sex, age, height)>"
      ]
     },
     "execution_count": 131,
     "metadata": {},
     "output_type": "execute_result"
    }
   ],
   "source": [
    "new_fun.func"
   ]
  },
  {
   "cell_type": "code",
   "execution_count": null,
   "metadata": {},
   "outputs": [],
   "source": []
  }
 ],
 "metadata": {
  "kernelspec": {
   "display_name": "Python 3",
   "language": "python",
   "name": "python3"
  },
  "language_info": {
   "codemirror_mode": {
    "name": "ipython",
    "version": 3
   },
   "file_extension": ".py",
   "mimetype": "text/x-python",
   "name": "python",
   "nbconvert_exporter": "python",
   "pygments_lexer": "ipython3",
   "version": "3.8.5"
  },
  "toc-autonumbering": true
 },
 "nbformat": 4,
 "nbformat_minor": 4
}
